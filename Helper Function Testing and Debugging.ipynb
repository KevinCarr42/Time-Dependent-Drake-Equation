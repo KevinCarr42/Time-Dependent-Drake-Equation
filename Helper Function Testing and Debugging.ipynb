{
 "cells": [
  {
   "cell_type": "code",
   "execution_count": 1,
   "id": "f247a390",
   "metadata": {},
   "outputs": [],
   "source": [
    "# import custom functions from drakefunctions.py\n",
    "from drakefunctions import *"
   ]
  },
  {
   "cell_type": "code",
   "execution_count": 3,
   "id": "ca2d1048",
   "metadata": {},
   "outputs": [],
   "source": [
    "# import modules\n",
    "\n",
    "import numpy as np\n",
    "import pandas as pd\n",
    "pd.set_option('display.float_format', '{:_.0f}'.format)\n",
    "from scipy.stats import poisson\n",
    "from scipy.special import gamma  # not the one from scipy.stats\n",
    "from math import factorial, exp, log\n",
    "import datetime, time\n",
    "from decimal import *\n",
    "\n",
    "import matplotlib.pyplot as plt\n",
    "from matplotlib.ticker import MaxNLocator\n",
    "import matplotlib as mpl\n",
    "%matplotlib inline\n",
    "mpl.rcParams[\"axes.formatter.min_exponent\"] = 20  # no scientific notation in graphs\n",
    "plt.rcParams['axes.titley'] = 1.0    # y is in axes-relative coordinates.\n",
    "plt.rcParams['axes.titlepad'] = 10   # pad is in points... default is 6\n",
    "import seaborn as sns\n",
    "sns.set_theme()"
   ]
  },
  {
   "cell_type": "code",
   "execution_count": 4,
   "id": "79b9ef28",
   "metadata": {},
   "outputs": [],
   "source": [
    "# CONSTANTS treated as variables for simulation\n",
    "\n",
    "# inputs to the Drake equation\n",
    "default_params = dict(\n",
    "    # time step increments for calculations\n",
    "    YEAR_STEPS = 1_000_000,\n",
    "    # galactic attributes\n",
    "    NUM_GALAXY = 100_000_000_000,  # number of stars in a galaxy\n",
    "    GALAXY_RADIUS_LYR = 50_000,  # radius of the galaxy in lightyears\n",
    "    MODERN_ERA = 10_000_000_000,  # years since 2nd gen stars, order of magnitude approx\n",
    "    # pseudo-constants (treated as constants until Monte Carlo simulation)\n",
    "    RS = 2, \n",
    "    FP = 1, \n",
    "    NE = 0.4, \n",
    "    FL = 1, \n",
    "    FI = 1, \n",
    "    FC = 0.1, \n",
    "    L = 1000,\n",
    "    YEARS_PLANETS_TO_HABITABLE = 2_000_000_000, \n",
    "    YEARS_HABITABLE_TO_LIFE = 1_000_000_000, \n",
    "    YEARS_LIFE_TO_COMPLEX_LIFE = 1_000_000_000, \n",
    "    YEARS_COMPLEX_TO_INTELLIGENCE = 200_000_000, \n",
    "    YEARS_INTELLIGENCE_TO_CULTURE = 20_000_000, \n",
    "    YEARS_CULTURE_TO_TECH = 200_000, \n",
    "    EXTINCTION_SIMPLE = 5_000_000_000, \n",
    "    EXTINCTION_COMPLEX = 2_000_000_000, \n",
    "    EXTINCTION_INTELLIGENT = 200_000_000, \n",
    "    EXTINCTION_CULTURAL = 1_000_000, \n",
    "    # EXTINCTION_TECHNOLOGICAL = L,\n",
    "    WEIBULL_SHAPE_PARAMETER = 0.4,  # k\n",
    "    WEIBULL_SCALE_PARAMETER = 20_000  # lambda    \n",
    ")\n",
    "\n",
    "random_params = dict(\n",
    "    # time step increments for calculations\n",
    "    YEAR_STEPS = [1_000_000],\n",
    "    # galactic attributes\n",
    "    NUM_GALAXY = [100_000_000_000],  # number of stars in a galaxy\n",
    "    GALAXY_RADIUS_LYR = [50_000],  # radius of the galaxy in lightyears\n",
    "    MODERN_ERA = [10_000_000_000],  # years since 2nd gen stars, order of magnitude approx\n",
    "    # pseudo-constants (treated as constants until Monte Carlo simulation)\n",
    "    RS = [1, 2, 3],\n",
    "    FP = [0.05, 0.2, 0.5, 1.0, 2.0],\n",
    "    NE = [0.02, 0.1, 0.4, 1.0],\n",
    "    FL = [0.01, 0.1, 1],\n",
    "    FI = [0.01, 0.1, 1],\n",
    "    FC = [0.01, 0.1, 1],\n",
    "    L = [100, 1_000, 10_000, 100_000, 1_000_000],\n",
    "    YEARS_PLANETS_TO_HABITABLE = [1_000_000_000, 2_000_000_000, 3_000_000_000], \n",
    "    YEARS_HABITABLE_TO_LIFE = [100_000_000, 1_000_000_000, 5_000_000_000], \n",
    "    YEARS_LIFE_TO_COMPLEX_LIFE = [100_000_000, 1_000_000_000, 5_000_000_000, 10_000_000_000], \n",
    "    YEARS_COMPLEX_TO_INTELLIGENCE = [100_000, 1_000_000, 50_000_000, 200_000_000, 1_000_000_000], \n",
    "    YEARS_INTELLIGENCE_TO_CULTURE = [10_000, 100_000, 2_000_000, 20_000_000, 200_000_000], \n",
    "    YEARS_CULTURE_TO_TECH = [1_000, 10_000, 100_000, 200_000, 2_000_000], \n",
    "    EXTINCTION_SIMPLE = [200_000_000, 1_000_000_000, 2_000_000_000, 5_000_000_000],  # these are mass extinction events\n",
    "    EXTINCTION_COMPLEX = [200_000_000, 1_000_000_000, 2_000_000_000], # these are mass extinction events\n",
    "    EXTINCTION_INTELLIGENT = [10_000, 100_000, 1_000_000, 10_000_000, 200_000_000, 1_000_000_000], \n",
    "    EXTINCTION_CULTURAL = [1_000, 10_000, 100_000, 1_000_000, 10_000_000], \n",
    "    # EXTINCTION_TECHNOLOGICAL = L,\n",
    "    WEIBULL_SHAPE_PARAMETER = [0.4, 0.5, 0.6, 0.7, 0.8, 0.9, 1.0],  # k\n",
    "    WEIBULL_SCALE_PARAMETER = [100, 250, 500, 750, 1000, 5_000, 10_000, 20_000, 50_000, 100_000]  # lambda\n",
    ")\n"
   ]
  },
  {
   "cell_type": "code",
   "execution_count": 7,
   "id": "d4a3c4cc",
   "metadata": {},
   "outputs": [],
   "source": [
    "# initialise params\n",
    "params = params_set(default_params)"
   ]
  },
  {
   "cell_type": "markdown",
   "id": "92b4efaf",
   "metadata": {},
   "source": [
    "# THE TIME DEPENDENT DRAKE EQUATION"
   ]
  },
  {
   "cell_type": "code",
   "execution_count": 47,
   "id": "44b163ae",
   "metadata": {},
   "outputs": [],
   "source": [
    "# THE ORIGINAL CALCULATION\n",
    "\n",
    "# The Time Dependent Drake Equation\n",
    "def TimeDependentDrake(params, output_year, P_tech_dominance=1.0, df_input=\"empty\"):\n",
    "    \"\"\"\n",
    "    output_year is the years since 2nd gen stars, 10B ~ now\n",
    "    P_tech_dominance is the proportion of intelligent lifeforms that go extinct when technological life emerges\n",
    "        P_tech_dominance = 1 assumes that only one intelligent lifeform can exist once a species gains technology\n",
    "    outputs the number of instances of each category active during a time step (ie, over 1M years)\n",
    "    NOTE: I would be surprised if df_input=\"empty\" is not bad form, but I'm not sure how to do this...\n",
    "    \"\"\"\n",
    "    \n",
    "    # proportion of cultural civilizations that are consumed when tech life emerges\n",
    "    P_tech_dominance = P_tech_dominance\n",
    "    \n",
    "    # columns used\n",
    "    index = 'year'\n",
    "    columns = ['year', 'num_stars', 'num_planets', 'num_habitable_planets', 'num_life', \n",
    "           'num_complex_life', 'num_intelligent_life', 'num_cultural_life', 'N', 'N_extinct']\n",
    "    \n",
    "    # if there is an input dataframe, use that, otherwise, initialise at year 0\n",
    "    if type(df_input) == pd.DataFrame:\n",
    "        # start over at the last row in the input DataFrame\n",
    "        history_of_life = df_input.iloc[[-1]]\n",
    "    else:\n",
    "        # start at year 0 with no life and no 2nd gen stars\n",
    "        history_of_life = pd.DataFrame(\n",
    "            [[0, 0, 0, 0, 0, 0, 0, 0, 0, 0]], \n",
    "            columns = columns,\n",
    "            index=[0]\n",
    "        ).set_index(index)\n",
    "    \n",
    "    # initialise variables with input dict\n",
    "    current_year = history_of_life.index[-1]\n",
    "    num_stars = history_of_life.num_stars.iloc[-1]\n",
    "    num_planets = history_of_life.num_planets.iloc[-1]\n",
    "    num_habitable_planets = history_of_life.num_habitable_planets.iloc[-1]\n",
    "    num_life = history_of_life.num_life.iloc[-1]\n",
    "    num_complex_life = history_of_life.num_complex_life.iloc[-1]\n",
    "    num_intelligent_life = history_of_life.num_intelligent_life.iloc[-1]\n",
    "    num_cultural_life = history_of_life.num_cultural_life.iloc[-1]\n",
    "    N = history_of_life.N.iloc[-1]\n",
    "    N_extinct = history_of_life.N_extinct.iloc[-1]\n",
    "\n",
    "    while current_year < output_year:\n",
    "        \n",
    "        # increment year\n",
    "        current_year += params['YEAR_STEPS']\n",
    "        num_new_stars = star_formation(params, current_year, num_stars)\n",
    "        \n",
    "        # functions - reverse order so that growth is based of previous generation\n",
    "        \n",
    "        # number of extinctions\n",
    "        extinctions = new_extinctions(params, num_stars, num_life, num_complex_life, num_intelligent_life, num_cultural_life, N)\n",
    "        num_life -= extinctions[0]\n",
    "        num_complex_life -= extinctions[1]\n",
    "        num_intelligent_life -= extinctions[2]\n",
    "        num_cultural_life -= extinctions[3]\n",
    "        N -= extinctions[4]\n",
    "        N_extinct += extinctions[4]  # track technological extinctions\n",
    "        \n",
    "        # number of technological species\n",
    "        new_tech_life = new_technological(params, num_cultural_life, N)\n",
    "        N += new_tech_life\n",
    "        \n",
    "        # number of cultural civilizations\n",
    "        num_cultural_life += transition(params, num_intelligent_life, num_cultural_life, params['YEARS_INTELLIGENCE_TO_CULTURE'])  \n",
    "        # assumes only (1 - P_tech_dominance) cultural civilizations once one civilization gains tech\n",
    "        # equivalent to neandrethal going extinct before we gain technology (probably because of us)\n",
    "        num_cultural_life -= new_tech_life * P_tech_dominance\n",
    "        \n",
    "        # number of intelligent life\n",
    "        num_intelligent_life += transition(params, num_complex_life, num_intelligent_life, params['YEARS_COMPLEX_TO_INTELLIGENCE'])\n",
    "        \n",
    "        # number of complex lifeforms\n",
    "        num_complex_life += transition(params, num_life, num_complex_life, params['YEARS_LIFE_TO_COMPLEX_LIFE'])\n",
    "\n",
    "        # number of simple lifeforms\n",
    "        num_life += transition(params, num_habitable_planets, num_life, params['YEARS_HABITABLE_TO_LIFE'])\n",
    "    \n",
    "        # number of habitable planets\n",
    "        num_habitable_planets += new_habitable(params, num_planets, num_habitable_planets)\n",
    "        \n",
    "        # number of planets\n",
    "        num_planets += new_planets(params, num_new_stars)\n",
    "        \n",
    "        # number of stars\n",
    "        num_stars += num_new_stars\n",
    "        \n",
    "        # append new values to the history of life dataframe\n",
    "        templist = [current_year, num_stars, num_planets, num_habitable_planets, num_life, \n",
    "                    num_complex_life, num_intelligent_life, num_cultural_life, N, N_extinct]\n",
    "                \n",
    "        history_of_life = history_of_life.append(\n",
    "            pd.DataFrame(\n",
    "                [templist], \n",
    "                columns = columns,\n",
    "                index=[current_year]\n",
    "            ).set_index(index)\n",
    "        )\n",
    "    \n",
    "    # maybe these are better names in general...\n",
    "    shorter_columns = ['n_star', 'n_planet', 'n_habitable', 'n_life', 'n_complex', 'n_int', 'n_cult',\n",
    "                       'N', 'N_extinct']  \n",
    "    history_of_life.columns = shorter_columns\n",
    "    \n",
    "    return history_of_life\n",
    "    "
   ]
  },
  {
   "cell_type": "code",
   "execution_count": 48,
   "id": "21fa2c30",
   "metadata": {},
   "outputs": [
    {
     "name": "stdout",
     "output_type": "stream",
     "text": [
      "Wall time: 1.74 s\n"
     ]
    },
    {
     "data": {
      "text/html": [
       "<div>\n",
       "<style scoped>\n",
       "    .dataframe tbody tr th:only-of-type {\n",
       "        vertical-align: middle;\n",
       "    }\n",
       "\n",
       "    .dataframe tbody tr th {\n",
       "        vertical-align: top;\n",
       "    }\n",
       "\n",
       "    .dataframe thead th {\n",
       "        text-align: right;\n",
       "    }\n",
       "</style>\n",
       "<table border=\"1\" class=\"dataframe\">\n",
       "  <thead>\n",
       "    <tr style=\"text-align: right;\">\n",
       "      <th></th>\n",
       "      <th>n_star</th>\n",
       "      <th>n_planet</th>\n",
       "      <th>n_habitable</th>\n",
       "      <th>n_life</th>\n",
       "      <th>n_complex</th>\n",
       "      <th>n_int</th>\n",
       "      <th>n_cult</th>\n",
       "      <th>N</th>\n",
       "      <th>N_extinct</th>\n",
       "    </tr>\n",
       "    <tr>\n",
       "      <th>year</th>\n",
       "      <th></th>\n",
       "      <th></th>\n",
       "      <th></th>\n",
       "      <th></th>\n",
       "      <th></th>\n",
       "      <th></th>\n",
       "      <th></th>\n",
       "      <th></th>\n",
       "      <th></th>\n",
       "    </tr>\n",
       "  </thead>\n",
       "  <tbody>\n",
       "    <tr>\n",
       "      <th>0</th>\n",
       "      <td>0</td>\n",
       "      <td>0</td>\n",
       "      <td>0</td>\n",
       "      <td>0</td>\n",
       "      <td>0</td>\n",
       "      <td>0</td>\n",
       "      <td>0</td>\n",
       "      <td>0</td>\n",
       "      <td>0</td>\n",
       "    </tr>\n",
       "    <tr>\n",
       "      <th>100000000</th>\n",
       "      <td>5_796_686_127</td>\n",
       "      <td>2_318_674_451</td>\n",
       "      <td>57_118_743</td>\n",
       "      <td>1_818_863</td>\n",
       "      <td>42_953</td>\n",
       "      <td>3_559</td>\n",
       "      <td>208</td>\n",
       "      <td>29</td>\n",
       "      <td>455</td>\n",
       "    </tr>\n",
       "    <tr>\n",
       "      <th>200000000</th>\n",
       "      <td>11_204_063_326</td>\n",
       "      <td>4_481_625_330</td>\n",
       "      <td>220_721_250</td>\n",
       "      <td>13_984_873</td>\n",
       "      <td>658_197</td>\n",
       "      <td>97_620</td>\n",
       "      <td>5_890</td>\n",
       "      <td>832</td>\n",
       "      <td>28_348</td>\n",
       "    </tr>\n",
       "    <tr>\n",
       "      <th>300000000</th>\n",
       "      <td>16_250_786_932</td>\n",
       "      <td>6_500_314_773</td>\n",
       "      <td>478_299_361</td>\n",
       "      <td>44_923_674</td>\n",
       "      <td>3_128_417</td>\n",
       "      <td>621_993</td>\n",
       "      <td>37_939</td>\n",
       "      <td>5_408</td>\n",
       "      <td>286_980</td>\n",
       "    </tr>\n",
       "    <tr>\n",
       "      <th>400000000</th>\n",
       "      <td>20_963_244_203</td>\n",
       "      <td>8_385_297_681</td>\n",
       "      <td>818_491_830</td>\n",
       "      <td>101_131_872</td>\n",
       "      <td>9_240_405</td>\n",
       "      <td>2_204_986</td>\n",
       "      <td>135_214</td>\n",
       "      <td>19_356</td>\n",
       "      <td>1_410_865</td>\n",
       "    </tr>\n",
       "    <tr>\n",
       "      <th>500000000</th>\n",
       "      <td>25_365_744_833</td>\n",
       "      <td>10_146_297_933</td>\n",
       "      <td>1_230_986_007</td>\n",
       "      <td>187_464_823</td>\n",
       "      <td>21_050_660</td>\n",
       "      <td>5_696_180</td>\n",
       "      <td>350_403</td>\n",
       "      <td>50_285</td>\n",
       "      <td>4_700_452</td>\n",
       "    </tr>\n",
       "    <tr>\n",
       "      <th>600000000</th>\n",
       "      <td>29_480_694_629</td>\n",
       "      <td>11_792_277_851</td>\n",
       "      <td>1_706_427_854</td>\n",
       "      <td>307_388_051</td>\n",
       "      <td>40_708_510</td>\n",
       "      <td>12_078_497</td>\n",
       "      <td>744_556</td>\n",
       "      <td>107_025</td>\n",
       "      <td>12_283_956</td>\n",
       "    </tr>\n",
       "    <tr>\n",
       "      <th>700000000</th>\n",
       "      <td>33_328_753_902</td>\n",
       "      <td>13_331_501_561</td>\n",
       "      <td>2_236_339_607</td>\n",
       "      <td>463_196_546</td>\n",
       "      <td>70_325_579</td>\n",
       "      <td>22_388_650</td>\n",
       "      <td>1_382_126</td>\n",
       "      <td>198_901</td>\n",
       "      <td>27_202_518</td>\n",
       "    </tr>\n",
       "    <tr>\n",
       "      <th>800000000</th>\n",
       "      <td>36_928_981_987</td>\n",
       "      <td>14_771_592_795</td>\n",
       "      <td>2_813_044_394</td>\n",
       "      <td>656_205_682</td>\n",
       "      <td>111_882_345</td>\n",
       "      <td>37_653_550</td>\n",
       "      <td>2_326_999</td>\n",
       "      <td>335_165</td>\n",
       "      <td>53_430_365</td>\n",
       "    </tr>\n",
       "    <tr>\n",
       "      <th>900000000</th>\n",
       "      <td>40_298_969_146</td>\n",
       "      <td>16_119_587_659</td>\n",
       "      <td>3_429_597_227</td>\n",
       "      <td>886_917_089</td>\n",
       "      <td>167_164_155</td>\n",
       "      <td>58_842_871</td>\n",
       "      <td>3_639_538</td>\n",
       "      <td>524_559</td>\n",
       "      <td>95_844_700</td>\n",
       "    </tr>\n",
       "    <tr>\n",
       "      <th>1000000000</th>\n",
       "      <td>43_454_957_035</td>\n",
       "      <td>17_381_982_814</td>\n",
       "      <td>4_079_721_832</td>\n",
       "      <td>1_155_162_451</td>\n",
       "      <td>237_720_406</td>\n",
       "      <td>86_835_699</td>\n",
       "      <td>5_374_490</td>\n",
       "      <td>775_019</td>\n",
       "      <td>160_159_062</td>\n",
       "    </tr>\n",
       "  </tbody>\n",
       "</table>\n",
       "</div>"
      ],
      "text/plain": [
       "                   n_star       n_planet   n_habitable        n_life  \\\n",
       "year                                                                   \n",
       "0                       0              0             0             0   \n",
       "100000000   5_796_686_127  2_318_674_451    57_118_743     1_818_863   \n",
       "200000000  11_204_063_326  4_481_625_330   220_721_250    13_984_873   \n",
       "300000000  16_250_786_932  6_500_314_773   478_299_361    44_923_674   \n",
       "400000000  20_963_244_203  8_385_297_681   818_491_830   101_131_872   \n",
       "500000000  25_365_744_833 10_146_297_933 1_230_986_007   187_464_823   \n",
       "600000000  29_480_694_629 11_792_277_851 1_706_427_854   307_388_051   \n",
       "700000000  33_328_753_902 13_331_501_561 2_236_339_607   463_196_546   \n",
       "800000000  36_928_981_987 14_771_592_795 2_813_044_394   656_205_682   \n",
       "900000000  40_298_969_146 16_119_587_659 3_429_597_227   886_917_089   \n",
       "1000000000 43_454_957_035 17_381_982_814 4_079_721_832 1_155_162_451   \n",
       "\n",
       "             n_complex      n_int    n_cult       N   N_extinct  \n",
       "year                                                             \n",
       "0                    0          0         0       0           0  \n",
       "100000000       42_953      3_559       208      29         455  \n",
       "200000000      658_197     97_620     5_890     832      28_348  \n",
       "300000000    3_128_417    621_993    37_939   5_408     286_980  \n",
       "400000000    9_240_405  2_204_986   135_214  19_356   1_410_865  \n",
       "500000000   21_050_660  5_696_180   350_403  50_285   4_700_452  \n",
       "600000000   40_708_510 12_078_497   744_556 107_025  12_283_956  \n",
       "700000000   70_325_579 22_388_650 1_382_126 198_901  27_202_518  \n",
       "800000000  111_882_345 37_653_550 2_326_999 335_165  53_430_365  \n",
       "900000000  167_164_155 58_842_871 3_639_538 524_559  95_844_700  \n",
       "1000000000 237_720_406 86_835_699 5_374_490 775_019 160_159_062  "
      ]
     },
     "execution_count": 48,
     "metadata": {},
     "output_type": "execute_result"
    }
   ],
   "source": [
    "%%time\n",
    "history_of_life = TimeDependentDrake(params, output_year=1_000_000_000, P_tech_dominance=0.9)\n",
    "# history_of_life.to_csv('OUTPUT_FILENAME.csv')  # SAVE FILE\n",
    "\n",
    "history_of_life.iloc[::100, :]  # every 100M year\n",
    "# 455 extinct civilisations within 100M years, not reasonable"
   ]
  },
  {
   "cell_type": "code",
   "execution_count": 10,
   "id": "33f64ba0",
   "metadata": {},
   "outputs": [
    {
     "data": {
      "image/png": "[encoded data removed]",
      "text/plain": [
       "<Figure size 864x432 with 1 Axes>"
      ]
     },
     "metadata": {},
     "output_type": "display_data"
    }
   ],
   "source": [
    "# plot of technological species over time\n",
    "\n",
    "plt.figure(figsize=(12, 6))\n",
    "plot = sns.lineplot(x=history_of_life.index/1_000_000_000, y=history_of_life.N);\n",
    "plt.yticks(rotation=0);\n",
    "plot.set_ylabel('Number of Technological Species');\n",
    "plot.set_xlabel('Billions of Years');"
   ]
  },
  {
   "cell_type": "markdown",
   "id": "4bb30a7e",
   "metadata": {},
   "source": [
    "# compare values of YEAR_STEPS \n",
    "    complex or higher are not working \n",
    "    num_life or higher are inconsistent with old odds calcs"
   ]
  },
  {
   "cell_type": "code",
   "execution_count": 42,
   "id": "2225b523",
   "metadata": {},
   "outputs": [
    {
     "name": "stdout",
     "output_type": "stream",
     "text": [
      "Wall time: 1.66 s\n"
     ]
    },
    {
     "data": {
      "text/html": [
       "<div>\n",
       "<style scoped>\n",
       "    .dataframe tbody tr th:only-of-type {\n",
       "        vertical-align: middle;\n",
       "    }\n",
       "\n",
       "    .dataframe tbody tr th {\n",
       "        vertical-align: top;\n",
       "    }\n",
       "\n",
       "    .dataframe thead th {\n",
       "        text-align: right;\n",
       "    }\n",
       "</style>\n",
       "<table border=\"1\" class=\"dataframe\">\n",
       "  <thead>\n",
       "    <tr style=\"text-align: right;\">\n",
       "      <th></th>\n",
       "      <th>n_star</th>\n",
       "      <th>n_planet</th>\n",
       "      <th>n_habitable</th>\n",
       "      <th>n_life</th>\n",
       "      <th>n_complex</th>\n",
       "      <th>n_int</th>\n",
       "      <th>n_cult</th>\n",
       "      <th>N</th>\n",
       "      <th>N_extinct</th>\n",
       "    </tr>\n",
       "    <tr>\n",
       "      <th>year</th>\n",
       "      <th></th>\n",
       "      <th></th>\n",
       "      <th></th>\n",
       "      <th></th>\n",
       "      <th></th>\n",
       "      <th></th>\n",
       "      <th></th>\n",
       "      <th></th>\n",
       "      <th></th>\n",
       "    </tr>\n",
       "  </thead>\n",
       "  <tbody>\n",
       "    <tr>\n",
       "      <th>9960000000</th>\n",
       "      <td>95_049_310_897</td>\n",
       "      <td>38_019_724_359</td>\n",
       "      <td>36_956_349_231</td>\n",
       "      <td>35_331_631_432</td>\n",
       "      <td>22_765_440_925</td>\n",
       "      <td>11_538_831_259</td>\n",
       "      <td>4_316_514_984</td>\n",
       "      <td>-707_253</td>\n",
       "      <td>-374_811_412</td>\n",
       "    </tr>\n",
       "    <tr>\n",
       "      <th>9970000000</th>\n",
       "      <td>95_050_301_035</td>\n",
       "      <td>38_020_120_414</td>\n",
       "      <td>36_961_666_107</td>\n",
       "      <td>35_340_437_238</td>\n",
       "      <td>22_773_246_725</td>\n",
       "      <td>11_542_969_200</td>\n",
       "      <td>4_318_069_449</td>\n",
       "      <td>-707_500</td>\n",
       "      <td>-375_518_666</td>\n",
       "    </tr>\n",
       "    <tr>\n",
       "      <th>9980000000</th>\n",
       "      <td>95_051_290_975</td>\n",
       "      <td>38_020_516_390</td>\n",
       "      <td>36_966_958_378</td>\n",
       "      <td>35_349_206_571</td>\n",
       "      <td>22_781_022_336</td>\n",
       "      <td>11_547_091_276</td>\n",
       "      <td>4_319_617_958</td>\n",
       "      <td>-707_745</td>\n",
       "      <td>-376_226_165</td>\n",
       "    </tr>\n",
       "    <tr>\n",
       "      <th>9990000000</th>\n",
       "      <td>95_052_280_717</td>\n",
       "      <td>38_020_912_287</td>\n",
       "      <td>36_972_226_168</td>\n",
       "      <td>35_357_939_557</td>\n",
       "      <td>22_788_767_852</td>\n",
       "      <td>11_551_197_536</td>\n",
       "      <td>4_321_160_531</td>\n",
       "      <td>-707_989</td>\n",
       "      <td>-376_933_910</td>\n",
       "    </tr>\n",
       "    <tr>\n",
       "      <th>10000000000</th>\n",
       "      <td>95_053_270_261</td>\n",
       "      <td>38_021_308_104</td>\n",
       "      <td>36_977_469_599</td>\n",
       "      <td>35_366_636_320</td>\n",
       "      <td>22_796_483_365</td>\n",
       "      <td>11_555_288_028</td>\n",
       "      <td>4_322_697_186</td>\n",
       "      <td>-708_233</td>\n",
       "      <td>-377_641_900</td>\n",
       "    </tr>\n",
       "  </tbody>\n",
       "</table>\n",
       "</div>"
      ],
      "text/plain": [
       "                    n_star       n_planet    n_habitable         n_life  \\\n",
       "year                                                                      \n",
       "9960000000  95_049_310_897 38_019_724_359 36_956_349_231 35_331_631_432   \n",
       "9970000000  95_050_301_035 38_020_120_414 36_961_666_107 35_340_437_238   \n",
       "9980000000  95_051_290_975 38_020_516_390 36_966_958_378 35_349_206_571   \n",
       "9990000000  95_052_280_717 38_020_912_287 36_972_226_168 35_357_939_557   \n",
       "10000000000 95_053_270_261 38_021_308_104 36_977_469_599 35_366_636_320   \n",
       "\n",
       "                 n_complex          n_int        n_cult        N    N_extinct  \n",
       "year                                                                           \n",
       "9960000000  22_765_440_925 11_538_831_259 4_316_514_984 -707_253 -374_811_412  \n",
       "9970000000  22_773_246_725 11_542_969_200 4_318_069_449 -707_500 -375_518_666  \n",
       "9980000000  22_781_022_336 11_547_091_276 4_319_617_958 -707_745 -376_226_165  \n",
       "9990000000  22_788_767_852 11_551_197_536 4_321_160_531 -707_989 -376_933_910  \n",
       "10000000000 22_796_483_365 11_555_288_028 4_322_697_186 -708_233 -377_641_900  "
      ]
     },
     "execution_count": 42,
     "metadata": {},
     "output_type": "execute_result"
    }
   ],
   "source": [
    "%%time\n",
    "params['YEAR_STEPS'] = 10_000_000\n",
    "ts_10M = TimeDependentDrake(params, output_year=10_000_000_000, P_tech_dominance=1)\n",
    "\n",
    "ts_10M.tail()"
   ]
  },
  {
   "cell_type": "code",
   "execution_count": 43,
   "id": "6d538760",
   "metadata": {},
   "outputs": [
    {
     "name": "stdout",
     "output_type": "stream",
     "text": [
      "Wall time: 180 ms\n"
     ]
    },
    {
     "data": {
      "text/html": [
       "<div>\n",
       "<style scoped>\n",
       "    .dataframe tbody tr th:only-of-type {\n",
       "        vertical-align: middle;\n",
       "    }\n",
       "\n",
       "    .dataframe tbody tr th {\n",
       "        vertical-align: top;\n",
       "    }\n",
       "\n",
       "    .dataframe thead th {\n",
       "        text-align: right;\n",
       "    }\n",
       "</style>\n",
       "<table border=\"1\" class=\"dataframe\">\n",
       "  <thead>\n",
       "    <tr style=\"text-align: right;\">\n",
       "      <th></th>\n",
       "      <th>n_star</th>\n",
       "      <th>n_planet</th>\n",
       "      <th>n_habitable</th>\n",
       "      <th>n_life</th>\n",
       "      <th>n_complex</th>\n",
       "      <th>n_int</th>\n",
       "      <th>n_cult</th>\n",
       "      <th>N</th>\n",
       "      <th>N_extinct</th>\n",
       "    </tr>\n",
       "    <tr>\n",
       "      <th>year</th>\n",
       "      <th></th>\n",
       "      <th></th>\n",
       "      <th></th>\n",
       "      <th></th>\n",
       "      <th></th>\n",
       "      <th></th>\n",
       "      <th></th>\n",
       "      <th></th>\n",
       "      <th></th>\n",
       "    </tr>\n",
       "  </thead>\n",
       "  <tbody>\n",
       "    <tr>\n",
       "      <th>9600000000</th>\n",
       "      <td>95_155_520_978</td>\n",
       "      <td>38_062_208_391</td>\n",
       "      <td>36_880_011_661</td>\n",
       "      <td>35_132_996_853</td>\n",
       "      <td>22_982_710_236</td>\n",
       "      <td>13_460_390_175</td>\n",
       "      <td>8_062_119_156</td>\n",
       "      <td>-16_869_224</td>\n",
       "      <td>-777_640_929</td>\n",
       "    </tr>\n",
       "    <tr>\n",
       "      <th>9700000000</th>\n",
       "      <td>95_165_209_936</td>\n",
       "      <td>38_066_083_974</td>\n",
       "      <td>36_939_121_498</td>\n",
       "      <td>35_232_431_096</td>\n",
       "      <td>23_074_012_901</td>\n",
       "      <td>13_517_594_401</td>\n",
       "      <td>8_097_860_038</td>\n",
       "      <td>-16_945_142</td>\n",
       "      <td>-794_510_153</td>\n",
       "    </tr>\n",
       "    <tr>\n",
       "      <th>9800000000</th>\n",
       "      <td>95_174_879_516</td>\n",
       "      <td>38_069_951_806</td>\n",
       "      <td>36_995_469_621</td>\n",
       "      <td>35_327_845_681</td>\n",
       "      <td>23_161_871_909</td>\n",
       "      <td>13_572_666_651</td>\n",
       "      <td>8_132_278_718</td>\n",
       "      <td>-17_018_530</td>\n",
       "      <td>-811_455_295</td>\n",
       "    </tr>\n",
       "    <tr>\n",
       "      <th>9900000000</th>\n",
       "      <td>95_184_529_757</td>\n",
       "      <td>38_073_811_903</td>\n",
       "      <td>37_049_193_731</td>\n",
       "      <td>35_419_367_985</td>\n",
       "      <td>23_246_391_793</td>\n",
       "      <td>13_625_671_287</td>\n",
       "      <td>8_165_414_699</td>\n",
       "      <td>-17_089_128</td>\n",
       "      <td>-828_473_825</td>\n",
       "    </tr>\n",
       "    <tr>\n",
       "      <th>10000000000</th>\n",
       "      <td>95_194_160_697</td>\n",
       "      <td>38_077_664_279</td>\n",
       "      <td>37_100_424_639</td>\n",
       "      <td>35_507_126_121</td>\n",
       "      <td>23_327_674_420</td>\n",
       "      <td>13_676_670_940</td>\n",
       "      <td>8_197_306_703</td>\n",
       "      <td>-17_157_021</td>\n",
       "      <td>-845_562_954</td>\n",
       "    </tr>\n",
       "  </tbody>\n",
       "</table>\n",
       "</div>"
      ],
      "text/plain": [
       "                    n_star       n_planet    n_habitable         n_life  \\\n",
       "year                                                                      \n",
       "9600000000  95_155_520_978 38_062_208_391 36_880_011_661 35_132_996_853   \n",
       "9700000000  95_165_209_936 38_066_083_974 36_939_121_498 35_232_431_096   \n",
       "9800000000  95_174_879_516 38_069_951_806 36_995_469_621 35_327_845_681   \n",
       "9900000000  95_184_529_757 38_073_811_903 37_049_193_731 35_419_367_985   \n",
       "10000000000 95_194_160_697 38_077_664_279 37_100_424_639 35_507_126_121   \n",
       "\n",
       "                 n_complex          n_int        n_cult           N  \\\n",
       "year                                                                  \n",
       "9600000000  22_982_710_236 13_460_390_175 8_062_119_156 -16_869_224   \n",
       "9700000000  23_074_012_901 13_517_594_401 8_097_860_038 -16_945_142   \n",
       "9800000000  23_161_871_909 13_572_666_651 8_132_278_718 -17_018_530   \n",
       "9900000000  23_246_391_793 13_625_671_287 8_165_414_699 -17_089_128   \n",
       "10000000000 23_327_674_420 13_676_670_940 8_197_306_703 -17_157_021   \n",
       "\n",
       "               N_extinct  \n",
       "year                      \n",
       "9600000000  -777_640_929  \n",
       "9700000000  -794_510_153  \n",
       "9800000000  -811_455_295  \n",
       "9900000000  -828_473_825  \n",
       "10000000000 -845_562_954  "
      ]
     },
     "execution_count": 43,
     "metadata": {},
     "output_type": "execute_result"
    }
   ],
   "source": [
    "%%time\n",
    "params['YEAR_STEPS'] = 100_000_000\n",
    "ts_100M = TimeDependentDrake(params, output_year=10_000_000_000, P_tech_dominance=1)\n",
    "\n",
    "ts_100M.tail()"
   ]
  },
  {
   "cell_type": "code",
   "execution_count": 44,
   "id": "70d89473",
   "metadata": {},
   "outputs": [
    {
     "data": {
      "text/html": [
       "<div>\n",
       "<style scoped>\n",
       "    .dataframe tbody tr th:only-of-type {\n",
       "        vertical-align: middle;\n",
       "    }\n",
       "\n",
       "    .dataframe tbody tr th {\n",
       "        vertical-align: top;\n",
       "    }\n",
       "\n",
       "    .dataframe thead th {\n",
       "        text-align: right;\n",
       "    }\n",
       "</style>\n",
       "<table border=\"1\" class=\"dataframe\">\n",
       "  <thead>\n",
       "    <tr style=\"text-align: right;\">\n",
       "      <th></th>\n",
       "      <th>n_star</th>\n",
       "      <th>n_planet</th>\n",
       "      <th>n_habitable</th>\n",
       "      <th>n_life</th>\n",
       "      <th>n_complex</th>\n",
       "      <th>n_int</th>\n",
       "      <th>n_cult</th>\n",
       "      <th>N</th>\n",
       "      <th>N_extinct</th>\n",
       "    </tr>\n",
       "    <tr>\n",
       "      <th>year</th>\n",
       "      <th></th>\n",
       "      <th></th>\n",
       "      <th></th>\n",
       "      <th></th>\n",
       "      <th></th>\n",
       "      <th></th>\n",
       "      <th></th>\n",
       "      <th></th>\n",
       "      <th></th>\n",
       "    </tr>\n",
       "  </thead>\n",
       "  <tbody>\n",
       "    <tr>\n",
       "      <th>0</th>\n",
       "      <td>0</td>\n",
       "      <td>0</td>\n",
       "      <td>0</td>\n",
       "      <td>0</td>\n",
       "      <td>0</td>\n",
       "      <td>0</td>\n",
       "      <td>0</td>\n",
       "      <td>0</td>\n",
       "      <td>0</td>\n",
       "    </tr>\n",
       "    <tr>\n",
       "      <th>100000000</th>\n",
       "      <td>5_940_000_000</td>\n",
       "      <td>2_376_000_000</td>\n",
       "      <td>0</td>\n",
       "      <td>0</td>\n",
       "      <td>0</td>\n",
       "      <td>0</td>\n",
       "      <td>0</td>\n",
       "      <td>0</td>\n",
       "      <td>0</td>\n",
       "    </tr>\n",
       "    <tr>\n",
       "      <th>200000000</th>\n",
       "      <td>11_470_728_000</td>\n",
       "      <td>4_588_291_200</td>\n",
       "      <td>118_800_000</td>\n",
       "      <td>0</td>\n",
       "      <td>0</td>\n",
       "      <td>0</td>\n",
       "      <td>0</td>\n",
       "      <td>0</td>\n",
       "      <td>0</td>\n",
       "    </tr>\n",
       "    <tr>\n",
       "      <th>300000000</th>\n",
       "      <td>16_623_131_630</td>\n",
       "      <td>6_649_252_652</td>\n",
       "      <td>342_274_560</td>\n",
       "      <td>11_305_315</td>\n",
       "      <td>0</td>\n",
       "      <td>0</td>\n",
       "      <td>0</td>\n",
       "      <td>0</td>\n",
       "      <td>0</td>\n",
       "    </tr>\n",
       "    <tr>\n",
       "      <th>400000000</th>\n",
       "      <td>21_425_639_248</td>\n",
       "      <td>8_570_255_699</td>\n",
       "      <td>657_623_465</td>\n",
       "      <td>42_678_128</td>\n",
       "      <td>1_062_899</td>\n",
       "      <td>0</td>\n",
       "      <td>0</td>\n",
       "      <td>0</td>\n",
       "      <td>0</td>\n",
       "    </tr>\n",
       "    <tr>\n",
       "      <th>500000000</th>\n",
       "      <td>25_904_377_811</td>\n",
       "      <td>10_361_751_125</td>\n",
       "      <td>1_053_255_076</td>\n",
       "      <td>100_837_441</td>\n",
       "      <td>4_929_318</td>\n",
       "      <td>393_918</td>\n",
       "      <td>0</td>\n",
       "      <td>0</td>\n",
       "      <td>0</td>\n",
       "    </tr>\n",
       "    <tr>\n",
       "      <th>600000000</th>\n",
       "      <td>30_083_370_903</td>\n",
       "      <td>12_033_348_361</td>\n",
       "      <td>1_518_679_879</td>\n",
       "      <td>190_767_514</td>\n",
       "      <td>13_730_131</td>\n",
       "      <td>1_973_038</td>\n",
       "      <td>234_292</td>\n",
       "      <td>0</td>\n",
       "      <td>0</td>\n",
       "    </tr>\n",
       "    <tr>\n",
       "      <th>700000000</th>\n",
       "      <td>33_984_718_806</td>\n",
       "      <td>13_593_887_523</td>\n",
       "      <td>2_044_413_303</td>\n",
       "      <td>315_987_515</td>\n",
       "      <td>29_768_277</td>\n",
       "      <td>5_820_876</td>\n",
       "      <td>1_177_163</td>\n",
       "      <td>-1_558</td>\n",
       "      <td>0</td>\n",
       "    </tr>\n",
       "    <tr>\n",
       "      <th>800000000</th>\n",
       "      <td>37_628_762_328</td>\n",
       "      <td>15_051_504_931</td>\n",
       "      <td>2_621_887_014</td>\n",
       "      <td>478_786_353</td>\n",
       "      <td>55_356_503</td>\n",
       "      <td>13_193_332</td>\n",
       "      <td>3_479_607</td>\n",
       "      <td>-6_928</td>\n",
       "      <td>-1_558</td>\n",
       "    </tr>\n",
       "    <tr>\n",
       "      <th>900000000</th>\n",
       "      <td>41_034_231_905</td>\n",
       "      <td>16_413_692_762</td>\n",
       "      <td>3_243_367_910</td>\n",
       "      <td>680_426_725</td>\n",
       "      <td>92_699_936</td>\n",
       "      <td>25_414_066</td>\n",
       "      <td>7_896_961</td>\n",
       "      <td>-18_494</td>\n",
       "      <td>-8_485</td>\n",
       "    </tr>\n",
       "    <tr>\n",
       "      <th>1000000000</th>\n",
       "      <td>44_218_383_382</td>\n",
       "      <td>17_687_353_353</td>\n",
       "      <td>3_901_884_152</td>\n",
       "      <td>921_322_035</td>\n",
       "      <td>143_814_321</td>\n",
       "      <td>43_792_103</td>\n",
       "      <td>15_225_746</td>\n",
       "      <td>-38_490</td>\n",
       "      <td>-26_980</td>\n",
       "    </tr>\n",
       "  </tbody>\n",
       "</table>\n",
       "</div>"
      ],
      "text/plain": [
       "                   n_star       n_planet   n_habitable      n_life  \\\n",
       "year                                                                 \n",
       "0                       0              0             0           0   \n",
       "100000000   5_940_000_000  2_376_000_000             0           0   \n",
       "200000000  11_470_728_000  4_588_291_200   118_800_000           0   \n",
       "300000000  16_623_131_630  6_649_252_652   342_274_560  11_305_315   \n",
       "400000000  21_425_639_248  8_570_255_699   657_623_465  42_678_128   \n",
       "500000000  25_904_377_811 10_361_751_125 1_053_255_076 100_837_441   \n",
       "600000000  30_083_370_903 12_033_348_361 1_518_679_879 190_767_514   \n",
       "700000000  33_984_718_806 13_593_887_523 2_044_413_303 315_987_515   \n",
       "800000000  37_628_762_328 15_051_504_931 2_621_887_014 478_786_353   \n",
       "900000000  41_034_231_905 16_413_692_762 3_243_367_910 680_426_725   \n",
       "1000000000 44_218_383_382 17_687_353_353 3_901_884_152 921_322_035   \n",
       "\n",
       "             n_complex      n_int     n_cult       N  N_extinct  \n",
       "year                                                             \n",
       "0                    0          0          0       0          0  \n",
       "100000000            0          0          0       0          0  \n",
       "200000000            0          0          0       0          0  \n",
       "300000000            0          0          0       0          0  \n",
       "400000000    1_062_899          0          0       0          0  \n",
       "500000000    4_929_318    393_918          0       0          0  \n",
       "600000000   13_730_131  1_973_038    234_292       0          0  \n",
       "700000000   29_768_277  5_820_876  1_177_163  -1_558          0  \n",
       "800000000   55_356_503 13_193_332  3_479_607  -6_928     -1_558  \n",
       "900000000   92_699_936 25_414_066  7_896_961 -18_494     -8_485  \n",
       "1000000000 143_814_321 43_792_103 15_225_746 -38_490    -26_980  "
      ]
     },
     "execution_count": 44,
     "metadata": {},
     "output_type": "execute_result"
    }
   ],
   "source": [
    "ts_100M.head(11)"
   ]
  },
  {
   "cell_type": "code",
   "execution_count": null,
   "id": "3c9bcad0",
   "metadata": {},
   "outputs": [],
   "source": []
  },
  {
   "cell_type": "code",
   "execution_count": 45,
   "id": "3729238f",
   "metadata": {},
   "outputs": [
    {
     "name": "stdout",
     "output_type": "stream",
     "text": [
      "Wall time: 15.9 s\n"
     ]
    },
    {
     "data": {
      "text/html": [
       "<div>\n",
       "<style scoped>\n",
       "    .dataframe tbody tr th:only-of-type {\n",
       "        vertical-align: middle;\n",
       "    }\n",
       "\n",
       "    .dataframe tbody tr th {\n",
       "        vertical-align: top;\n",
       "    }\n",
       "\n",
       "    .dataframe thead th {\n",
       "        text-align: right;\n",
       "    }\n",
       "</style>\n",
       "<table border=\"1\" class=\"dataframe\">\n",
       "  <thead>\n",
       "    <tr style=\"text-align: right;\">\n",
       "      <th></th>\n",
       "      <th>n_star</th>\n",
       "      <th>n_planet</th>\n",
       "      <th>n_habitable</th>\n",
       "      <th>n_life</th>\n",
       "      <th>n_complex</th>\n",
       "      <th>n_int</th>\n",
       "      <th>n_cult</th>\n",
       "      <th>N</th>\n",
       "      <th>N_extinct</th>\n",
       "    </tr>\n",
       "    <tr>\n",
       "      <th>year</th>\n",
       "      <th></th>\n",
       "      <th></th>\n",
       "      <th></th>\n",
       "      <th></th>\n",
       "      <th></th>\n",
       "      <th></th>\n",
       "      <th></th>\n",
       "      <th></th>\n",
       "      <th></th>\n",
       "    </tr>\n",
       "  </thead>\n",
       "  <tbody>\n",
       "    <tr>\n",
       "      <th>9996000000</th>\n",
       "      <td>95_039_003_081</td>\n",
       "      <td>38_015_601_233</td>\n",
       "      <td>36_963_131_775</td>\n",
       "      <td>35_349_216_742</td>\n",
       "      <td>22_739_909_023</td>\n",
       "      <td>11_328_440_917</td>\n",
       "      <td>691_604_021</td>\n",
       "      <td>100_099_924</td>\n",
       "      <td>510_056_010_622</td>\n",
       "    </tr>\n",
       "    <tr>\n",
       "      <th>9997000000</th>\n",
       "      <td>95_039_102_301</td>\n",
       "      <td>38_015_640_921</td>\n",
       "      <td>36_963_658_010</td>\n",
       "      <td>35_350_086_706</td>\n",
       "      <td>22_740_677_473</td>\n",
       "      <td>11_328_840_529</td>\n",
       "      <td>691_628_430</td>\n",
       "      <td>100_103_458</td>\n",
       "      <td>510_156_110_545</td>\n",
       "    </tr>\n",
       "    <tr>\n",
       "      <th>9998000000</th>\n",
       "      <td>95_039_201_519</td>\n",
       "      <td>38_015_680_608</td>\n",
       "      <td>36_964_184_001</td>\n",
       "      <td>35_350_956_308</td>\n",
       "      <td>22_741_445_626</td>\n",
       "      <td>11_329_239_987</td>\n",
       "      <td>691_652_830</td>\n",
       "      <td>100_106_991</td>\n",
       "      <td>510_256_214_004</td>\n",
       "    </tr>\n",
       "    <tr>\n",
       "      <th>9999000000</th>\n",
       "      <td>95_039_300_735</td>\n",
       "      <td>38_015_720_294</td>\n",
       "      <td>36_964_709_749</td>\n",
       "      <td>35_351_825_549</td>\n",
       "      <td>22_742_213_480</td>\n",
       "      <td>11_329_639_292</td>\n",
       "      <td>691_677_220</td>\n",
       "      <td>100_110_523</td>\n",
       "      <td>510_356_320_995</td>\n",
       "    </tr>\n",
       "    <tr>\n",
       "      <th>10000000000</th>\n",
       "      <td>95_039_399_949</td>\n",
       "      <td>38_015_759_980</td>\n",
       "      <td>36_965_235_255</td>\n",
       "      <td>35_352_694_429</td>\n",
       "      <td>22_742_981_037</td>\n",
       "      <td>11_330_038_443</td>\n",
       "      <td>691_701_602</td>\n",
       "      <td>100_114_053</td>\n",
       "      <td>510_456_431_518</td>\n",
       "    </tr>\n",
       "  </tbody>\n",
       "</table>\n",
       "</div>"
      ],
      "text/plain": [
       "                    n_star       n_planet    n_habitable         n_life  \\\n",
       "year                                                                      \n",
       "9996000000  95_039_003_081 38_015_601_233 36_963_131_775 35_349_216_742   \n",
       "9997000000  95_039_102_301 38_015_640_921 36_963_658_010 35_350_086_706   \n",
       "9998000000  95_039_201_519 38_015_680_608 36_964_184_001 35_350_956_308   \n",
       "9999000000  95_039_300_735 38_015_720_294 36_964_709_749 35_351_825_549   \n",
       "10000000000 95_039_399_949 38_015_759_980 36_965_235_255 35_352_694_429   \n",
       "\n",
       "                 n_complex          n_int      n_cult           N  \\\n",
       "year                                                                \n",
       "9996000000  22_739_909_023 11_328_440_917 691_604_021 100_099_924   \n",
       "9997000000  22_740_677_473 11_328_840_529 691_628_430 100_103_458   \n",
       "9998000000  22_741_445_626 11_329_239_987 691_652_830 100_106_991   \n",
       "9999000000  22_742_213_480 11_329_639_292 691_677_220 100_110_523   \n",
       "10000000000 22_742_981_037 11_330_038_443 691_701_602 100_114_053   \n",
       "\n",
       "                  N_extinct  \n",
       "year                         \n",
       "9996000000  510_056_010_622  \n",
       "9997000000  510_156_110_545  \n",
       "9998000000  510_256_214_004  \n",
       "9999000000  510_356_320_995  \n",
       "10000000000 510_456_431_518  "
      ]
     },
     "execution_count": 45,
     "metadata": {},
     "output_type": "execute_result"
    }
   ],
   "source": [
    "%%time\n",
    "params['YEAR_STEPS'] = 1_000_000\n",
    "ts_1M = TimeDependentDrake(params, output_year=10_000_000_000, P_tech_dominance=1)\n",
    "\n",
    "ts_1M.tail()"
   ]
  },
  {
   "cell_type": "code",
   "execution_count": 46,
   "id": "5f3d433e",
   "metadata": {},
   "outputs": [
    {
     "data": {
      "text/html": [
       "<div>\n",
       "<style scoped>\n",
       "    .dataframe tbody tr th:only-of-type {\n",
       "        vertical-align: middle;\n",
       "    }\n",
       "\n",
       "    .dataframe tbody tr th {\n",
       "        vertical-align: top;\n",
       "    }\n",
       "\n",
       "    .dataframe thead th {\n",
       "        text-align: right;\n",
       "    }\n",
       "</style>\n",
       "<table border=\"1\" class=\"dataframe\">\n",
       "  <thead>\n",
       "    <tr style=\"text-align: right;\">\n",
       "      <th></th>\n",
       "      <th>n_star</th>\n",
       "      <th>n_planet</th>\n",
       "      <th>n_habitable</th>\n",
       "      <th>n_life</th>\n",
       "      <th>n_complex</th>\n",
       "      <th>n_int</th>\n",
       "      <th>n_cult</th>\n",
       "      <th>N</th>\n",
       "      <th>N_extinct</th>\n",
       "    </tr>\n",
       "    <tr>\n",
       "      <th>year</th>\n",
       "      <th></th>\n",
       "      <th></th>\n",
       "      <th></th>\n",
       "      <th></th>\n",
       "      <th></th>\n",
       "      <th></th>\n",
       "      <th></th>\n",
       "      <th></th>\n",
       "      <th></th>\n",
       "    </tr>\n",
       "  </thead>\n",
       "  <tbody>\n",
       "    <tr>\n",
       "      <th>0</th>\n",
       "      <td>0</td>\n",
       "      <td>0</td>\n",
       "      <td>0</td>\n",
       "      <td>0</td>\n",
       "      <td>0</td>\n",
       "      <td>0</td>\n",
       "      <td>0</td>\n",
       "      <td>0</td>\n",
       "      <td>0</td>\n",
       "    </tr>\n",
       "    <tr>\n",
       "      <th>100000000</th>\n",
       "      <td>5_796_686_127</td>\n",
       "      <td>2_318_674_451</td>\n",
       "      <td>57_118_743</td>\n",
       "      <td>1_818_863</td>\n",
       "      <td>42_953</td>\n",
       "      <td>3_559</td>\n",
       "      <td>204</td>\n",
       "      <td>28</td>\n",
       "      <td>448</td>\n",
       "    </tr>\n",
       "    <tr>\n",
       "      <th>200000000</th>\n",
       "      <td>11_204_063_326</td>\n",
       "      <td>4_481_625_330</td>\n",
       "      <td>220_721_250</td>\n",
       "      <td>13_984_873</td>\n",
       "      <td>658_197</td>\n",
       "      <td>97_620</td>\n",
       "      <td>5_786</td>\n",
       "      <td>818</td>\n",
       "      <td>27_850</td>\n",
       "    </tr>\n",
       "    <tr>\n",
       "      <th>300000000</th>\n",
       "      <td>16_250_786_932</td>\n",
       "      <td>6_500_314_773</td>\n",
       "      <td>478_299_361</td>\n",
       "      <td>44_923_674</td>\n",
       "      <td>3_128_417</td>\n",
       "      <td>621_993</td>\n",
       "      <td>37_262</td>\n",
       "      <td>5_311</td>\n",
       "      <td>281_878</td>\n",
       "    </tr>\n",
       "    <tr>\n",
       "      <th>400000000</th>\n",
       "      <td>20_963_244_203</td>\n",
       "      <td>8_385_297_681</td>\n",
       "      <td>818_491_830</td>\n",
       "      <td>101_131_872</td>\n",
       "      <td>9_240_405</td>\n",
       "      <td>2_204_986</td>\n",
       "      <td>132_786</td>\n",
       "      <td>19_008</td>\n",
       "      <td>1_385_618</td>\n",
       "    </tr>\n",
       "    <tr>\n",
       "      <th>500000000</th>\n",
       "      <td>25_365_744_833</td>\n",
       "      <td>10_146_297_933</td>\n",
       "      <td>1_230_986_007</td>\n",
       "      <td>187_464_823</td>\n",
       "      <td>21_050_660</td>\n",
       "      <td>5_696_180</td>\n",
       "      <td>344_091</td>\n",
       "      <td>49_380</td>\n",
       "      <td>4_616_016</td>\n",
       "    </tr>\n",
       "    <tr>\n",
       "      <th>600000000</th>\n",
       "      <td>29_480_694_629</td>\n",
       "      <td>11_792_277_851</td>\n",
       "      <td>1_706_427_854</td>\n",
       "      <td>307_388_051</td>\n",
       "      <td>40_708_510</td>\n",
       "      <td>12_078_497</td>\n",
       "      <td>731_115</td>\n",
       "      <td>105_093</td>\n",
       "      <td>12_062_736</td>\n",
       "    </tr>\n",
       "    <tr>\n",
       "      <th>700000000</th>\n",
       "      <td>33_328_753_902</td>\n",
       "      <td>13_331_501_561</td>\n",
       "      <td>2_236_339_607</td>\n",
       "      <td>463_196_546</td>\n",
       "      <td>70_325_579</td>\n",
       "      <td>22_388_650</td>\n",
       "      <td>1_357_138</td>\n",
       "      <td>195_305</td>\n",
       "      <td>26_711_756</td>\n",
       "    </tr>\n",
       "    <tr>\n",
       "      <th>800000000</th>\n",
       "      <td>36_928_981_987</td>\n",
       "      <td>14_771_592_795</td>\n",
       "      <td>2_813_044_394</td>\n",
       "      <td>656_205_682</td>\n",
       "      <td>111_882_345</td>\n",
       "      <td>37_653_550</td>\n",
       "      <td>2_284_884</td>\n",
       "      <td>329_099</td>\n",
       "      <td>52_465_148</td>\n",
       "    </tr>\n",
       "    <tr>\n",
       "      <th>900000000</th>\n",
       "      <td>40_298_969_146</td>\n",
       "      <td>16_119_587_659</td>\n",
       "      <td>3_429_597_227</td>\n",
       "      <td>886_917_089</td>\n",
       "      <td>167_164_155</td>\n",
       "      <td>58_842_871</td>\n",
       "      <td>3_573_613</td>\n",
       "      <td>515_058</td>\n",
       "      <td>94_111_501</td>\n",
       "    </tr>\n",
       "    <tr>\n",
       "      <th>1000000000</th>\n",
       "      <td>43_454_957_035</td>\n",
       "      <td>17_381_982_814</td>\n",
       "      <td>4_079_721_832</td>\n",
       "      <td>1_155_162_451</td>\n",
       "      <td>237_720_406</td>\n",
       "      <td>86_835_699</td>\n",
       "      <td>5_277_075</td>\n",
       "      <td>760_972</td>\n",
       "      <td>157_260_495</td>\n",
       "    </tr>\n",
       "  </tbody>\n",
       "</table>\n",
       "</div>"
      ],
      "text/plain": [
       "                   n_star       n_planet   n_habitable        n_life  \\\n",
       "year                                                                   \n",
       "0                       0              0             0             0   \n",
       "100000000   5_796_686_127  2_318_674_451    57_118_743     1_818_863   \n",
       "200000000  11_204_063_326  4_481_625_330   220_721_250    13_984_873   \n",
       "300000000  16_250_786_932  6_500_314_773   478_299_361    44_923_674   \n",
       "400000000  20_963_244_203  8_385_297_681   818_491_830   101_131_872   \n",
       "500000000  25_365_744_833 10_146_297_933 1_230_986_007   187_464_823   \n",
       "600000000  29_480_694_629 11_792_277_851 1_706_427_854   307_388_051   \n",
       "700000000  33_328_753_902 13_331_501_561 2_236_339_607   463_196_546   \n",
       "800000000  36_928_981_987 14_771_592_795 2_813_044_394   656_205_682   \n",
       "900000000  40_298_969_146 16_119_587_659 3_429_597_227   886_917_089   \n",
       "1000000000 43_454_957_035 17_381_982_814 4_079_721_832 1_155_162_451   \n",
       "\n",
       "             n_complex      n_int    n_cult       N   N_extinct  \n",
       "year                                                             \n",
       "0                    0          0         0       0           0  \n",
       "100000000       42_953      3_559       204      28         448  \n",
       "200000000      658_197     97_620     5_786     818      27_850  \n",
       "300000000    3_128_417    621_993    37_262   5_311     281_878  \n",
       "400000000    9_240_405  2_204_986   132_786  19_008   1_385_618  \n",
       "500000000   21_050_660  5_696_180   344_091  49_380   4_616_016  \n",
       "600000000   40_708_510 12_078_497   731_115 105_093  12_062_736  \n",
       "700000000   70_325_579 22_388_650 1_357_138 195_305  26_711_756  \n",
       "800000000  111_882_345 37_653_550 2_284_884 329_099  52_465_148  \n",
       "900000000  167_164_155 58_842_871 3_573_613 515_058  94_111_501  \n",
       "1000000000 237_720_406 86_835_699 5_277_075 760_972 157_260_495  "
      ]
     },
     "execution_count": 46,
     "metadata": {},
     "output_type": "execute_result"
    }
   ],
   "source": [
    "ts_1M.iloc[::100, :].head(11)"
   ]
  },
  {
   "cell_type": "markdown",
   "id": "35d0096b",
   "metadata": {},
   "source": [
    "### These do not work at all\n",
    "    do not converge to steady state (blast past it)\n",
    "    end up negative\n",
    "    unrealistic number of early transitions\n",
    "        should be a threshold to transition"
   ]
  },
  {
   "cell_type": "code",
   "execution_count": null,
   "id": "20f3c976",
   "metadata": {},
   "outputs": [],
   "source": []
  },
  {
   "cell_type": "markdown",
   "id": "18e36f67",
   "metadata": {},
   "source": [
    "# DO TRANSITION PERCENTAGES MAKE SENSE?\n",
    "    (no)"
   ]
  },
  {
   "cell_type": "code",
   "execution_count": 51,
   "id": "8c2d9963",
   "metadata": {},
   "outputs": [],
   "source": [
    "def print_param_timing(parameter):\n",
    "    current_param = parameter\n",
    "    print(current_param)\n",
    "\n",
    "    # transition(params, num_from, num_to, prob_of_transition)\n",
    "    num_from, num_to = 1_000_000, 0\n",
    "    prob_of_transition = params[current_param]\n",
    "\n",
    "    # probability, avg yrs\n",
    "    prob_transition = transition(params, num_from, num_to, prob_of_transition) / num_from \n",
    "    print(f\"{prob_transition*100:_.4f}% chance of transition over 1M years\")\n",
    "    print(f\"{prob_of_transition:_.0f} years per transition on average\")\n",
    "\n",
    "    # percent that transition over 1B years\n",
    "    output = 0\n",
    "    for i in range(1000):\n",
    "        output += prob_transition * (1 - output)\n",
    "\n",
    "    print(f\"{output*100:_.0f}% chance of transition over 1B years\")"
   ]
  },
  {
   "cell_type": "code",
   "execution_count": 53,
   "id": "b333fa69",
   "metadata": {},
   "outputs": [
    {
     "name": "stdout",
     "output_type": "stream",
     "text": [
      "YEARS_PLANETS_TO_HABITABLE\n",
      "0.0500% chance of transition over 1M years\n",
      "2_000_000_000 years per transition on average\n",
      "39% chance of transition over 1B years\n"
     ]
    }
   ],
   "source": [
    "print_param_timing('YEARS_PLANETS_TO_HABITABLE')"
   ]
  },
  {
   "cell_type": "code",
   "execution_count": 54,
   "id": "d345ac4f",
   "metadata": {},
   "outputs": [
    {
     "name": "stdout",
     "output_type": "stream",
     "text": [
      "YEARS_HABITABLE_TO_LIFE\n",
      "0.1000% chance of transition over 1M years\n",
      "1_000_000_000 years per transition on average\n",
      "63% chance of transition over 1B years\n"
     ]
    }
   ],
   "source": [
    "print_param_timing('YEARS_HABITABLE_TO_LIFE')"
   ]
  },
  {
   "cell_type": "code",
   "execution_count": 55,
   "id": "a0aa01ba",
   "metadata": {},
   "outputs": [
    {
     "name": "stdout",
     "output_type": "stream",
     "text": [
      "YEARS_LIFE_TO_COMPLEX_LIFE\n",
      "0.1000% chance of transition over 1M years\n",
      "1_000_000_000 years per transition on average\n",
      "63% chance of transition over 1B years\n"
     ]
    }
   ],
   "source": [
    "print_param_timing('YEARS_LIFE_TO_COMPLEX_LIFE')"
   ]
  },
  {
   "cell_type": "code",
   "execution_count": 56,
   "id": "f013e544",
   "metadata": {},
   "outputs": [
    {
     "name": "stdout",
     "output_type": "stream",
     "text": [
      "YEARS_COMPLEX_TO_INTELLIGENCE\n",
      "0.4988% chance of transition over 1M years\n",
      "200_000_000 years per transition on average\n",
      "99% chance of transition over 1B years\n"
     ]
    }
   ],
   "source": [
    "print_param_timing('YEARS_COMPLEX_TO_INTELLIGENCE')"
   ]
  },
  {
   "cell_type": "code",
   "execution_count": 57,
   "id": "3bb71cfd",
   "metadata": {},
   "outputs": [
    {
     "name": "stdout",
     "output_type": "stream",
     "text": [
      "YEARS_INTELLIGENCE_TO_CULTURE\n",
      "4.8771% chance of transition over 1M years\n",
      "20_000_000 years per transition on average\n",
      "100% chance of transition over 1B years\n"
     ]
    }
   ],
   "source": [
    "print_param_timing('YEARS_INTELLIGENCE_TO_CULTURE')"
   ]
  },
  {
   "cell_type": "code",
   "execution_count": 58,
   "id": "a577366e",
   "metadata": {},
   "outputs": [
    {
     "name": "stdout",
     "output_type": "stream",
     "text": [
      "YEARS_CULTURE_TO_TECH\n",
      "99.3262% chance of transition over 1M years\n",
      "200_000 years per transition on average\n",
      "100% chance of transition over 1B years\n"
     ]
    }
   ],
   "source": [
    "print_param_timing('YEARS_CULTURE_TO_TECH')"
   ]
  },
  {
   "cell_type": "code",
   "execution_count": 60,
   "id": "0ecd1420",
   "metadata": {},
   "outputs": [
    {
     "name": "stdout",
     "output_type": "stream",
     "text": [
      "1.99999999998e-05 0.0005198750208305296 0.005007520807317488 0.6321405588285575 1.0\n"
     ]
    }
   ],
   "source": [
    "num = 1_000_000\n",
    "\n",
    "extinction_simple, extinction_complex, extinction_intelligent, extinction_cultural, extinction_technological = new_extinctions(\n",
    "  params, num_stars=100_000_000_000, num_life=num, num_complex_life=num, num_intelligent_life=num, num_cultural_life=num, N=num)\n",
    "\n",
    "print(extinction_simple/num, extinction_complex/num, extinction_intelligent/num, extinction_cultural/num, extinction_technological/num)"
   ]
  },
  {
   "cell_type": "markdown",
   "id": "57b7671d",
   "metadata": {},
   "source": [
    "# QA UPDATES TO POISSON FUNCTION\n",
    "### Year Steps"
   ]
  },
  {
   "cell_type": "code",
   "execution_count": 18,
   "id": "5d70c4af",
   "metadata": {},
   "outputs": [],
   "source": [
    "def new_technological(params, num_cultural_life, N):\n",
    "    \"\"\"\n",
    "    the number of planets with cultural life that develop technological life\n",
    "    doesn't track planets, uses ratios to approximate expectations\n",
    "    doesn't account for number of tech species, ie, doesn't use (num_cultural_life - num_tech_life)\n",
    "    this is because of P_tech_dominance:\n",
    "        some proportion of cultural species transition or otherwise become\n",
    "        extinct as a result of sharing a planet with a technological species\n",
    "        P_tech_dominance is not a CONSTANT, it is treated as an input to TimeDependentDrake()\n",
    "    FC is the percentage of intelligent species that develop communication\n",
    "    \"\"\"\n",
    "    \n",
    "    return num_cultural_life * prob_poisson(params['YEARS_CULTURE_TO_TECH'], params['YEAR_STEPS'])"
   ]
  },
  {
   "cell_type": "code",
   "execution_count": 19,
   "id": "1d2f324a",
   "metadata": {},
   "outputs": [],
   "source": [
    "# reset\n",
    "params['YEAR_STEPS'] = 1_000_000"
   ]
  },
  {
   "cell_type": "code",
   "execution_count": 20,
   "id": "67964b5a",
   "metadata": {},
   "outputs": [
    {
     "data": {
      "text/plain": [
       "0.9932620530009145"
      ]
     },
     "execution_count": 20,
     "metadata": {},
     "output_type": "execute_result"
    }
   ],
   "source": [
    "# reset\n",
    "params['YEAR_STEPS'] = 1_000_000\n",
    "\n",
    "num_cult = 1_000_000\n",
    "num_N = 0\n",
    "\n",
    "new_technological(params, num_cultural_life=num_cult, N=num_N) / num_cult\n",
    "\n",
    "# 99% of cultuures evolve technology over 1M yr"
   ]
  },
  {
   "cell_type": "code",
   "execution_count": 21,
   "id": "d12a0b5b",
   "metadata": {},
   "outputs": [
    {
     "data": {
      "text/plain": [
       "(0.9932620530009145, 0.3934693402873665)"
      ]
     },
     "execution_count": 21,
     "metadata": {},
     "output_type": "execute_result"
    }
   ],
   "source": [
    "params['YEAR_STEPS'] = 100_000\n",
    "output = 0\n",
    "conversion_ratio = new_technological(params, num_cultural_life=num_cult, N=num_N) / num_cult\n",
    "for i in range(10):\n",
    "    output += conversion_ratio * (1 - output)\n",
    "output, conversion_ratio\n",
    "\n",
    "# testing GOOD - this ratio is commutatitve"
   ]
  },
  {
   "cell_type": "code",
   "execution_count": 22,
   "id": "f488e07f",
   "metadata": {},
   "outputs": [],
   "source": [
    "def new_technological(params, num_cultural_life, N):\n",
    "    \"\"\"\n",
    "    the number of planets with cultural life that develop technological life\n",
    "    doesn't track planets, uses ratios to approximate expectations\n",
    "    doesn't account for number of tech species, ie, doesn't use (num_cultural_life - num_tech_life)\n",
    "    this is because of P_tech_dominance:\n",
    "        some proportion of cultural species transition or otherwise become\n",
    "        extinct as a result of sharing a planet with a technological species\n",
    "        P_tech_dominance is not a CONSTANT, it is treated as an input to TimeDependentDrake()\n",
    "    FC is the percentage of intelligent species that develop communication\n",
    "    \"\"\"\n",
    "    \n",
    "    return num_cultural_life * params['FC'] * prob_poisson(params['YEARS_CULTURE_TO_TECH'], params['YEAR_STEPS'])"
   ]
  },
  {
   "cell_type": "code",
   "execution_count": 23,
   "id": "ac3c5df7",
   "metadata": {},
   "outputs": [
    {
     "data": {
      "text/plain": [
       "0.09932620530009145"
      ]
     },
     "execution_count": 23,
     "metadata": {},
     "output_type": "execute_result"
    }
   ],
   "source": [
    "# reset\n",
    "params['YEAR_STEPS'] = 1_000_000\n",
    "\n",
    "num_cult = 1_000_000\n",
    "num_N = 0\n",
    "\n",
    "new_technological(params, num_cultural_life=num_cult, N=num_N) / num_cult\n",
    "\n",
    "# % of cultuures evolve technology over 1M yr"
   ]
  },
  {
   "cell_type": "code",
   "execution_count": 24,
   "id": "3519d533",
   "metadata": {},
   "outputs": [
    {
     "data": {
      "text/plain": [
       "(0.33063078988391387, 0.03934693402873665)"
      ]
     },
     "execution_count": 24,
     "metadata": {},
     "output_type": "execute_result"
    }
   ],
   "source": [
    "params['YEAR_STEPS'] = 100_000\n",
    "output = 0\n",
    "conversion_ratio = new_technological(params, num_cultural_life=num_cult, N=num_N) / num_cult\n",
    "for i in range(10):\n",
    "    output += conversion_ratio * (1 - output)\n",
    "output, conversion_ratio\n",
    "\n",
    "# testing BAD, not commutative anymore, because of FC factor"
   ]
  },
  {
   "cell_type": "code",
   "execution_count": 25,
   "id": "6703ecd0",
   "metadata": {},
   "outputs": [],
   "source": [
    "# reset\n",
    "params['YEAR_STEPS'] = 1_000_000"
   ]
  },
  {
   "cell_type": "code",
   "execution_count": 26,
   "id": "a36f1a12",
   "metadata": {},
   "outputs": [],
   "source": [
    "# USE THIS ONE FOR NOW\n",
    "\n",
    "def new_technological(params, num_cultural_life, N):\n",
    "    \"\"\"\n",
    "    the number of planets with cultural life that develop technological life\n",
    "    doesn't track planets, uses ratios to approximate expectations\n",
    "    doesn't account for number of tech species, ie, doesn't use (num_cultural_life - num_tech_life)\n",
    "    this is because of P_tech_dominance:\n",
    "        some proportion of cultural species transition or otherwise become\n",
    "        extinct as a result of sharing a planet with a technological species\n",
    "        P_tech_dominance is not a CONSTANT, it is treated as an input to TimeDependentDrake()\n",
    "    FC is the percentage of intelligent species that develop communication\n",
    "    \"\"\"\n",
    "    \n",
    "    return num_cultural_life * prob_poisson(params['YEARS_CULTURE_TO_TECH'] / params['FC'], params['YEAR_STEPS'])"
   ]
  },
  {
   "cell_type": "code",
   "execution_count": 27,
   "id": "f54eeef2",
   "metadata": {},
   "outputs": [
    {
     "data": {
      "text/plain": [
       "0.3934693402873665"
      ]
     },
     "execution_count": 27,
     "metadata": {},
     "output_type": "execute_result"
    }
   ],
   "source": [
    "# reset\n",
    "params['YEAR_STEPS'] = 1_000_000\n",
    "\n",
    "num_cult = 1_000_000\n",
    "num_N = 0\n",
    "\n",
    "new_technological(params, num_cultural_life=num_cult, N=num_N) / num_cult\n",
    "\n",
    "# % of cultuures evolve technology over 1M yr"
   ]
  },
  {
   "cell_type": "code",
   "execution_count": 28,
   "id": "34864094",
   "metadata": {},
   "outputs": [
    {
     "data": {
      "text/plain": [
       "(0.3934693402873665, 0.048770575499285984)"
      ]
     },
     "execution_count": 28,
     "metadata": {},
     "output_type": "execute_result"
    }
   ],
   "source": [
    "params['YEAR_STEPS'] = 100_000\n",
    "output = 0\n",
    "conversion_ratio = new_technological(params, num_cultural_life=num_cult, N=num_N) / num_cult\n",
    "for i in range(10):\n",
    "    output += conversion_ratio * (1 - output)\n",
    "output, conversion_ratio\n",
    "\n",
    "# testing GOOD AGAIN, now commutative and uses FC"
   ]
  },
  {
   "cell_type": "code",
   "execution_count": 29,
   "id": "34621ddc",
   "metadata": {},
   "outputs": [],
   "source": [
    "# reset\n",
    "params['YEAR_STEPS'] = 1_000_000"
   ]
  },
  {
   "cell_type": "code",
   "execution_count": null,
   "id": "5173d979",
   "metadata": {},
   "outputs": [],
   "source": []
  },
  {
   "cell_type": "markdown",
   "id": "462dfc12",
   "metadata": {},
   "source": [
    "# what about the weibull function?"
   ]
  },
  {
   "cell_type": "code",
   "execution_count": 61,
   "id": "2ccaf4b8",
   "metadata": {},
   "outputs": [],
   "source": [
    "def prob_weibull(params, years):\n",
    "    \"\"\"\n",
    "    IMPORTANT: this won't work with different timesteps without WEIBULL_SHAPE_PARAMETER=1\n",
    "        need WEIBULL_SHAPE_PARAMETER=1 for prob_L(params, 1_000)**100 == prob_L(params, 100_000)\n",
    "        maybe use this for monte carlo simulation, but can't rely on it for simple calcs\n",
    "            otherwise time_step becomes an integral part of the calculation\n",
    "    weibull distribution\n",
    "    constants from the CONSTANTS section above but shape=1\n",
    "    \"\"\"\n",
    "    \n",
    "    k = params['WEIBULL_SHAPE_PARAMETER']\n",
    "    l = params['WEIBULL_SCALE_PARAMETER']\n",
    "    \n",
    "    return 1 - exp(-(years / l) ** k)"
   ]
  },
  {
   "cell_type": "code",
   "execution_count": 64,
   "id": "00f58fd8",
   "metadata": {},
   "outputs": [
    {
     "name": "stdout",
     "output_type": "stream",
     "text": [
      "k = 0.4\n",
      "lambda = 20000\n"
     ]
    }
   ],
   "source": [
    "print(f\"k = {params['WEIBULL_SHAPE_PARAMETER']}\")\n",
    "print(f\"lambda = {params['WEIBULL_SCALE_PARAMETER']}\")"
   ]
  },
  {
   "cell_type": "code",
   "execution_count": 63,
   "id": "e500c54d",
   "metadata": {},
   "outputs": [
    {
     "data": {
      "text/plain": [
       "0.6321205588285577"
      ]
     },
     "execution_count": 63,
     "metadata": {},
     "output_type": "execute_result"
    }
   ],
   "source": [
    "prob_weibull(params, 20000)"
   ]
  },
  {
   "cell_type": "code",
   "execution_count": 65,
   "id": "9597cd3f",
   "metadata": {},
   "outputs": [
    {
     "data": {
      "text/plain": [
       "0.9813343754384811"
      ]
     },
     "execution_count": 65,
     "metadata": {},
     "output_type": "execute_result"
    }
   ],
   "source": [
    "output = 0\n",
    "for i in range(10):\n",
    "    output += prob_weibull(params, 2000) * (1 - output)\n",
    "output"
   ]
  },
  {
   "cell_type": "code",
   "execution_count": 66,
   "id": "735c2d29",
   "metadata": {},
   "outputs": [
    {
     "name": "stdout",
     "output_type": "stream",
     "text": [
      "k = 1\n",
      "lambda = 20000\n"
     ]
    }
   ],
   "source": [
    "params['WEIBULL_SHAPE_PARAMETER'] = 1  # default = 0.4\n",
    "print(f\"k = {params['WEIBULL_SHAPE_PARAMETER']}\")\n",
    "print(f\"lambda = {params['WEIBULL_SCALE_PARAMETER']}\")"
   ]
  },
  {
   "cell_type": "code",
   "execution_count": 67,
   "id": "ea0f1f00",
   "metadata": {},
   "outputs": [
    {
     "data": {
      "text/plain": [
       "0.6321205588285577"
      ]
     },
     "execution_count": 67,
     "metadata": {},
     "output_type": "execute_result"
    }
   ],
   "source": [
    "prob_weibull(params, 20000)"
   ]
  },
  {
   "cell_type": "code",
   "execution_count": 68,
   "id": "a4b09cee",
   "metadata": {},
   "outputs": [
    {
     "data": {
      "text/plain": [
       "0.6321205588285579"
      ]
     },
     "execution_count": 68,
     "metadata": {},
     "output_type": "execute_result"
    }
   ],
   "source": [
    "output = 0\n",
    "for i in range(10):\n",
    "    output += prob_weibull(params, 2000) * (1 - output)\n",
    "output"
   ]
  },
  {
   "cell_type": "markdown",
   "id": "55b5c9f9",
   "metadata": {},
   "source": [
    "# weibull with scale = 1.0 is commutative"
   ]
  },
  {
   "cell_type": "code",
   "execution_count": 69,
   "id": "4988c9e3",
   "metadata": {},
   "outputs": [
    {
     "data": {
      "text/plain": [
       "(0.6321205588285577, 0.6321205588285577)"
      ]
     },
     "execution_count": 69,
     "metadata": {},
     "output_type": "execute_result"
    }
   ],
   "source": [
    "# compare with poisson\n",
    "\n",
    "mu, years = 20000, 20000\n",
    "\n",
    "prob_weibull(params, years), prob_poisson(mu, years)"
   ]
  },
  {
   "cell_type": "code",
   "execution_count": 79,
   "id": "06fbd18e",
   "metadata": {},
   "outputs": [
    {
     "name": "stdout",
     "output_type": "stream",
     "text": [
      "2_000_000_000\n",
      "0.000499875020830709\t\t0.0004998750208307296\t\t0.9999999999999588\n"
     ]
    }
   ],
   "source": [
    "current_param = params['YEARS_PLANETS_TO_HABITABLE']\n",
    "print(f\"{current_param:_.0f}\")\n",
    "\n",
    "params['WEIBULL_SCALE_PARAMETER'] = current_param  # default = 20000\n",
    "mu, years = current_param, 1_000_000  # 1_000_000 is default for TIME_STEPS\n",
    "\n",
    "print(prob_weibull(params, years), prob_poisson(mu, years), prob_weibull(params, years)/prob_poisson(mu, years), sep='\\t\\t')"
   ]
  },
  {
   "cell_type": "code",
   "execution_count": 85,
   "id": "95335b33",
   "metadata": {},
   "outputs": [
    {
     "name": "stdout",
     "output_type": "stream",
     "text": [
      "1_000_000_000\n",
      "0.000999500166624978\t\t0.0009995001666250082\t\t0.9999999999999698\n"
     ]
    }
   ],
   "source": [
    "current_param = params['YEARS_HABITABLE_TO_LIFE']\n",
    "print(f\"{current_param:_.0f}\")\n",
    "\n",
    "params['WEIBULL_SCALE_PARAMETER'] = current_param  # default = 20000\n",
    "mu, years = current_param, 1_000_000  # 1_000_000 is default for TIME_STEPS\n",
    "\n",
    "print(prob_weibull(params, years), prob_poisson(mu, years), prob_weibull(params, years)/prob_poisson(mu, years), sep='\\t\\t')"
   ]
  },
  {
   "cell_type": "code",
   "execution_count": 81,
   "id": "fcb2ced2",
   "metadata": {},
   "outputs": [
    {
     "name": "stdout",
     "output_type": "stream",
     "text": [
      "1_000_000_000\n",
      "0.000999500166624978\t\t0.0009995001666250082\t\t0.9999999999999698\n"
     ]
    }
   ],
   "source": [
    "current_param = params['YEARS_LIFE_TO_COMPLEX_LIFE']\n",
    "print(f\"{current_param:_.0f}\")\n",
    "\n",
    "params['WEIBULL_SCALE_PARAMETER'] = current_param  # default = 20000\n",
    "mu, years = current_param, 1_000_000  # 1_000_000 is default for TIME_STEPS\n",
    "\n",
    "print(prob_weibull(params, years), prob_poisson(mu, years), prob_weibull(params, years)/prob_poisson(mu, years), sep='\\t\\t')"
   ]
  },
  {
   "cell_type": "code",
   "execution_count": 82,
   "id": "1b72f58d",
   "metadata": {},
   "outputs": [
    {
     "name": "stdout",
     "output_type": "stream",
     "text": [
      "200_000_000\n",
      "0.00498752080731768\t\t0.004987520807317688\t\t0.9999999999999984\n"
     ]
    }
   ],
   "source": [
    "current_param = params['YEARS_COMPLEX_TO_INTELLIGENCE']\n",
    "print(f\"{current_param:_.0f}\")\n",
    "\n",
    "params['WEIBULL_SCALE_PARAMETER'] = current_param  # default = 20000\n",
    "mu, years = current_param, 1_000_000  # 1_000_000 is default for TIME_STEPS\n",
    "\n",
    "print(prob_weibull(params, years), prob_poisson(mu, years), prob_weibull(params, years)/prob_poisson(mu, years), sep='\\t\\t')"
   ]
  },
  {
   "cell_type": "code",
   "execution_count": 83,
   "id": "32b90266",
   "metadata": {},
   "outputs": [
    {
     "name": "stdout",
     "output_type": "stream",
     "text": [
      "20_000_000\n",
      "0.048770575499285984\t\t0.04877057549928599\t\t0.9999999999999999\n"
     ]
    }
   ],
   "source": [
    "current_param = params['YEARS_INTELLIGENCE_TO_CULTURE']\n",
    "print(f\"{current_param:_.0f}\")\n",
    "\n",
    "params['WEIBULL_SCALE_PARAMETER'] = current_param  # default = 20000\n",
    "mu, years = current_param, 1_000_000  # 1_000_000 is default for TIME_STEPS\n",
    "\n",
    "print(prob_weibull(params, years), prob_poisson(mu, years), prob_weibull(params, years)/prob_poisson(mu, years), sep='\\t\\t')"
   ]
  },
  {
   "cell_type": "code",
   "execution_count": 84,
   "id": "73907379",
   "metadata": {},
   "outputs": [
    {
     "name": "stdout",
     "output_type": "stream",
     "text": [
      "200_000\n",
      "0.9932620530009145\t\t0.9932620530009145\t\t1.0\n"
     ]
    }
   ],
   "source": [
    "current_param = params['YEARS_CULTURE_TO_TECH']\n",
    "print(f\"{current_param:_.0f}\")\n",
    "\n",
    "params['WEIBULL_SCALE_PARAMETER'] = current_param  # default = 20000\n",
    "mu, years = current_param, 1_000_000  # 1_000_000 is default for TIME_STEPS\n",
    "\n",
    "print(prob_weibull(params, years), prob_poisson(mu, years), prob_weibull(params, years)/prob_poisson(mu, years), sep='\\t\\t')"
   ]
  },
  {
   "cell_type": "markdown",
   "id": "14a331f1",
   "metadata": {},
   "source": [
    "# weibull and poisson are EXACTLY the same (in this case)"
   ]
  },
  {
   "cell_type": "code",
   "execution_count": null,
   "id": "a92536d7",
   "metadata": {},
   "outputs": [],
   "source": []
  }
 ],
 "metadata": {
  "kernelspec": {
   "display_name": "Python 3 (ipykernel)",
   "language": "python",
   "name": "python3"
  },
  "language_info": {
   "codemirror_mode": {
    "name": "ipython",
    "version": 3
   },
   "file_extension": ".py",
   "mimetype": "text/x-python",
   "name": "python",
   "nbconvert_exporter": "python",
   "pygments_lexer": "ipython3",
   "version": "3.9.7"
  }
 },
 "nbformat": 4,
 "nbformat_minor": 5
}
