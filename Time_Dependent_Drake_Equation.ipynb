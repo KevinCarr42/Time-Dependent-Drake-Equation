{
  "nbformat": 4,
  "nbformat_minor": 0,
  "metadata": {
    "colab": {
      "name": "Drake Equation.ipynb",
      "provenance": [],
      "collapsed_sections": []
    },
    "kernelspec": {
      "name": "python3",
      "display_name": "Python 3"
    },
    "language_info": {
      "name": "python"
    }
  },
  "cells": [
    {
      "cell_type": "code",
      "source": [
        "import numpy as np\n",
        "import pandas as pd\n",
        "# from scipy.stats import poisson\n",
        "import matplotlib.pyplot as plt\n",
        "%matplotlib inline\n",
        "import seaborn as sns\n",
        "sns.set_theme()"
      ],
      "metadata": {
        "id": "Cy9vSqKf1Pn9"
      },
      "execution_count": null,
      "outputs": []
    },
    {
      "cell_type": "code",
      "execution_count": null,
      "metadata": {
        "id": "srwWAeDMx8Ck"
      },
      "outputs": [],
      "source": [
        "def Drake(Rs, fp, ne, fl, fi, fc, L):\n",
        "    \"\"\"\n",
        "    The Drake Equation\n",
        "    N = number of civilizations with which humans could communicate\n",
        "    Rs = mean rate of star formation\n",
        "    fp = fraction of stars that have planets\n",
        "    ne = mean number of planets that could support life per star with planets\n",
        "    fl = fraction of life-supporting planets that develop life\n",
        "    fi = fraction of planets with life where life develops intelligence\n",
        "    fc = fraction of intelligent civilizations that develop communication\n",
        "    L = mean length of time that civilizations can communicate\n",
        "    \"\"\"\n",
        "    return round(Rs * fp * ne * fl * fi * fc * L)\n"
      ]
    },
    {
      "cell_type": "code",
      "source": [
        "# best estimate for a solution to the Drake equation\n",
        "\n",
        "Rs = 2  # star formation per galaxy (ie, milky way)\n",
        "fp = 1\n",
        "ne = 0.4\n",
        "fl = 1  # seems optimistic to me\n",
        "fi = 1  # seems optimistic to me\n",
        "fc = 0.1  # looks like a complete guess \n",
        "L = 1000  # maybe between 1000 and 100_000_000\n",
        "\n",
        "Drake(Rs, fp, ne, fl, fi, fc, L)"
      ],
      "metadata": {
        "colab": {
          "base_uri": "https://localhost:8080/"
        },
        "id": "ouHJNdy_zFDl",
        "outputId": "000b21c4-bc98-4672-ffe8-0b8e6f202fdd"
      },
      "execution_count": null,
      "outputs": [
        {
          "output_type": "execute_result",
          "data": {
            "text/plain": [
              "80"
            ]
          },
          "metadata": {},
          "execution_count": 29
        }
      ]
    },
    {
      "cell_type": "code",
      "source": [
        "def TimeDependentDrake(Rs, fp, ne, fl, fi, fc, L, \n",
        "    year=10_000_000_000, # default = NOW, approx 10B yr since 2nd gen stars\n",
        "    avg_years_to_form_life=4_000_000_000, # approx 4B yr star to first life\n",
        "    avg_years_to_get_intelligence=1_000_000_000): # approx 1B yr until intelligence\n",
        "\n",
        "    \"\"\"\n",
        "    based on the Drake Equation but incorporates time.\n",
        "    year is the approximate years since second generation stars formed\n",
        "        life was unlikely in a first generation star\n",
        "        10 billion years is an order of magnitude approximation\n",
        "\n",
        "    avg_years_to_form_life assumes life is inevitable, but takes time to form\n",
        "        could be thousands, millions, or billions of years\n",
        "\n",
        "    The Drake Equation\n",
        "    N = number of civilizations with which humans could communicate\n",
        "    Rs = mean rate of star formation\n",
        "    fp = fraction of stars that have planets\n",
        "    ne = mean number of planets that could support life per star with planets\n",
        "    fl = fraction of life-supporting planets that develop life\n",
        "    fi = fraction of planets with life where life develops intelligence\n",
        "    fc = fraction of intelligent civilizations that develop communication\n",
        "    L = mean length of time that civilizations can communicate\n",
        "    \"\"\"\n",
        "\n",
        "    star_lifetime = 10_000_000_000  # using a star like the sun\n",
        "\n",
        "    num_stars = 0\n",
        "    num_planets = 0\n",
        "    num_life = 0\n",
        "    N = 0\n",
        "    current_year = 0\n",
        "    year_steps = 1_000_000\n",
        "    \n",
        "    # this is NOT probabilistic, just expected values, using fractions\n",
        "    # next iteration could use Poisson and Monte Carlo \n",
        "    chance_of_life = year_steps / avg_years_to_form_life\n",
        "    chance_of_intelligence = year_steps / avg_years_to_get_intelligence\n",
        "\n",
        "    while current_year < year:\n",
        "\n",
        "        # increment times affect approximations\n",
        "        current_year += year_steps\n",
        "        new_stars = Rs * year_steps\n",
        "        dying_stars = num_stars * year_steps / star_lifetime\n",
        "\n",
        "        # intelligence, then life, then planet, then star formation\n",
        "        # so that each of these builds off the previous generation\n",
        "\n",
        "        # fi = fraction of planets with life where life develops intelligence\n",
        "        # only includes specied that will communicate\n",
        "        N -= N * year_steps / L  # minus extinctions\n",
        "        N = max(N, 0)\n",
        "        N += (num_life - N) * chance_of_intelligence * fc\n",
        "        # N *= L / year_steps  # use a factor, not exact lifetime\n",
        "        \n",
        "\n",
        "        # fl = fraction of life-supporting planets that develop life\n",
        "        num_life += (num_planets - num_life) * chance_of_life  # only new life\n",
        "\n",
        "        # planet formation in habitable zones\n",
        "        # only new stars make new planets\n",
        "        num_planets += fp * ne * new_stars\n",
        "        num_planets -= fp * ne * dying_stars  # SUBTRACT DEAD STARS\n",
        "\n",
        "        # star formation\n",
        "        num_stars += Rs * year_steps\n",
        "        num_stars -= dying_stars  # SUBTRACT DEAD STARS\n",
        "\n",
        "    # N is the number of civilizations born this timestep\n",
        "    N = N / year_steps  # normalise - intelligent at any given time\n",
        "\n",
        "    return round(N)"
      ],
      "metadata": {
        "id": "N1uGmb5k1Mir"
      },
      "execution_count": null,
      "outputs": []
    },
    {
      "cell_type": "code",
      "source": [
        "TimeDependentDrake(Rs, fp, ne, fl, fi, fc, L, year=10_000_000_000)"
      ],
      "metadata": {
        "colab": {
          "base_uri": "https://localhost:8080/"
        },
        "id": "mp9KINVxqtOD",
        "outputId": "4026a3ac-940f-4a1a-bdef-8336910e2a5f"
      },
      "execution_count": null,
      "outputs": [
        {
          "output_type": "execute_result",
          "data": {
            "text/plain": [
              "0"
            ]
          },
          "metadata": {},
          "execution_count": 200
        }
      ]
    },
    {
      "cell_type": "code",
      "source": [
        "TimeDependentDrake(Rs, fp, ne, fl, fi, fc, 100000000000000000, year=10_000_000_000)"
      ],
      "metadata": {
        "colab": {
          "base_uri": "https://localhost:8080/"
        },
        "id": "W2PCN6EApNgU",
        "outputId": "8fc50064-bce7-4045-8cb2-d7b0f1698199"
      },
      "execution_count": null,
      "outputs": [
        {
          "output_type": "execute_result",
          "data": {
            "text/plain": [
              "1168"
            ]
          },
          "metadata": {},
          "execution_count": 198
        }
      ]
    },
    {
      "cell_type": "code",
      "source": [
        "TimeDependentDrake(Rs, fp, ne, fl, fi, fc, L, year=1_000_000_000_000)"
      ],
      "metadata": {
        "colab": {
          "base_uri": "https://localhost:8080/"
        },
        "id": "XMWQTTnOoVOQ",
        "outputId": "cc2ea85f-9c65-4db0-d302-3610a397988c"
      },
      "execution_count": null,
      "outputs": [
        {
          "output_type": "execute_result",
          "data": {
            "text/plain": [
              "1"
            ]
          },
          "metadata": {},
          "execution_count": 199
        }
      ]
    },
    {
      "cell_type": "code",
      "source": [
        "# best estimate for a solution to the Drake equation\n",
        "\n",
        "Rs = 2  # star formation per galaxy (ie, milky way)\n",
        "fp = 1\n",
        "ne = 0.4\n",
        "fl = 1  # seems optimistic to me\n",
        "fi = 1  # seems optimistic to me\n",
        "fc = 0.1  # looks like a complete guess \n",
        "L = 1000  # maybe between 1000 and 100_000_000\n",
        "\n",
        "# Time Independent Drake Equation is the steady state solution\n",
        "TimeDependentDrake(Rs, fp, ne, fl, fi, fc, L, year=10_000_000_000)"
      ],
      "metadata": {
        "colab": {
          "base_uri": "https://localhost:8080/"
        },
        "id": "T9kreKz-P_9E",
        "outputId": "5a36045e-9679-4118-99ee-8784dba2f1bd"
      },
      "execution_count": null,
      "outputs": [
        {
          "output_type": "execute_result",
          "data": {
            "text/plain": [
              "0"
            ]
          },
          "metadata": {},
          "execution_count": 170
        }
      ]
    },
    {
      "cell_type": "code",
      "source": [
        "for i in [0, 1, 10, 100, 1000, 10000]:\n",
        "    print(TimeDependentDrake(Rs, fp, ne, fl, fi, fc, L, year=i*1000000000))"
      ],
      "metadata": {
        "colab": {
          "base_uri": "https://localhost:8080/"
        },
        "id": "nn5r1HTmCEjN",
        "outputId": "56480251-9be1-4319-a905-0f4cc5d8532e"
      },
      "execution_count": null,
      "outputs": [
        {
          "output_type": "stream",
          "name": "stdout",
          "text": [
            "0\n",
            "0\n",
            "0\n",
            "1\n",
            "1\n",
            "1\n"
          ]
        }
      ]
    },
    {
      "cell_type": "code",
      "source": [
        "Drake(Rs, fp, ne, fl, fi, fc, L)"
      ],
      "metadata": {
        "colab": {
          "base_uri": "https://localhost:8080/"
        },
        "id": "Fq3zIqDy8Q89",
        "outputId": "77b99c2a-1285-4eec-c8ad-14cdb910e339"
      },
      "execution_count": null,
      "outputs": [
        {
          "output_type": "execute_result",
          "data": {
            "text/plain": [
              "80"
            ]
          },
          "metadata": {},
          "execution_count": 80
        }
      ]
    },
    {
      "cell_type": "markdown",
      "source": [
        "# Graph it"
      ],
      "metadata": {
        "id": "1E7_OWznc-dv"
      }
    },
    {
      "cell_type": "code",
      "source": [
        "# def DrakeTime(year):\n",
        "#     Rs = 2  # star formation per galaxy (ie, milky way)\n",
        "#     fp = 1\n",
        "#     ne = 0.4\n",
        "#     fl = 1  # seems optimistic to me\n",
        "#     fi = 1  # seems optimistic to me\n",
        "#     fc = 0.1  # looks like a complete guess \n",
        "#     L = 1000  # maybe between 1000 and 100_000_000\n",
        "\n",
        "#     # Time Independent Drake Equation is the steady state solution\n",
        "#     return TimeDependentDrake(Rs, fp, ne, fl, fi, fc, L, year=year)\n",
        "\n",
        "# # WAYYYYYYYYY too slow - rewrite function\n",
        "# x = [x*1_000_000_000 for x in range(1000)]\n",
        "# y = [DrakeTime(i) for i in x]"
      ],
      "metadata": {
        "id": "_cn36sOaaEh2"
      },
      "execution_count": null,
      "outputs": []
    },
    {
      "cell_type": "code",
      "source": [
        "def DrakeTime(list_of_years):\n",
        "\n",
        "    \"\"\"\n",
        "    takes in a list of years and outputs the N for those years\n",
        "    \"\"\"\n",
        "\n",
        "    end = list_of_years[-1]\n",
        "    increment = list_of_years[1] - list_of_years[0]\n",
        "\n",
        "    # CONSTANTS\n",
        "    Rs = 2\n",
        "    fp = 1\n",
        "    ne = 0.4\n",
        "    fl = 1\n",
        "    fi = 1\n",
        "    fc = 0.1\n",
        "    L = 1000\n",
        "    avg_years_to_form_life = 4_000_000_000\n",
        "    avg_years_to_get_intelligence = 1_000_000_000\n",
        "\n",
        "    # Variables\n",
        "    num_stars = 0\n",
        "    num_planets = 0\n",
        "    num_life = 0\n",
        "    N_list = []\n",
        "    N = 0\n",
        "    current_year = 0\n",
        "    year_steps = 1_000_000\n",
        "\n",
        "    # ADD ERROR CHECKING\n",
        "    # year steps should include all inputted years\n",
        "    if increment % year_steps != 0:\n",
        "        pass\n",
        "    \n",
        "    chance_of_life = year_steps / avg_years_to_form_life\n",
        "    chance_of_intelligence = year_steps / avg_years_to_get_intelligence\n",
        "\n",
        "    while current_year < end:\n",
        "\n",
        "        # increment times affect approximations\n",
        "        current_year += year_steps\n",
        "        new_stars = Rs * year_steps\n",
        "\n",
        "        # intelligence, then life, then planet, then star formation\n",
        "        # so that each of these builds off the previous generation\n",
        "\n",
        "        # fi = fraction of planets with life where life develops intelligence\n",
        "        # only includes specied that will communicate\n",
        "        N += (num_life - N) * chance_of_intelligence * fc\n",
        "                \n",
        "        # minus extinctions\n",
        "        N *= (L / year_steps)\n",
        "\n",
        "        # fl = fraction of life-supporting planets that develop life\n",
        "        num_life += (num_planets - num_life) * chance_of_life  # only new life\n",
        "\n",
        "        # planet formation in habitable zones\n",
        "        num_planets += fp * ne * new_stars  # only new stars make new planets\n",
        "\n",
        "        # star formation\n",
        "        num_stars += Rs * year_steps\n",
        "\n",
        "        if current_year in list_of_years:\n",
        "            N_list.append(round(N * L / year_steps))\n",
        "\n",
        "    return N_list"
      ],
      "metadata": {
        "id": "Ffzruuquc0OK"
      },
      "execution_count": null,
      "outputs": []
    },
    {
      "cell_type": "code",
      "source": [
        "x = [x*1_000_000_000 for x in range(1,1001)]\n",
        "y = DrakeTime(x)"
      ],
      "metadata": {
        "id": "w-5hyiDSgd7s"
      },
      "execution_count": null,
      "outputs": []
    },
    {
      "cell_type": "code",
      "source": [
        "sns.lineplot(y=y, x=x)"
      ],
      "metadata": {
        "colab": {
          "base_uri": "https://localhost:8080/",
          "height": 299
        },
        "id": "h6Lv4qPbaEfH",
        "outputId": "8271b220-c556-4af9-addc-90493d622526"
      },
      "execution_count": null,
      "outputs": [
        {
          "output_type": "execute_result",
          "data": {
            "text/plain": [
              "<matplotlib.axes._subplots.AxesSubplot at 0x7f14c8ecb110>"
            ]
          },
          "metadata": {},
          "execution_count": 141
        },
        {
          "output_type": "display_data",
          "data": {
            "text/plain": [
              "<Figure size 432x288 with 1 Axes>"
            ],
            "image/png": "[encoded data removed]"
          },
          "metadata": {}
        }
      ]
    },
    {
      "cell_type": "code",
      "source": [
        ""
      ],
      "metadata": {
        "id": "0HSfmMrBkDja"
      },
      "execution_count": null,
      "outputs": []
    },
    {
      "cell_type": "code",
      "source": [
        ""
      ],
      "metadata": {
        "id": "xT6qRuTckDgq"
      },
      "execution_count": null,
      "outputs": []
    },
    {
      "cell_type": "code",
      "source": [
        "TimeDependentDrake(Rs, fp, ne, fl, fi, fc, L, year=1_000_000_000_000)"
      ],
      "metadata": {
        "colab": {
          "base_uri": "https://localhost:8080/"
        },
        "id": "GLRtdzKCjLzL",
        "outputId": "8a80bcc7-c253-4a91-82dd-adae37381906"
      },
      "execution_count": null,
      "outputs": [
        {
          "output_type": "execute_result",
          "data": {
            "text/plain": [
              "80"
            ]
          },
          "metadata": {},
          "execution_count": 142
        }
      ]
    },
    {
      "cell_type": "code",
      "source": [
        "TimeDependentDrake(Rs, fp, ne, fl, fi, fc, L, year=100_000_000_000_000)"
      ],
      "metadata": {
        "colab": {
          "base_uri": "https://localhost:8080/"
        },
        "id": "uLthUC91jLvr",
        "outputId": "58b3e9fe-a9a2-4203-fa62-bf7373223b69"
      },
      "execution_count": null,
      "outputs": [
        {
          "output_type": "execute_result",
          "data": {
            "text/plain": [
              "8008"
            ]
          },
          "metadata": {},
          "execution_count": 144
        }
      ]
    },
    {
      "cell_type": "code",
      "source": [
        ""
      ],
      "metadata": {
        "id": "LeDUUTu0jLtH"
      },
      "execution_count": null,
      "outputs": []
    },
    {
      "cell_type": "code",
      "source": [
        "#  ERROR CHECKING\n",
        "# year steps should include all inputted years\n",
        "year_steps = 2300000\n",
        "increment = 1000000000\n",
        "\n",
        "# if increment % year_steps != 0:\n",
        "#     increment // year_steps\n",
        "#     year_steps = increment // (increment // year_steps)\n",
        "\n",
        "# year_steps\n",
        "\n",
        "\n",
        "new = increment / round(increment / year_steps)\n",
        "new\n"
      ],
      "metadata": {
        "colab": {
          "base_uri": "https://localhost:8080/"
        },
        "id": "k0w_Z0gKgqCQ",
        "outputId": "512036cd-324d-42d9-dfe7-2515297eb0a1"
      },
      "execution_count": null,
      "outputs": [
        {
          "output_type": "execute_result",
          "data": {
            "text/plain": [
              "2298850.574712644"
            ]
          },
          "metadata": {},
          "execution_count": 130
        }
      ]
    }
  ]
}