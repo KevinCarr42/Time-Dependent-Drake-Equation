{
 "cells": [
  {
   "cell_type": "markdown",
   "metadata": {},
   "source": [
    "# Cosmic Neighbours\n",
    "\n",
    "In this project we are adding a time dimension to the famous [Drake Equation](https://en.wikipedia.org/wiki/Drake_equation). The Drake Equation is as follows:\n",
    "    \n",
    "#### N = Rs * fp * ne * fl * fi * fc * L\n",
    "    where:\n",
    "    N = number of civilizations with which humans could communicate\n",
    "    Rs = mean rate of star formation\n",
    "    fp = fraction of stars that have planets\n",
    "    ne = mean number of planets that could support life per star with planets\n",
    "    fl = fraction of life-supporting planets that develop life\n",
    "    fi = fraction of planets with life where life develops intelligence\n",
    "    fc = fraction of intelligent civilizations that develop communication\n",
    "    L = mean length of time that civilizations can communicate\n",
    "    \n",
    "This solution to the number of civilizations is a steady state solution. Meaning, we cannot use this estimate to estimate the number of extict civilizations in our galaxy. And it assumes that the intelligent population of the galaxy is not growing. I will try to answer these questions by adding a time dimension to the calcuation.\n"
   ]
  },
  {
   "cell_type": "markdown",
   "metadata": {},
   "source": [
    "### Imports"
   ]
  },
  {
   "cell_type": "code",
   "execution_count": 1,
   "metadata": {
    "id": "Cy9vSqKf1Pn9"
   },
   "outputs": [],
   "source": [
    "# import custom functions from drakefunctions.py\n",
    "from drakefunctions import *"
   ]
  },
  {
   "cell_type": "code",
   "execution_count": 2,
   "metadata": {},
   "outputs": [],
   "source": [
    "# import modules\n",
    "\n",
    "import numpy as np\n",
    "import pandas as pd\n",
    "pd.set_option('display.float_format', '{:_.0f}'.format)\n",
    "from scipy.stats import poisson\n",
    "from scipy.special import gamma  # not the one from scipy.stats\n",
    "from math import factorial, exp, log\n",
    "import datetime, time\n",
    "\n",
    "import matplotlib.pyplot as plt\n",
    "from matplotlib.ticker import MaxNLocator\n",
    "import matplotlib as mpl\n",
    "%matplotlib inline\n",
    "mpl.rcParams[\"axes.formatter.min_exponent\"] = 20  # no scientific notation in graphs\n",
    "plt.rcParams['axes.titley'] = 1.0    # y is in axes-relative coordinates.\n",
    "plt.rcParams['axes.titlepad'] = 10   # pad is in points... default is 6\n",
    "import seaborn as sns\n",
    "sns.set_theme()"
   ]
  },
  {
   "cell_type": "markdown",
   "metadata": {},
   "source": [
    "### CONSTANTS (and pseudo-constants$^{ [1]}$)\n",
    "\\[1] \"Pseudo-constants\" are (probably) constants that we don't know very well. We will start by making best-guess assumptions, and we will evaluate these pseudo-constants in detail later using Monte Carlo simulation."
   ]
  },
  {
   "cell_type": "code",
   "execution_count": 3,
   "metadata": {},
   "outputs": [],
   "source": [
    "# CONSTANTS treated as variables for simulation\n",
    "\n",
    "# inputs to the Drake equation\n",
    "default_params = dict(\n",
    "    # time step increments for calculations\n",
    "    YEAR_STEPS = 1_000_000,\n",
    "    # galactic attributes\n",
    "    NUM_GALAXY = 100_000_000_000,  # number of stars in a galaxy\n",
    "    GALAXY_RADIUS_LYR = 50_000,  # radius of the galaxy in lightyears\n",
    "    MODERN_ERA = 10_000_000_000,  # years since 2nd gen stars, order of magnitude approx\n",
    "    # pseudo-constants (treated as constants until Monte Carlo simulation)\n",
    "    RS = 2, \n",
    "    FP = 1, \n",
    "    NE = 0.4, \n",
    "    FL = 1, \n",
    "    FI = 1, \n",
    "    FC = 0.1, \n",
    "    L = 1000,\n",
    "    YEARS_PLANETS_TO_HABITABLE = 2_000_000_000, \n",
    "    YEARS_HABITABLE_TO_LIFE = 1_000_000_000, \n",
    "    YEARS_LIFE_TO_COMPLEX_LIFE = 1_000_000_000, \n",
    "    YEARS_COMPLEX_TO_INTELLIGENCE = 200_000_000, \n",
    "    YEARS_INTELLIGENCE_TO_CULTURE = 20_000_000, \n",
    "    YEARS_CULTURE_TO_TECH = 200_000, \n",
    "    EXTINCTION_SIMPLE = 5_000_000_000, \n",
    "    EXTINCTION_COMPLEX = 2_000_000_000, \n",
    "    EXTINCTION_INTELLIGENT = 200_000_000, \n",
    "    EXTINCTION_CULTURAL = 1_000_000, \n",
    "    WEIBULL_SHAPE_PARAMETER = 0.4,  # k\n",
    "    WEIBULL_SCALE_PARAMETER = 20_000  # lambda    \n",
    ")\n",
    "\n",
    "random_params = dict(\n",
    "    # time step increments for calculations\n",
    "    YEAR_STEPS = [1_000_000],\n",
    "    # galactic attributes\n",
    "    NUM_GALAXY = [100_000_000_000],  # number of stars in a galaxy\n",
    "    GALAXY_RADIUS_LYR = [50_000],  # radius of the galaxy in lightyears\n",
    "    MODERN_ERA = [10_000_000_000],  # years since 2nd gen stars, order of magnitude approx\n",
    "    # pseudo-constants (treated as constants until Monte Carlo simulation)\n",
    "    RS = [1, 2, 3],\n",
    "    FP = [0.05, 0.2, 0.5, 1.0, 2.0],\n",
    "    NE = [0.02, 0.1, 0.4, 1.0],\n",
    "    FL = [0.01, 0.1, 1],\n",
    "    FI = [0.01, 0.1, 1],\n",
    "    FC = [0.01, 0.1, 1],\n",
    "    L = [100, 1_000, 10_000, 100_000, 1_000_000],\n",
    "    YEARS_PLANETS_TO_HABITABLE = [1_000_000_000, 2_000_000_000, 3_000_000_000], \n",
    "    YEARS_HABITABLE_TO_LIFE = [100_000_000, 1_000_000_000, 5_000_000_000], \n",
    "    YEARS_LIFE_TO_COMPLEX_LIFE = [100_000_000, 1_000_000_000, 5_000_000_000, 10_000_000_000], \n",
    "    YEARS_COMPLEX_TO_INTELLIGENCE = [100_000, 1_000_000, 50_000_000, 200_000_000, 1_000_000_000], \n",
    "    YEARS_INTELLIGENCE_TO_CULTURE = [10_000, 100_000, 2_000_000, 20_000_000, 200_000_000], \n",
    "    YEARS_CULTURE_TO_TECH = [1_000, 10_000, 100_000, 200_000, 2_000_000], \n",
    "    EXTINCTION_SIMPLE = [200_000_000, 1_000_000_000, 2_000_000_000, 5_000_000_000],  # these are mass extinction events\n",
    "    EXTINCTION_COMPLEX = [200_000_000, 1_000_000_000, 2_000_000_000], # these are mass extinction events\n",
    "    EXTINCTION_INTELLIGENT = [10_000, 100_000, 1_000_000, 10_000_000, 200_000_000, 1_000_000_000], \n",
    "    EXTINCTION_CULTURAL = [1_000, 10_000, 100_000, 1_000_000, 10_000_000], \n",
    "    WEIBULL_SHAPE_PARAMETER = [0.4, 0.5, 0.6, 0.7, 0.8, 0.9, 1.0],  # k\n",
    "    WEIBULL_SCALE_PARAMETER = [100, 250, 500, 750, 1000, 5_000, 10_000, 20_000, 50_000, 100_000]  # lambda\n",
    ")\n"
   ]
  },
  {
   "cell_type": "code",
   "execution_count": 4,
   "metadata": {},
   "outputs": [],
   "source": [
    "# initialise params\n",
    "params = params_set(default_params)"
   ]
  },
  {
   "cell_type": "code",
   "execution_count": 5,
   "metadata": {},
   "outputs": [],
   "source": [
    "# testing\n",
    "# params_rand(random_params)"
   ]
  },
  {
   "cell_type": "code",
   "execution_count": 6,
   "metadata": {},
   "outputs": [],
   "source": [
    "# testing\n",
    "# params_set(default_params)"
   ]
  },
  {
   "cell_type": "code",
   "execution_count": 7,
   "metadata": {},
   "outputs": [
    {
     "data": {
      "text/plain": [
       "{'YEAR_STEPS': 1000000,\n",
       " 'NUM_GALAXY': 100000000000,\n",
       " 'GALAXY_RADIUS_LYR': 50000,\n",
       " 'MODERN_ERA': 10000000000,\n",
       " 'RS': 2,\n",
       " 'FP': 1,\n",
       " 'NE': 0.4,\n",
       " 'FL': 1,\n",
       " 'FI': 1,\n",
       " 'FC': 0.1,\n",
       " 'L': 1000,\n",
       " 'YEARS_PLANETS_TO_HABITABLE': 2000000000,\n",
       " 'YEARS_HABITABLE_TO_LIFE': 1000000000,\n",
       " 'YEARS_LIFE_TO_COMPLEX_LIFE': 1000000000,\n",
       " 'YEARS_COMPLEX_TO_INTELLIGENCE': 200000000,\n",
       " 'YEARS_INTELLIGENCE_TO_CULTURE': 20000000,\n",
       " 'YEARS_CULTURE_TO_TECH': 200000,\n",
       " 'EXTINCTION_SIMPLE': 5000000000,\n",
       " 'EXTINCTION_COMPLEX': 2000000000,\n",
       " 'EXTINCTION_INTELLIGENT': 200000000,\n",
       " 'EXTINCTION_CULTURAL': 1000000,\n",
       " 'WEIBULL_SHAPE_PARAMETER': 0.4,\n",
       " 'WEIBULL_SCALE_PARAMETER': 20000}"
      ]
     },
     "execution_count": 7,
     "metadata": {},
     "output_type": "execute_result"
    }
   ],
   "source": [
    "params"
   ]
  },
  {
   "cell_type": "markdown",
   "metadata": {},
   "source": [
    "### The Original Drake Equation"
   ]
  },
  {
   "cell_type": "code",
   "execution_count": 8,
   "metadata": {},
   "outputs": [
    {
     "data": {
      "text/plain": [
       "80"
      ]
     },
     "execution_count": 8,
     "metadata": {},
     "output_type": "execute_result"
    }
   ],
   "source": [
    "# Using our best estimates, the Drake Equation predicts...\n",
    "\n",
    "Drake(params)"
   ]
  },
  {
   "cell_type": "code",
   "execution_count": 9,
   "metadata": {},
   "outputs": [
    {
     "name": "stdout",
     "output_type": "stream",
     "text": [
      "1,200,000,000\n"
     ]
    }
   ],
   "source": [
    "# hack the Drake equation to estimate how many extict technological civilizations\n",
    "# might exist in the Milky Way\n",
    "immortal = params.copy()\n",
    "immortal['L'] = 15_000_000_000\n",
    "print(f\"{Drake(immortal):,}\")\n",
    "# seems way too high..."
   ]
  },
  {
   "cell_type": "markdown",
   "metadata": {},
   "source": [
    "### The Time-Dependent Drake Equation"
   ]
  },
  {
   "cell_type": "code",
   "execution_count": 10,
   "metadata": {},
   "outputs": [
    {
     "name": "stdout",
     "output_type": "stream",
     "text": [
      "Wall time: 16.4 s\n"
     ]
    },
    {
     "data": {
      "text/html": [
       "<div>\n",
       "<style scoped>\n",
       "    .dataframe tbody tr th:only-of-type {\n",
       "        vertical-align: middle;\n",
       "    }\n",
       "\n",
       "    .dataframe tbody tr th {\n",
       "        vertical-align: top;\n",
       "    }\n",
       "\n",
       "    .dataframe thead th {\n",
       "        text-align: right;\n",
       "    }\n",
       "</style>\n",
       "<table border=\"1\" class=\"dataframe\">\n",
       "  <thead>\n",
       "    <tr style=\"text-align: right;\">\n",
       "      <th></th>\n",
       "      <th>num_stars</th>\n",
       "      <th>num_planets</th>\n",
       "      <th>num_habitable_planets</th>\n",
       "      <th>num_life</th>\n",
       "      <th>num_complex_life</th>\n",
       "      <th>num_intelligent_life</th>\n",
       "      <th>num_cultural_life</th>\n",
       "      <th>N</th>\n",
       "      <th>N_extinct</th>\n",
       "    </tr>\n",
       "    <tr>\n",
       "      <th>year</th>\n",
       "      <th></th>\n",
       "      <th></th>\n",
       "      <th></th>\n",
       "      <th></th>\n",
       "      <th></th>\n",
       "      <th></th>\n",
       "      <th></th>\n",
       "      <th></th>\n",
       "      <th></th>\n",
       "    </tr>\n",
       "  </thead>\n",
       "  <tbody>\n",
       "    <tr>\n",
       "      <th>9996000000</th>\n",
       "      <td>95_039_003_081</td>\n",
       "      <td>38_015_601_233</td>\n",
       "      <td>36_963_131_775</td>\n",
       "      <td>111_602_709</td>\n",
       "      <td>196_249</td>\n",
       "      <td>5_867</td>\n",
       "      <td>8</td>\n",
       "      <td>6</td>\n",
       "      <td>11_435</td>\n",
       "    </tr>\n",
       "    <tr>\n",
       "      <th>9997000000</th>\n",
       "      <td>95_039_102_301</td>\n",
       "      <td>38_015_640_921</td>\n",
       "      <td>36_963_658_010</td>\n",
       "      <td>111_618_774</td>\n",
       "      <td>196_301</td>\n",
       "      <td>5_870</td>\n",
       "      <td>8</td>\n",
       "      <td>6</td>\n",
       "      <td>11_440</td>\n",
       "    </tr>\n",
       "    <tr>\n",
       "      <th>9998000000</th>\n",
       "      <td>95_039_201_519</td>\n",
       "      <td>38_015_680_608</td>\n",
       "      <td>36_964_184_001</td>\n",
       "      <td>111_634_839</td>\n",
       "      <td>196_352</td>\n",
       "      <td>5_872</td>\n",
       "      <td>8</td>\n",
       "      <td>6</td>\n",
       "      <td>11_446</td>\n",
       "    </tr>\n",
       "    <tr>\n",
       "      <th>9999000000</th>\n",
       "      <td>95_039_300_735</td>\n",
       "      <td>38_015_720_294</td>\n",
       "      <td>36_964_709_749</td>\n",
       "      <td>111_650_903</td>\n",
       "      <td>196_404</td>\n",
       "      <td>5_874</td>\n",
       "      <td>8</td>\n",
       "      <td>6</td>\n",
       "      <td>11_451</td>\n",
       "    </tr>\n",
       "    <tr>\n",
       "      <th>10000000000</th>\n",
       "      <td>95_039_399_949</td>\n",
       "      <td>38_015_759_980</td>\n",
       "      <td>36_965_235_255</td>\n",
       "      <td>111_666_968</td>\n",
       "      <td>196_455</td>\n",
       "      <td>5_876</td>\n",
       "      <td>8</td>\n",
       "      <td>6</td>\n",
       "      <td>11_457</td>\n",
       "    </tr>\n",
       "  </tbody>\n",
       "</table>\n",
       "</div>"
      ],
      "text/plain": [
       "                 num_stars    num_planets  num_habitable_planets    num_life  \\\n",
       "year                                                                           \n",
       "9996000000  95_039_003_081 38_015_601_233         36_963_131_775 111_602_709   \n",
       "9997000000  95_039_102_301 38_015_640_921         36_963_658_010 111_618_774   \n",
       "9998000000  95_039_201_519 38_015_680_608         36_964_184_001 111_634_839   \n",
       "9999000000  95_039_300_735 38_015_720_294         36_964_709_749 111_650_903   \n",
       "10000000000 95_039_399_949 38_015_759_980         36_965_235_255 111_666_968   \n",
       "\n",
       "             num_complex_life  num_intelligent_life  num_cultural_life  N  \\\n",
       "year                                                                        \n",
       "9996000000            196_249                 5_867                  8  6   \n",
       "9997000000            196_301                 5_870                  8  6   \n",
       "9998000000            196_352                 5_872                  8  6   \n",
       "9999000000            196_404                 5_874                  8  6   \n",
       "10000000000           196_455                 5_876                  8  6   \n",
       "\n",
       "             N_extinct  \n",
       "year                    \n",
       "9996000000      11_435  \n",
       "9997000000      11_440  \n",
       "9998000000      11_446  \n",
       "9999000000      11_451  \n",
       "10000000000     11_457  "
      ]
     },
     "execution_count": 10,
     "metadata": {},
     "output_type": "execute_result"
    }
   ],
   "source": [
    "%%time\n",
    "history_of_life = TimeDependentDrake(params, output_year=10_000_000_000, P_tech_dominance=0.9)\n",
    "\n",
    "history_of_life.tail()"
   ]
  },
  {
   "cell_type": "code",
   "execution_count": 11,
   "metadata": {},
   "outputs": [
    {
     "data": {
      "image/png": "[encoded data removed]",
      "text/plain": [
       "<Figure size 864x432 with 1 Axes>"
      ]
     },
     "metadata": {},
     "output_type": "display_data"
    }
   ],
   "source": [
    "# plot of technological species over time\n",
    "\n",
    "plt.figure(figsize=(12, 6))\n",
    "plot = sns.lineplot(x=history_of_life.index/1_000_000_000, y=history_of_life.N);\n",
    "plt.yticks(rotation=0);\n",
    "plot.set_ylabel('Number of Technological Species');\n",
    "plot.set_xlabel('Billions of Years');"
   ]
  },
  {
   "cell_type": "markdown",
   "metadata": {},
   "source": [
    "# How to interpret these averages/expectations given 1M yr time steps\n",
    "\n",
    "These numbers are based on the active instances over 1M year time steps. This isn't significant for values with slower\n",
    "extinction values, but with N, these predictions are misleading. E.g., 100 technological species seems like\n",
    "a lot, but if that's over 1M years, and they each survive 1k yr, there is less than 1 on average at the same time.\n",
    "\n",
    "We need to convert these numbers into probabilities / histograms to gain insight into how likely we are to find life. "
   ]
  },
  {
   "cell_type": "code",
   "execution_count": 12,
   "metadata": {},
   "outputs": [
    {
     "data": {
      "text/plain": [
       "6"
      ]
     },
     "execution_count": 12,
     "metadata": {},
     "output_type": "execute_result"
    }
   ],
   "source": [
    "# number of technological lifeforms in 1M yr timestep at end of Drake calculation\n",
    "N_1M_yr = int(round(history_of_life.iloc[[-1]].N))\n",
    "N_1M_yr"
   ]
  },
  {
   "cell_type": "code",
   "execution_count": 14,
   "metadata": {},
   "outputs": [
    {
     "name": "stdout",
     "output_type": "stream",
     "text": [
      "Wall time: 4.99 ms\n"
     ]
    }
   ],
   "source": [
    "%%time\n",
    "\n",
    "active_each_year = breakdown_by_year(params, N_1M_yr)"
   ]
  },
  {
   "cell_type": "code",
   "execution_count": 15,
   "metadata": {},
   "outputs": [
    {
     "name": "stdout",
     "output_type": "stream",
     "text": [
      "0    92.09%\n",
      "1     6.91%\n",
      "2     1.00%\n",
      "dtype: object\n"
     ]
    }
   ],
   "source": [
    "percentage_table(active_each_year)"
   ]
  },
  {
   "cell_type": "code",
   "execution_count": 16,
   "metadata": {},
   "outputs": [
    {
     "data": {
      "image/png": "[encoded data removed]",
      "text/plain": [
       "<Figure size 1152x576 with 1 Axes>"
      ]
     },
     "metadata": {},
     "output_type": "display_data"
    }
   ],
   "source": [
    "plot_histogram(active_each_year, discrete=True)"
   ]
  },
  {
   "cell_type": "code",
   "execution_count": 17,
   "metadata": {},
   "outputs": [
    {
     "name": "stdout",
     "output_type": "stream",
     "text": [
      "Wall time: 432 ms\n"
     ]
    }
   ],
   "source": [
    "%%time\n",
    "# hypothetical large number of technological lifeforms active in 1M yr timestep\n",
    "\n",
    "# TESTING\n",
    "N_large = 1_000\n",
    "# histogram starts getting messy at 1k+, can't bin it easily because it's actually a barplot\n",
    "\n",
    "active_each_year_large = breakdown_by_year(params, N_large)"
   ]
  },
  {
   "cell_type": "code",
   "execution_count": 18,
   "metadata": {},
   "outputs": [
    {
     "data": {
      "image/png": "[encoded data removed]",
      "text/plain": [
       "<Figure size 1152x576 with 1 Axes>"
      ]
     },
     "metadata": {},
     "output_type": "display_data"
    }
   ],
   "source": [
    "plot_histogram(active_each_year_large)"
   ]
  },
  {
   "cell_type": "markdown",
   "metadata": {},
   "source": [
    "# implications of tech_dominance"
   ]
  },
  {
   "cell_type": "code",
   "execution_count": 19,
   "metadata": {},
   "outputs": [
    {
     "name": "stdout",
     "output_type": "stream",
     "text": [
      "Wall time: 16 s\n"
     ]
    },
    {
     "data": {
      "text/html": [
       "<div>\n",
       "<style scoped>\n",
       "    .dataframe tbody tr th:only-of-type {\n",
       "        vertical-align: middle;\n",
       "    }\n",
       "\n",
       "    .dataframe tbody tr th {\n",
       "        vertical-align: top;\n",
       "    }\n",
       "\n",
       "    .dataframe thead th {\n",
       "        text-align: right;\n",
       "    }\n",
       "</style>\n",
       "<table border=\"1\" class=\"dataframe\">\n",
       "  <thead>\n",
       "    <tr style=\"text-align: right;\">\n",
       "      <th></th>\n",
       "      <th>num_stars</th>\n",
       "      <th>num_planets</th>\n",
       "      <th>num_habitable_planets</th>\n",
       "      <th>num_life</th>\n",
       "      <th>num_complex_life</th>\n",
       "      <th>num_intelligent_life</th>\n",
       "      <th>num_cultural_life</th>\n",
       "      <th>N</th>\n",
       "      <th>N_extinct</th>\n",
       "    </tr>\n",
       "    <tr>\n",
       "      <th>year</th>\n",
       "      <th></th>\n",
       "      <th></th>\n",
       "      <th></th>\n",
       "      <th></th>\n",
       "      <th></th>\n",
       "      <th></th>\n",
       "      <th></th>\n",
       "      <th></th>\n",
       "      <th></th>\n",
       "    </tr>\n",
       "  </thead>\n",
       "  <tbody>\n",
       "    <tr>\n",
       "      <th>9996000000</th>\n",
       "      <td>95_039_003_081</td>\n",
       "      <td>38_015_601_233</td>\n",
       "      <td>36_963_131_775</td>\n",
       "      <td>111_602_709</td>\n",
       "      <td>196_249</td>\n",
       "      <td>5_867</td>\n",
       "      <td>7</td>\n",
       "      <td>5</td>\n",
       "      <td>10_604</td>\n",
       "    </tr>\n",
       "    <tr>\n",
       "      <th>9997000000</th>\n",
       "      <td>95_039_102_301</td>\n",
       "      <td>38_015_640_921</td>\n",
       "      <td>36_963_658_010</td>\n",
       "      <td>111_618_774</td>\n",
       "      <td>196_301</td>\n",
       "      <td>5_870</td>\n",
       "      <td>7</td>\n",
       "      <td>5</td>\n",
       "      <td>10_609</td>\n",
       "    </tr>\n",
       "    <tr>\n",
       "      <th>9998000000</th>\n",
       "      <td>95_039_201_519</td>\n",
       "      <td>38_015_680_608</td>\n",
       "      <td>36_964_184_001</td>\n",
       "      <td>111_634_839</td>\n",
       "      <td>196_352</td>\n",
       "      <td>5_872</td>\n",
       "      <td>7</td>\n",
       "      <td>5</td>\n",
       "      <td>10_614</td>\n",
       "    </tr>\n",
       "    <tr>\n",
       "      <th>9999000000</th>\n",
       "      <td>95_039_300_735</td>\n",
       "      <td>38_015_720_294</td>\n",
       "      <td>36_964_709_749</td>\n",
       "      <td>111_650_903</td>\n",
       "      <td>196_404</td>\n",
       "      <td>5_874</td>\n",
       "      <td>7</td>\n",
       "      <td>5</td>\n",
       "      <td>10_619</td>\n",
       "    </tr>\n",
       "    <tr>\n",
       "      <th>10000000000</th>\n",
       "      <td>95_039_399_949</td>\n",
       "      <td>38_015_759_980</td>\n",
       "      <td>36_965_235_255</td>\n",
       "      <td>111_666_968</td>\n",
       "      <td>196_455</td>\n",
       "      <td>5_876</td>\n",
       "      <td>7</td>\n",
       "      <td>5</td>\n",
       "      <td>10_624</td>\n",
       "    </tr>\n",
       "  </tbody>\n",
       "</table>\n",
       "</div>"
      ],
      "text/plain": [
       "                 num_stars    num_planets  num_habitable_planets    num_life  \\\n",
       "year                                                                           \n",
       "9996000000  95_039_003_081 38_015_601_233         36_963_131_775 111_602_709   \n",
       "9997000000  95_039_102_301 38_015_640_921         36_963_658_010 111_618_774   \n",
       "9998000000  95_039_201_519 38_015_680_608         36_964_184_001 111_634_839   \n",
       "9999000000  95_039_300_735 38_015_720_294         36_964_709_749 111_650_903   \n",
       "10000000000 95_039_399_949 38_015_759_980         36_965_235_255 111_666_968   \n",
       "\n",
       "             num_complex_life  num_intelligent_life  num_cultural_life  N  \\\n",
       "year                                                                        \n",
       "9996000000            196_249                 5_867                  7  5   \n",
       "9997000000            196_301                 5_870                  7  5   \n",
       "9998000000            196_352                 5_872                  7  5   \n",
       "9999000000            196_404                 5_874                  7  5   \n",
       "10000000000           196_455                 5_876                  7  5   \n",
       "\n",
       "             N_extinct  \n",
       "year                    \n",
       "9996000000      10_604  \n",
       "9997000000      10_609  \n",
       "9998000000      10_614  \n",
       "9999000000      10_619  \n",
       "10000000000     10_624  "
      ]
     },
     "execution_count": 19,
     "metadata": {},
     "output_type": "execute_result"
    }
   ],
   "source": [
    "%%time\n",
    "tech_dominance_1 = TimeDependentDrake(params, output_year=10_000_000_000, P_tech_dominance=1)\n",
    "\n",
    "tech_dominance_1.tail()"
   ]
  },
  {
   "cell_type": "code",
   "execution_count": 20,
   "metadata": {},
   "outputs": [
    {
     "data": {
      "image/png": "[encoded data removed]",
      "text/plain": [
       "<Figure size 864x432 with 1 Axes>"
      ]
     },
     "metadata": {},
     "output_type": "display_data"
    }
   ],
   "source": [
    "plt.figure(figsize=(12, 6))\n",
    "plot = sns.lineplot(x=tech_dominance_1.index/1_000_000_000, y=tech_dominance_1.N);\n",
    "plt.yticks(rotation=0);\n",
    "plot.set_ylabel('Number of Technological Species');\n",
    "plot.set_xlabel('Billions of Years');"
   ]
  },
  {
   "cell_type": "code",
   "execution_count": 21,
   "metadata": {},
   "outputs": [
    {
     "name": "stdout",
     "output_type": "stream",
     "text": [
      "Wall time: 15.9 s\n"
     ]
    },
    {
     "data": {
      "text/html": [
       "<div>\n",
       "<style scoped>\n",
       "    .dataframe tbody tr th:only-of-type {\n",
       "        vertical-align: middle;\n",
       "    }\n",
       "\n",
       "    .dataframe tbody tr th {\n",
       "        vertical-align: top;\n",
       "    }\n",
       "\n",
       "    .dataframe thead th {\n",
       "        text-align: right;\n",
       "    }\n",
       "</style>\n",
       "<table border=\"1\" class=\"dataframe\">\n",
       "  <thead>\n",
       "    <tr style=\"text-align: right;\">\n",
       "      <th></th>\n",
       "      <th>num_stars</th>\n",
       "      <th>num_planets</th>\n",
       "      <th>num_habitable_planets</th>\n",
       "      <th>num_life</th>\n",
       "      <th>num_complex_life</th>\n",
       "      <th>num_intelligent_life</th>\n",
       "      <th>num_cultural_life</th>\n",
       "      <th>N</th>\n",
       "      <th>N_extinct</th>\n",
       "    </tr>\n",
       "    <tr>\n",
       "      <th>year</th>\n",
       "      <th></th>\n",
       "      <th></th>\n",
       "      <th></th>\n",
       "      <th></th>\n",
       "      <th></th>\n",
       "      <th></th>\n",
       "      <th></th>\n",
       "      <th></th>\n",
       "      <th></th>\n",
       "    </tr>\n",
       "  </thead>\n",
       "  <tbody>\n",
       "    <tr>\n",
       "      <th>9996000000</th>\n",
       "      <td>95_039_003_081</td>\n",
       "      <td>38_015_601_233</td>\n",
       "      <td>36_963_131_775</td>\n",
       "      <td>111_602_709</td>\n",
       "      <td>196_249</td>\n",
       "      <td>5_867</td>\n",
       "      <td>27</td>\n",
       "      <td>19</td>\n",
       "      <td>38_786</td>\n",
       "    </tr>\n",
       "    <tr>\n",
       "      <th>9997000000</th>\n",
       "      <td>95_039_102_301</td>\n",
       "      <td>38_015_640_921</td>\n",
       "      <td>36_963_658_010</td>\n",
       "      <td>111_618_774</td>\n",
       "      <td>196_301</td>\n",
       "      <td>5_870</td>\n",
       "      <td>27</td>\n",
       "      <td>19</td>\n",
       "      <td>38_805</td>\n",
       "    </tr>\n",
       "    <tr>\n",
       "      <th>9998000000</th>\n",
       "      <td>95_039_201_519</td>\n",
       "      <td>38_015_680_608</td>\n",
       "      <td>36_964_184_001</td>\n",
       "      <td>111_634_839</td>\n",
       "      <td>196_352</td>\n",
       "      <td>5_872</td>\n",
       "      <td>27</td>\n",
       "      <td>19</td>\n",
       "      <td>38_823</td>\n",
       "    </tr>\n",
       "    <tr>\n",
       "      <th>9999000000</th>\n",
       "      <td>95_039_300_735</td>\n",
       "      <td>38_015_720_294</td>\n",
       "      <td>36_964_709_749</td>\n",
       "      <td>111_650_903</td>\n",
       "      <td>196_404</td>\n",
       "      <td>5_874</td>\n",
       "      <td>27</td>\n",
       "      <td>19</td>\n",
       "      <td>38_842</td>\n",
       "    </tr>\n",
       "    <tr>\n",
       "      <th>10000000000</th>\n",
       "      <td>95_039_399_949</td>\n",
       "      <td>38_015_759_980</td>\n",
       "      <td>36_965_235_255</td>\n",
       "      <td>111_666_968</td>\n",
       "      <td>196_455</td>\n",
       "      <td>5_876</td>\n",
       "      <td>27</td>\n",
       "      <td>19</td>\n",
       "      <td>38_861</td>\n",
       "    </tr>\n",
       "  </tbody>\n",
       "</table>\n",
       "</div>"
      ],
      "text/plain": [
       "                 num_stars    num_planets  num_habitable_planets    num_life  \\\n",
       "year                                                                           \n",
       "9996000000  95_039_003_081 38_015_601_233         36_963_131_775 111_602_709   \n",
       "9997000000  95_039_102_301 38_015_640_921         36_963_658_010 111_618_774   \n",
       "9998000000  95_039_201_519 38_015_680_608         36_964_184_001 111_634_839   \n",
       "9999000000  95_039_300_735 38_015_720_294         36_964_709_749 111_650_903   \n",
       "10000000000 95_039_399_949 38_015_759_980         36_965_235_255 111_666_968   \n",
       "\n",
       "             num_complex_life  num_intelligent_life  num_cultural_life  N  \\\n",
       "year                                                                        \n",
       "9996000000            196_249                 5_867                 27 19   \n",
       "9997000000            196_301                 5_870                 27 19   \n",
       "9998000000            196_352                 5_872                 27 19   \n",
       "9999000000            196_404                 5_874                 27 19   \n",
       "10000000000           196_455                 5_876                 27 19   \n",
       "\n",
       "             N_extinct  \n",
       "year                    \n",
       "9996000000      38_786  \n",
       "9997000000      38_805  \n",
       "9998000000      38_823  \n",
       "9999000000      38_842  \n",
       "10000000000     38_861  "
      ]
     },
     "execution_count": 21,
     "metadata": {},
     "output_type": "execute_result"
    }
   ],
   "source": [
    "%%time\n",
    "tech_dominance_0 = TimeDependentDrake(params, output_year=10_000_000_000, P_tech_dominance=0)\n",
    "\n",
    "tech_dominance_0.tail()"
   ]
  },
  {
   "cell_type": "code",
   "execution_count": 22,
   "metadata": {},
   "outputs": [
    {
     "data": {
      "image/png": "[encoded data removed]",
      "text/plain": [
       "<Figure size 864x432 with 1 Axes>"
      ]
     },
     "metadata": {},
     "output_type": "display_data"
    }
   ],
   "source": [
    "plt.figure(figsize=(12, 6))\n",
    "plot = sns.lineplot(x=tech_dominance_0.index/1_000_000_000, y=tech_dominance_0.N);\n",
    "plt.yticks(rotation=0);\n",
    "plot.set_ylabel('Number of Technological Species');\n",
    "plot.set_xlabel('Billions of Years');"
   ]
  },
  {
   "cell_type": "markdown",
   "metadata": {},
   "source": [
    "# steady state values\n",
    "    what are steady state values?\n",
    "    when will we reach approx steady state?\n",
    "    can we match the time-invariant Drake Equation?"
   ]
  },
  {
   "cell_type": "code",
   "execution_count": 25,
   "metadata": {},
   "outputs": [
    {
     "name": "stdout",
     "output_type": "stream",
     "text": [
      "Wall time: 25.1 s\n"
     ]
    },
    {
     "data": {
      "text/html": [
       "<div>\n",
       "<style scoped>\n",
       "    .dataframe tbody tr th:only-of-type {\n",
       "        vertical-align: middle;\n",
       "    }\n",
       "\n",
       "    .dataframe tbody tr th {\n",
       "        vertical-align: top;\n",
       "    }\n",
       "\n",
       "    .dataframe thead th {\n",
       "        text-align: right;\n",
       "    }\n",
       "</style>\n",
       "<table border=\"1\" class=\"dataframe\">\n",
       "  <thead>\n",
       "    <tr style=\"text-align: right;\">\n",
       "      <th></th>\n",
       "      <th>num_stars</th>\n",
       "      <th>num_planets</th>\n",
       "      <th>num_habitable_planets</th>\n",
       "      <th>num_life</th>\n",
       "      <th>num_complex_life</th>\n",
       "      <th>num_intelligent_life</th>\n",
       "      <th>num_cultural_life</th>\n",
       "      <th>N</th>\n",
       "      <th>N_extinct</th>\n",
       "    </tr>\n",
       "    <tr>\n",
       "      <th>year</th>\n",
       "      <th></th>\n",
       "      <th></th>\n",
       "      <th></th>\n",
       "      <th></th>\n",
       "      <th></th>\n",
       "      <th></th>\n",
       "      <th></th>\n",
       "      <th></th>\n",
       "      <th></th>\n",
       "    </tr>\n",
       "  </thead>\n",
       "  <tbody>\n",
       "    <tr>\n",
       "      <th>0</th>\n",
       "      <td>100_000_000_000</td>\n",
       "      <td>40_000_000_000</td>\n",
       "      <td>40_000_000_000</td>\n",
       "      <td>974_975_916</td>\n",
       "      <td>23_619_997</td>\n",
       "      <td>6_551_317</td>\n",
       "      <td>8_796</td>\n",
       "      <td>6_262</td>\n",
       "      <td>0</td>\n",
       "    </tr>\n",
       "    <tr>\n",
       "      <th>10000000000</th>\n",
       "      <td>100_000_000_000</td>\n",
       "      <td>40_000_000_000</td>\n",
       "      <td>40_000_000_000</td>\n",
       "      <td>974_975_916</td>\n",
       "      <td>23_619_997</td>\n",
       "      <td>6_551_317</td>\n",
       "      <td>8_796</td>\n",
       "      <td>6_262</td>\n",
       "      <td>62_097_461</td>\n",
       "    </tr>\n",
       "    <tr>\n",
       "      <th>20000000000</th>\n",
       "      <td>100_000_000_000</td>\n",
       "      <td>40_000_000_000</td>\n",
       "      <td>40_000_000_000</td>\n",
       "      <td>974_975_916</td>\n",
       "      <td>23_619_997</td>\n",
       "      <td>6_551_317</td>\n",
       "      <td>8_796</td>\n",
       "      <td>6_262</td>\n",
       "      <td>124_194_924</td>\n",
       "    </tr>\n",
       "  </tbody>\n",
       "</table>\n",
       "</div>"
      ],
      "text/plain": [
       "                  num_stars    num_planets  num_habitable_planets    num_life  \\\n",
       "year                                                                            \n",
       "0           100_000_000_000 40_000_000_000         40_000_000_000 974_975_916   \n",
       "10000000000 100_000_000_000 40_000_000_000         40_000_000_000 974_975_916   \n",
       "20000000000 100_000_000_000 40_000_000_000         40_000_000_000 974_975_916   \n",
       "\n",
       "             num_complex_life  num_intelligent_life  num_cultural_life     N  \\\n",
       "year                                                                           \n",
       "0                  23_619_997             6_551_317              8_796 6_262   \n",
       "10000000000        23_619_997             6_551_317              8_796 6_262   \n",
       "20000000000        23_619_997             6_551_317              8_796 6_262   \n",
       "\n",
       "              N_extinct  \n",
       "year                     \n",
       "0                     0  \n",
       "10000000000  62_097_461  \n",
       "20000000000 124_194_924  "
      ]
     },
     "execution_count": 25,
     "metadata": {},
     "output_type": "execute_result"
    }
   ],
   "source": [
    "%%time\n",
    "# couldn't think of an algorithm that wouldn't take forever, so I brute-forced and grit\n",
    "# should come up with an automated way to check different settings\n",
    "P_tech_dominance = 0.9\n",
    "\n",
    "index = 'year'\n",
    "columns = ['year', 'num_stars', 'num_planets', 'num_habitable_planets', 'num_life', \n",
    "       'num_complex_life', 'num_intelligent_life', 'num_cultural_life', 'N', 'N_extinct']\n",
    "\n",
    "steady_state = pd.DataFrame(\n",
    "    [[0, 100_000_000_000, 40_000_000_000, 40_000_000_000, 974_975_916, 23_619_997, 6_551_317, 8_796, 6_262, 0]], \n",
    "    columns = columns,\n",
    "    index=[0]\n",
    ").set_index(index)\n",
    "\n",
    "for i in range(2):\n",
    "    temp_df = TimeDependentDrake(params, 10_000_000_000*(i+1), P_tech_dominance, df_input=steady_state)\n",
    "    steady_state = steady_state.append(temp_df.iloc[[-1]])\n",
    "    \n",
    "# print(steady_state.iloc[-1]-steady_state.iloc[0])\n",
    "# print()\n",
    "steady_state.tail()"
   ]
  },
  {
   "cell_type": "code",
   "execution_count": 27,
   "metadata": {},
   "outputs": [
    {
     "data": {
      "image/png": "[encoded data removed]",
      "text/plain": [
       "<Figure size 1152x576 with 1 Axes>"
      ]
     },
     "metadata": {},
     "output_type": "display_data"
    }
   ],
   "source": [
    "plot_histogram(breakdown_by_year(params, 6_262), binwidth=5)"
   ]
  },
  {
   "cell_type": "code",
   "execution_count": 28,
   "metadata": {},
   "outputs": [
    {
     "data": {
      "text/plain": [
       "3843.3"
      ]
     },
     "execution_count": 28,
     "metadata": {},
     "output_type": "execute_result"
    }
   ],
   "source": [
    "how_far(params, 400)"
   ]
  },
  {
   "cell_type": "markdown",
   "metadata": {},
   "source": [
    "### Are these calculations equivalent to the orignial Drake Equation?"
   ]
  },
  {
   "cell_type": "code",
   "execution_count": 30,
   "metadata": {},
   "outputs": [
    {
     "data": {
      "text/plain": [
       "400"
      ]
     },
     "execution_count": 30,
     "metadata": {},
     "output_type": "execute_result"
    }
   ],
   "source": [
    "match_simulation = params.copy()\n",
    "match_simulation['L'] = 5_000\n",
    "Drake(match_simulation)\n",
    "# this is within the range of estimates used in the prob_L() function, and 1k < L < 1M from current guesses"
   ]
  },
  {
   "cell_type": "code",
   "execution_count": 32,
   "metadata": {},
   "outputs": [
    {
     "data": {
      "text/plain": [
       "66467"
      ]
     },
     "execution_count": 32,
     "metadata": {},
     "output_type": "execute_result"
    }
   ],
   "source": [
    "int(weibull_mean(params))"
   ]
  },
  {
   "cell_type": "code",
   "execution_count": 33,
   "metadata": {},
   "outputs": [
    {
     "data": {
      "text/plain": [
       "8000"
      ]
     },
     "execution_count": 33,
     "metadata": {},
     "output_type": "execute_result"
    }
   ],
   "source": [
    "int(weibull_median(params))  # not exactly 5000"
   ]
  },
  {
   "cell_type": "markdown",
   "metadata": {},
   "source": [
    "Statistics Notes"
   ]
  },
  {
   "cell_type": "markdown",
   "metadata": {},
   "source": [
    "mode is 0, because k < 0"
   ]
  },
  {
   "cell_type": "markdown",
   "metadata": {},
   "source": [
    "Results not the same for the same L, but could be equivalent\n",
    "    \n",
    "    our mean > mode > original L\n",
    "        there are a very large number of short-lived species\n",
    "    let's check with a quick simulation\n",
    "    we could also rerun using L constant or poisson to see if it gives the same results\n",
    "    we have more forms of extinction (simple, complex, intelligent, etc)\n",
    "        this slows down life formation, could account for the discrepancy"
   ]
  },
  {
   "cell_type": "code",
   "execution_count": 34,
   "metadata": {},
   "outputs": [
    {
     "data": {
      "image/png": "[encoded data removed]",
      "text/plain": [
       "<Figure size 864x432 with 1 Axes>"
      ]
     },
     "metadata": {},
     "output_type": "display_data"
    }
   ],
   "source": [
    "# simulation of prob_L\n",
    "\n",
    "temp_list = []\n",
    "temp_steps = 1_000\n",
    "\n",
    "for i in range(1_000):\n",
    "    temp_list.append([temp_steps * i, 1 - prob_L(params, temp_steps * i)])\n",
    "\n",
    "df = pd.DataFrame(temp_list, columns=['Years', 'Prob_Survival'])\n",
    "\n",
    "plt.figure(figsize=(12, 6))\n",
    "plot = sns.lineplot(x=df['Years'], y=df['Prob_Survival']);\n",
    "# plot.set(xscale='log');\n",
    "plot.set_ylabel('Probability of Survival');\n",
    "plt.ticklabel_format(style='plain', axis='x')\n",
    "# plot.set_xlabel('Years');"
   ]
  },
  {
   "cell_type": "code",
   "execution_count": 35,
   "metadata": {},
   "outputs": [
    {
     "data": {
      "image/png": "[encoded data removed]",
      "text/plain": [
       "<Figure size 864x432 with 1 Axes>"
      ]
     },
     "metadata": {},
     "output_type": "display_data"
    }
   ],
   "source": [
    "# simulation of prob_L\n",
    "\n",
    "temp_list = []\n",
    "temp_steps = 10\n",
    "\n",
    "for i in range(1_000):\n",
    "    temp_list.append([temp_steps * i, 1 - prob_L(params, temp_steps * i)])\n",
    "\n",
    "df = pd.DataFrame(temp_list, columns=['Years', 'Prob_Survival'])\n",
    "\n",
    "plt.figure(figsize=(12, 6))\n",
    "plot = sns.lineplot(x=df['Years'], y=df['Prob_Survival']);\n",
    "# plot.set(xscale='log');\n",
    "plot.set_ylabel('Probability of Survival');\n",
    "plt.ticklabel_format(style='plain', axis='x')\n",
    "# plot.set_xlabel('Years');"
   ]
  },
  {
   "cell_type": "code",
   "execution_count": 37,
   "metadata": {},
   "outputs": [
    {
     "data": {
      "text/html": [
       "<div>\n",
       "<style scoped>\n",
       "    .dataframe tbody tr th:only-of-type {\n",
       "        vertical-align: middle;\n",
       "    }\n",
       "\n",
       "    .dataframe tbody tr th {\n",
       "        vertical-align: top;\n",
       "    }\n",
       "\n",
       "    .dataframe thead th {\n",
       "        text-align: right;\n",
       "    }\n",
       "</style>\n",
       "<table border=\"1\" class=\"dataframe\">\n",
       "  <thead>\n",
       "    <tr style=\"text-align: right;\">\n",
       "      <th></th>\n",
       "      <th>Years</th>\n",
       "      <th>Prob_Survival</th>\n",
       "    </tr>\n",
       "  </thead>\n",
       "  <tbody>\n",
       "    <tr>\n",
       "      <th>0</th>\n",
       "      <td>0</td>\n",
       "      <td>1.00</td>\n",
       "    </tr>\n",
       "    <tr>\n",
       "      <th>1</th>\n",
       "      <td>10</td>\n",
       "      <td>0.95</td>\n",
       "    </tr>\n",
       "    <tr>\n",
       "      <th>2</th>\n",
       "      <td>20</td>\n",
       "      <td>0.94</td>\n",
       "    </tr>\n",
       "    <tr>\n",
       "      <th>3</th>\n",
       "      <td>30</td>\n",
       "      <td>0.93</td>\n",
       "    </tr>\n",
       "    <tr>\n",
       "      <th>4</th>\n",
       "      <td>40</td>\n",
       "      <td>0.92</td>\n",
       "    </tr>\n",
       "    <tr>\n",
       "      <th>5</th>\n",
       "      <td>50</td>\n",
       "      <td>0.91</td>\n",
       "    </tr>\n",
       "    <tr>\n",
       "      <th>6</th>\n",
       "      <td>60</td>\n",
       "      <td>0.91</td>\n",
       "    </tr>\n",
       "    <tr>\n",
       "      <th>7</th>\n",
       "      <td>70</td>\n",
       "      <td>0.90</td>\n",
       "    </tr>\n",
       "    <tr>\n",
       "      <th>8</th>\n",
       "      <td>80</td>\n",
       "      <td>0.90</td>\n",
       "    </tr>\n",
       "    <tr>\n",
       "      <th>9</th>\n",
       "      <td>90</td>\n",
       "      <td>0.89</td>\n",
       "    </tr>\n",
       "  </tbody>\n",
       "</table>\n",
       "</div>"
      ],
      "text/plain": [
       "   Years  Prob_Survival\n",
       "0      0           1.00\n",
       "1     10           0.95\n",
       "2     20           0.94\n",
       "3     30           0.93\n",
       "4     40           0.92\n",
       "5     50           0.91\n",
       "6     60           0.91\n",
       "7     70           0.90\n",
       "8     80           0.90\n",
       "9     90           0.89"
      ]
     },
     "execution_count": 37,
     "metadata": {},
     "output_type": "execute_result"
    }
   ],
   "source": [
    "pd.set_option('display.float_format', '{:_.2f}'.format)\n",
    "df.head(10)\n",
    "# 10% of species are extinct at 70 years"
   ]
  },
  {
   "cell_type": "code",
   "execution_count": 38,
   "metadata": {},
   "outputs": [],
   "source": [
    "# reset pandas format\n",
    "pd.set_option('display.float_format', '{:_.0f}'.format)"
   ]
  },
  {
   "cell_type": "markdown",
   "metadata": {},
   "source": [
    "# distance to closest species\n",
    "#TODO: could make a formula to calculate the odds that there is x within y"
   ]
  },
  {
   "cell_type": "code",
   "execution_count": 40,
   "metadata": {},
   "outputs": [
    {
     "data": {
      "text/plain": [
       "33685.9"
      ]
     },
     "execution_count": 40,
     "metadata": {},
     "output_type": "execute_result"
    }
   ],
   "source": [
    "# closest living technological life\n",
    "# most likely we're alone in the galaxy, but there could be 1 or 2, so\n",
    "how_far(params, 1)"
   ]
  },
  {
   "cell_type": "code",
   "execution_count": 41,
   "metadata": {},
   "outputs": [
    {
     "data": {
      "text/plain": [
       "26204.9"
      ]
     },
     "execution_count": 41,
     "metadata": {},
     "output_type": "execute_result"
    }
   ],
   "source": [
    "# likely max 2 other species\n",
    "how_far(params, 2)"
   ]
  },
  {
   "cell_type": "code",
   "execution_count": 42,
   "metadata": {},
   "outputs": [
    {
     "data": {
      "text/plain": [
       "3843.3"
      ]
     },
     "execution_count": 42,
     "metadata": {},
     "output_type": "execute_result"
    }
   ],
   "source": [
    "# steady state solution ~400 tech species\n",
    "how_far(params, 400)"
   ]
  },
  {
   "cell_type": "code",
   "execution_count": null,
   "metadata": {},
   "outputs": [],
   "source": []
  },
  {
   "cell_type": "markdown",
   "metadata": {},
   "source": [
    "##### Control Problem?"
   ]
  },
  {
   "cell_type": "code",
   "execution_count": 43,
   "metadata": {},
   "outputs": [
    {
     "data": {
      "text/plain": [
       "(1197.4, 724.6)"
      ]
     },
     "execution_count": 43,
     "metadata": {},
     "output_type": "execute_result"
    }
   ],
   "source": [
    "# closest extinct technological species\n",
    "# current year, with P_tech_dominance 0 or 1\n",
    "how_far(params, 10_000), how_far(params, 40_000)"
   ]
  },
  {
   "cell_type": "code",
   "execution_count": 44,
   "metadata": {},
   "outputs": [
    {
     "data": {
      "text/plain": [
       "2500046"
      ]
     },
     "execution_count": 44,
     "metadata": {},
     "output_type": "execute_result"
    }
   ],
   "source": [
    "# how many stars within 700 lyr?\n",
    "stars_within(724.6)\n",
    "# we'd probably notice 2.5M stars being converted into paperclips\n",
    "# we should at least be able to detect a runaway AI"
   ]
  },
  {
   "cell_type": "code",
   "execution_count": 45,
   "metadata": {},
   "outputs": [
    {
     "data": {
      "text/html": [
       "<div>\n",
       "<style scoped>\n",
       "    .dataframe tbody tr th:only-of-type {\n",
       "        vertical-align: middle;\n",
       "    }\n",
       "\n",
       "    .dataframe tbody tr th {\n",
       "        vertical-align: top;\n",
       "    }\n",
       "\n",
       "    .dataframe thead th {\n",
       "        text-align: right;\n",
       "    }\n",
       "</style>\n",
       "<table border=\"1\" class=\"dataframe\">\n",
       "  <thead>\n",
       "    <tr style=\"text-align: right;\">\n",
       "      <th></th>\n",
       "      <th>Years Until Invasion - High</th>\n",
       "      <th>Years Until Invasion - Low</th>\n",
       "    </tr>\n",
       "  </thead>\n",
       "  <tbody>\n",
       "    <tr>\n",
       "      <th>0</th>\n",
       "      <td>61_354_000</td>\n",
       "      <td>266_400</td>\n",
       "    </tr>\n",
       "  </tbody>\n",
       "</table>\n",
       "</div>"
      ],
      "text/plain": [
       "   Years Until Invasion - High  Years Until Invasion - Low\n",
       "0                   61_354_000                     266_400"
      ]
     },
     "execution_count": 45,
     "metadata": {},
     "output_type": "execute_result"
    }
   ],
   "source": [
    "ai_propagation_speed_low = 0.0001  # percentage of the speed of light that superintelligent AI can travel\n",
    "ai_propagation_speed_high = 0.01  # percentage of the speed of light that superintelligent AI can travel\n",
    "chance_of_control_problem_low = 0.01  # proportion of extinctions due to runaway paperclip optimiser\n",
    "chance_of_control_problem_high = 0.1  # proportion of extinctions due to runaway stamp collector\n",
    "\n",
    "# years for rogue AI to travel here\n",
    "pd.DataFrame(\n",
    "    [[how_far(params, 11_000 * chance_of_control_problem_low) / ai_propagation_speed_low, \n",
    "      how_far(params, 11_000 * chance_of_control_problem_high) / ai_propagation_speed_high\n",
    "    ]], columns=['Years Until Invasion - High', 'Years Until Invasion - Low']\n",
    ")"
   ]
  },
  {
   "cell_type": "code",
   "execution_count": 46,
   "metadata": {},
   "outputs": [
    {
     "data": {
      "image/png": "[encoded data removed]",
      "text/plain": [
       "<Figure size 864x432 with 1 Axes>"
      ]
     },
     "metadata": {},
     "output_type": "display_data"
    }
   ],
   "source": [
    "# plot of extinct technological species over time\n",
    "\n",
    "plt.figure(figsize=(12, 6))\n",
    "plot = sns.lineplot(x=history_of_life.index/1_000_000, y=history_of_life.N_extinct);\n",
    "\n",
    "plot.set(xlim=(9_900, 10_000),ylim=(10_800, 11_500));\n",
    "plt.yticks(rotation=0);\n",
    "plot.set_ylabel('Number of Extinct Technological Species');\n",
    "plot.set_xlabel('Millions of Years');"
   ]
  },
  {
   "cell_type": "code",
   "execution_count": null,
   "metadata": {},
   "outputs": [],
   "source": [
    "# kind of seems like we should have been converted into paperclips by now...\n",
    "# i feel like we'll notice before 10k lyr**2 of stars were converted to paperclips, but you never know"
   ]
  },
  {
   "cell_type": "code",
   "execution_count": 47,
   "metadata": {},
   "outputs": [
    {
     "data": {
      "text/plain": [
       "(6135.4, 2664.0)"
      ]
     },
     "execution_count": 47,
     "metadata": {},
     "output_type": "execute_result"
    }
   ],
   "source": [
    "# how close are the closest paperclip monsters\n",
    "how_far(params, 11_000 * chance_of_control_problem_low), how_far(params, 11_000 * chance_of_control_problem_high)"
   ]
  },
  {
   "cell_type": "code",
   "execution_count": 48,
   "metadata": {},
   "outputs": [
    {
     "data": {
      "text/plain": [
       "90909168"
      ]
     },
     "execution_count": 48,
     "metadata": {},
     "output_type": "execute_result"
    }
   ],
   "source": [
    "# how many stars within 2664 lyr?\n",
    "stars_within(2664.0)\n",
    "# we'd very likely notice 90M stars being converted into stamps"
   ]
  },
  {
   "cell_type": "markdown",
   "metadata": {},
   "source": [
    "**we should have plenty of notice**\n",
    "\n",
    "    unless we mistake rogue AI for very common astrophysical phemomena "
   ]
  },
  {
   "cell_type": "code",
   "execution_count": null,
   "metadata": {},
   "outputs": [],
   "source": []
  },
  {
   "cell_type": "code",
   "execution_count": null,
   "metadata": {},
   "outputs": [],
   "source": []
  },
  {
   "cell_type": "code",
   "execution_count": null,
   "metadata": {},
   "outputs": [],
   "source": []
  },
  {
   "cell_type": "markdown",
   "metadata": {},
   "source": [
    "# LONGER CALCULATIONS"
   ]
  },
  {
   "cell_type": "markdown",
   "metadata": {},
   "source": [
    "# implications of longer time values (eg, 1T yr, steady state, etc)"
   ]
  },
  {
   "cell_type": "code",
   "execution_count": null,
   "metadata": {},
   "outputs": [],
   "source": [
    "%%time\n",
    "#TODO: haven't tested this as a function yet...\n",
    "#TODO: write a loop to save csv in 10B yr increments\n",
    "# combine csv\n",
    "    # eg, history_of_life.to_csv('history_of_life_1T_yr.csv')  # or nested path\n",
    "# plot it\n",
    "\n",
    "epoch_steps = 1_000_000_000\n",
    "final_year = 100_000_000_000\n",
    "P_tech_dominance = 0.9\n",
    "\n",
    "future_of_life = long_time(params, epoch_steps, final_year, P_tech_dominance = 0.9)\n",
    "\n",
    "# for 10B yr: 12s \n",
    "# for 100B yr: 124s\n",
    "# for 1T yr: estimate 1240s = 21min\n",
    "future_of_life.tail()"
   ]
  },
  {
   "cell_type": "code",
   "execution_count": null,
   "metadata": {},
   "outputs": [],
   "source": []
  },
  {
   "cell_type": "markdown",
   "metadata": {},
   "source": [
    "# Monte Carlo Simulation"
   ]
  },
  {
   "cell_type": "code",
   "execution_count": null,
   "metadata": {},
   "outputs": [],
   "source": [
    "#TODO: redo this section with more flexibility, saving into folders, csv functions"
   ]
  },
  {
   "cell_type": "code",
   "execution_count": null,
   "metadata": {},
   "outputs": [],
   "source": []
  },
  {
   "cell_type": "code",
   "execution_count": null,
   "metadata": {},
   "outputs": [],
   "source": []
  },
  {
   "cell_type": "code",
   "execution_count": null,
   "metadata": {},
   "outputs": [],
   "source": []
  },
  {
   "cell_type": "code",
   "execution_count": null,
   "metadata": {},
   "outputs": [],
   "source": []
  },
  {
   "cell_type": "code",
   "execution_count": null,
   "metadata": {},
   "outputs": [],
   "source": [
    "# test randomisation\n",
    "randomise_constants(drake_range, timeframes_range)\n",
    "df1 = pd.DataFrame([RS, FP, NE, FL, FI, FC, L, YEARS_PLANETS_TO_HABITABLE, YEARS_HABITABLE_TO_LIFE, YEARS_LIFE_TO_COMPLEX_LIFE, YEARS_COMPLEX_TO_INTELLIGENCE, YEARS_INTELLIGENCE_TO_CULTURE, YEARS_CULTURE_TO_TECH, EXTINCTION_SIMPLE, EXTINCTION_COMPLEX, EXTINCTION_INTELLIGENT, EXTINCTION_CULTURAL, WEIBULL_SHAPE_PARAMETER, WEIBULL_SCALE_PARAMETER])\n",
    "reset_default_constants(drake_best, timeframes_best)\n",
    "df2 = pd.DataFrame([RS, FP, NE, FL, FI, FC, L, YEARS_PLANETS_TO_HABITABLE, YEARS_HABITABLE_TO_LIFE, YEARS_LIFE_TO_COMPLEX_LIFE, YEARS_COMPLEX_TO_INTELLIGENCE, YEARS_INTELLIGENCE_TO_CULTURE, YEARS_CULTURE_TO_TECH, EXTINCTION_SIMPLE, EXTINCTION_COMPLEX, EXTINCTION_INTELLIGENT, EXTINCTION_CULTURAL, WEIBULL_SHAPE_PARAMETER, WEIBULL_SCALE_PARAMETER])\n",
    "pd.concat([df1, df2], axis=1)"
   ]
  },
  {
   "cell_type": "markdown",
   "metadata": {},
   "source": [
    "### Simulations"
   ]
  },
  {
   "cell_type": "markdown",
   "metadata": {},
   "source": [
    "##### Original Drake Equation"
   ]
  },
  {
   "cell_type": "code",
   "execution_count": null,
   "metadata": {},
   "outputs": [],
   "source": [
    "%%time\n",
    "\n",
    "simulation = []\n",
    "\n",
    "for i in range(1_000_000):\n",
    "    randomise_constants(drake_range, timeframes_range)\n",
    "    simulation.append(Drake(RS, FP, NE, FL, FI, FC, L))\n",
    "\n",
    "reset_default_constants(drake_best, timeframes_best)\n",
    "\n",
    "pd.DataFrame(simulation).describe()"
   ]
  },
  {
   "cell_type": "code",
   "execution_count": null,
   "metadata": {},
   "outputs": [],
   "source": [
    "# confirm that defaults are reset\n",
    "Drake(RS, FP, NE, FL, FI, FC, L)  # defaults lead to 80"
   ]
  },
  {
   "cell_type": "markdown",
   "metadata": {},
   "source": [
    "##### Time Dependent Drake"
   ]
  },
  {
   "cell_type": "code",
   "execution_count": null,
   "metadata": {},
   "outputs": [],
   "source": [
    "%%time\n",
    "\n",
    "output_year = 1_000_000_000\n",
    "simulation2 = []\n",
    "\n",
    "for i in range(10):\n",
    "    randomise_constants(drake_range, timeframes_range)\n",
    "    N_temp = TimeDependentDrake(output_year=output_year, P_tech_dominance=np.random.random())['N']\n",
    "    simulation2.append(N_temp.iloc[-1])\n",
    "\n",
    "reset_default_constants(drake_best, timeframes_best)\n",
    "\n",
    "pd.DataFrame(simulation2)\n",
    "# pd.DataFrame(simulation2).describe()"
   ]
  },
  {
   "cell_type": "code",
   "execution_count": null,
   "metadata": {},
   "outputs": [],
   "source": [
    "pd.set_option('display.float_format', '{:_.0f}'.format)"
   ]
  },
  {
   "cell_type": "code",
   "execution_count": null,
   "metadata": {},
   "outputs": [],
   "source": [
    "%%time\n",
    "\n",
    "output_year = 1_000_000_000\n",
    "simulation2 = pd.DataFrame()\n",
    "\n",
    "for i in range(100):\n",
    "    randomise_constants(drake_range, timeframes_range)\n",
    "    df_temp = TimeDependentDrake(output_year=output_year, P_tech_dominance=np.random.random())\n",
    "    simulation2 = simulation2.append(df_temp.iloc[-1])\n",
    "\n",
    "reset_default_constants(drake_best, timeframes_best)\n"
   ]
  },
  {
   "cell_type": "code",
   "execution_count": null,
   "metadata": {},
   "outputs": [],
   "source": [
    "simulation2.describe()"
   ]
  },
  {
   "cell_type": "code",
   "execution_count": null,
   "metadata": {
    "scrolled": true
   },
   "outputs": [],
   "source": [
    "pd.set_option('display.max_rows', 100)\n",
    "simulation2"
   ]
  },
  {
   "cell_type": "markdown",
   "metadata": {},
   "source": [
    "1M years, 100 trials -> 2min 38s\n",
    "trials should be linear, years may not be.\n",
    "lets check... looks linear\n",
    "\n",
    "so \n",
    "10M years, 100 trials -> 26min\n",
    "10M years, 1000 trials -> 4hr 23min\n",
    "10M years, 1M trials -> 6 months\n",
    "\n",
    "I have to cut the lawn and play Ghost of Tsushima, let's do the 4.5 hour simulation!"
   ]
  },
  {
   "cell_type": "code",
   "execution_count": null,
   "metadata": {},
   "outputs": [],
   "source": [
    "%%time\n",
    "temp = TimeDependentDrake(output_year=100_000_000, P_tech_dominance=0.9)"
   ]
  },
  {
   "cell_type": "code",
   "execution_count": null,
   "metadata": {},
   "outputs": [],
   "source": [
    "%%time\n",
    "temp = TimeDependentDrake(output_year=1_000_000_000, P_tech_dominance=0.9)"
   ]
  },
  {
   "cell_type": "code",
   "execution_count": null,
   "metadata": {},
   "outputs": [],
   "source": [
    "%%time\n",
    "temp = TimeDependentDrake(output_year=10_000_000_000, P_tech_dominance=0.9)"
   ]
  },
  {
   "cell_type": "code",
   "execution_count": null,
   "metadata": {},
   "outputs": [],
   "source": [
    "%%time\n",
    "\n",
    "# TEST: Make sure it works before wasting 5 hours\n",
    "\n",
    "output_year = 1_000_000_000\n",
    "n_sims = 10\n",
    "simulation2 = pd.DataFrame()\n",
    "\n",
    "for i in range(n_sims):\n",
    "    randomise_constants(drake_range, timeframes_range)\n",
    "    df_temp = TimeDependentDrake(output_year=output_year, P_tech_dominance=np.random.random())\n",
    "    df_param_temp = pd.DataFrame([[\n",
    "        RS, FP, NE, FL, FI, FC, L, YEARS_PLANETS_TO_HABITABLE, YEARS_HABITABLE_TO_LIFE, \n",
    "        YEARS_LIFE_TO_COMPLEX_LIFE, YEARS_COMPLEX_TO_INTELLIGENCE, YEARS_INTELLIGENCE_TO_CULTURE, \n",
    "        YEARS_CULTURE_TO_TECH, EXTINCTION_SIMPLE, EXTINCTION_COMPLEX, EXTINCTION_INTELLIGENT, \n",
    "        EXTINCTION_CULTURAL, WEIBULL_SHAPE_PARAMETER, WEIBULL_SCALE_PARAMETER\n",
    "        ]],\n",
    "        columns = [\n",
    "        'RS', 'FP', 'NE', 'FL', 'FI', 'FC', 'L', 'YEARS_PLANETS_TO_HABITABLE', 'YEARS_HABITABLE_TO_LIFE',\n",
    "        'YEARS_LIFE_TO_COMPLEX_LIFE', 'YEARS_COMPLEX_TO_INTELLIGENCE', 'YEARS_INTELLIGENCE_TO_CULTURE',\n",
    "        'YEARS_CULTURE_TO_TECH', 'EXTINCTION_SIMPLE', 'EXTINCTION_COMPLEX', 'EXTINCTION_INTELLIGENT',\n",
    "        'EXTINCTION_CULTURAL', 'WEIBULL_SHAPE_PARAMETER', 'WEIBULL_SCALE_PARAMETER'\n",
    "        ] \n",
    "    )\n",
    "    simulation2 = simulation2.append(df_temp.iloc[[-1]].reset_index().join(df_param_temp))\n",
    "\n",
    "reset_default_constants(drake_best, timeframes_best)\n",
    "simulation2.to_csv('time_dep_monte_carlo_10Myr_1000trials.csv', index=False)"
   ]
  },
  {
   "cell_type": "code",
   "execution_count": null,
   "metadata": {},
   "outputs": [],
   "source": [
    "%%time\n",
    "\n",
    "# SIMULATION: 10M yr,  1k trials, should take 5 hours to run\n",
    "\n",
    "output_year = 10_000_000_000\n",
    "n_sims = 1_000\n",
    "simulation2 = pd.DataFrame()\n",
    "\n",
    "for i in range(n_sims):\n",
    "    randomise_constants(drake_range, timeframes_range)\n",
    "    df_temp = TimeDependentDrake(output_year=output_year, P_tech_dominance=np.random.random())\n",
    "    df_param_temp = pd.DataFrame([[\n",
    "        RS, FP, NE, FL, FI, FC, L, YEARS_PLANETS_TO_HABITABLE, YEARS_HABITABLE_TO_LIFE, \n",
    "        YEARS_LIFE_TO_COMPLEX_LIFE, YEARS_COMPLEX_TO_INTELLIGENCE, YEARS_INTELLIGENCE_TO_CULTURE, \n",
    "        YEARS_CULTURE_TO_TECH, EXTINCTION_SIMPLE, EXTINCTION_COMPLEX, EXTINCTION_INTELLIGENT, \n",
    "        EXTINCTION_CULTURAL, WEIBULL_SHAPE_PARAMETER, WEIBULL_SCALE_PARAMETER\n",
    "        ]],\n",
    "        columns = [\n",
    "        'RS', 'FP', 'NE', 'FL', 'FI', 'FC', 'L', 'YEARS_PLANETS_TO_HABITABLE', 'YEARS_HABITABLE_TO_LIFE',\n",
    "        'YEARS_LIFE_TO_COMPLEX_LIFE', 'YEARS_COMPLEX_TO_INTELLIGENCE', 'YEARS_INTELLIGENCE_TO_CULTURE',\n",
    "        'YEARS_CULTURE_TO_TECH', 'EXTINCTION_SIMPLE', 'EXTINCTION_COMPLEX', 'EXTINCTION_INTELLIGENT',\n",
    "        'EXTINCTION_CULTURAL', 'WEIBULL_SHAPE_PARAMETER', 'WEIBULL_SCALE_PARAMETER'\n",
    "        ] \n",
    "    )\n",
    "    simulation2 = simulation2.append(df_temp.iloc[[-1]].reset_index().join(df_param_temp))\n",
    "\n",
    "reset_default_constants(drake_best, timeframes_best)\n",
    "\n",
    "now = datetime.datetime.now().strftime(\"%m%d_%H%M\")\n",
    "simulation2.to_csv(f'time_dep_monte_carlo_10Myr_1000trials_{now}.csv', index=False)"
   ]
  },
  {
   "cell_type": "code",
   "execution_count": null,
   "metadata": {},
   "outputs": [],
   "source": [
    "simulation2.N.describe()"
   ]
  },
  {
   "cell_type": "code",
   "execution_count": null,
   "metadata": {},
   "outputs": [],
   "source": [
    "\"\"\"\n",
    "#  TODO: \n",
    "    set up a better loop, output multiple smaller csv\n",
    "    create a function to import and combine csv into df\n",
    "    look at results and figure out if any of the ranges are 0s or huge\n",
    "        use these as flags\n",
    "        monte carlo moderate values\n",
    "    figure out which parameters / functions are leading to negative numbers\n",
    "        maybe rounding - revise\n",
    "    investigate 10M or 100M timesteps to speed up the simulation process\n",
    "    make a library of functions to import, and an abbreviated workbook with only conclusions\n",
    "\"\"\""
   ]
  },
  {
   "cell_type": "code",
   "execution_count": null,
   "metadata": {},
   "outputs": [],
   "source": []
  }
 ],
 "metadata": {
  "colab": {
   "collapsed_sections": [],
   "name": "Drake Equation.ipynb",
   "provenance": []
  },
  "kernelspec": {
   "display_name": "Python 3 (ipykernel)",
   "language": "python",
   "name": "python3"
  },
  "language_info": {
   "codemirror_mode": {
    "name": "ipython",
    "version": 3
   },
   "file_extension": ".py",
   "mimetype": "text/x-python",
   "name": "python",
   "nbconvert_exporter": "python",
   "pygments_lexer": "ipython3",
   "version": "3.9.7"
  }
 },
 "nbformat": 4,
 "nbformat_minor": 1
}
