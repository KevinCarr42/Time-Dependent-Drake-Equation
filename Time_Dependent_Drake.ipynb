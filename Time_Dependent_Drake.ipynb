{
 "cells": [
  {
   "cell_type": "markdown",
   "metadata": {},
   "source": [
    "# Cosmic Neighbours\n",
    "\n",
    "In this project we are adding a time dimension to the famous [Drake Equation](https://en.wikipedia.org/wiki/Drake_equation). The Drake Equation is as follows:\n",
    "    \n",
    "#### N = Rs * fp * ne * fl * fi * fc * L\n",
    "    where:\n",
    "    N = number of civilizations with which humans could communicate\n",
    "    Rs = mean rate of star formation\n",
    "    fp = fraction of stars that have planets\n",
    "    ne = mean number of planets that could support life per star with planets\n",
    "    fl = fraction of life-supporting planets that develop life\n",
    "    fi = fraction of planets with life where life develops intelligence\n",
    "    fc = fraction of intelligent civilizations that develop communication\n",
    "    L = mean length of time that civilizations can communicate\n",
    "    \n",
    "This solution to the number of civilizations is a steady state solution. Meaning, we cannot use this estimate to estimate the number of extict civilizations in our galaxy. And it assumes that the intelligent population of the galaxy is not growing. I will try to answer these questions by adding a time dimension to the calcuation.\n"
   ]
  },
  {
   "cell_type": "markdown",
   "metadata": {},
   "source": [
    "### Imports"
   ]
  },
  {
   "cell_type": "code",
   "execution_count": 1,
   "metadata": {
    "id": "Cy9vSqKf1Pn9"
   },
   "outputs": [],
   "source": [
    "from drakefunctions import *\n",
    "\n",
    "import numpy as np\n",
    "import pandas as pd\n",
    "pd.set_option('display.float_format', '{:_.0f}'.format)\n",
    "from scipy.stats import poisson\n",
    "from scipy.special import gamma  # not the one from scipy.stats\n",
    "from math import factorial, exp, log\n",
    "import datetime, time\n",
    "\n",
    "import matplotlib.pyplot as plt\n",
    "from matplotlib.ticker import MaxNLocator\n",
    "import matplotlib as mpl\n",
    "%matplotlib inline\n",
    "mpl.rcParams[\"axes.formatter.min_exponent\"] = 20  # no scientific notation in graphs\n",
    "plt.rcParams['axes.titley'] = 1.0    # y is in axes-relative coordinates.\n",
    "plt.rcParams['axes.titlepad'] = 10   # pad is in points... default is 6\n",
    "import seaborn as sns\n",
    "sns.set_theme()"
   ]
  },
  {
   "cell_type": "markdown",
   "metadata": {},
   "source": [
    "### The Original Drake Equation"
   ]
  },
  {
   "cell_type": "code",
   "execution_count": null,
   "metadata": {},
   "outputs": [],
   "source": [
    "# Using our best estimates, the Drake Equation predicts...\n",
    "RS = 2  # star formation per galaxy (ie, milky way)\n",
    "FP = 1\n",
    "NE = 0.4\n",
    "FL = 1  # seems optimistic to me\n",
    "FI = 1  # seems optimistic to me\n",
    "FC = 0.1  # looks like a complete guess \n",
    "L = 1000  # maybe between 1000 and 100_000_000\n",
    "\n",
    "Drake(RS, FP, NE, FL, FI, FC, L)"
   ]
  },
  {
   "cell_type": "code",
   "execution_count": null,
   "metadata": {},
   "outputs": [],
   "source": [
    "# hack the Drake equation to estimate how many extict technological civilizations\n",
    "# might exist in the Milky Way\n",
    "print(f\"{Drake(RS, FP, NE, FL, FI, FC, 15_000_000_000):,}\")\n",
    "# seems way too high..."
   ]
  },
  {
   "cell_type": "markdown",
   "metadata": {},
   "source": [
    "### CONSTANTS"
   ]
  },
  {
   "cell_type": "code",
   "execution_count": 2,
   "metadata": {},
   "outputs": [],
   "source": [
    "# CONSTANTS treated as variables for simulation\n",
    "\n",
    "# inputs to the Drake equation\n",
    "drake_best = dict(RS = 2, FP = 1, NE = 0.4, FL = 1, FI = 1, FC = 0.1, L = 1000)\n",
    "\n",
    "drake_range = dict(\n",
    "    RS = [1, 2, 3],\n",
    "    FP = [0.05, 0.2, 0.5, 1.0, 2.0],\n",
    "    NE = [0.02, 0.1, 0.4, 1.0],\n",
    "    FL = [0.01, 0.1, 1],\n",
    "    FI = [0.01, 0.1, 1],\n",
    "    FC = [0.01, 0.1, 1],\n",
    "    L = [100, 1_000, 10_000, 100_000, 1_000_000]\n",
    ")\n",
    "\n",
    "# approx timeframe on Earth\n",
    "timeframes_best = dict(  # assumes Earth is representative\n",
    "    YEARS_PLANETS_TO_HABITABLE = 2_000_000_000, \n",
    "    YEARS_HABITABLE_TO_LIFE = 1_000_000_000, \n",
    "    YEARS_LIFE_TO_COMPLEX_LIFE = 1_000_000_000, \n",
    "    YEARS_COMPLEX_TO_INTELLIGENCE = 200_000_000, \n",
    "    YEARS_INTELLIGENCE_TO_CULTURE = 20_000_000, \n",
    "    YEARS_CULTURE_TO_TECH = 200_000, \n",
    "    EXTINCTION_SIMPLE = 5_000_000_000, \n",
    "    EXTINCTION_COMPLEX = 2_000_000_000, \n",
    "    EXTINCTION_INTELLIGENT = 200_000_000, \n",
    "    EXTINCTION_CULTURAL = 1_000_000, \n",
    "    WEIBULL_SHAPE_PARAMETER = 0.4,  # k\n",
    "    WEIBULL_SCALE_PARAMETER = 20_000  # lambda\n",
    ")\n",
    "\n",
    "timeframes_range = dict(  # assumes Earth is representative\n",
    "    YEARS_PLANETS_TO_HABITABLE = [1_000_000_000, 2_000_000_000, 3_000_000_000], \n",
    "    YEARS_HABITABLE_TO_LIFE = [100_000_000, 1_000_000_000, 5_000_000_000], \n",
    "    YEARS_LIFE_TO_COMPLEX_LIFE = [100_000_000, 1_000_000_000, 5_000_000_000, 10_000_000_000], \n",
    "    YEARS_COMPLEX_TO_INTELLIGENCE = [100_000, 1_000_000, 50_000_000, 200_000_000, 1_000_000_000], \n",
    "    YEARS_INTELLIGENCE_TO_CULTURE = [10_000, 100_000, 2_000_000, 20_000_000, 200_000_000], \n",
    "    YEARS_CULTURE_TO_TECH = [1_000, 10_000, 100_000, 200_000, 2_000_000], \n",
    "    EXTINCTION_SIMPLE = [200_000_000, 1_000_000_000, 2_000_000_000, 5_000_000_000],  # these are mass extinction events\n",
    "    EXTINCTION_COMPLEX = [200_000_000, 1_000_000_000, 2_000_000_000], # these are mass extinction events\n",
    "    EXTINCTION_INTELLIGENT = [10_000, 100_000, 1_000_000, 10_000_000, 200_000_000, 1_000_000_000], \n",
    "    EXTINCTION_CULTURAL = [1_000, 10_000, 100_000, 1_000_000, 10_000_000], \n",
    "    WEIBULL_SHAPE_PARAMETER = [0.4, 0.5, 0.6, 0.7, 0.8, 0.9, 1.0],  # k\n",
    "    WEIBULL_SCALE_PARAMETER = [100, 250, 500, 750, 1000, 5_000, 10_000, 20_000, 50_000, 100_000]  # lambda\n",
    ")\n",
    "\n",
    "# POTANTIAL EXTINCTION CONSTANTS, HIGH UNCERTAINTY\n",
    "# ## less optimistic - uncomment to use this extinction rate ##\n",
    "# # prob_L(100), prob_L(1_000), prob_L(100_000)\n",
    "# # (0.27111, 0.63212, 0.99995)\n",
    "# WEIBULL_SHAPE_PARAMETER = 0.5  # k\n",
    "# WEIBULL_SCALE_PARAMETER = 1000  # lambda / 63rd percentile\n",
    "# ## best guess - uncomment to use this extinction rate ##\n",
    "# # prob_L(100), prob_L(1_000), prob_L(100_000)\n",
    "# # (0.11318, 0.26045, 0.85098)\n",
    "# WEIBULL_SHAPE_PARAMETER = 0.4  # k\n",
    "# WEIBULL_SCALE_PARAMETER = 20_000  # lambda / 63rd percentile\n",
    "\n",
    "\n",
    "# STILL CONSTANTS\n",
    "\n",
    "# galactic attributes\n",
    "NUM_GALAXY = 100_000_000_000  # number of stars in a galaxy\n",
    "GALAXY_RADIUS_LYR = 50_000  # radius of the galaxy in lightyears\n",
    "MODERN_ERA = 10_000_000_000  # years since 2nd gen stars, order of magnitude approx\n",
    "\n",
    "# time step increments for calculations\n",
    "YEAR_STEPS = 1_000_000"
   ]
  },
  {
   "cell_type": "code",
   "execution_count": 3,
   "metadata": {},
   "outputs": [],
   "source": [
    "#TODO: combine with above constants, integrate dicts\n",
    "\n",
    "# best estimate for a solution to the Drake equation\n",
    "RS = 2  # star formation per galaxy (ie, milky way)\n",
    "FP = 1\n",
    "NE = 0.4\n",
    "FL = 1  # seems optimistic to me\n",
    "FI = 1  # seems optimistic to me\n",
    "FC = 0.1  # looks like a complete guess \n",
    "L = 1000  # maybe between 1000 and 100_000_000\n",
    "\n",
    "NUM_GALAXY = 100_000_000_000  # number of stars in a galaxy\n",
    "GALAXY_RADIUS_LYR = 50_000  # radius of the galaxy in lightyears\n",
    "MODERN_ERA = 10_000_000_000  # years since 2nd gen stars, order of magnitude approx\n",
    "\n",
    "# approx timeframe on Earth - assume Earth is representative\n",
    "YEARS_PLANETS_TO_HABITABLE = 2_000_000_000\n",
    "YEARS_HABITABLE_TO_LIFE = 1_000_000_000  # single cell sludge\n",
    "YEARS_LIFE_TO_COMPLEX_LIFE = 1_000_000_000  # fish, birds, plants\n",
    "YEARS_COMPLEX_TO_INTELLIGENCE = 200_000_000  # apes, dolphins\n",
    "YEARS_INTELLIGENCE_TO_CULTURE = 20_000_000  # neandrethal, VERY HIGH UNCERTAINTY\n",
    "YEARS_CULTURE_TO_TECH = 200_000  # humans, HIGH UNCERTAINTY\n",
    "\n",
    "# estimates for mass extinctions in average years - these are very approximate\n",
    "EXTINCTION_SIMPLE = 5_000_000_000  # approx limit to age of life on earth\n",
    "EXTINCTION_COMPLEX = 2_000_000_000  # slightly more likely to go extinct\n",
    "EXTINCTION_INTELLIGENT = 200_000_000  # guess: approx age of the dinosaurs\n",
    "EXTINCTION_CULTURAL = 1_000_000  # guess: VERY HIGH UNCERTAINTY\n",
    "# EXTINCTION_TECHNOLOGICAL = ??? # Weibull distribution is used to calculate this value\n",
    "\n",
    "# time step increments for calculations\n",
    "YEAR_STEPS = 1_000_000\n",
    "\n",
    "# POTANTIAL EXTINCTION CONSTANTS, HIGH UNCERTAINTY\n",
    "# ## less optimistic - uncomment to use this extinction rate ##\n",
    "# # prob_L(100), prob_L(1_000), prob_L(100_000)\n",
    "# # (0.27111, 0.63212, 0.99995)\n",
    "# WEIBULL_SHAPE_PARAMETER = 0.5  # k\n",
    "# WEIBULL_SCALE_PARAMETER = 1000  # lambda / 63rd percentile\n",
    "## best guess - uncomment to use this extinction rate ##\n",
    "# prob_L(100), prob_L(1_000), prob_L(100_000)\n",
    "# (0.11318, 0.26045, 0.85098)\n",
    "WEIBULL_SHAPE_PARAMETER = 0.4  # k\n",
    "WEIBULL_SCALE_PARAMETER = 20_000  # lambda / 63rd percentile"
   ]
  },
  {
   "cell_type": "markdown",
   "metadata": {},
   "source": [
    "### The Time-Dependent Drake Equation"
   ]
  },
  {
   "cell_type": "code",
   "execution_count": 4,
   "metadata": {},
   "outputs": [
    {
     "ename": "NameError",
     "evalue": "name 'YEAR_STEPS' is not defined",
     "output_type": "error",
     "traceback": [
      "\u001b[1;31m---------------------------------------------------------------------------\u001b[0m",
      "\u001b[1;31mNameError\u001b[0m                                 Traceback (most recent call last)",
      "\u001b[1;32m<timed exec>\u001b[0m in \u001b[0;36m<module>\u001b[1;34m\u001b[0m\n",
      "\u001b[1;32m~\\_Python (D)\\Time-Dependent-Drake-Equation\\drakefunctions.py\u001b[0m in \u001b[0;36mTimeDependentDrake\u001b[1;34m(output_year, P_tech_dominance, df_input)\u001b[0m\n\u001b[0;32m    192\u001b[0m \u001b[1;33m\u001b[0m\u001b[0m\n\u001b[0;32m    193\u001b[0m         \u001b[1;31m# increment year\u001b[0m\u001b[1;33m\u001b[0m\u001b[1;33m\u001b[0m\u001b[0m\n\u001b[1;32m--> 194\u001b[1;33m         \u001b[0mcurrent_year\u001b[0m \u001b[1;33m+=\u001b[0m \u001b[0mYEAR_STEPS\u001b[0m\u001b[1;33m\u001b[0m\u001b[1;33m\u001b[0m\u001b[0m\n\u001b[0m\u001b[0;32m    195\u001b[0m         \u001b[0mnum_new_stars\u001b[0m \u001b[1;33m=\u001b[0m \u001b[0mstar_formation\u001b[0m\u001b[1;33m(\u001b[0m\u001b[0mcurrent_year\u001b[0m\u001b[1;33m,\u001b[0m \u001b[0mnum_stars\u001b[0m\u001b[1;33m)\u001b[0m\u001b[1;33m\u001b[0m\u001b[1;33m\u001b[0m\u001b[0m\n\u001b[0;32m    196\u001b[0m \u001b[1;33m\u001b[0m\u001b[0m\n",
      "\u001b[1;31mNameError\u001b[0m: name 'YEAR_STEPS' is not defined"
     ]
    }
   ],
   "source": [
    "%%time\n",
    "history_of_life = TimeDependentDrake(output_year=10_000_000_000, P_tech_dominance=0.9)\n",
    "\n",
    "history_of_life.tail()"
   ]
  },
  {
   "cell_type": "code",
   "execution_count": null,
   "metadata": {},
   "outputs": [],
   "source": [
    "# plot of technological species over time\n",
    "\n",
    "plt.figure(figsize=(12, 6))\n",
    "plot = sns.lineplot(x=history_of_life.index/1_000_000_000, y=history_of_life.N);\n",
    "plt.yticks(rotation=0);\n",
    "plot.set_ylabel('Number of Technological Species');\n",
    "plot.set_xlabel('Billions of Years');"
   ]
  },
  {
   "cell_type": "markdown",
   "metadata": {},
   "source": [
    "# How to interpret these averages/expectations given 1M yr time steps\n",
    "\n",
    "These numbers are based on the active instances over 1M year time steps. This isn't significant for values with slower\n",
    "extinction values, but with N, these predictions are misleading. E.g., 100 technological species seems like\n",
    "a lot, but if that's over 1M years, and they each survive 1k yr, there is less than 1 on average at the same time.\n",
    "\n",
    "We need to convert these numbers into probabilities / histograms to gain insight into how likely we are to find life. "
   ]
  },
  {
   "cell_type": "code",
   "execution_count": null,
   "metadata": {},
   "outputs": [],
   "source": [
    "# number of technological lifeforms in 1M yr timestep at end of Drake calculation\n",
    "N_1M_yr = int(round(history_of_life.iloc[[-1]].N))\n",
    "N_1M_yr"
   ]
  },
  {
   "cell_type": "code",
   "execution_count": null,
   "metadata": {},
   "outputs": [],
   "source": [
    "%%time\n",
    "\n",
    "active_each_year = breakdown_by_year(N_1M_yr)"
   ]
  },
  {
   "cell_type": "code",
   "execution_count": null,
   "metadata": {},
   "outputs": [],
   "source": [
    "percentage_table(active_each_year)"
   ]
  },
  {
   "cell_type": "code",
   "execution_count": null,
   "metadata": {},
   "outputs": [],
   "source": [
    "plot_histogram(active_each_year, discrete=True)"
   ]
  },
  {
   "cell_type": "code",
   "execution_count": null,
   "metadata": {},
   "outputs": [],
   "source": [
    "%%time\n",
    "# hypothetical large number of technological lifeforms active in 1M yr timestep\n",
    "\n",
    "# TESTING\n",
    "N_large = 1_000\n",
    "# histogram starts getting messy at 1k+, can't bin it easily because it's actually a barplot\n",
    "\n",
    "active_each_year_large = breakdown_by_year(N_large)"
   ]
  },
  {
   "cell_type": "code",
   "execution_count": null,
   "metadata": {},
   "outputs": [],
   "source": [
    "plot_histogram(active_each_year_large)"
   ]
  },
  {
   "cell_type": "markdown",
   "metadata": {},
   "source": [
    "# implications of tech_dominance"
   ]
  },
  {
   "cell_type": "code",
   "execution_count": null,
   "metadata": {},
   "outputs": [],
   "source": [
    "%%time\n",
    "tech_dominance_1 = TimeDependentDrake(output_year=10_000_000_000, P_tech_dominance=1)\n",
    "\n",
    "tech_dominance_1.tail()"
   ]
  },
  {
   "cell_type": "code",
   "execution_count": null,
   "metadata": {},
   "outputs": [],
   "source": [
    "plt.figure(figsize=(12, 6))\n",
    "plot = sns.lineplot(x=tech_dominance_1.index/1_000_000_000, y=tech_dominance_1.N);\n",
    "plt.yticks(rotation=0);\n",
    "plot.set_ylabel('Number of Technological Species');\n",
    "plot.set_xlabel('Billions of Years');"
   ]
  },
  {
   "cell_type": "code",
   "execution_count": null,
   "metadata": {},
   "outputs": [],
   "source": [
    "%%time\n",
    "tech_dominance_0 = TimeDependentDrake(output_year=10_000_000_000, P_tech_dominance=0)\n",
    "\n",
    "tech_dominance_0.tail()"
   ]
  },
  {
   "cell_type": "code",
   "execution_count": null,
   "metadata": {},
   "outputs": [],
   "source": [
    "plt.figure(figsize=(12, 6))\n",
    "plot = sns.lineplot(x=tech_dominance_0.index/1_000_000_000, y=tech_dominance_0.N);\n",
    "plt.yticks(rotation=0);\n",
    "plot.set_ylabel('Number of Technological Species');\n",
    "plot.set_xlabel('Billions of Years');"
   ]
  },
  {
   "cell_type": "markdown",
   "metadata": {},
   "source": [
    "# implications of longer time values (eg, 1T yr, steady state, etc)"
   ]
  },
  {
   "cell_type": "code",
   "execution_count": null,
   "metadata": {},
   "outputs": [],
   "source": []
  },
  {
   "cell_type": "code",
   "execution_count": null,
   "metadata": {},
   "outputs": [],
   "source": [
    "%%time\n",
    "#TODO: haven't tested this as a function yet...\n",
    "#TODO: write a loop to save csv in 10B yr increments\n",
    "# combine csv\n",
    "    # eg, history_of_life.to_csv('history_of_life_1T_yr.csv')  # or nested path\n",
    "# plot it\n",
    "\n",
    "epoch_steps = 1_000_000_000\n",
    "final_year = 100_000_000_000\n",
    "P_tech_dominance = 0.9\n",
    "\n",
    "future_of_life = long_time(epoch_steps, final_year, P_tech_dominance = 0.9)"
   ]
  },
  {
   "cell_type": "code",
   "execution_count": null,
   "metadata": {},
   "outputs": [],
   "source": [
    "# for 10B yr: 12s \n",
    "# for 100B yr: 124s\n",
    "# for 1T yr: estimate 1240s = 21min\n",
    "future_of_life.tail()"
   ]
  },
  {
   "cell_type": "code",
   "execution_count": null,
   "metadata": {},
   "outputs": [],
   "source": []
  },
  {
   "cell_type": "code",
   "execution_count": null,
   "metadata": {},
   "outputs": [],
   "source": []
  },
  {
   "cell_type": "markdown",
   "metadata": {},
   "source": [
    "# steady state values\n",
    "    what are steady state values?\n",
    "    when will we reach approx steady state?\n",
    "    can we match the time-invariant Drake Equation?"
   ]
  },
  {
   "cell_type": "code",
   "execution_count": null,
   "metadata": {},
   "outputs": [],
   "source": [
    "%%time\n",
    "# couldn't think of an algorithm that wouldn't take forever, so I brute-forced and grit\n",
    "# should come up with an automated way to check different settings\n",
    "P_tech_dominance = 0.9\n",
    "steady_state = pd.DataFrame(\n",
    "    [[0, 100_000_000_000, 40_000_000_000, 40_000_000_000, 974_975_916, 23_619_997, 6_551_317, 8_796, 6_262, 0]], \n",
    "    columns = columns,\n",
    "    index=[0]\n",
    ").set_index(index)\n",
    "\n",
    "for i in range(2):\n",
    "    temp_df = TimeDependentDrake(10_000_000_000*(i+1), P_tech_dominance, df_input=steady_state)\n",
    "    steady_state = steady_state.append(temp_df.iloc[[-1]])\n",
    "    \n",
    "# print(steady_state.iloc[-1]-steady_state.iloc[0])\n",
    "# print()\n",
    "steady_state.tail()"
   ]
  },
  {
   "cell_type": "code",
   "execution_count": null,
   "metadata": {},
   "outputs": [],
   "source": [
    "plot_histogram(breakdown_by_year(6_262), binwidth=5)"
   ]
  },
  {
   "cell_type": "markdown",
   "metadata": {},
   "source": [
    "### Are these calculations equivalent to the orignial Drake Equation?"
   ]
  },
  {
   "cell_type": "code",
   "execution_count": null,
   "metadata": {},
   "outputs": [],
   "source": [
    "# Using our best estimates, the Drake Equation predicts...\n",
    "RS = 2\n",
    "FP = 1\n",
    "NE = 0.4\n",
    "FL = 1\n",
    "FI = 1\n",
    "FC = 0.1\n",
    "L = 5000  # to lead to approx the same species as above\n",
    "\n",
    "Drake(RS, FP, NE, FL, FI, FC, L)\n",
    "# this is within the range of estimates used in the prob_L() function, and 1k < L < 1M from current guesses"
   ]
  },
  {
   "cell_type": "code",
   "execution_count": null,
   "metadata": {},
   "outputs": [],
   "source": [
    "int(weibull_mean())"
   ]
  },
  {
   "cell_type": "code",
   "execution_count": null,
   "metadata": {},
   "outputs": [],
   "source": [
    "int(weibull_median())"
   ]
  },
  {
   "cell_type": "markdown",
   "metadata": {},
   "source": [
    "mode is 0, because k < 0"
   ]
  },
  {
   "cell_type": "markdown",
   "metadata": {},
   "source": [
    "Results not the same for the same L, but could be equivalent\n",
    "    \n",
    "    our mean > mode > original L\n",
    "        there are a very large number of short-lived species\n",
    "    let's check with a quick simulation\n",
    "    we could also rerun using L constant or poisson to see if it gives the same results"
   ]
  },
  {
   "cell_type": "code",
   "execution_count": null,
   "metadata": {},
   "outputs": [],
   "source": [
    "# simulation of prob_L\n",
    "\n",
    "temp_list = []\n",
    "temp_steps = 1_000\n",
    "\n",
    "for i in range(1_000):\n",
    "    temp_list.append([temp_steps * i, 1 - prob_L(temp_steps * i)])\n",
    "\n",
    "df = pd.DataFrame(temp_list, columns=['Years', 'Prob_Survival'])\n",
    "\n",
    "plt.figure(figsize=(12, 6))\n",
    "plot = sns.lineplot(x=df['Years'], y=df['Prob_Survival']);\n",
    "# plot.set(xscale='log');\n",
    "plot.set_ylabel('Probability of Survival');\n",
    "plt.ticklabel_format(style='plain', axis='x')\n",
    "# plot.set_xlabel('Years');"
   ]
  },
  {
   "cell_type": "code",
   "execution_count": null,
   "metadata": {},
   "outputs": [],
   "source": [
    "pd.options.display.float_format = '{:_.3f}'.format\n",
    "df.head(10)\n",
    "# 50% of species are extinct at 8k years"
   ]
  },
  {
   "cell_type": "code",
   "execution_count": null,
   "metadata": {},
   "outputs": [],
   "source": [
    "# simulation of prob_L\n",
    "\n",
    "temp_list = []\n",
    "temp_steps = 10\n",
    "\n",
    "for i in range(1_000):\n",
    "    temp_list.append([temp_steps * i, 1 - prob_L(temp_steps * i)])\n",
    "\n",
    "df = pd.DataFrame(temp_list, columns=['Years', 'Prob_Survival'])\n",
    "\n",
    "plt.figure(figsize=(12, 6))\n",
    "plot = sns.lineplot(x=df['Years'], y=df['Prob_Survival']);\n",
    "# plot.set(xscale='log');\n",
    "plot.set_ylabel('Probability of Survival');\n",
    "plt.ticklabel_format(style='plain', axis='x')\n",
    "# plot.set_xlabel('Years');"
   ]
  },
  {
   "cell_type": "code",
   "execution_count": null,
   "metadata": {},
   "outputs": [],
   "source": [
    "df.head(10)\n",
    "# 10% of species are extinct at 70 years"
   ]
  },
  {
   "cell_type": "code",
   "execution_count": null,
   "metadata": {},
   "outputs": [],
   "source": [
    "# reset pandas format\n",
    "pd.set_option('display.float_format', '{:_.0f}'.format)"
   ]
  },
  {
   "cell_type": "markdown",
   "metadata": {},
   "source": [
    "# distance to closest species\n",
    "#TODO: could make a formula to calculate the odds that there is x within y"
   ]
  },
  {
   "cell_type": "code",
   "execution_count": null,
   "metadata": {},
   "outputs": [],
   "source": [
    "# closest living technological life\n",
    "# most likely we're alone in the galaxy, but there could be 1 or 2, so\n",
    "how_far(1)"
   ]
  },
  {
   "cell_type": "code",
   "execution_count": null,
   "metadata": {},
   "outputs": [],
   "source": [
    "# likely max 2 other species\n",
    "how_far(2)"
   ]
  },
  {
   "cell_type": "code",
   "execution_count": null,
   "metadata": {},
   "outputs": [],
   "source": [
    "# steady state solution ~400 tech species\n",
    "how_far(400)"
   ]
  },
  {
   "cell_type": "code",
   "execution_count": null,
   "metadata": {},
   "outputs": [],
   "source": []
  },
  {
   "cell_type": "markdown",
   "metadata": {},
   "source": [
    "##### Control Problem?"
   ]
  },
  {
   "cell_type": "code",
   "execution_count": null,
   "metadata": {},
   "outputs": [],
   "source": [
    "# closest extinct technological species\n",
    "# current year, with P_tech_dominance 0 or 1\n",
    "how_far(10_000), how_far(40_000)"
   ]
  },
  {
   "cell_type": "code",
   "execution_count": null,
   "metadata": {},
   "outputs": [],
   "source": [
    "# how many stars within 700 lyr?\n",
    "stars_within(724.6)\n",
    "# we'd probably notice 2.5M stars being converted into paperclips\n",
    "# we should at least be able to detect a runaway AI"
   ]
  },
  {
   "cell_type": "code",
   "execution_count": null,
   "metadata": {},
   "outputs": [],
   "source": [
    "ai_propagation_speed_low = 0.0001  # percentage of the speed of light that superintelligent AI can travel\n",
    "ai_propagation_speed_high = 0.01  # percentage of the speed of light that superintelligent AI can travel\n",
    "chance_of_control_problem_low = 0.01  # proportion of extinctions due to runaway paperclip optimiser\n",
    "chance_of_control_problem_high = 0.1  # proportion of extinctions due to runaway stamp collector\n",
    "\n",
    "# years for rogue AI to travel here\n",
    "pd.DataFrame(\n",
    "    [[how_far(11_000 * chance_of_control_problem_low) / ai_propagation_speed_low, \n",
    "      how_far(11_000 * chance_of_control_problem_high) / ai_propagation_speed_high\n",
    "    ]], columns=['Years Until Invasion - High', 'Years Until Invasion - Low']\n",
    ")"
   ]
  },
  {
   "cell_type": "code",
   "execution_count": null,
   "metadata": {},
   "outputs": [],
   "source": [
    "# plot of extinct technological species over time\n",
    "\n",
    "plt.figure(figsize=(12, 6))\n",
    "plot = sns.lineplot(x=history_of_life.index/1_000_000, y=history_of_life.N_extinct);\n",
    "\n",
    "plot.set(xlim=(9_900, 10_000),ylim=(10_800, 11_500));\n",
    "plt.yticks(rotation=0);\n",
    "plot.set_ylabel('Number of Extinct Technological Species');\n",
    "plot.set_xlabel('Millions of Years');"
   ]
  },
  {
   "cell_type": "code",
   "execution_count": null,
   "metadata": {},
   "outputs": [],
   "source": [
    "# kind of seems like we should have been converted into paperclips by now...\n",
    "# i feel like we'll notice before 10k lyr**2 of stars were converted to paperclips, but you never know"
   ]
  },
  {
   "cell_type": "code",
   "execution_count": null,
   "metadata": {},
   "outputs": [],
   "source": [
    "# how close are the closest paperclip monsters\n",
    "how_far(11_000 * chance_of_control_problem_low), how_far(11_000 * chance_of_control_problem_high)"
   ]
  },
  {
   "cell_type": "code",
   "execution_count": null,
   "metadata": {},
   "outputs": [],
   "source": [
    "# how many stars within 700 lyr?\n",
    "stars_within(2664.0)\n",
    "# we'd very likely notice 90M stars being converted into stamps\n",
    "\n"
   ]
  },
  {
   "cell_type": "markdown",
   "metadata": {},
   "source": [
    "**we should have plenty of notice**\n",
    "\n",
    "    unless we mistake rogue AI for very common astrophysical phemomena "
   ]
  },
  {
   "cell_type": "markdown",
   "metadata": {},
   "source": [
    "# Monte Carlo Simulation"
   ]
  },
  {
   "cell_type": "code",
   "execution_count": null,
   "metadata": {},
   "outputs": [],
   "source": [
    "# test randomisation\n",
    "randomise_constants(drake_range, timeframes_range)\n",
    "df1 = pd.DataFrame([RS, FP, NE, FL, FI, FC, L, YEARS_PLANETS_TO_HABITABLE, YEARS_HABITABLE_TO_LIFE, YEARS_LIFE_TO_COMPLEX_LIFE, YEARS_COMPLEX_TO_INTELLIGENCE, YEARS_INTELLIGENCE_TO_CULTURE, YEARS_CULTURE_TO_TECH, EXTINCTION_SIMPLE, EXTINCTION_COMPLEX, EXTINCTION_INTELLIGENT, EXTINCTION_CULTURAL, WEIBULL_SHAPE_PARAMETER, WEIBULL_SCALE_PARAMETER])\n",
    "reset_default_constants(drake_best, timeframes_best)\n",
    "df2 = pd.DataFrame([RS, FP, NE, FL, FI, FC, L, YEARS_PLANETS_TO_HABITABLE, YEARS_HABITABLE_TO_LIFE, YEARS_LIFE_TO_COMPLEX_LIFE, YEARS_COMPLEX_TO_INTELLIGENCE, YEARS_INTELLIGENCE_TO_CULTURE, YEARS_CULTURE_TO_TECH, EXTINCTION_SIMPLE, EXTINCTION_COMPLEX, EXTINCTION_INTELLIGENT, EXTINCTION_CULTURAL, WEIBULL_SHAPE_PARAMETER, WEIBULL_SCALE_PARAMETER])\n",
    "pd.concat([df1, df2], axis=1)"
   ]
  },
  {
   "cell_type": "markdown",
   "metadata": {},
   "source": [
    "### Simulations"
   ]
  },
  {
   "cell_type": "markdown",
   "metadata": {},
   "source": [
    "##### Original Drake Equation"
   ]
  },
  {
   "cell_type": "code",
   "execution_count": null,
   "metadata": {},
   "outputs": [],
   "source": [
    "%%time\n",
    "\n",
    "simulation = []\n",
    "\n",
    "for i in range(1_000_000):\n",
    "    randomise_constants(drake_range, timeframes_range)\n",
    "    simulation.append(Drake(RS, FP, NE, FL, FI, FC, L))\n",
    "\n",
    "reset_default_constants(drake_best, timeframes_best)\n",
    "\n",
    "pd.DataFrame(simulation).describe()"
   ]
  },
  {
   "cell_type": "code",
   "execution_count": null,
   "metadata": {},
   "outputs": [],
   "source": [
    "# confirm that defaults are reset\n",
    "Drake(RS, FP, NE, FL, FI, FC, L)  # defaults lead to 80"
   ]
  },
  {
   "cell_type": "markdown",
   "metadata": {},
   "source": [
    "##### Time Dependent Drake"
   ]
  },
  {
   "cell_type": "code",
   "execution_count": null,
   "metadata": {},
   "outputs": [],
   "source": [
    "%%time\n",
    "\n",
    "output_year = 1_000_000_000\n",
    "simulation2 = []\n",
    "\n",
    "for i in range(10):\n",
    "    randomise_constants(drake_range, timeframes_range)\n",
    "    N_temp = TimeDependentDrake(output_year=output_year, P_tech_dominance=np.random.random())['N']\n",
    "    simulation2.append(N_temp.iloc[-1])\n",
    "\n",
    "reset_default_constants(drake_best, timeframes_best)\n",
    "\n",
    "pd.DataFrame(simulation2)\n",
    "# pd.DataFrame(simulation2).describe()"
   ]
  },
  {
   "cell_type": "code",
   "execution_count": null,
   "metadata": {},
   "outputs": [],
   "source": [
    "pd.set_option('display.float_format', '{:_.0f}'.format)"
   ]
  },
  {
   "cell_type": "code",
   "execution_count": null,
   "metadata": {},
   "outputs": [],
   "source": [
    "%%time\n",
    "\n",
    "output_year = 1_000_000_000\n",
    "simulation2 = pd.DataFrame()\n",
    "\n",
    "for i in range(100):\n",
    "    randomise_constants(drake_range, timeframes_range)\n",
    "    df_temp = TimeDependentDrake(output_year=output_year, P_tech_dominance=np.random.random())\n",
    "    simulation2 = simulation2.append(df_temp.iloc[-1])\n",
    "\n",
    "reset_default_constants(drake_best, timeframes_best)\n"
   ]
  },
  {
   "cell_type": "code",
   "execution_count": null,
   "metadata": {},
   "outputs": [],
   "source": [
    "simulation2.describe()"
   ]
  },
  {
   "cell_type": "code",
   "execution_count": null,
   "metadata": {
    "scrolled": true
   },
   "outputs": [],
   "source": [
    "pd.set_option('display.max_rows', 100)\n",
    "simulation2"
   ]
  },
  {
   "cell_type": "markdown",
   "metadata": {},
   "source": [
    "1M years, 100 trials -> 2min 38s\n",
    "trials should be linear, years may not be.\n",
    "lets check... looks linear\n",
    "\n",
    "so \n",
    "10M years, 100 trials -> 26min\n",
    "10M years, 1000 trials -> 4hr 23min\n",
    "10M years, 1M trials -> 6 months\n",
    "\n",
    "I have to cut the lawn and play Ghost of Tsushima, let's do the 4.5 hour simulation!"
   ]
  },
  {
   "cell_type": "code",
   "execution_count": null,
   "metadata": {},
   "outputs": [],
   "source": [
    "%%time\n",
    "temp = TimeDependentDrake(output_year=100_000_000, P_tech_dominance=0.9)"
   ]
  },
  {
   "cell_type": "code",
   "execution_count": null,
   "metadata": {},
   "outputs": [],
   "source": [
    "%%time\n",
    "temp = TimeDependentDrake(output_year=1_000_000_000, P_tech_dominance=0.9)"
   ]
  },
  {
   "cell_type": "code",
   "execution_count": null,
   "metadata": {},
   "outputs": [],
   "source": [
    "%%time\n",
    "temp = TimeDependentDrake(output_year=10_000_000_000, P_tech_dominance=0.9)"
   ]
  },
  {
   "cell_type": "code",
   "execution_count": null,
   "metadata": {},
   "outputs": [],
   "source": [
    "%%time\n",
    "\n",
    "# TEST: Make sure it works before wasting 5 hours\n",
    "\n",
    "output_year = 1_000_000_000\n",
    "n_sims = 10\n",
    "simulation2 = pd.DataFrame()\n",
    "\n",
    "for i in range(n_sims):\n",
    "    randomise_constants(drake_range, timeframes_range)\n",
    "    df_temp = TimeDependentDrake(output_year=output_year, P_tech_dominance=np.random.random())\n",
    "    df_param_temp = pd.DataFrame([[\n",
    "        RS, FP, NE, FL, FI, FC, L, YEARS_PLANETS_TO_HABITABLE, YEARS_HABITABLE_TO_LIFE, \n",
    "        YEARS_LIFE_TO_COMPLEX_LIFE, YEARS_COMPLEX_TO_INTELLIGENCE, YEARS_INTELLIGENCE_TO_CULTURE, \n",
    "        YEARS_CULTURE_TO_TECH, EXTINCTION_SIMPLE, EXTINCTION_COMPLEX, EXTINCTION_INTELLIGENT, \n",
    "        EXTINCTION_CULTURAL, WEIBULL_SHAPE_PARAMETER, WEIBULL_SCALE_PARAMETER\n",
    "        ]],\n",
    "        columns = [\n",
    "        'RS', 'FP', 'NE', 'FL', 'FI', 'FC', 'L', 'YEARS_PLANETS_TO_HABITABLE', 'YEARS_HABITABLE_TO_LIFE',\n",
    "        'YEARS_LIFE_TO_COMPLEX_LIFE', 'YEARS_COMPLEX_TO_INTELLIGENCE', 'YEARS_INTELLIGENCE_TO_CULTURE',\n",
    "        'YEARS_CULTURE_TO_TECH', 'EXTINCTION_SIMPLE', 'EXTINCTION_COMPLEX', 'EXTINCTION_INTELLIGENT',\n",
    "        'EXTINCTION_CULTURAL', 'WEIBULL_SHAPE_PARAMETER', 'WEIBULL_SCALE_PARAMETER'\n",
    "        ] \n",
    "    )\n",
    "    simulation2 = simulation2.append(df_temp.iloc[[-1]].reset_index().join(df_param_temp))\n",
    "\n",
    "reset_default_constants(drake_best, timeframes_best)\n",
    "simulation2.to_csv('time_dep_monte_carlo_10Myr_1000trials.csv', index=False)"
   ]
  },
  {
   "cell_type": "code",
   "execution_count": null,
   "metadata": {},
   "outputs": [],
   "source": [
    "%%time\n",
    "\n",
    "# SIMULATION: 10M yr,  1k trials, should take 5 hours to run\n",
    "\n",
    "output_year = 10_000_000_000\n",
    "n_sims = 1_000\n",
    "simulation2 = pd.DataFrame()\n",
    "\n",
    "for i in range(n_sims):\n",
    "    randomise_constants(drake_range, timeframes_range)\n",
    "    df_temp = TimeDependentDrake(output_year=output_year, P_tech_dominance=np.random.random())\n",
    "    df_param_temp = pd.DataFrame([[\n",
    "        RS, FP, NE, FL, FI, FC, L, YEARS_PLANETS_TO_HABITABLE, YEARS_HABITABLE_TO_LIFE, \n",
    "        YEARS_LIFE_TO_COMPLEX_LIFE, YEARS_COMPLEX_TO_INTELLIGENCE, YEARS_INTELLIGENCE_TO_CULTURE, \n",
    "        YEARS_CULTURE_TO_TECH, EXTINCTION_SIMPLE, EXTINCTION_COMPLEX, EXTINCTION_INTELLIGENT, \n",
    "        EXTINCTION_CULTURAL, WEIBULL_SHAPE_PARAMETER, WEIBULL_SCALE_PARAMETER\n",
    "        ]],\n",
    "        columns = [\n",
    "        'RS', 'FP', 'NE', 'FL', 'FI', 'FC', 'L', 'YEARS_PLANETS_TO_HABITABLE', 'YEARS_HABITABLE_TO_LIFE',\n",
    "        'YEARS_LIFE_TO_COMPLEX_LIFE', 'YEARS_COMPLEX_TO_INTELLIGENCE', 'YEARS_INTELLIGENCE_TO_CULTURE',\n",
    "        'YEARS_CULTURE_TO_TECH', 'EXTINCTION_SIMPLE', 'EXTINCTION_COMPLEX', 'EXTINCTION_INTELLIGENT',\n",
    "        'EXTINCTION_CULTURAL', 'WEIBULL_SHAPE_PARAMETER', 'WEIBULL_SCALE_PARAMETER'\n",
    "        ] \n",
    "    )\n",
    "    simulation2 = simulation2.append(df_temp.iloc[[-1]].reset_index().join(df_param_temp))\n",
    "\n",
    "reset_default_constants(drake_best, timeframes_best)\n",
    "\n",
    "now = datetime.datetime.now().strftime(\"%m%d_%H%M\")\n",
    "simulation2.to_csv(f'time_dep_monte_carlo_10Myr_1000trials_{now}.csv', index=False)"
   ]
  },
  {
   "cell_type": "code",
   "execution_count": null,
   "metadata": {},
   "outputs": [],
   "source": [
    "simulation2.N.describe()"
   ]
  },
  {
   "cell_type": "code",
   "execution_count": null,
   "metadata": {},
   "outputs": [],
   "source": [
    "\"\"\"\n",
    "#  TODO: \n",
    "    set up a better loop, output multiple smaller csv\n",
    "    create a function to import and combine csv into df\n",
    "    look at results and figure out if any of the ranges are 0s or huge\n",
    "        use these as flags\n",
    "        monte carlo moderate values\n",
    "    figure out which parameters / functions are leading to negative numbers\n",
    "        maybe rounding - revise\n",
    "    investigate 10M or 100M timesteps to speed up the simulation process\n",
    "    make a library of functions to import, and an abbreviated workbook with only conclusions\n",
    "\"\"\""
   ]
  },
  {
   "cell_type": "code",
   "execution_count": null,
   "metadata": {},
   "outputs": [],
   "source": []
  }
 ],
 "metadata": {
  "colab": {
   "collapsed_sections": [],
   "name": "Drake Equation.ipynb",
   "provenance": []
  },
  "kernelspec": {
   "display_name": "Python 3 (ipykernel)",
   "language": "python",
   "name": "python3"
  },
  "language_info": {
   "codemirror_mode": {
    "name": "ipython",
    "version": 3
   },
   "file_extension": ".py",
   "mimetype": "text/x-python",
   "name": "python",
   "nbconvert_exporter": "python",
   "pygments_lexer": "ipython3",
   "version": "3.9.7"
  }
 },
 "nbformat": 4,
 "nbformat_minor": 1
}
