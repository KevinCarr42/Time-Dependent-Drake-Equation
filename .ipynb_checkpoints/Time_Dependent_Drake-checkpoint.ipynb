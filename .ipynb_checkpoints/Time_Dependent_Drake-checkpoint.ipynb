{
 "cells": [
  {
   "cell_type": "markdown",
   "metadata": {},
   "source": [
    "# Cosmic Neighbours\n",
    "\n",
    "In this project we are adding a time dimension to the famous [Drake Equation](https://en.wikipedia.org/wiki/Drake_equation). The Drake Equation is as follows:\n",
    "    \n",
    "#### N = Rs * fp * ne * fl * fi * fc * L\n",
    "    where:\n",
    "    N = number of civilizations with which humans could communicate\n",
    "    Rs = mean rate of star formation\n",
    "    fp = fraction of stars that have planets\n",
    "    ne = mean number of planets that could support life per star with planets\n",
    "    fl = fraction of life-supporting planets that develop life\n",
    "    fi = fraction of planets with life where life develops intelligence\n",
    "    fc = fraction of intelligent civilizations that develop communication\n",
    "    L = mean length of time that civilizations can communicate\n",
    "    \n",
    "This solution to the number of civilizations is a steady state solution. Meaning, we cannot use this estimate to estimate the number of extict civilizations in our galaxy. And it assumes that the intelligent population of the galaxy is not growing. I will try to answer these questions by adding a time dimension to the calcuation.\n"
   ]
  },
  {
   "cell_type": "markdown",
   "metadata": {},
   "source": [
    "### Imports"
   ]
  },
  {
   "cell_type": "code",
   "execution_count": 1,
   "metadata": {
    "id": "Cy9vSqKf1Pn9"
   },
   "outputs": [],
   "source": [
    "# import custom functions from drakefunctions.py\n",
    "from drakefunctions import *"
   ]
  },
  {
   "cell_type": "code",
   "execution_count": 2,
   "metadata": {},
   "outputs": [],
   "source": [
    "# import modules\n",
    "\n",
    "import numpy as np\n",
    "import pandas as pd\n",
    "pd.set_option('display.float_format', '{:_.0f}'.format)\n",
    "from scipy.stats import poisson\n",
    "from scipy.special import gamma  # not the one from scipy.stats\n",
    "from math import factorial, exp, log\n",
    "import datetime, time\n",
    "from decimal import *\n",
    "\n",
    "import matplotlib.pyplot as plt\n",
    "from matplotlib.ticker import MaxNLocator\n",
    "import matplotlib as mpl\n",
    "%matplotlib inline\n",
    "mpl.rcParams[\"axes.formatter.min_exponent\"] = 20  # no scientific notation in graphs\n",
    "plt.rcParams['axes.titley'] = 1.0    # y is in axes-relative coordinates.\n",
    "plt.rcParams['axes.titlepad'] = 10   # pad is in points... default is 6\n",
    "import seaborn as sns\n",
    "sns.set_theme()"
   ]
  },
  {
   "cell_type": "markdown",
   "metadata": {},
   "source": [
    "### CONSTANTS (and pseudo-constants$^{ [1]}$)\n",
    "\\[1] \"Pseudo-constants\" are (probably) constants that we don't know very well. We will start by making best-guess assumptions, and we will evaluate these pseudo-constants in detail later using Monte Carlo simulation."
   ]
  },
  {
   "cell_type": "code",
   "execution_count": 3,
   "metadata": {},
   "outputs": [],
   "source": [
    "# CONSTANTS treated as variables for simulation\n",
    "\n",
    "# inputs to the Drake equation\n",
    "default_params = dict(\n",
    "    # time step increments for calculations\n",
    "    YEAR_STEPS = 1_000_000,\n",
    "    # galactic attributes\n",
    "    NUM_GALAXY = 100_000_000_000,  # number of stars in a galaxy\n",
    "    GALAXY_RADIUS_LYR = 50_000,  # radius of the galaxy in lightyears\n",
    "    MODERN_ERA = 10_000_000_000,  # years since 2nd gen stars, order of magnitude approx\n",
    "    # pseudo-constants (treated as constants until Monte Carlo simulation)\n",
    "    RS = 2, \n",
    "    FP = 1, \n",
    "    NE = 0.4, \n",
    "    FL = 1, \n",
    "    FI = 1, \n",
    "    FC = 0.1, \n",
    "    L = 1000,\n",
    "    YEARS_PLANETS_TO_HABITABLE = 2_000_000_000, \n",
    "    YEARS_HABITABLE_TO_LIFE = 1_000_000_000, \n",
    "    YEARS_LIFE_TO_COMPLEX_LIFE = 1_000_000_000, \n",
    "    YEARS_COMPLEX_TO_INTELLIGENCE = 200_000_000, \n",
    "    YEARS_INTELLIGENCE_TO_CULTURE = 20_000_000, \n",
    "    YEARS_CULTURE_TO_TECH = 200_000, \n",
    "    EXTINCTION_SIMPLE = 5_000_000_000, \n",
    "    EXTINCTION_COMPLEX = 2_000_000_000, \n",
    "    EXTINCTION_INTELLIGENT = 200_000_000, \n",
    "    EXTINCTION_CULTURAL = 1_000_000, \n",
    "    # EXTINCTION_TECHNOLOGICAL = L,\n",
    "    WEIBULL_SHAPE_PARAMETER = 0.4,  # k\n",
    "    WEIBULL_SCALE_PARAMETER = 20_000  # lambda    \n",
    ")\n",
    "\n",
    "random_params = dict(\n",
    "    # time step increments for calculations\n",
    "    YEAR_STEPS = [1_000_000],\n",
    "    # galactic attributes\n",
    "    NUM_GALAXY = [100_000_000_000],  # number of stars in a galaxy\n",
    "    GALAXY_RADIUS_LYR = [50_000],  # radius of the galaxy in lightyears\n",
    "    MODERN_ERA = [10_000_000_000],  # years since 2nd gen stars, order of magnitude approx\n",
    "    # pseudo-constants (treated as constants until Monte Carlo simulation)\n",
    "    RS = [1, 2, 3],\n",
    "    FP = [0.05, 0.2, 0.5, 1.0, 2.0],\n",
    "    NE = [0.02, 0.1, 0.4, 1.0],\n",
    "    FL = [0.01, 0.1, 1],\n",
    "    FI = [0.01, 0.1, 1],\n",
    "    FC = [0.01, 0.1, 1],\n",
    "    L = [100, 1_000, 10_000, 100_000, 1_000_000],\n",
    "    YEARS_PLANETS_TO_HABITABLE = [1_000_000_000, 2_000_000_000, 3_000_000_000], \n",
    "    YEARS_HABITABLE_TO_LIFE = [100_000_000, 1_000_000_000, 5_000_000_000], \n",
    "    YEARS_LIFE_TO_COMPLEX_LIFE = [100_000_000, 1_000_000_000, 5_000_000_000, 10_000_000_000], \n",
    "    YEARS_COMPLEX_TO_INTELLIGENCE = [100_000, 1_000_000, 50_000_000, 200_000_000, 1_000_000_000], \n",
    "    YEARS_INTELLIGENCE_TO_CULTURE = [10_000, 100_000, 2_000_000, 20_000_000, 200_000_000], \n",
    "    YEARS_CULTURE_TO_TECH = [1_000, 10_000, 100_000, 200_000, 2_000_000], \n",
    "    EXTINCTION_SIMPLE = [200_000_000, 1_000_000_000, 2_000_000_000, 5_000_000_000],  # these are mass extinction events\n",
    "    EXTINCTION_COMPLEX = [200_000_000, 1_000_000_000, 2_000_000_000], # these are mass extinction events\n",
    "    EXTINCTION_INTELLIGENT = [10_000, 100_000, 1_000_000, 10_000_000, 200_000_000, 1_000_000_000], \n",
    "    EXTINCTION_CULTURAL = [1_000, 10_000, 100_000, 1_000_000, 10_000_000], \n",
    "    # EXTINCTION_TECHNOLOGICAL = L,\n",
    "    WEIBULL_SHAPE_PARAMETER = [0.4, 0.5, 0.6, 0.7, 0.8, 0.9, 1.0],  # k\n",
    "    WEIBULL_SCALE_PARAMETER = [100, 250, 500, 750, 1000, 5_000, 10_000, 20_000, 50_000, 100_000]  # lambda\n",
    ")\n"
   ]
  },
  {
   "cell_type": "code",
   "execution_count": 4,
   "metadata": {},
   "outputs": [],
   "source": [
    "# initialise params\n",
    "params = params_set(default_params)"
   ]
  },
  {
   "cell_type": "code",
   "execution_count": 5,
   "metadata": {},
   "outputs": [],
   "source": [
    "# testing\n",
    "# params_rand(random_params)"
   ]
  },
  {
   "cell_type": "code",
   "execution_count": 6,
   "metadata": {},
   "outputs": [],
   "source": [
    "# testing\n",
    "# params_set(default_params)"
   ]
  },
  {
   "cell_type": "code",
   "execution_count": 7,
   "metadata": {},
   "outputs": [
    {
     "data": {
      "text/plain": [
       "{'YEAR_STEPS': 1000000,\n",
       " 'NUM_GALAXY': 100000000000,\n",
       " 'GALAXY_RADIUS_LYR': 50000,\n",
       " 'MODERN_ERA': 10000000000,\n",
       " 'RS': 2,\n",
       " 'FP': 1,\n",
       " 'NE': 0.4,\n",
       " 'FL': 1,\n",
       " 'FI': 1,\n",
       " 'FC': 0.1,\n",
       " 'L': 1000,\n",
       " 'YEARS_PLANETS_TO_HABITABLE': 2000000000,\n",
       " 'YEARS_HABITABLE_TO_LIFE': 1000000000,\n",
       " 'YEARS_LIFE_TO_COMPLEX_LIFE': 1000000000,\n",
       " 'YEARS_COMPLEX_TO_INTELLIGENCE': 200000000,\n",
       " 'YEARS_INTELLIGENCE_TO_CULTURE': 20000000,\n",
       " 'YEARS_CULTURE_TO_TECH': 200000,\n",
       " 'EXTINCTION_SIMPLE': 5000000000,\n",
       " 'EXTINCTION_COMPLEX': 2000000000,\n",
       " 'EXTINCTION_INTELLIGENT': 200000000,\n",
       " 'EXTINCTION_CULTURAL': 1000000,\n",
       " 'WEIBULL_SHAPE_PARAMETER': 0.4,\n",
       " 'WEIBULL_SCALE_PARAMETER': 20000}"
      ]
     },
     "execution_count": 7,
     "metadata": {},
     "output_type": "execute_result"
    }
   ],
   "source": [
    "params"
   ]
  },
  {
   "cell_type": "markdown",
   "metadata": {},
   "source": [
    "### The Original Drake Equation"
   ]
  },
  {
   "cell_type": "code",
   "execution_count": 8,
   "metadata": {},
   "outputs": [
    {
     "data": {
      "text/plain": [
       "80"
      ]
     },
     "execution_count": 8,
     "metadata": {},
     "output_type": "execute_result"
    }
   ],
   "source": [
    "# Using our best estimates, the Drake Equation predicts...\n",
    "\n",
    "Drake(params)"
   ]
  },
  {
   "cell_type": "code",
   "execution_count": 9,
   "metadata": {},
   "outputs": [
    {
     "name": "stdout",
     "output_type": "stream",
     "text": [
      "1,200,000,000\n"
     ]
    }
   ],
   "source": [
    "# hack the Drake equation to estimate how many extict technological civilizations\n",
    "# might exist in the Milky Way\n",
    "immortal = params.copy()\n",
    "immortal['L'] = 15_000_000_000\n",
    "print(f\"{Drake(immortal):,}\")\n",
    "# seems way too high..."
   ]
  },
  {
   "cell_type": "markdown",
   "metadata": {},
   "source": [
    "### The Time-Dependent Drake Equation"
   ]
  },
  {
   "cell_type": "code",
   "execution_count": 10,
   "metadata": {},
   "outputs": [
    {
     "name": "stdout",
     "output_type": "stream",
     "text": [
      "Wall time: 15.7 s\n"
     ]
    },
    {
     "data": {
      "text/html": [
       "<div>\n",
       "<style scoped>\n",
       "    .dataframe tbody tr th:only-of-type {\n",
       "        vertical-align: middle;\n",
       "    }\n",
       "\n",
       "    .dataframe tbody tr th {\n",
       "        vertical-align: top;\n",
       "    }\n",
       "\n",
       "    .dataframe thead th {\n",
       "        text-align: right;\n",
       "    }\n",
       "</style>\n",
       "<table border=\"1\" class=\"dataframe\">\n",
       "  <thead>\n",
       "    <tr style=\"text-align: right;\">\n",
       "      <th></th>\n",
       "      <th>num_stars</th>\n",
       "      <th>num_planets</th>\n",
       "      <th>num_habitable_planets</th>\n",
       "      <th>num_life</th>\n",
       "      <th>num_complex_life</th>\n",
       "      <th>num_intelligent_life</th>\n",
       "      <th>num_cultural_life</th>\n",
       "      <th>N</th>\n",
       "      <th>N_extinct</th>\n",
       "    </tr>\n",
       "    <tr>\n",
       "      <th>year</th>\n",
       "      <th></th>\n",
       "      <th></th>\n",
       "      <th></th>\n",
       "      <th></th>\n",
       "      <th></th>\n",
       "      <th></th>\n",
       "      <th></th>\n",
       "      <th></th>\n",
       "      <th></th>\n",
       "    </tr>\n",
       "  </thead>\n",
       "  <tbody>\n",
       "    <tr>\n",
       "      <th>9996000000</th>\n",
       "      <td>95_039_003_081</td>\n",
       "      <td>38_015_601_233</td>\n",
       "      <td>36_963_131_775</td>\n",
       "      <td>35_349_216_742</td>\n",
       "      <td>22_739_909_023</td>\n",
       "      <td>11_328_440_917</td>\n",
       "      <td>704_431_474</td>\n",
       "      <td>101_956_517</td>\n",
       "      <td>519_514_241_735</td>\n",
       "    </tr>\n",
       "    <tr>\n",
       "      <th>9997000000</th>\n",
       "      <td>95_039_102_301</td>\n",
       "      <td>38_015_640_921</td>\n",
       "      <td>36_963_658_010</td>\n",
       "      <td>35_350_086_706</td>\n",
       "      <td>22_740_677_473</td>\n",
       "      <td>11_328_840_529</td>\n",
       "      <td>704_456_337</td>\n",
       "      <td>101_960_117</td>\n",
       "      <td>519_616_198_252</td>\n",
       "    </tr>\n",
       "    <tr>\n",
       "      <th>9998000000</th>\n",
       "      <td>95_039_201_519</td>\n",
       "      <td>38_015_680_608</td>\n",
       "      <td>36_964_184_001</td>\n",
       "      <td>35_350_956_308</td>\n",
       "      <td>22_741_445_626</td>\n",
       "      <td>11_329_239_987</td>\n",
       "      <td>704_481_189</td>\n",
       "      <td>101_963_715</td>\n",
       "      <td>519_718_158_369</td>\n",
       "    </tr>\n",
       "    <tr>\n",
       "      <th>9999000000</th>\n",
       "      <td>95_039_300_735</td>\n",
       "      <td>38_015_720_294</td>\n",
       "      <td>36_964_709_749</td>\n",
       "      <td>35_351_825_549</td>\n",
       "      <td>22_742_213_480</td>\n",
       "      <td>11_329_639_292</td>\n",
       "      <td>704_506_033</td>\n",
       "      <td>101_967_312</td>\n",
       "      <td>519_820_122_084</td>\n",
       "    </tr>\n",
       "    <tr>\n",
       "      <th>10000000000</th>\n",
       "      <td>95_039_399_949</td>\n",
       "      <td>38_015_759_980</td>\n",
       "      <td>36_965_235_255</td>\n",
       "      <td>35_352_694_429</td>\n",
       "      <td>22_742_981_037</td>\n",
       "      <td>11_330_038_443</td>\n",
       "      <td>704_530_866</td>\n",
       "      <td>101_970_908</td>\n",
       "      <td>519_922_089_396</td>\n",
       "    </tr>\n",
       "  </tbody>\n",
       "</table>\n",
       "</div>"
      ],
      "text/plain": [
       "                 num_stars    num_planets  num_habitable_planets  \\\n",
       "year                                                               \n",
       "9996000000  95_039_003_081 38_015_601_233         36_963_131_775   \n",
       "9997000000  95_039_102_301 38_015_640_921         36_963_658_010   \n",
       "9998000000  95_039_201_519 38_015_680_608         36_964_184_001   \n",
       "9999000000  95_039_300_735 38_015_720_294         36_964_709_749   \n",
       "10000000000 95_039_399_949 38_015_759_980         36_965_235_255   \n",
       "\n",
       "                  num_life  num_complex_life  num_intelligent_life  \\\n",
       "year                                                                 \n",
       "9996000000  35_349_216_742    22_739_909_023        11_328_440_917   \n",
       "9997000000  35_350_086_706    22_740_677_473        11_328_840_529   \n",
       "9998000000  35_350_956_308    22_741_445_626        11_329_239_987   \n",
       "9999000000  35_351_825_549    22_742_213_480        11_329_639_292   \n",
       "10000000000 35_352_694_429    22_742_981_037        11_330_038_443   \n",
       "\n",
       "             num_cultural_life           N       N_extinct  \n",
       "year                                                        \n",
       "9996000000         704_431_474 101_956_517 519_514_241_735  \n",
       "9997000000         704_456_337 101_960_117 519_616_198_252  \n",
       "9998000000         704_481_189 101_963_715 519_718_158_369  \n",
       "9999000000         704_506_033 101_967_312 519_820_122_084  \n",
       "10000000000        704_530_866 101_970_908 519_922_089_396  "
      ]
     },
     "execution_count": 10,
     "metadata": {},
     "output_type": "execute_result"
    }
   ],
   "source": [
    "%%time\n",
    "history_of_life = TimeDependentDrake(params, output_year=10_000_000_000, P_tech_dominance=0.9)\n",
    "\n",
    "history_of_life.tail()"
   ]
  },
  {
   "cell_type": "code",
   "execution_count": 11,
   "metadata": {},
   "outputs": [
    {
     "data": {
      "image/png": "[encoded data removed]",
      "text/plain": [
       "<Figure size 864x432 with 1 Axes>"
      ]
     },
     "metadata": {},
     "output_type": "display_data"
    }
   ],
   "source": [
    "# plot of technological species over time\n",
    "\n",
    "plt.figure(figsize=(12, 6))\n",
    "plot = sns.lineplot(x=history_of_life.index/1_000_000_000, y=history_of_life.N);\n",
    "plt.yticks(rotation=0);\n",
    "plot.set_ylabel('Number of Technological Species');\n",
    "plot.set_xlabel('Billions of Years');"
   ]
  },
  {
   "cell_type": "markdown",
   "metadata": {},
   "source": [
    "# QA UPDATES TO POISSON FUNCTION"
   ]
  },
  {
   "cell_type": "code",
   "execution_count": 12,
   "metadata": {},
   "outputs": [],
   "source": [
    "history_of_life.to_csv('history_of_life_10B_yr.csv')"
   ]
  },
  {
   "attachments": {
    "image.png": {
     "image/png": "[encoded data removed]"
    }
   },
   "cell_type": "markdown",
   "metadata": {},
   "source": [
    "### is Poisson working properly?\n",
    "![image.png](attachment:image.png)"
   ]
  },
  {
   "cell_type": "code",
   "execution_count": 89,
   "metadata": {},
   "outputs": [
    {
     "data": {
      "image/png": "[encoded data removed]",
      "text/plain": [
       "<Figure size 864x432 with 1 Axes>"
      ]
     },
     "metadata": {},
     "output_type": "display_data"
    }
   ],
   "source": [
    "# plot of\n",
    "series = history_of_life[list(history_of_life.columns)[3]]\n",
    "\n",
    "plt.figure(figsize=(12, 6))\n",
    "plot = sns.lineplot(x=history_of_life.index/1_000_000_000, y=series);\n",
    "plt.yticks(rotation=0);\n",
    "plot.set_xlabel('Billions of Years');"
   ]
  },
  {
   "cell_type": "code",
   "execution_count": 73,
   "metadata": {},
   "outputs": [
    {
     "name": "stdout",
     "output_type": "stream",
     "text": [
      "0.0500% chance of transition over 1M years\n",
      "2_000_000_000 years per transition on average\n",
      "39% chance of transition over 1B years\n"
     ]
    }
   ],
   "source": [
    "# transition(params, num_from, num_to, prob_of_transition)\n",
    "num_from, num_to = 1_000_000, 0\n",
    "prob_of_transition = params['YEARS_PLANETS_TO_HABITABLE']\n",
    "\n",
    "# probability, avg yrs\n",
    "prob_transition = transition(params, num_from, num_to, prob_of_transition) / num_from \n",
    "print(f\"{prob_transition*100:_.4f}% chance of transition over 1M years\")\n",
    "print(f\"{prob_of_transition:_.0f} years per transition on average\")\n",
    "\n",
    "# percent that transition over 1B years\n",
    "output = 0\n",
    "for i in range(1000):\n",
    "    output += prob_transition * (1 - output)\n",
    "    \n",
    "print(f\"{output*100:_.0f}% chance of transition over 1B years\")"
   ]
  },
  {
   "cell_type": "code",
   "execution_count": 67,
   "metadata": {},
   "outputs": [
    {
     "name": "stdout",
     "output_type": "stream",
     "text": [
      "0.1000% chance of transition over 1B years\n",
      "1_000_000_000 years per transition on average\n",
      "63% chance of transition over 1B years\n"
     ]
    }
   ],
   "source": [
    "# transition(params, num_from, num_to, prob_of_transition)\n",
    "num_from, num_to = 1_000_000, 0\n",
    "prob_of_transition = params['YEARS_HABITABLE_TO_LIFE']\n",
    "\n",
    "# probability, avg yrs\n",
    "prob_transition = transition(params, num_from, num_to, prob_of_transition) / num_from \n",
    "print(f\"{prob_transition*100:_.4f}% chance of transition over 1M years\")\n",
    "print(f\"{prob_of_transition:_.0f} years per transition on average\")\n",
    "\n",
    "# percent that transition over 1B years\n",
    "output = 0\n",
    "for i in range(1000):\n",
    "    output += prob_transition * (1 - output)\n",
    "    \n",
    "print(f\"{output*100:_.0f}% chance of transition over 1B years\")"
   ]
  },
  {
   "cell_type": "code",
   "execution_count": 69,
   "metadata": {},
   "outputs": [
    {
     "name": "stdout",
     "output_type": "stream",
     "text": [
      "0.1000% chance of transition over 1M years\n",
      "1_000_000_000 years per transition on average\n",
      "63% chance of transition over 1B years\n"
     ]
    }
   ],
   "source": [
    "# transition(params, num_from, num_to, prob_of_transition)\n",
    "num_from, num_to = 1_000_000, 0\n",
    "prob_of_transition = params['YEARS_LIFE_TO_COMPLEX_LIFE']\n",
    "\n",
    "# probability, avg yrs\n",
    "prob_transition = transition(params, num_from, num_to, prob_of_transition) / num_from \n",
    "print(f\"{prob_transition*100:_.4f}% chance of transition over 1M years\")\n",
    "print(f\"{prob_of_transition:_.0f} years per transition on average\")\n",
    "\n",
    "# percent that transition over 1B years\n",
    "output = 0\n",
    "for i in range(1000):\n",
    "    output += prob_transition * (1 - output)\n",
    "    \n",
    "print(f\"{output*100:_.0f}% chance of transition over 1B years\")"
   ]
  },
  {
   "cell_type": "code",
   "execution_count": 70,
   "metadata": {},
   "outputs": [
    {
     "name": "stdout",
     "output_type": "stream",
     "text": [
      "0.4988% chance of transition over 1M years\n",
      "200_000_000 years per transition on average\n",
      "99% chance of transition over 1B years\n"
     ]
    }
   ],
   "source": [
    "# transition(params, num_from, num_to, prob_of_transition)\n",
    "num_from, num_to = 1_000_000, 0\n",
    "prob_of_transition = params['YEARS_COMPLEX_TO_INTELLIGENCE']\n",
    "\n",
    "# probability, avg yrs\n",
    "prob_transition = transition(params, num_from, num_to, prob_of_transition) / num_from \n",
    "print(f\"{prob_transition*100:_.4f}% chance of transition over 1M years\")\n",
    "print(f\"{prob_of_transition:_.0f} years per transition on average\")\n",
    "\n",
    "# percent that transition over 1B years\n",
    "output = 0\n",
    "for i in range(1000):\n",
    "    output += prob_transition * (1 - output)\n",
    "    \n",
    "print(f\"{output*100:_.0f}% chance of transition over 1B years\")"
   ]
  },
  {
   "cell_type": "code",
   "execution_count": 71,
   "metadata": {},
   "outputs": [
    {
     "name": "stdout",
     "output_type": "stream",
     "text": [
      "4.8771% chance of transition over 1M years\n",
      "20_000_000 years per transition on average\n",
      "100% chance of transition over 1B years\n"
     ]
    }
   ],
   "source": [
    "# transition(params, num_from, num_to, prob_of_transition)\n",
    "num_from, num_to = 1_000_000, 0\n",
    "prob_of_transition = params['YEARS_INTELLIGENCE_TO_CULTURE']\n",
    "\n",
    "# probability, avg yrs\n",
    "prob_transition = transition(params, num_from, num_to, prob_of_transition) / num_from \n",
    "print(f\"{prob_transition*100:_.4f}% chance of transition over 1M years\")\n",
    "print(f\"{prob_of_transition:_.0f} years per transition on average\")\n",
    "\n",
    "# percent that transition over 1B years\n",
    "output = 0\n",
    "for i in range(1000):\n",
    "    output += prob_transition * (1 - output)\n",
    "    \n",
    "print(f\"{output*100:_.0f}% chance of transition over 1B years\")"
   ]
  },
  {
   "cell_type": "code",
   "execution_count": 72,
   "metadata": {},
   "outputs": [
    {
     "name": "stdout",
     "output_type": "stream",
     "text": [
      "99.3262% chance of transition over 1M years\n",
      "200_000 years per transition on average\n",
      "100% chance of transition over 1B years\n"
     ]
    }
   ],
   "source": [
    "# transition(params, num_from, num_to, prob_of_transition)\n",
    "num_from, num_to = 1_000_000, 0\n",
    "prob_of_transition = params['YEARS_CULTURE_TO_TECH']\n",
    "\n",
    "# probability, avg yrs\n",
    "prob_transition = transition(params, num_from, num_to, prob_of_transition) / num_from \n",
    "print(f\"{prob_transition*100:_.4f}% chance of transition over 1M years\")\n",
    "print(f\"{prob_of_transition:_.0f} years per transition on average\")\n",
    "\n",
    "# percent that transition over 1B years\n",
    "output = 0\n",
    "for i in range(1000):\n",
    "    output += prob_transition * (1 - output)\n",
    "    \n",
    "print(f\"{output*100:_.0f}% chance of transition over 1B years\")"
   ]
  },
  {
   "cell_type": "code",
   "execution_count": 20,
   "metadata": {},
   "outputs": [
    {
     "data": {
      "text/plain": [
       "(1.99999999998e-05,\n",
       " 0.0005198750208305296,\n",
       " 0.005007520807317488,\n",
       " 0.6321405588285575,\n",
       " 1.0)"
      ]
     },
     "execution_count": 20,
     "metadata": {},
     "output_type": "execute_result"
    }
   ],
   "source": [
    "num = 1_000_000\n",
    "\n",
    "extinction_simple, extinction_complex, extinction_intelligent, extinction_cultural, extinction_technological = new_extinctions(\n",
    "    params, \n",
    "    num_stars=100_000_000_000, \n",
    "    num_life=num, \n",
    "    num_complex_life=num, \n",
    "    num_intelligent_life=num, \n",
    "    num_cultural_life=num, \n",
    "    N=num\n",
    ")\n",
    "\n",
    "extinction_simple/num, extinction_complex/num, extinction_intelligent/num, extinction_cultural/num, extinction_technological/num"
   ]
  },
  {
   "cell_type": "markdown",
   "metadata": {},
   "source": [
    "# TEST YEAR STEPS"
   ]
  },
  {
   "cell_type": "code",
   "execution_count": 21,
   "metadata": {},
   "outputs": [],
   "source": [
    "def new_technological(params, num_cultural_life, N):\n",
    "    \"\"\"\n",
    "    the number of planets with cultural life that develop technological life\n",
    "    doesn't track planets, uses ratios to approximate expectations\n",
    "    doesn't account for number of tech species, ie, doesn't use (num_cultural_life - num_tech_life)\n",
    "    this is because of P_tech_dominance:\n",
    "        some proportion of cultural species transition or otherwise become\n",
    "        extinct as a result of sharing a planet with a technological species\n",
    "        P_tech_dominance is not a CONSTANT, it is treated as an input to TimeDependentDrake()\n",
    "    FC is the percentage of intelligent species that develop communication\n",
    "    \"\"\"\n",
    "    \n",
    "    return num_cultural_life * prob_poisson(params['YEARS_CULTURE_TO_TECH'], params['YEAR_STEPS'])"
   ]
  },
  {
   "cell_type": "code",
   "execution_count": 22,
   "metadata": {},
   "outputs": [],
   "source": [
    "# reset\n",
    "params['YEAR_STEPS'] = 1_000_000"
   ]
  },
  {
   "cell_type": "code",
   "execution_count": 23,
   "metadata": {},
   "outputs": [
    {
     "data": {
      "text/plain": [
       "0.9932620530009145"
      ]
     },
     "execution_count": 23,
     "metadata": {},
     "output_type": "execute_result"
    }
   ],
   "source": [
    "# reset\n",
    "params['YEAR_STEPS'] = 1_000_000\n",
    "\n",
    "num_cult = 1_000_000\n",
    "num_N = 0\n",
    "\n",
    "new_technological(params, num_cultural_life=num_cult, N=num_N) / num_cult\n",
    "\n",
    "# 99% of cultuures evolve technology over 1M yr"
   ]
  },
  {
   "cell_type": "code",
   "execution_count": 24,
   "metadata": {},
   "outputs": [
    {
     "data": {
      "text/plain": [
       "(0.9932620530009145, 0.3934693402873665)"
      ]
     },
     "execution_count": 24,
     "metadata": {},
     "output_type": "execute_result"
    }
   ],
   "source": [
    "params['YEAR_STEPS'] = 100_000\n",
    "output = 0\n",
    "conversion_ratio = new_technological(params, num_cultural_life=num_cult, N=num_N) / num_cult\n",
    "for i in range(10):\n",
    "    output += conversion_ratio * (1 - output)\n",
    "output, conversion_ratio\n",
    "\n",
    "# testing GOOD - this ratio is commutatitve"
   ]
  },
  {
   "cell_type": "code",
   "execution_count": 25,
   "metadata": {},
   "outputs": [],
   "source": [
    "def new_technological(params, num_cultural_life, N):\n",
    "    \"\"\"\n",
    "    the number of planets with cultural life that develop technological life\n",
    "    doesn't track planets, uses ratios to approximate expectations\n",
    "    doesn't account for number of tech species, ie, doesn't use (num_cultural_life - num_tech_life)\n",
    "    this is because of P_tech_dominance:\n",
    "        some proportion of cultural species transition or otherwise become\n",
    "        extinct as a result of sharing a planet with a technological species\n",
    "        P_tech_dominance is not a CONSTANT, it is treated as an input to TimeDependentDrake()\n",
    "    FC is the percentage of intelligent species that develop communication\n",
    "    \"\"\"\n",
    "    \n",
    "    return num_cultural_life * params['FC'] * prob_poisson(params['YEARS_CULTURE_TO_TECH'], params['YEAR_STEPS'])"
   ]
  },
  {
   "cell_type": "code",
   "execution_count": 26,
   "metadata": {},
   "outputs": [
    {
     "data": {
      "text/plain": [
       "0.09932620530009145"
      ]
     },
     "execution_count": 26,
     "metadata": {},
     "output_type": "execute_result"
    }
   ],
   "source": [
    "# reset\n",
    "params['YEAR_STEPS'] = 1_000_000\n",
    "\n",
    "num_cult = 1_000_000\n",
    "num_N = 0\n",
    "\n",
    "new_technological(params, num_cultural_life=num_cult, N=num_N) / num_cult\n",
    "\n",
    "# % of cultuures evolve technology over 1M yr"
   ]
  },
  {
   "cell_type": "code",
   "execution_count": 27,
   "metadata": {},
   "outputs": [
    {
     "data": {
      "text/plain": [
       "(0.33063078988391387, 0.03934693402873665)"
      ]
     },
     "execution_count": 27,
     "metadata": {},
     "output_type": "execute_result"
    }
   ],
   "source": [
    "params['YEAR_STEPS'] = 100_000\n",
    "output = 0\n",
    "conversion_ratio = new_technological(params, num_cultural_life=num_cult, N=num_N) / num_cult\n",
    "for i in range(10):\n",
    "    output += conversion_ratio * (1 - output)\n",
    "output, conversion_ratio\n",
    "\n",
    "# testing BAD, not commutative anymore, because of FC factor"
   ]
  },
  {
   "cell_type": "code",
   "execution_count": 28,
   "metadata": {},
   "outputs": [],
   "source": [
    "# reset\n",
    "params['YEAR_STEPS'] = 1_000_000"
   ]
  },
  {
   "cell_type": "code",
   "execution_count": 75,
   "metadata": {},
   "outputs": [],
   "source": [
    "# USE THIS ONE\n",
    "\n",
    "def new_technological(params, num_cultural_life, N):\n",
    "    \"\"\"\n",
    "    the number of planets with cultural life that develop technological life\n",
    "    doesn't track planets, uses ratios to approximate expectations\n",
    "    doesn't account for number of tech species, ie, doesn't use (num_cultural_life - num_tech_life)\n",
    "    this is because of P_tech_dominance:\n",
    "        some proportion of cultural species transition or otherwise become\n",
    "        extinct as a result of sharing a planet with a technological species\n",
    "        P_tech_dominance is not a CONSTANT, it is treated as an input to TimeDependentDrake()\n",
    "    FC is the percentage of intelligent species that develop communication\n",
    "    \"\"\"\n",
    "    \n",
    "    return num_cultural_life * prob_poisson(params['YEARS_CULTURE_TO_TECH'] / params['FC'], params['YEAR_STEPS'])"
   ]
  },
  {
   "cell_type": "code",
   "execution_count": 30,
   "metadata": {},
   "outputs": [
    {
     "data": {
      "text/plain": [
       "0.3934693402873665"
      ]
     },
     "execution_count": 30,
     "metadata": {},
     "output_type": "execute_result"
    }
   ],
   "source": [
    "# reset\n",
    "params['YEAR_STEPS'] = 1_000_000\n",
    "\n",
    "num_cult = 1_000_000\n",
    "num_N = 0\n",
    "\n",
    "new_technological(params, num_cultural_life=num_cult, N=num_N) / num_cult\n",
    "\n",
    "# % of cultuures evolve technology over 1M yr"
   ]
  },
  {
   "cell_type": "code",
   "execution_count": 31,
   "metadata": {},
   "outputs": [
    {
     "data": {
      "text/plain": [
       "(0.3934693402873665, 0.048770575499285984)"
      ]
     },
     "execution_count": 31,
     "metadata": {},
     "output_type": "execute_result"
    }
   ],
   "source": [
    "params['YEAR_STEPS'] = 100_000\n",
    "output = 0\n",
    "conversion_ratio = new_technological(params, num_cultural_life=num_cult, N=num_N) / num_cult\n",
    "for i in range(10):\n",
    "    output += conversion_ratio * (1 - output)\n",
    "output, conversion_ratio\n",
    "\n",
    "# testing GOOD AGAIN, now commutative and uses FC"
   ]
  },
  {
   "cell_type": "code",
   "execution_count": 32,
   "metadata": {},
   "outputs": [],
   "source": [
    "# reset\n",
    "params['YEAR_STEPS'] = 1_000_000"
   ]
  },
  {
   "cell_type": "markdown",
   "metadata": {},
   "source": [
    "##### compare values of YEAR_STEPS \n",
    "    complex or higher are not working \n",
    "    num_life or higher are inconsistent with old odds calcs"
   ]
  },
  {
   "cell_type": "code",
   "execution_count": 82,
   "metadata": {},
   "outputs": [
    {
     "name": "stdout",
     "output_type": "stream",
     "text": [
      "Wall time: 1.53 s\n"
     ]
    },
    {
     "data": {
      "text/html": [
       "<div>\n",
       "<style scoped>\n",
       "    .dataframe tbody tr th:only-of-type {\n",
       "        vertical-align: middle;\n",
       "    }\n",
       "\n",
       "    .dataframe tbody tr th {\n",
       "        vertical-align: top;\n",
       "    }\n",
       "\n",
       "    .dataframe thead th {\n",
       "        text-align: right;\n",
       "    }\n",
       "</style>\n",
       "<table border=\"1\" class=\"dataframe\">\n",
       "  <thead>\n",
       "    <tr style=\"text-align: right;\">\n",
       "      <th></th>\n",
       "      <th>num_stars</th>\n",
       "      <th>num_planets</th>\n",
       "      <th>num_habitable_planets</th>\n",
       "      <th>num_life</th>\n",
       "      <th>num_complex_life</th>\n",
       "      <th>num_intelligent_life</th>\n",
       "      <th>num_cultural_life</th>\n",
       "      <th>N</th>\n",
       "      <th>N_extinct</th>\n",
       "    </tr>\n",
       "    <tr>\n",
       "      <th>year</th>\n",
       "      <th></th>\n",
       "      <th></th>\n",
       "      <th></th>\n",
       "      <th></th>\n",
       "      <th></th>\n",
       "      <th></th>\n",
       "      <th></th>\n",
       "      <th></th>\n",
       "      <th></th>\n",
       "    </tr>\n",
       "  </thead>\n",
       "  <tbody>\n",
       "    <tr>\n",
       "      <th>9960000000</th>\n",
       "      <td>95_049_310_897</td>\n",
       "      <td>38_019_724_359</td>\n",
       "      <td>36_956_349_231</td>\n",
       "      <td>35_331_631_432</td>\n",
       "      <td>22_765_440_925</td>\n",
       "      <td>11_538_831_259</td>\n",
       "      <td>4_316_514_984</td>\n",
       "      <td>-707_253</td>\n",
       "      <td>-374_811_412</td>\n",
       "    </tr>\n",
       "    <tr>\n",
       "      <th>9970000000</th>\n",
       "      <td>95_050_301_035</td>\n",
       "      <td>38_020_120_414</td>\n",
       "      <td>36_961_666_107</td>\n",
       "      <td>35_340_437_238</td>\n",
       "      <td>22_773_246_725</td>\n",
       "      <td>11_542_969_200</td>\n",
       "      <td>4_318_069_449</td>\n",
       "      <td>-707_500</td>\n",
       "      <td>-375_518_666</td>\n",
       "    </tr>\n",
       "    <tr>\n",
       "      <th>9980000000</th>\n",
       "      <td>95_051_290_975</td>\n",
       "      <td>38_020_516_390</td>\n",
       "      <td>36_966_958_378</td>\n",
       "      <td>35_349_206_571</td>\n",
       "      <td>22_781_022_336</td>\n",
       "      <td>11_547_091_276</td>\n",
       "      <td>4_319_617_958</td>\n",
       "      <td>-707_745</td>\n",
       "      <td>-376_226_165</td>\n",
       "    </tr>\n",
       "    <tr>\n",
       "      <th>9990000000</th>\n",
       "      <td>95_052_280_717</td>\n",
       "      <td>38_020_912_287</td>\n",
       "      <td>36_972_226_168</td>\n",
       "      <td>35_357_939_557</td>\n",
       "      <td>22_788_767_852</td>\n",
       "      <td>11_551_197_536</td>\n",
       "      <td>4_321_160_531</td>\n",
       "      <td>-707_989</td>\n",
       "      <td>-376_933_910</td>\n",
       "    </tr>\n",
       "    <tr>\n",
       "      <th>10000000000</th>\n",
       "      <td>95_053_270_261</td>\n",
       "      <td>38_021_308_104</td>\n",
       "      <td>36_977_469_599</td>\n",
       "      <td>35_366_636_320</td>\n",
       "      <td>22_796_483_365</td>\n",
       "      <td>11_555_288_028</td>\n",
       "      <td>4_322_697_186</td>\n",
       "      <td>-708_233</td>\n",
       "      <td>-377_641_900</td>\n",
       "    </tr>\n",
       "  </tbody>\n",
       "</table>\n",
       "</div>"
      ],
      "text/plain": [
       "                 num_stars    num_planets  num_habitable_planets  \\\n",
       "year                                                               \n",
       "9960000000  95_049_310_897 38_019_724_359         36_956_349_231   \n",
       "9970000000  95_050_301_035 38_020_120_414         36_961_666_107   \n",
       "9980000000  95_051_290_975 38_020_516_390         36_966_958_378   \n",
       "9990000000  95_052_280_717 38_020_912_287         36_972_226_168   \n",
       "10000000000 95_053_270_261 38_021_308_104         36_977_469_599   \n",
       "\n",
       "                  num_life  num_complex_life  num_intelligent_life  \\\n",
       "year                                                                 \n",
       "9960000000  35_331_631_432    22_765_440_925        11_538_831_259   \n",
       "9970000000  35_340_437_238    22_773_246_725        11_542_969_200   \n",
       "9980000000  35_349_206_571    22_781_022_336        11_547_091_276   \n",
       "9990000000  35_357_939_557    22_788_767_852        11_551_197_536   \n",
       "10000000000 35_366_636_320    22_796_483_365        11_555_288_028   \n",
       "\n",
       "             num_cultural_life        N    N_extinct  \n",
       "year                                                  \n",
       "9960000000       4_316_514_984 -707_253 -374_811_412  \n",
       "9970000000       4_318_069_449 -707_500 -375_518_666  \n",
       "9980000000       4_319_617_958 -707_745 -376_226_165  \n",
       "9990000000       4_321_160_531 -707_989 -376_933_910  \n",
       "10000000000      4_322_697_186 -708_233 -377_641_900  "
      ]
     },
     "execution_count": 82,
     "metadata": {},
     "output_type": "execute_result"
    }
   ],
   "source": [
    "%%time\n",
    "params['YEAR_STEPS'] = 10_000_000\n",
    "tech_dominance_0 = TimeDependentDrake(params, output_year=10_000_000_000, P_tech_dominance=1)\n",
    "\n",
    "tech_dominance_0.tail()"
   ]
  },
  {
   "cell_type": "code",
   "execution_count": 83,
   "metadata": {},
   "outputs": [
    {
     "name": "stdout",
     "output_type": "stream",
     "text": [
      "Wall time: 176 ms\n"
     ]
    },
    {
     "data": {
      "text/html": [
       "<div>\n",
       "<style scoped>\n",
       "    .dataframe tbody tr th:only-of-type {\n",
       "        vertical-align: middle;\n",
       "    }\n",
       "\n",
       "    .dataframe tbody tr th {\n",
       "        vertical-align: top;\n",
       "    }\n",
       "\n",
       "    .dataframe thead th {\n",
       "        text-align: right;\n",
       "    }\n",
       "</style>\n",
       "<table border=\"1\" class=\"dataframe\">\n",
       "  <thead>\n",
       "    <tr style=\"text-align: right;\">\n",
       "      <th></th>\n",
       "      <th>num_stars</th>\n",
       "      <th>num_planets</th>\n",
       "      <th>num_habitable_planets</th>\n",
       "      <th>num_life</th>\n",
       "      <th>num_complex_life</th>\n",
       "      <th>num_intelligent_life</th>\n",
       "      <th>num_cultural_life</th>\n",
       "      <th>N</th>\n",
       "      <th>N_extinct</th>\n",
       "    </tr>\n",
       "    <tr>\n",
       "      <th>year</th>\n",
       "      <th></th>\n",
       "      <th></th>\n",
       "      <th></th>\n",
       "      <th></th>\n",
       "      <th></th>\n",
       "      <th></th>\n",
       "      <th></th>\n",
       "      <th></th>\n",
       "      <th></th>\n",
       "    </tr>\n",
       "  </thead>\n",
       "  <tbody>\n",
       "    <tr>\n",
       "      <th>9600000000</th>\n",
       "      <td>95_155_520_978</td>\n",
       "      <td>38_062_208_391</td>\n",
       "      <td>36_880_011_661</td>\n",
       "      <td>35_132_996_853</td>\n",
       "      <td>22_982_710_236</td>\n",
       "      <td>13_460_390_175</td>\n",
       "      <td>8_062_119_156</td>\n",
       "      <td>-16_869_224</td>\n",
       "      <td>-777_640_929</td>\n",
       "    </tr>\n",
       "    <tr>\n",
       "      <th>9700000000</th>\n",
       "      <td>95_165_209_936</td>\n",
       "      <td>38_066_083_974</td>\n",
       "      <td>36_939_121_498</td>\n",
       "      <td>35_232_431_096</td>\n",
       "      <td>23_074_012_901</td>\n",
       "      <td>13_517_594_401</td>\n",
       "      <td>8_097_860_038</td>\n",
       "      <td>-16_945_142</td>\n",
       "      <td>-794_510_153</td>\n",
       "    </tr>\n",
       "    <tr>\n",
       "      <th>9800000000</th>\n",
       "      <td>95_174_879_516</td>\n",
       "      <td>38_069_951_806</td>\n",
       "      <td>36_995_469_621</td>\n",
       "      <td>35_327_845_681</td>\n",
       "      <td>23_161_871_909</td>\n",
       "      <td>13_572_666_651</td>\n",
       "      <td>8_132_278_718</td>\n",
       "      <td>-17_018_530</td>\n",
       "      <td>-811_455_295</td>\n",
       "    </tr>\n",
       "    <tr>\n",
       "      <th>9900000000</th>\n",
       "      <td>95_184_529_757</td>\n",
       "      <td>38_073_811_903</td>\n",
       "      <td>37_049_193_731</td>\n",
       "      <td>35_419_367_985</td>\n",
       "      <td>23_246_391_793</td>\n",
       "      <td>13_625_671_287</td>\n",
       "      <td>8_165_414_699</td>\n",
       "      <td>-17_089_128</td>\n",
       "      <td>-828_473_825</td>\n",
       "    </tr>\n",
       "    <tr>\n",
       "      <th>10000000000</th>\n",
       "      <td>95_194_160_697</td>\n",
       "      <td>38_077_664_279</td>\n",
       "      <td>37_100_424_639</td>\n",
       "      <td>35_507_126_121</td>\n",
       "      <td>23_327_674_420</td>\n",
       "      <td>13_676_670_940</td>\n",
       "      <td>8_197_306_703</td>\n",
       "      <td>-17_157_021</td>\n",
       "      <td>-845_562_954</td>\n",
       "    </tr>\n",
       "  </tbody>\n",
       "</table>\n",
       "</div>"
      ],
      "text/plain": [
       "                 num_stars    num_planets  num_habitable_planets  \\\n",
       "year                                                               \n",
       "9600000000  95_155_520_978 38_062_208_391         36_880_011_661   \n",
       "9700000000  95_165_209_936 38_066_083_974         36_939_121_498   \n",
       "9800000000  95_174_879_516 38_069_951_806         36_995_469_621   \n",
       "9900000000  95_184_529_757 38_073_811_903         37_049_193_731   \n",
       "10000000000 95_194_160_697 38_077_664_279         37_100_424_639   \n",
       "\n",
       "                  num_life  num_complex_life  num_intelligent_life  \\\n",
       "year                                                                 \n",
       "9600000000  35_132_996_853    22_982_710_236        13_460_390_175   \n",
       "9700000000  35_232_431_096    23_074_012_901        13_517_594_401   \n",
       "9800000000  35_327_845_681    23_161_871_909        13_572_666_651   \n",
       "9900000000  35_419_367_985    23_246_391_793        13_625_671_287   \n",
       "10000000000 35_507_126_121    23_327_674_420        13_676_670_940   \n",
       "\n",
       "             num_cultural_life           N    N_extinct  \n",
       "year                                                     \n",
       "9600000000       8_062_119_156 -16_869_224 -777_640_929  \n",
       "9700000000       8_097_860_038 -16_945_142 -794_510_153  \n",
       "9800000000       8_132_278_718 -17_018_530 -811_455_295  \n",
       "9900000000       8_165_414_699 -17_089_128 -828_473_825  \n",
       "10000000000      8_197_306_703 -17_157_021 -845_562_954  "
      ]
     },
     "execution_count": 83,
     "metadata": {},
     "output_type": "execute_result"
    }
   ],
   "source": [
    "%%time\n",
    "params['YEAR_STEPS'] = 100_000_000\n",
    "tech_dominance_0 = TimeDependentDrake(params, output_year=10_000_000_000, P_tech_dominance=1)\n",
    "\n",
    "tech_dominance_0.tail()"
   ]
  },
  {
   "cell_type": "code",
   "execution_count": 84,
   "metadata": {},
   "outputs": [
    {
     "name": "stdout",
     "output_type": "stream",
     "text": [
      "Wall time: 15.7 s\n"
     ]
    },
    {
     "data": {
      "text/html": [
       "<div>\n",
       "<style scoped>\n",
       "    .dataframe tbody tr th:only-of-type {\n",
       "        vertical-align: middle;\n",
       "    }\n",
       "\n",
       "    .dataframe tbody tr th {\n",
       "        vertical-align: top;\n",
       "    }\n",
       "\n",
       "    .dataframe thead th {\n",
       "        text-align: right;\n",
       "    }\n",
       "</style>\n",
       "<table border=\"1\" class=\"dataframe\">\n",
       "  <thead>\n",
       "    <tr style=\"text-align: right;\">\n",
       "      <th></th>\n",
       "      <th>num_stars</th>\n",
       "      <th>num_planets</th>\n",
       "      <th>num_habitable_planets</th>\n",
       "      <th>num_life</th>\n",
       "      <th>num_complex_life</th>\n",
       "      <th>num_intelligent_life</th>\n",
       "      <th>num_cultural_life</th>\n",
       "      <th>N</th>\n",
       "      <th>N_extinct</th>\n",
       "    </tr>\n",
       "    <tr>\n",
       "      <th>year</th>\n",
       "      <th></th>\n",
       "      <th></th>\n",
       "      <th></th>\n",
       "      <th></th>\n",
       "      <th></th>\n",
       "      <th></th>\n",
       "      <th></th>\n",
       "      <th></th>\n",
       "      <th></th>\n",
       "    </tr>\n",
       "  </thead>\n",
       "  <tbody>\n",
       "    <tr>\n",
       "      <th>9996000000</th>\n",
       "      <td>95_039_003_081</td>\n",
       "      <td>38_015_601_233</td>\n",
       "      <td>36_963_131_775</td>\n",
       "      <td>35_349_216_742</td>\n",
       "      <td>22_739_909_023</td>\n",
       "      <td>11_328_440_917</td>\n",
       "      <td>691_604_021</td>\n",
       "      <td>100_099_924</td>\n",
       "      <td>510_056_010_622</td>\n",
       "    </tr>\n",
       "    <tr>\n",
       "      <th>9997000000</th>\n",
       "      <td>95_039_102_301</td>\n",
       "      <td>38_015_640_921</td>\n",
       "      <td>36_963_658_010</td>\n",
       "      <td>35_350_086_706</td>\n",
       "      <td>22_740_677_473</td>\n",
       "      <td>11_328_840_529</td>\n",
       "      <td>691_628_430</td>\n",
       "      <td>100_103_458</td>\n",
       "      <td>510_156_110_545</td>\n",
       "    </tr>\n",
       "    <tr>\n",
       "      <th>9998000000</th>\n",
       "      <td>95_039_201_519</td>\n",
       "      <td>38_015_680_608</td>\n",
       "      <td>36_964_184_001</td>\n",
       "      <td>35_350_956_308</td>\n",
       "      <td>22_741_445_626</td>\n",
       "      <td>11_329_239_987</td>\n",
       "      <td>691_652_830</td>\n",
       "      <td>100_106_991</td>\n",
       "      <td>510_256_214_004</td>\n",
       "    </tr>\n",
       "    <tr>\n",
       "      <th>9999000000</th>\n",
       "      <td>95_039_300_735</td>\n",
       "      <td>38_015_720_294</td>\n",
       "      <td>36_964_709_749</td>\n",
       "      <td>35_351_825_549</td>\n",
       "      <td>22_742_213_480</td>\n",
       "      <td>11_329_639_292</td>\n",
       "      <td>691_677_220</td>\n",
       "      <td>100_110_523</td>\n",
       "      <td>510_356_320_995</td>\n",
       "    </tr>\n",
       "    <tr>\n",
       "      <th>10000000000</th>\n",
       "      <td>95_039_399_949</td>\n",
       "      <td>38_015_759_980</td>\n",
       "      <td>36_965_235_255</td>\n",
       "      <td>35_352_694_429</td>\n",
       "      <td>22_742_981_037</td>\n",
       "      <td>11_330_038_443</td>\n",
       "      <td>691_701_602</td>\n",
       "      <td>100_114_053</td>\n",
       "      <td>510_456_431_518</td>\n",
       "    </tr>\n",
       "  </tbody>\n",
       "</table>\n",
       "</div>"
      ],
      "text/plain": [
       "                 num_stars    num_planets  num_habitable_planets  \\\n",
       "year                                                               \n",
       "9996000000  95_039_003_081 38_015_601_233         36_963_131_775   \n",
       "9997000000  95_039_102_301 38_015_640_921         36_963_658_010   \n",
       "9998000000  95_039_201_519 38_015_680_608         36_964_184_001   \n",
       "9999000000  95_039_300_735 38_015_720_294         36_964_709_749   \n",
       "10000000000 95_039_399_949 38_015_759_980         36_965_235_255   \n",
       "\n",
       "                  num_life  num_complex_life  num_intelligent_life  \\\n",
       "year                                                                 \n",
       "9996000000  35_349_216_742    22_739_909_023        11_328_440_917   \n",
       "9997000000  35_350_086_706    22_740_677_473        11_328_840_529   \n",
       "9998000000  35_350_956_308    22_741_445_626        11_329_239_987   \n",
       "9999000000  35_351_825_549    22_742_213_480        11_329_639_292   \n",
       "10000000000 35_352_694_429    22_742_981_037        11_330_038_443   \n",
       "\n",
       "             num_cultural_life           N       N_extinct  \n",
       "year                                                        \n",
       "9996000000         691_604_021 100_099_924 510_056_010_622  \n",
       "9997000000         691_628_430 100_103_458 510_156_110_545  \n",
       "9998000000         691_652_830 100_106_991 510_256_214_004  \n",
       "9999000000         691_677_220 100_110_523 510_356_320_995  \n",
       "10000000000        691_701_602 100_114_053 510_456_431_518  "
      ]
     },
     "execution_count": 84,
     "metadata": {},
     "output_type": "execute_result"
    }
   ],
   "source": [
    "%%time\n",
    "params['YEAR_STEPS'] = 1_000_000\n",
    "tech_dominance_0 = TimeDependentDrake(params, output_year=10_000_000_000, P_tech_dominance=1)\n",
    "\n",
    "tech_dominance_0.tail()"
   ]
  },
  {
   "cell_type": "code",
   "execution_count": null,
   "metadata": {},
   "outputs": [],
   "source": []
  },
  {
   "cell_type": "code",
   "execution_count": null,
   "metadata": {},
   "outputs": [],
   "source": []
  },
  {
   "cell_type": "code",
   "execution_count": null,
   "metadata": {},
   "outputs": [],
   "source": []
  },
  {
   "cell_type": "code",
   "execution_count": null,
   "metadata": {},
   "outputs": [],
   "source": []
  },
  {
   "cell_type": "markdown",
   "metadata": {},
   "source": [
    "# How to interpret these averages/expectations given 1M yr time steps\n",
    "\n",
    "These numbers are based on the active instances over 1M year time steps. This isn't significant for values with slower\n",
    "extinction values, but with N, these predictions are misleading. E.g., 100 technological species seems like\n",
    "a lot, but if that's over 1M years, and they each survive 1k yr, there is less than 1 on average at the same time.\n",
    "\n",
    "We need to convert these numbers into probabilities / histograms to gain insight into how likely we are to find life. "
   ]
  },
  {
   "cell_type": "code",
   "execution_count": null,
   "metadata": {},
   "outputs": [],
   "source": [
    "# number of technological lifeforms in 1M yr timestep at end of Drake calculation\n",
    "N_1M_yr = int(round(history_of_life.iloc[[-1]].N))\n",
    "N_1M_yr"
   ]
  },
  {
   "cell_type": "code",
   "execution_count": null,
   "metadata": {},
   "outputs": [],
   "source": [
    "%%time\n",
    "\n",
    "active_each_year = breakdown_by_year(params, N_1M_yr)"
   ]
  },
  {
   "cell_type": "code",
   "execution_count": null,
   "metadata": {},
   "outputs": [],
   "source": [
    "percentage_table(active_each_year)"
   ]
  },
  {
   "cell_type": "code",
   "execution_count": null,
   "metadata": {},
   "outputs": [],
   "source": [
    "plot_histogram(active_each_year, discrete=True)"
   ]
  },
  {
   "cell_type": "code",
   "execution_count": null,
   "metadata": {},
   "outputs": [],
   "source": [
    "%%time\n",
    "# hypothetical large number of technological lifeforms active in 1M yr timestep\n",
    "\n",
    "# TESTING\n",
    "N_large = 1_000\n",
    "# histogram starts getting messy at 1k+, can't bin it easily because it's actually a barplot\n",
    "\n",
    "active_each_year_large = breakdown_by_year(params, N_large)"
   ]
  },
  {
   "cell_type": "code",
   "execution_count": null,
   "metadata": {},
   "outputs": [],
   "source": [
    "plot_histogram(active_each_year_large)"
   ]
  },
  {
   "cell_type": "markdown",
   "metadata": {},
   "source": [
    "# implications of tech_dominance"
   ]
  },
  {
   "cell_type": "code",
   "execution_count": null,
   "metadata": {},
   "outputs": [],
   "source": [
    "%%time\n",
    "tech_dominance_1 = TimeDependentDrake(params, output_year=10_000_000_000, P_tech_dominance=1)\n",
    "\n",
    "tech_dominance_1.tail()"
   ]
  },
  {
   "cell_type": "code",
   "execution_count": null,
   "metadata": {},
   "outputs": [],
   "source": [
    "plt.figure(figsize=(12, 6))\n",
    "plot = sns.lineplot(x=tech_dominance_1.index/1_000_000_000, y=tech_dominance_1.N);\n",
    "plt.yticks(rotation=0);\n",
    "plot.set_ylabel('Number of Technological Species');\n",
    "plot.set_xlabel('Billions of Years');"
   ]
  },
  {
   "cell_type": "code",
   "execution_count": null,
   "metadata": {},
   "outputs": [],
   "source": [
    "%%time\n",
    "tech_dominance_0 = TimeDependentDrake(params, output_year=10_000_000_000, P_tech_dominance=0)\n",
    "\n",
    "tech_dominance_0.tail()"
   ]
  },
  {
   "cell_type": "code",
   "execution_count": null,
   "metadata": {},
   "outputs": [],
   "source": [
    "plt.figure(figsize=(12, 6))\n",
    "plot = sns.lineplot(x=tech_dominance_0.index/1_000_000_000, y=tech_dominance_0.N);\n",
    "plt.yticks(rotation=0);\n",
    "plot.set_ylabel('Number of Technological Species');\n",
    "plot.set_xlabel('Billions of Years');"
   ]
  },
  {
   "cell_type": "markdown",
   "metadata": {},
   "source": [
    "# steady state values\n",
    "    what are steady state values?\n",
    "    when will we reach approx steady state?\n",
    "    can we match the time-invariant Drake Equation?"
   ]
  },
  {
   "cell_type": "code",
   "execution_count": null,
   "metadata": {},
   "outputs": [],
   "source": [
    "%%time\n",
    "# couldn't think of an algorithm that wouldn't take forever, so I brute-forced and grit\n",
    "# should come up with an automated way to check different settings\n",
    "P_tech_dominance = 0.9\n",
    "\n",
    "index = 'year'\n",
    "columns = ['year', 'num_stars', 'num_planets', 'num_habitable_planets', 'num_life', \n",
    "       'num_complex_life', 'num_intelligent_life', 'num_cultural_life', 'N', 'N_extinct']\n",
    "\n",
    "steady_state = pd.DataFrame(\n",
    "    [[0, 100_000_000_000, 40_000_000_000, 40_000_000_000, 974_975_916, 23_619_997, 6_551_317, 8_796, 6_262, 0]], \n",
    "    columns = columns,\n",
    "    index=[0]\n",
    ").set_index(index)\n",
    "\n",
    "for i in range(2):\n",
    "    temp_df = TimeDependentDrake(params, 10_000_000_000*(i+1), P_tech_dominance, df_input=steady_state)\n",
    "    steady_state = steady_state.append(temp_df.iloc[[-1]])\n",
    "    \n",
    "# print(steady_state.iloc[-1]-steady_state.iloc[0])\n",
    "# print()\n",
    "steady_state.tail()"
   ]
  },
  {
   "cell_type": "code",
   "execution_count": null,
   "metadata": {},
   "outputs": [],
   "source": [
    "plot_histogram(breakdown_by_year(params, 6_262), binwidth=5)"
   ]
  },
  {
   "cell_type": "code",
   "execution_count": null,
   "metadata": {},
   "outputs": [],
   "source": [
    "how_far(params, 400)"
   ]
  },
  {
   "cell_type": "markdown",
   "metadata": {},
   "source": [
    "### Are these calculations equivalent to the orignial Drake Equation?"
   ]
  },
  {
   "cell_type": "code",
   "execution_count": null,
   "metadata": {},
   "outputs": [],
   "source": [
    "match_simulation = params.copy()\n",
    "match_simulation['L'] = 5_000\n",
    "Drake(match_simulation)\n",
    "# this is within the range of estimates used in the prob_L() function, and 1k < L < 1M from current guesses"
   ]
  },
  {
   "cell_type": "code",
   "execution_count": null,
   "metadata": {},
   "outputs": [],
   "source": [
    "int(weibull_mean(params))"
   ]
  },
  {
   "cell_type": "code",
   "execution_count": null,
   "metadata": {},
   "outputs": [],
   "source": [
    "int(weibull_median(params))  # not exactly 5000"
   ]
  },
  {
   "cell_type": "markdown",
   "metadata": {},
   "source": [
    "Statistics Notes"
   ]
  },
  {
   "cell_type": "markdown",
   "metadata": {},
   "source": [
    "mode is 0, because k < 0"
   ]
  },
  {
   "cell_type": "markdown",
   "metadata": {},
   "source": [
    "Results not the same for the same L, but could be equivalent\n",
    "    \n",
    "    our mean > mode > original L\n",
    "        there are a very large number of short-lived species\n",
    "    let's check with a quick simulation\n",
    "    we could also rerun using L constant or poisson to see if it gives the same results\n",
    "    we have more forms of extinction (simple, complex, intelligent, etc)\n",
    "        this slows down life formation, could account for the discrepancy"
   ]
  },
  {
   "cell_type": "code",
   "execution_count": null,
   "metadata": {},
   "outputs": [],
   "source": [
    "# simulation of prob_L\n",
    "\n",
    "temp_list = []\n",
    "temp_steps = 1_000\n",
    "\n",
    "for i in range(1_000):\n",
    "    temp_list.append([temp_steps * i, 1 - prob_L(params, temp_steps * i)])\n",
    "\n",
    "df = pd.DataFrame(temp_list, columns=['Years', 'Prob_Survival'])\n",
    "\n",
    "plt.figure(figsize=(12, 6))\n",
    "plot = sns.lineplot(x=df['Years'], y=df['Prob_Survival']);\n",
    "# plot.set(xscale='log');\n",
    "plot.set_ylabel('Probability of Survival');\n",
    "plt.ticklabel_format(style='plain', axis='x')\n",
    "# plot.set_xlabel('Years');"
   ]
  },
  {
   "cell_type": "code",
   "execution_count": null,
   "metadata": {},
   "outputs": [],
   "source": [
    "# simulation of prob_L\n",
    "\n",
    "temp_list = []\n",
    "temp_steps = 10\n",
    "\n",
    "for i in range(1_000):\n",
    "    temp_list.append([temp_steps * i, 1 - prob_L(params, temp_steps * i)])\n",
    "\n",
    "df = pd.DataFrame(temp_list, columns=['Years', 'Prob_Survival'])\n",
    "\n",
    "plt.figure(figsize=(12, 6))\n",
    "plot = sns.lineplot(x=df['Years'], y=df['Prob_Survival']);\n",
    "# plot.set(xscale='log');\n",
    "plot.set_ylabel('Probability of Survival');\n",
    "plt.ticklabel_format(style='plain', axis='x')\n",
    "# plot.set_xlabel('Years');"
   ]
  },
  {
   "cell_type": "code",
   "execution_count": null,
   "metadata": {},
   "outputs": [],
   "source": [
    "pd.set_option('display.float_format', '{:_.2f}'.format)\n",
    "df.head(10)\n",
    "# 10% of species are extinct at 70 years"
   ]
  },
  {
   "cell_type": "code",
   "execution_count": null,
   "metadata": {},
   "outputs": [],
   "source": [
    "# reset pandas format\n",
    "pd.set_option('display.float_format', '{:_.0f}'.format)"
   ]
  },
  {
   "cell_type": "markdown",
   "metadata": {},
   "source": [
    "# distance to closest species\n",
    "#TODO: could make a formula to calculate the odds that there is x within y"
   ]
  },
  {
   "cell_type": "code",
   "execution_count": null,
   "metadata": {},
   "outputs": [],
   "source": [
    "# closest living technological life\n",
    "# most likely we're alone in the galaxy, but there could be 1 or 2, so\n",
    "how_far(params, 1)"
   ]
  },
  {
   "cell_type": "code",
   "execution_count": null,
   "metadata": {},
   "outputs": [],
   "source": [
    "# likely max 2 other species\n",
    "how_far(params, 2)"
   ]
  },
  {
   "cell_type": "code",
   "execution_count": null,
   "metadata": {},
   "outputs": [],
   "source": [
    "# steady state solution ~400 tech species\n",
    "how_far(params, 400)"
   ]
  },
  {
   "cell_type": "code",
   "execution_count": null,
   "metadata": {},
   "outputs": [],
   "source": []
  },
  {
   "cell_type": "markdown",
   "metadata": {},
   "source": [
    "##### Control Problem?"
   ]
  },
  {
   "cell_type": "code",
   "execution_count": null,
   "metadata": {},
   "outputs": [],
   "source": [
    "# closest extinct technological species\n",
    "# current year, with P_tech_dominance 0 or 1\n",
    "how_far(params, 10_000), how_far(params, 40_000)"
   ]
  },
  {
   "cell_type": "code",
   "execution_count": null,
   "metadata": {},
   "outputs": [],
   "source": [
    "# how many stars within 700 lyr?\n",
    "stars_within(724.6)\n",
    "# we'd probably notice 2.5M stars being converted into paperclips\n",
    "# we should at least be able to detect a runaway AI"
   ]
  },
  {
   "cell_type": "code",
   "execution_count": null,
   "metadata": {},
   "outputs": [],
   "source": [
    "ai_propagation_speed_low = 0.0001  # percentage of the speed of light that superintelligent AI can travel\n",
    "ai_propagation_speed_high = 0.01  # percentage of the speed of light that superintelligent AI can travel\n",
    "chance_of_control_problem_low = 0.01  # proportion of extinctions due to runaway paperclip optimiser\n",
    "chance_of_control_problem_high = 0.1  # proportion of extinctions due to runaway stamp collector\n",
    "\n",
    "# years for rogue AI to travel here\n",
    "pd.DataFrame(\n",
    "    [[how_far(params, 11_000 * chance_of_control_problem_low) / ai_propagation_speed_low, \n",
    "      how_far(params, 11_000 * chance_of_control_problem_high) / ai_propagation_speed_high\n",
    "    ]], columns=['Years Until Invasion - High', 'Years Until Invasion - Low']\n",
    ")"
   ]
  },
  {
   "cell_type": "code",
   "execution_count": null,
   "metadata": {},
   "outputs": [],
   "source": [
    "# plot of extinct technological species over time\n",
    "\n",
    "plt.figure(figsize=(12, 6))\n",
    "plot = sns.lineplot(x=history_of_life.index/1_000_000, y=history_of_life.N_extinct);\n",
    "\n",
    "plot.set(xlim=(9_900, 10_000),ylim=(10_800, 11_500));\n",
    "plt.yticks(rotation=0);\n",
    "plot.set_ylabel('Number of Extinct Technological Species');\n",
    "plot.set_xlabel('Millions of Years');"
   ]
  },
  {
   "cell_type": "code",
   "execution_count": null,
   "metadata": {},
   "outputs": [],
   "source": [
    "# kind of seems like we should have been converted into paperclips by now...\n",
    "# i feel like we'll notice before 10k lyr**2 of stars were converted to paperclips, but you never know"
   ]
  },
  {
   "cell_type": "code",
   "execution_count": null,
   "metadata": {},
   "outputs": [],
   "source": [
    "# how close are the closest paperclip monsters\n",
    "how_far(params, 11_000 * chance_of_control_problem_low), how_far(params, 11_000 * chance_of_control_problem_high)"
   ]
  },
  {
   "cell_type": "code",
   "execution_count": null,
   "metadata": {},
   "outputs": [],
   "source": [
    "# how many stars within 2664 lyr?\n",
    "stars_within(2664.0)\n",
    "# we'd very likely notice 90M stars being converted into stamps"
   ]
  },
  {
   "cell_type": "markdown",
   "metadata": {},
   "source": [
    "**we should have plenty of notice**\n",
    "\n",
    "    unless we mistake rogue AI for very common astrophysical phemomena "
   ]
  },
  {
   "cell_type": "code",
   "execution_count": null,
   "metadata": {},
   "outputs": [],
   "source": []
  },
  {
   "cell_type": "code",
   "execution_count": null,
   "metadata": {},
   "outputs": [],
   "source": []
  },
  {
   "cell_type": "code",
   "execution_count": null,
   "metadata": {},
   "outputs": [],
   "source": []
  },
  {
   "cell_type": "markdown",
   "metadata": {},
   "source": [
    "# LONGER CALCULATIONS"
   ]
  },
  {
   "cell_type": "markdown",
   "metadata": {},
   "source": [
    "# implications of longer time values (eg, 1T yr, steady state, etc)"
   ]
  },
  {
   "cell_type": "code",
   "execution_count": null,
   "metadata": {},
   "outputs": [],
   "source": [
    "%%time\n",
    "#TODO: haven't tested this as a function yet...\n",
    "#TODO: write a loop to save csv in 10B yr increments\n",
    "# combine csv\n",
    "    # eg, history_of_life.to_csv('history_of_life_1T_yr.csv')  # or nested path\n",
    "# plot it\n",
    "\n",
    "epoch_steps = 1_000_000_000\n",
    "final_year = 100_000_000_000\n",
    "P_tech_dominance = 0.9\n",
    "\n",
    "future_of_life = long_time(params, epoch_steps, final_year, P_tech_dominance = 0.9)\n",
    "\n",
    "# for 10B yr: 12s \n",
    "# for 100B yr: 124s\n",
    "# for 1T yr: estimate 1240s = 21min\n",
    "future_of_life.tail()"
   ]
  },
  {
   "cell_type": "code",
   "execution_count": null,
   "metadata": {},
   "outputs": [],
   "source": []
  },
  {
   "cell_type": "markdown",
   "metadata": {},
   "source": [
    "# Monte Carlo Simulation"
   ]
  },
  {
   "cell_type": "code",
   "execution_count": null,
   "metadata": {},
   "outputs": [],
   "source": [
    "#TODO: redo this section with more flexibility, saving into folders, csv functions"
   ]
  },
  {
   "cell_type": "code",
   "execution_count": null,
   "metadata": {},
   "outputs": [],
   "source": []
  },
  {
   "cell_type": "code",
   "execution_count": null,
   "metadata": {},
   "outputs": [],
   "source": []
  },
  {
   "cell_type": "code",
   "execution_count": null,
   "metadata": {},
   "outputs": [],
   "source": []
  },
  {
   "cell_type": "code",
   "execution_count": null,
   "metadata": {},
   "outputs": [],
   "source": []
  },
  {
   "cell_type": "code",
   "execution_count": null,
   "metadata": {},
   "outputs": [],
   "source": [
    "# test randomisation\n",
    "randomise_constants(drake_range, timeframes_range)\n",
    "df1 = pd.DataFrame([RS, FP, NE, FL, FI, FC, L, YEARS_PLANETS_TO_HABITABLE, YEARS_HABITABLE_TO_LIFE, YEARS_LIFE_TO_COMPLEX_LIFE, YEARS_COMPLEX_TO_INTELLIGENCE, YEARS_INTELLIGENCE_TO_CULTURE, YEARS_CULTURE_TO_TECH, EXTINCTION_SIMPLE, EXTINCTION_COMPLEX, EXTINCTION_INTELLIGENT, EXTINCTION_CULTURAL, WEIBULL_SHAPE_PARAMETER, WEIBULL_SCALE_PARAMETER])\n",
    "reset_default_constants(drake_best, timeframes_best)\n",
    "df2 = pd.DataFrame([RS, FP, NE, FL, FI, FC, L, YEARS_PLANETS_TO_HABITABLE, YEARS_HABITABLE_TO_LIFE, YEARS_LIFE_TO_COMPLEX_LIFE, YEARS_COMPLEX_TO_INTELLIGENCE, YEARS_INTELLIGENCE_TO_CULTURE, YEARS_CULTURE_TO_TECH, EXTINCTION_SIMPLE, EXTINCTION_COMPLEX, EXTINCTION_INTELLIGENT, EXTINCTION_CULTURAL, WEIBULL_SHAPE_PARAMETER, WEIBULL_SCALE_PARAMETER])\n",
    "pd.concat([df1, df2], axis=1)"
   ]
  },
  {
   "cell_type": "markdown",
   "metadata": {},
   "source": [
    "### Simulations"
   ]
  },
  {
   "cell_type": "markdown",
   "metadata": {},
   "source": [
    "##### Original Drake Equation"
   ]
  },
  {
   "cell_type": "code",
   "execution_count": null,
   "metadata": {},
   "outputs": [],
   "source": [
    "%%time\n",
    "\n",
    "simulation = []\n",
    "\n",
    "for i in range(1_000_000):\n",
    "    randomise_constants(drake_range, timeframes_range)\n",
    "    simulation.append(Drake(RS, FP, NE, FL, FI, FC, L))\n",
    "\n",
    "reset_default_constants(drake_best, timeframes_best)\n",
    "\n",
    "pd.DataFrame(simulation).describe()"
   ]
  },
  {
   "cell_type": "code",
   "execution_count": null,
   "metadata": {},
   "outputs": [],
   "source": [
    "# confirm that defaults are reset\n",
    "Drake(RS, FP, NE, FL, FI, FC, L)  # defaults lead to 80"
   ]
  },
  {
   "cell_type": "markdown",
   "metadata": {},
   "source": [
    "##### Time Dependent Drake"
   ]
  },
  {
   "cell_type": "code",
   "execution_count": null,
   "metadata": {},
   "outputs": [],
   "source": [
    "%%time\n",
    "\n",
    "output_year = 1_000_000_000\n",
    "simulation2 = []\n",
    "\n",
    "for i in range(10):\n",
    "    randomise_constants(drake_range, timeframes_range)\n",
    "    N_temp = TimeDependentDrake(output_year=output_year, P_tech_dominance=np.random.random())['N']\n",
    "    simulation2.append(N_temp.iloc[-1])\n",
    "\n",
    "reset_default_constants(drake_best, timeframes_best)\n",
    "\n",
    "pd.DataFrame(simulation2)\n",
    "# pd.DataFrame(simulation2).describe()"
   ]
  },
  {
   "cell_type": "code",
   "execution_count": null,
   "metadata": {},
   "outputs": [],
   "source": [
    "pd.set_option('display.float_format', '{:_.0f}'.format)"
   ]
  },
  {
   "cell_type": "code",
   "execution_count": null,
   "metadata": {},
   "outputs": [],
   "source": [
    "%%time\n",
    "\n",
    "output_year = 1_000_000_000\n",
    "simulation2 = pd.DataFrame()\n",
    "\n",
    "for i in range(100):\n",
    "    randomise_constants(drake_range, timeframes_range)\n",
    "    df_temp = TimeDependentDrake(output_year=output_year, P_tech_dominance=np.random.random())\n",
    "    simulation2 = simulation2.append(df_temp.iloc[-1])\n",
    "\n",
    "reset_default_constants(drake_best, timeframes_best)\n"
   ]
  },
  {
   "cell_type": "code",
   "execution_count": null,
   "metadata": {},
   "outputs": [],
   "source": [
    "simulation2.describe()"
   ]
  },
  {
   "cell_type": "code",
   "execution_count": null,
   "metadata": {
    "scrolled": true
   },
   "outputs": [],
   "source": [
    "pd.set_option('display.max_rows', 100)\n",
    "simulation2"
   ]
  },
  {
   "cell_type": "markdown",
   "metadata": {},
   "source": [
    "1M years, 100 trials -> 2min 38s\n",
    "trials should be linear, years may not be.\n",
    "lets check... looks linear\n",
    "\n",
    "so \n",
    "10M years, 100 trials -> 26min\n",
    "10M years, 1000 trials -> 4hr 23min\n",
    "10M years, 1M trials -> 6 months\n",
    "\n",
    "I have to cut the lawn and play Ghost of Tsushima, let's do the 4.5 hour simulation!"
   ]
  },
  {
   "cell_type": "code",
   "execution_count": null,
   "metadata": {},
   "outputs": [],
   "source": [
    "%%time\n",
    "temp = TimeDependentDrake(output_year=100_000_000, P_tech_dominance=0.9)"
   ]
  },
  {
   "cell_type": "code",
   "execution_count": null,
   "metadata": {},
   "outputs": [],
   "source": [
    "%%time\n",
    "temp = TimeDependentDrake(output_year=1_000_000_000, P_tech_dominance=0.9)"
   ]
  },
  {
   "cell_type": "code",
   "execution_count": null,
   "metadata": {},
   "outputs": [],
   "source": [
    "%%time\n",
    "temp = TimeDependentDrake(output_year=10_000_000_000, P_tech_dominance=0.9)"
   ]
  },
  {
   "cell_type": "code",
   "execution_count": null,
   "metadata": {},
   "outputs": [],
   "source": [
    "%%time\n",
    "\n",
    "# TEST: Make sure it works before wasting 5 hours\n",
    "\n",
    "output_year = 1_000_000_000\n",
    "n_sims = 10\n",
    "simulation2 = pd.DataFrame()\n",
    "\n",
    "for i in range(n_sims):\n",
    "    randomise_constants(drake_range, timeframes_range)\n",
    "    df_temp = TimeDependentDrake(output_year=output_year, P_tech_dominance=np.random.random())\n",
    "    df_param_temp = pd.DataFrame([[\n",
    "        RS, FP, NE, FL, FI, FC, L, YEARS_PLANETS_TO_HABITABLE, YEARS_HABITABLE_TO_LIFE, \n",
    "        YEARS_LIFE_TO_COMPLEX_LIFE, YEARS_COMPLEX_TO_INTELLIGENCE, YEARS_INTELLIGENCE_TO_CULTURE, \n",
    "        YEARS_CULTURE_TO_TECH, EXTINCTION_SIMPLE, EXTINCTION_COMPLEX, EXTINCTION_INTELLIGENT, \n",
    "        EXTINCTION_CULTURAL, WEIBULL_SHAPE_PARAMETER, WEIBULL_SCALE_PARAMETER\n",
    "        ]],\n",
    "        columns = [\n",
    "        'RS', 'FP', 'NE', 'FL', 'FI', 'FC', 'L', 'YEARS_PLANETS_TO_HABITABLE', 'YEARS_HABITABLE_TO_LIFE',\n",
    "        'YEARS_LIFE_TO_COMPLEX_LIFE', 'YEARS_COMPLEX_TO_INTELLIGENCE', 'YEARS_INTELLIGENCE_TO_CULTURE',\n",
    "        'YEARS_CULTURE_TO_TECH', 'EXTINCTION_SIMPLE', 'EXTINCTION_COMPLEX', 'EXTINCTION_INTELLIGENT',\n",
    "        'EXTINCTION_CULTURAL', 'WEIBULL_SHAPE_PARAMETER', 'WEIBULL_SCALE_PARAMETER'\n",
    "        ] \n",
    "    )\n",
    "    simulation2 = simulation2.append(df_temp.iloc[[-1]].reset_index().join(df_param_temp))\n",
    "\n",
    "reset_default_constants(drake_best, timeframes_best)\n",
    "simulation2.to_csv('time_dep_monte_carlo_10Myr_1000trials.csv', index=False)"
   ]
  },
  {
   "cell_type": "code",
   "execution_count": null,
   "metadata": {},
   "outputs": [],
   "source": [
    "%%time\n",
    "\n",
    "# SIMULATION: 10M yr,  1k trials, should take 5 hours to run\n",
    "\n",
    "output_year = 10_000_000_000\n",
    "n_sims = 1_000\n",
    "simulation2 = pd.DataFrame()\n",
    "\n",
    "for i in range(n_sims):\n",
    "    randomise_constants(drake_range, timeframes_range)\n",
    "    df_temp = TimeDependentDrake(output_year=output_year, P_tech_dominance=np.random.random())\n",
    "    df_param_temp = pd.DataFrame([[\n",
    "        RS, FP, NE, FL, FI, FC, L, YEARS_PLANETS_TO_HABITABLE, YEARS_HABITABLE_TO_LIFE, \n",
    "        YEARS_LIFE_TO_COMPLEX_LIFE, YEARS_COMPLEX_TO_INTELLIGENCE, YEARS_INTELLIGENCE_TO_CULTURE, \n",
    "        YEARS_CULTURE_TO_TECH, EXTINCTION_SIMPLE, EXTINCTION_COMPLEX, EXTINCTION_INTELLIGENT, \n",
    "        EXTINCTION_CULTURAL, WEIBULL_SHAPE_PARAMETER, WEIBULL_SCALE_PARAMETER\n",
    "        ]],\n",
    "        columns = [\n",
    "        'RS', 'FP', 'NE', 'FL', 'FI', 'FC', 'L', 'YEARS_PLANETS_TO_HABITABLE', 'YEARS_HABITABLE_TO_LIFE',\n",
    "        'YEARS_LIFE_TO_COMPLEX_LIFE', 'YEARS_COMPLEX_TO_INTELLIGENCE', 'YEARS_INTELLIGENCE_TO_CULTURE',\n",
    "        'YEARS_CULTURE_TO_TECH', 'EXTINCTION_SIMPLE', 'EXTINCTION_COMPLEX', 'EXTINCTION_INTELLIGENT',\n",
    "        'EXTINCTION_CULTURAL', 'WEIBULL_SHAPE_PARAMETER', 'WEIBULL_SCALE_PARAMETER'\n",
    "        ] \n",
    "    )\n",
    "    simulation2 = simulation2.append(df_temp.iloc[[-1]].reset_index().join(df_param_temp))\n",
    "\n",
    "reset_default_constants(drake_best, timeframes_best)\n",
    "\n",
    "now = datetime.datetime.now().strftime(\"%m%d_%H%M\")\n",
    "simulation2.to_csv(f'time_dep_monte_carlo_10Myr_1000trials_{now}.csv', index=False)"
   ]
  },
  {
   "cell_type": "code",
   "execution_count": null,
   "metadata": {},
   "outputs": [],
   "source": [
    "simulation2.N.describe()"
   ]
  },
  {
   "cell_type": "code",
   "execution_count": null,
   "metadata": {},
   "outputs": [],
   "source": [
    "\"\"\"\n",
    "#  TODO: \n",
    "    set up a better loop, output multiple smaller csv\n",
    "    create a function to import and combine csv into df\n",
    "    look at results and figure out if any of the ranges are 0s or huge\n",
    "        use these as flags\n",
    "        monte carlo moderate values\n",
    "    figure out which parameters / functions are leading to negative numbers\n",
    "        maybe rounding - revise\n",
    "    investigate 10M or 100M timesteps to speed up the simulation process\n",
    "    make a library of functions to import, and an abbreviated workbook with only conclusions\n",
    "\"\"\""
   ]
  },
  {
   "cell_type": "code",
   "execution_count": null,
   "metadata": {},
   "outputs": [],
   "source": []
  }
 ],
 "metadata": {
  "colab": {
   "collapsed_sections": [],
   "name": "Drake Equation.ipynb",
   "provenance": []
  },
  "kernelspec": {
   "display_name": "Python 3 (ipykernel)",
   "language": "python",
   "name": "python3"
  },
  "language_info": {
   "codemirror_mode": {
    "name": "ipython",
    "version": 3
   },
   "file_extension": ".py",
   "mimetype": "text/x-python",
   "name": "python",
   "nbconvert_exporter": "python",
   "pygments_lexer": "ipython3",
   "version": "3.9.7"
  }
 },
 "nbformat": 4,
 "nbformat_minor": 1
}
