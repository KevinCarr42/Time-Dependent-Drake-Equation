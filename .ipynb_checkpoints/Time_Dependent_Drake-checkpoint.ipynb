{
 "cells": [
  {
   "cell_type": "markdown",
   "metadata": {},
   "source": [
    "# Cosmic Neighbours\n",
    "\n",
    "In this project we are adding a time dimension to the famous [Drake Equation](https://en.wikipedia.org/wiki/Drake_equation). The Drake Equation is as follows:\n",
    "    \n",
    "#### N = Rs * fp * ne * fl * fi * fc * L\n",
    "    where:\n",
    "    N = number of civilizations with which humans could communicate\n",
    "    Rs = mean rate of star formation\n",
    "    fp = fraction of stars that have planets\n",
    "    ne = mean number of planets that could support life per star with planets\n",
    "    fl = fraction of life-supporting planets that develop life\n",
    "    fi = fraction of planets with life where life develops intelligence\n",
    "    fc = fraction of intelligent civilizations that develop communication\n",
    "    L = mean length of time that civilizations can communicate\n",
    "    \n",
    "This solution to the number of civilizations is a steady state solution. Meaning, we cannot use this estimate to estimate the number of extict civilizations in our galaxy. And it assumes that the intelligent population of the galaxy is not growing. I will try to answer these questions by adding a time dimension to the calcuation.\n"
   ]
  },
  {
   "cell_type": "markdown",
   "metadata": {},
   "source": [
    "### Imports"
   ]
  },
  {
   "cell_type": "code",
   "execution_count": 1,
   "metadata": {
    "id": "Cy9vSqKf1Pn9"
   },
   "outputs": [],
   "source": [
    "# import custom functions from drakefunctions.py\n",
    "from drakefunctions import *"
   ]
  },
  {
   "cell_type": "code",
   "execution_count": 154,
   "metadata": {},
   "outputs": [],
   "source": [
    "# import modules\n",
    "\n",
    "import numpy as np\n",
    "import pandas as pd\n",
    "pd.set_option('display.float_format', '{:_.0f}'.format)\n",
    "from scipy.stats import poisson\n",
    "from scipy.special import gamma  # not the one from scipy.stats\n",
    "from math import factorial, exp, log\n",
    "import datetime, time\n",
    "from decimal import *\n",
    "\n",
    "import matplotlib.pyplot as plt\n",
    "from matplotlib.ticker import MaxNLocator\n",
    "import matplotlib as mpl\n",
    "%matplotlib inline\n",
    "mpl.rcParams[\"axes.formatter.min_exponent\"] = 20  # no scientific notation in graphs\n",
    "plt.rcParams['axes.titley'] = 1.0    # y is in axes-relative coordinates.\n",
    "plt.rcParams['axes.titlepad'] = 10   # pad is in points... default is 6\n",
    "import seaborn as sns\n",
    "sns.set_theme()"
   ]
  },
  {
   "cell_type": "markdown",
   "metadata": {},
   "source": [
    "### CONSTANTS (and pseudo-constants$^{ [1]}$)\n",
    "\\[1] \"Pseudo-constants\" are (probably) constants that we don't know very well. We will start by making best-guess assumptions, and we will evaluate these pseudo-constants in detail later using Monte Carlo simulation."
   ]
  },
  {
   "cell_type": "code",
   "execution_count": 3,
   "metadata": {},
   "outputs": [],
   "source": [
    "# CONSTANTS treated as variables for simulation\n",
    "\n",
    "# inputs to the Drake equation\n",
    "default_params = dict(\n",
    "    # time step increments for calculations\n",
    "    YEAR_STEPS = 1_000_000,\n",
    "    # galactic attributes\n",
    "    NUM_GALAXY = 100_000_000_000,  # number of stars in a galaxy\n",
    "    GALAXY_RADIUS_LYR = 50_000,  # radius of the galaxy in lightyears\n",
    "    MODERN_ERA = 10_000_000_000,  # years since 2nd gen stars, order of magnitude approx\n",
    "    # pseudo-constants (treated as constants until Monte Carlo simulation)\n",
    "    RS = 2, \n",
    "    FP = 1, \n",
    "    NE = 0.4, \n",
    "    FL = 1, \n",
    "    FI = 1, \n",
    "    FC = 0.1, \n",
    "    L = 1000,\n",
    "    YEARS_PLANETS_TO_HABITABLE = 2_000_000_000, \n",
    "    YEARS_HABITABLE_TO_LIFE = 1_000_000_000, \n",
    "    YEARS_LIFE_TO_COMPLEX_LIFE = 1_000_000_000, \n",
    "    YEARS_COMPLEX_TO_INTELLIGENCE = 200_000_000, \n",
    "    YEARS_INTELLIGENCE_TO_CULTURE = 20_000_000, \n",
    "    YEARS_CULTURE_TO_TECH = 200_000, \n",
    "    EXTINCTION_SIMPLE = 5_000_000_000, \n",
    "    EXTINCTION_COMPLEX = 2_000_000_000, \n",
    "    EXTINCTION_INTELLIGENT = 200_000_000, \n",
    "    EXTINCTION_CULTURAL = 1_000_000, \n",
    "    # EXTINCTION_TECHNOLOGICAL = L,\n",
    "    WEIBULL_SHAPE_PARAMETER = 0.4,  # k\n",
    "    WEIBULL_SCALE_PARAMETER = 20_000  # lambda    \n",
    ")\n",
    "\n",
    "random_params = dict(\n",
    "    # time step increments for calculations\n",
    "    YEAR_STEPS = [1_000_000],\n",
    "    # galactic attributes\n",
    "    NUM_GALAXY = [100_000_000_000],  # number of stars in a galaxy\n",
    "    GALAXY_RADIUS_LYR = [50_000],  # radius of the galaxy in lightyears\n",
    "    MODERN_ERA = [10_000_000_000],  # years since 2nd gen stars, order of magnitude approx\n",
    "    # pseudo-constants (treated as constants until Monte Carlo simulation)\n",
    "    RS = [1, 2, 3],\n",
    "    FP = [0.05, 0.2, 0.5, 1.0, 2.0],\n",
    "    NE = [0.02, 0.1, 0.4, 1.0],\n",
    "    FL = [0.01, 0.1, 1],\n",
    "    FI = [0.01, 0.1, 1],\n",
    "    FC = [0.01, 0.1, 1],\n",
    "    L = [100, 1_000, 10_000, 100_000, 1_000_000],\n",
    "    YEARS_PLANETS_TO_HABITABLE = [1_000_000_000, 2_000_000_000, 3_000_000_000], \n",
    "    YEARS_HABITABLE_TO_LIFE = [100_000_000, 1_000_000_000, 5_000_000_000], \n",
    "    YEARS_LIFE_TO_COMPLEX_LIFE = [100_000_000, 1_000_000_000, 5_000_000_000, 10_000_000_000], \n",
    "    YEARS_COMPLEX_TO_INTELLIGENCE = [100_000, 1_000_000, 50_000_000, 200_000_000, 1_000_000_000], \n",
    "    YEARS_INTELLIGENCE_TO_CULTURE = [10_000, 100_000, 2_000_000, 20_000_000, 200_000_000], \n",
    "    YEARS_CULTURE_TO_TECH = [1_000, 10_000, 100_000, 200_000, 2_000_000], \n",
    "    EXTINCTION_SIMPLE = [200_000_000, 1_000_000_000, 2_000_000_000, 5_000_000_000],  # these are mass extinction events\n",
    "    EXTINCTION_COMPLEX = [200_000_000, 1_000_000_000, 2_000_000_000], # these are mass extinction events\n",
    "    EXTINCTION_INTELLIGENT = [10_000, 100_000, 1_000_000, 10_000_000, 200_000_000, 1_000_000_000], \n",
    "    EXTINCTION_CULTURAL = [1_000, 10_000, 100_000, 1_000_000, 10_000_000], \n",
    "    # EXTINCTION_TECHNOLOGICAL = L,\n",
    "    WEIBULL_SHAPE_PARAMETER = [0.4, 0.5, 0.6, 0.7, 0.8, 0.9, 1.0],  # k\n",
    "    WEIBULL_SCALE_PARAMETER = [100, 250, 500, 750, 1000, 5_000, 10_000, 20_000, 50_000, 100_000]  # lambda\n",
    ")\n"
   ]
  },
  {
   "cell_type": "code",
   "execution_count": 4,
   "metadata": {},
   "outputs": [],
   "source": [
    "# initialise params\n",
    "params = params_set(default_params)"
   ]
  },
  {
   "cell_type": "code",
   "execution_count": 5,
   "metadata": {},
   "outputs": [],
   "source": [
    "# testing\n",
    "# params_rand(random_params)"
   ]
  },
  {
   "cell_type": "code",
   "execution_count": 6,
   "metadata": {},
   "outputs": [],
   "source": [
    "# testing\n",
    "# params_set(default_params)"
   ]
  },
  {
   "cell_type": "code",
   "execution_count": 7,
   "metadata": {},
   "outputs": [
    {
     "data": {
      "text/plain": [
       "{'YEAR_STEPS': 1000000,\n",
       " 'NUM_GALAXY': 100000000000,\n",
       " 'GALAXY_RADIUS_LYR': 50000,\n",
       " 'MODERN_ERA': 10000000000,\n",
       " 'RS': 2,\n",
       " 'FP': 1,\n",
       " 'NE': 0.4,\n",
       " 'FL': 1,\n",
       " 'FI': 1,\n",
       " 'FC': 0.1,\n",
       " 'L': 1000,\n",
       " 'YEARS_PLANETS_TO_HABITABLE': 2000000000,\n",
       " 'YEARS_HABITABLE_TO_LIFE': 1000000000,\n",
       " 'YEARS_LIFE_TO_COMPLEX_LIFE': 1000000000,\n",
       " 'YEARS_COMPLEX_TO_INTELLIGENCE': 200000000,\n",
       " 'YEARS_INTELLIGENCE_TO_CULTURE': 20000000,\n",
       " 'YEARS_CULTURE_TO_TECH': 200000,\n",
       " 'EXTINCTION_SIMPLE': 5000000000,\n",
       " 'EXTINCTION_COMPLEX': 2000000000,\n",
       " 'EXTINCTION_INTELLIGENT': 200000000,\n",
       " 'EXTINCTION_CULTURAL': 1000000,\n",
       " 'WEIBULL_SHAPE_PARAMETER': 0.4,\n",
       " 'WEIBULL_SCALE_PARAMETER': 20000}"
      ]
     },
     "execution_count": 7,
     "metadata": {},
     "output_type": "execute_result"
    }
   ],
   "source": [
    "params"
   ]
  },
  {
   "cell_type": "markdown",
   "metadata": {},
   "source": [
    "### The Original Drake Equation"
   ]
  },
  {
   "cell_type": "code",
   "execution_count": 8,
   "metadata": {},
   "outputs": [
    {
     "data": {
      "text/plain": [
       "80"
      ]
     },
     "execution_count": 8,
     "metadata": {},
     "output_type": "execute_result"
    }
   ],
   "source": [
    "# Using our best estimates, the Drake Equation predicts...\n",
    "\n",
    "Drake(params)"
   ]
  },
  {
   "cell_type": "code",
   "execution_count": 9,
   "metadata": {},
   "outputs": [
    {
     "name": "stdout",
     "output_type": "stream",
     "text": [
      "1,200,000,000\n"
     ]
    }
   ],
   "source": [
    "# hack the Drake equation to estimate how many extict technological civilizations\n",
    "# might exist in the Milky Way\n",
    "immortal = params.copy()\n",
    "immortal['L'] = 15_000_000_000\n",
    "print(f\"{Drake(immortal):,}\")\n",
    "# seems way too high..."
   ]
  },
  {
   "cell_type": "markdown",
   "metadata": {},
   "source": [
    "### The Time-Dependent Drake Equation"
   ]
  },
  {
   "cell_type": "markdown",
   "metadata": {},
   "source": [
    "# FIX POISSON"
   ]
  },
  {
   "cell_type": "code",
   "execution_count": 14,
   "metadata": {},
   "outputs": [
    {
     "data": {
      "text/plain": [
       "0.0005"
      ]
     },
     "execution_count": 14,
     "metadata": {},
     "output_type": "execute_result"
    }
   ],
   "source": [
    "prob_poisson(params['YEARS_PLANETS_TO_HABITABLE'], params['YEAR_STEPS'])"
   ]
  },
  {
   "cell_type": "code",
   "execution_count": 15,
   "metadata": {},
   "outputs": [
    {
     "data": {
      "text/plain": [
       "1000.0"
      ]
     },
     "execution_count": 15,
     "metadata": {},
     "output_type": "execute_result"
    }
   ],
   "source": [
    "prob_poisson(params['L'], params['YEAR_STEPS'])\n",
    "# needs to be between 0 and 1"
   ]
  },
  {
   "cell_type": "code",
   "execution_count": 29,
   "metadata": {},
   "outputs": [],
   "source": [
    "def prob_poisson(avg_time_to_happen, how_many_years_happened):\n",
    "    \"\"\"\n",
    "    OLD POISSON FUNCTION\n",
    "    \"\"\"\n",
    "    return 1 - poisson.cdf(k=1, mu=how_many_years_happened/avg_time_to_happen)"
   ]
  },
  {
   "cell_type": "code",
   "execution_count": 36,
   "metadata": {},
   "outputs": [
    {
     "data": {
      "text/plain": [
       "(0.26424111765711533, 0.04581547323577029)"
      ]
     },
     "execution_count": 36,
     "metadata": {},
     "output_type": "execute_result"
    }
   ],
   "source": [
    "factor = 10\n",
    "yr_to_happen, how_many_yr = 1_000_000, 1_000_000\n",
    "# lambda/mu is the average number of events per period\n",
    "prob_poisson(yr_to_happen, 1_000_000), 1-(1-prob_poisson(yr_to_happen, (how_many_yr/factor)))**factor"
   ]
  },
  {
   "cell_type": "code",
   "execution_count": 105,
   "metadata": {},
   "outputs": [],
   "source": [
    "def prob_poisson(avg_time_to_happen, how_many_years_happened):\n",
    "    \"\"\"\n",
    "    REVISED\n",
    "    mu is the average number of events per period\n",
    "        # events = how_many_years_happened/avg_time_to_happen\n",
    "            year / (years / event) => events\n",
    "    k is the number of events\n",
    "    \"\"\"\n",
    "    return 1 - poisson.pmf(k=1, mu=how_many_years_happened/avg_time_to_happen)"
   ]
  },
  {
   "cell_type": "code",
   "execution_count": 108,
   "metadata": {},
   "outputs": [
    {
     "name": "stdout",
     "output_type": "stream",
     "text": [
      "0.9900995016625083\n",
      "0.9999900000999995\n",
      "0.9900498832518246\n"
     ]
    },
    {
     "data": {
      "text/plain": [
       "1.0000501170814955"
      ]
     },
     "execution_count": 108,
     "metadata": {},
     "output_type": "execute_result"
    }
   ],
   "source": [
    "factor = 1000\n",
    "avg_time_to_happen, how_many_years_happened = 100_000_000, 1_000_000\n",
    "# lambda/mu is the average number of events per period\n",
    "print(prob_poisson(avg_time_to_happen, how_many_years_happened))\n",
    "print(prob_poisson(avg_time_to_happen, (how_many_years_happened/factor)))\n",
    "print(prob_poisson(avg_time_to_happen, (how_many_years_happened/factor))**factor)\n",
    "\n",
    "prob_poisson(avg_time_to_happen, how_many_years_happened) / \\\n",
    "prob_poisson(avg_time_to_happen, (how_many_years_happened/factor))**factor\n",
    "\n",
    "# prob that a 1/100M event does not occur over 1M = 99%\n",
    "# prob that a 1/100M event does not occur over 0.001M = 99.999%\n",
    "# these DO multiply together consistently\n",
    "#     they are both on the same side of the threshold\n"
   ]
  },
  {
   "cell_type": "code",
   "execution_count": 111,
   "metadata": {},
   "outputs": [
    {
     "name": "stdout",
     "output_type": "stream",
     "text": [
      "0.9995460007023752\n",
      "0.9900995016625083\n",
      "4.773554906813079e-05\n"
     ]
    },
    {
     "data": {
      "text/plain": [
       "20939.23753292894"
      ]
     },
     "execution_count": 111,
     "metadata": {},
     "output_type": "execute_result"
    }
   ],
   "source": [
    "factor = 1000\n",
    "avg_time_to_happen, how_many_years_happened = 1_000_000, 10_000_000\n",
    "# lambda/mu is the average number of events per period\n",
    "print(prob_poisson(avg_time_to_happen, how_many_years_happened))\n",
    "print(prob_poisson(avg_time_to_happen, (how_many_years_happened/factor)))\n",
    "print(prob_poisson(avg_time_to_happen, (how_many_years_happened/factor))**factor)\n",
    "\n",
    "prob_poisson(avg_time_to_happen, how_many_years_happened) / \\\n",
    "prob_poisson(avg_time_to_happen, (how_many_years_happened/factor))**factor\n",
    "\n",
    "# this gets funky when one number is above and one is below the average\n",
    "\n",
    "# prob that a 1/1M does not occur over 10M = 99.9%\n",
    "# prob that a 1/1M does not occur over 0.01M = 99%\n",
    "    # this seems wrong... what?\n",
    "# these will not multiply together consistently\n",
    "#     what kind of distribution would be consistent?\n",
    "#     did NOT learn this in stats class, not sure where to look...\n"
   ]
  },
  {
   "cell_type": "code",
   "execution_count": 114,
   "metadata": {},
   "outputs": [
    {
     "data": {
      "text/plain": [
       "0.9900995016625083"
      ]
     },
     "execution_count": 114,
     "metadata": {},
     "output_type": "execute_result"
    }
   ],
   "source": [
    "# OK the pmf method is wrong\n",
    "prob_poisson(1_000_000, 10_000)"
   ]
  },
  {
   "cell_type": "code",
   "execution_count": 128,
   "metadata": {},
   "outputs": [
    {
     "data": {
      "text/plain": [
       "0.9052914510744338"
      ]
     },
     "execution_count": 128,
     "metadata": {},
     "output_type": "execute_result"
    }
   ],
   "source": [
    "# poisson.pmf(k=1, mu=how_many_years_happened/avg_time_to_happen)\n",
    "(1-poisson.pmf(k=1, mu=10_000/1_000_000))**10"
   ]
  },
  {
   "cell_type": "code",
   "execution_count": 127,
   "metadata": {},
   "outputs": [
    {
     "data": {
      "text/plain": [
       "0.909516258196404"
      ]
     },
     "execution_count": 127,
     "metadata": {},
     "output_type": "execute_result"
    }
   ],
   "source": [
    "(1-poisson.pmf(k=1, mu=100_000/1_000_000))**1"
   ]
  },
  {
   "cell_type": "code",
   "execution_count": 135,
   "metadata": {},
   "outputs": [
    {
     "data": {
      "text/plain": [
       "0.9954692709948221"
      ]
     },
     "execution_count": 135,
     "metadata": {},
     "output_type": "execute_result"
    }
   ],
   "source": [
    "# poisson.pmf(k=1, mu=how_many_years_happened/avg_time_to_happen)\n",
    "(1-poisson.pmf(k=1, mu=10_000/1000))**10"
   ]
  },
  {
   "cell_type": "code",
   "execution_count": 136,
   "metadata": {},
   "outputs": [
    {
     "data": {
      "text/plain": [
       "1.0"
      ]
     },
     "execution_count": 136,
     "metadata": {},
     "output_type": "execute_result"
    }
   ],
   "source": [
    "(1-poisson.pmf(k=1, mu=100_000/1000))**1"
   ]
  },
  {
   "cell_type": "code",
   "execution_count": 57,
   "metadata": {},
   "outputs": [
    {
     "data": {
      "text/plain": [
       "0.10081881344492458"
      ]
     },
     "execution_count": 57,
     "metadata": {},
     "output_type": "execute_result"
    }
   ],
   "source": [
    "poisson.pmf(k=5, mu=3)"
   ]
  },
  {
   "cell_type": "code",
   "execution_count": null,
   "metadata": {},
   "outputs": [],
   "source": [
    "\"\"\"\n",
    "# POISSON: the probability that EXACTLY K events occur\n",
    "\n",
    "# number of events during thie period\n",
    "k_pois <- 5\n",
    "\n",
    "# average number of events per period\n",
    "lambda_pois <- 3\n",
    "\n",
    "dpois(k_pois, lambda_pois)\n",
    "\n",
    "gives\n",
    "0.100818813444924\n",
    "\n",
    "\"\"\""
   ]
  },
  {
   "cell_type": "markdown",
   "metadata": {},
   "source": [
    "### if expected value gets close 1 or more, poisson becomes dependent on time step size"
   ]
  },
  {
   "cell_type": "markdown",
   "metadata": {},
   "source": [
    "### maybe weibull with shape=1 would be better?"
   ]
  },
  {
   "cell_type": "code",
   "execution_count": 145,
   "metadata": {},
   "outputs": [],
   "source": [
    "def prob_weibull(WEIBULL_SCALE_PARAMETER, how_many_years_happened):\n",
    "    \"\"\"\n",
    "    IMPORTANT: this won't work with different timesteps without WEIBULL_SHAPE_PARAMETER=1 \n",
    "        need WEIBULL_SHAPE_PARAMETER=1 for prob_L(params, 1_000)**100 == prob_L(params, 100_000)\n",
    "        maybe use this for monte carlo simulation, but can't rely on it for simple calcs\n",
    "            otherwise time_step becomes an integral part of the calculation\n",
    "    weibull distribution\n",
    "    constants from the CONSTANTS section above but shape=1\n",
    "    \"\"\"\n",
    "    return 1 - (1 - exp(-(how_many_years_happened/WEIBULL_SCALE_PARAMETER)))"
   ]
  },
  {
   "cell_type": "code",
   "execution_count": 147,
   "metadata": {},
   "outputs": [
    {
     "data": {
      "text/plain": [
       "0.006737946999085476"
      ]
     },
     "execution_count": 147,
     "metadata": {},
     "output_type": "execute_result"
    }
   ],
   "source": [
    "prob_weibull(20_000, 100_000)"
   ]
  },
  {
   "cell_type": "code",
   "execution_count": 150,
   "metadata": {},
   "outputs": [
    {
     "name": "stdout",
     "output_type": "stream",
     "text": [
      "0.006737946999085476\n",
      "0.9950124791926823\n",
      "0.00673794699908551\n"
     ]
    },
    {
     "data": {
      "text/plain": [
       "0.9999999999999949"
      ]
     },
     "execution_count": 150,
     "metadata": {},
     "output_type": "execute_result"
    }
   ],
   "source": [
    "factor = 1000\n",
    "WEIBULL_SCALE_PARAMETER = 20_000\n",
    "how_many_years_happened = 100_000\n",
    "\n",
    "print(prob_weibull(WEIBULL_SCALE_PARAMETER, how_many_years_happened))\n",
    "print(prob_weibull(WEIBULL_SCALE_PARAMETER, (how_many_years_happened/factor)))\n",
    "print(prob_weibull(WEIBULL_SCALE_PARAMETER, (how_many_years_happened/factor))**factor)\n",
    "\n",
    "prob_weibull(WEIBULL_SCALE_PARAMETER, how_many_years_happened) / \\\n",
    "prob_weibull(WEIBULL_SCALE_PARAMETER, (how_many_years_happened/factor))**factor\n",
    "\n",
    "# this gets funky when one number is above and one is below the average\n",
    "\n",
    "# prob that a 1/20k event does not occur over 100k yr = 0.7%\n",
    "# prob that a 1/20k event does not occur over 100 yr = 99.5%\n",
    "# these will multiply together consistently\n"
   ]
  },
  {
   "cell_type": "code",
   "execution_count": 153,
   "metadata": {},
   "outputs": [
    {
     "name": "stdout",
     "output_type": "stream",
     "text": [
      "0.0\n",
      "0.951229424500714\n",
      "1.9287498479639315e-22\n"
     ]
    },
    {
     "data": {
      "text/plain": [
       "0.0"
      ]
     },
     "execution_count": 153,
     "metadata": {},
     "output_type": "execute_result"
    }
   ],
   "source": [
    "factor = 1000\n",
    "WEIBULL_SCALE_PARAMETER = 20_000\n",
    "how_many_years_happened = 1_000_000\n",
    "\n",
    "print(prob_weibull(WEIBULL_SCALE_PARAMETER, how_many_years_happened))\n",
    "print(prob_weibull(WEIBULL_SCALE_PARAMETER, (how_many_years_happened/factor)))\n",
    "print(prob_weibull(WEIBULL_SCALE_PARAMETER, (how_many_years_happened/factor))**factor)\n",
    "\n",
    "prob_weibull(WEIBULL_SCALE_PARAMETER, how_many_years_happened) / \\\n",
    "prob_weibull(WEIBULL_SCALE_PARAMETER, (how_many_years_happened/factor))**factor\n",
    "\n",
    "# this gets funky when one number is above and one is below the average\n",
    "\n",
    "# prob that a 1/20k event does not occur over 1M yr = 0.00000000000000000000000%\n",
    "# prob that a 1/20k event does not occur over 1k yr = 95%\n",
    "# these have a rounding error, but might multiply together consistently\n",
    "    # can we force python to use more digits?\n"
   ]
  },
  {
   "cell_type": "code",
   "execution_count": 173,
   "metadata": {},
   "outputs": [],
   "source": [
    "def prob_weibull(WEIBULL_SCALE_PARAMETER, how_many_years_happened):\n",
    "    \"\"\"\n",
    "    revised\n",
    "    \"\"\"\n",
    "    return 1 - (1 - Decimal(exp(-(how_many_years_happened/WEIBULL_SCALE_PARAMETER))))"
   ]
  },
  {
   "cell_type": "code",
   "execution_count": 189,
   "metadata": {},
   "outputs": [
    {
     "name": "stdout",
     "output_type": "stream",
     "text": [
      "1.9287498479639178205634438877671055970256249448102321663231E-22\n",
      "0.9512294245007140158776337557355873286724090576171875\n",
      "1.9287498479639315429980078087590057078137643018345948485260831193203677498541033E-22\n"
     ]
    },
    {
     "data": {
      "text/plain": [
       "Decimal('0.99999999999999288532176507650080389785411505407594708140225684136882011997669484')"
      ]
     },
     "execution_count": 189,
     "metadata": {},
     "output_type": "execute_result"
    }
   ],
   "source": [
    "getcontext().prec = 80  # need more decimals for probability calcs\n",
    "\n",
    "factor = 1000\n",
    "WEIBULL_SCALE_PARAMETER = 20_000\n",
    "how_many_years_happened = 1_000_000\n",
    "\n",
    "print(prob_weibull(WEIBULL_SCALE_PARAMETER, how_many_years_happened))\n",
    "print(prob_weibull(WEIBULL_SCALE_PARAMETER, (how_many_years_happened/factor)))\n",
    "print(prob_weibull(WEIBULL_SCALE_PARAMETER, (how_many_years_happened/factor))**factor)\n",
    "\n",
    "prob_weibull(WEIBULL_SCALE_PARAMETER, how_many_years_happened) / \\\n",
    "prob_weibull(WEIBULL_SCALE_PARAMETER, (how_many_years_happened/factor))**factor\n",
    "\n",
    "# this gets funky when one number is above and one is below the average\n",
    "\n",
    "# prob that a 1/20k event does not occur over 1M yr = 0.00000000000000000000000%\n",
    "# prob that a 1/20k event does not occur over 1k yr = 95%\n",
    "# these have a rounding error, but might multiply together consistently\n",
    "    # can we force python to use more digits?\n"
   ]
  },
  {
   "cell_type": "markdown",
   "metadata": {},
   "source": [
    "the math always seems to work in cases where rounding errors don't occur, we could pre-scale the data so that rounding errors never truncate results\n",
    "\n",
    "might makes more sense to use log odds and convert when used"
   ]
  },
  {
   "cell_type": "code",
   "execution_count": 196,
   "metadata": {},
   "outputs": [
    {
     "data": {
      "text/plain": [
       "1.9287498479639178e-22"
      ]
     },
     "execution_count": 196,
     "metadata": {},
     "output_type": "execute_result"
    }
   ],
   "source": [
    "WEIBULL_SCALE_PARAMETER = 20_000\n",
    "how_many_years_happened = 1_000_000\n",
    "\n",
    "log_odds = how_many_years_happened/WEIBULL_SCALE_PARAMETER\n",
    "exp(-log_odds)"
   ]
  },
  {
   "cell_type": "code",
   "execution_count": 197,
   "metadata": {},
   "outputs": [
    {
     "data": {
      "text/plain": [
       "Decimal('1.9287498479639178205634438877671055970256249448102321663231E-22')"
      ]
     },
     "execution_count": 197,
     "metadata": {},
     "output_type": "execute_result"
    }
   ],
   "source": [
    "prob_weibull(WEIBULL_SCALE_PARAMETER, how_many_years_happened)"
   ]
  },
  {
   "cell_type": "code",
   "execution_count": null,
   "metadata": {},
   "outputs": [],
   "source": [
    "# or maybe it doesn't matter E-22 will make any factor go to 0, so 0 is technically correct"
   ]
  },
  {
   "cell_type": "code",
   "execution_count": null,
   "metadata": {},
   "outputs": [],
   "source": []
  },
  {
   "cell_type": "code",
   "execution_count": null,
   "metadata": {},
   "outputs": [],
   "source": []
  },
  {
   "cell_type": "code",
   "execution_count": null,
   "metadata": {},
   "outputs": [],
   "source": []
  },
  {
   "cell_type": "code",
   "execution_count": null,
   "metadata": {},
   "outputs": [],
   "source": []
  },
  {
   "cell_type": "code",
   "execution_count": null,
   "metadata": {},
   "outputs": [],
   "source": []
  },
  {
   "cell_type": "code",
   "execution_count": null,
   "metadata": {},
   "outputs": [],
   "source": []
  },
  {
   "cell_type": "markdown",
   "metadata": {},
   "source": [
    "### The Time-Dependent Drake Equation"
   ]
  },
  {
   "cell_type": "code",
   "execution_count": 10,
   "metadata": {},
   "outputs": [
    {
     "name": "stderr",
     "output_type": "stream",
     "text": [
      "C:\\Users\\Kevin\\_Python (D)\\Time-Dependent-Drake-Equation\\drakefunctions.py:172: RuntimeWarning: overflow encountered in double_scalars\n",
      "  extinction_technological = N * (base + prob_poisson(params['L'], params['YEAR_STEPS']))\n",
      "C:\\Users\\Kevin\\_Python (D)\\Time-Dependent-Drake-Equation\\drakefunctions.py:233: RuntimeWarning: invalid value encountered in double_scalars\n",
      "  N -= extinctions[4]\n",
      "C:\\Users\\Kevin\\_Python (D)\\Time-Dependent-Drake-Equation\\drakefunctions.py:234: RuntimeWarning: invalid value encountered in double_scalars\n",
      "  N_extinct += extinctions[4]  # track technological extinctions\n"
     ]
    },
    {
     "name": "stdout",
     "output_type": "stream",
     "text": [
      "Wall time: 12.3 s\n"
     ]
    },
    {
     "data": {
      "text/html": [
       "<div>\n",
       "<style scoped>\n",
       "    .dataframe tbody tr th:only-of-type {\n",
       "        vertical-align: middle;\n",
       "    }\n",
       "\n",
       "    .dataframe tbody tr th {\n",
       "        vertical-align: top;\n",
       "    }\n",
       "\n",
       "    .dataframe thead th {\n",
       "        text-align: right;\n",
       "    }\n",
       "</style>\n",
       "<table border=\"1\" class=\"dataframe\">\n",
       "  <thead>\n",
       "    <tr style=\"text-align: right;\">\n",
       "      <th></th>\n",
       "      <th>num_stars</th>\n",
       "      <th>num_planets</th>\n",
       "      <th>num_habitable_planets</th>\n",
       "      <th>num_life</th>\n",
       "      <th>num_complex_life</th>\n",
       "      <th>num_intelligent_life</th>\n",
       "      <th>num_cultural_life</th>\n",
       "      <th>N</th>\n",
       "      <th>N_extinct</th>\n",
       "    </tr>\n",
       "    <tr>\n",
       "      <th>year</th>\n",
       "      <th></th>\n",
       "      <th></th>\n",
       "      <th></th>\n",
       "      <th></th>\n",
       "      <th></th>\n",
       "      <th></th>\n",
       "      <th></th>\n",
       "      <th></th>\n",
       "      <th></th>\n",
       "    </tr>\n",
       "  </thead>\n",
       "  <tbody>\n",
       "    <tr>\n",
       "      <th>9996000000</th>\n",
       "      <td>95_039_003_081</td>\n",
       "      <td>38_015_601_233</td>\n",
       "      <td>36_963_131_775</td>\n",
       "      <td>35_350_234_779</td>\n",
       "      <td>22_743_000_070</td>\n",
       "      <td>11_330_229_644</td>\n",
       "      <td>563_689_232</td>\n",
       "      <td>NaN</td>\n",
       "      <td>NaN</td>\n",
       "    </tr>\n",
       "    <tr>\n",
       "      <th>9997000000</th>\n",
       "      <td>95_039_102_301</td>\n",
       "      <td>38_015_640_921</td>\n",
       "      <td>36_963_658_010</td>\n",
       "      <td>35_351_104_510</td>\n",
       "      <td>22_743_768_308</td>\n",
       "      <td>11_330_629_112</td>\n",
       "      <td>563_709_114</td>\n",
       "      <td>NaN</td>\n",
       "      <td>NaN</td>\n",
       "    </tr>\n",
       "    <tr>\n",
       "      <th>9998000000</th>\n",
       "      <td>95_039_201_519</td>\n",
       "      <td>38_015_680_608</td>\n",
       "      <td>36_964_184_001</td>\n",
       "      <td>35_351_973_879</td>\n",
       "      <td>22_744_536_247</td>\n",
       "      <td>11_331_028_427</td>\n",
       "      <td>563_728_989</td>\n",
       "      <td>NaN</td>\n",
       "      <td>NaN</td>\n",
       "    </tr>\n",
       "    <tr>\n",
       "      <th>9999000000</th>\n",
       "      <td>95_039_300_735</td>\n",
       "      <td>38_015_720_294</td>\n",
       "      <td>36_964_709_749</td>\n",
       "      <td>35_352_842_888</td>\n",
       "      <td>22_745_303_889</td>\n",
       "      <td>11_331_427_588</td>\n",
       "      <td>563_748_856</td>\n",
       "      <td>NaN</td>\n",
       "      <td>NaN</td>\n",
       "    </tr>\n",
       "    <tr>\n",
       "      <th>10000000000</th>\n",
       "      <td>95_039_399_949</td>\n",
       "      <td>38_015_759_980</td>\n",
       "      <td>36_965_235_255</td>\n",
       "      <td>35_353_711_537</td>\n",
       "      <td>22_746_071_232</td>\n",
       "      <td>11_331_826_595</td>\n",
       "      <td>563_768_715</td>\n",
       "      <td>NaN</td>\n",
       "      <td>NaN</td>\n",
       "    </tr>\n",
       "  </tbody>\n",
       "</table>\n",
       "</div>"
      ],
      "text/plain": [
       "                 num_stars    num_planets  num_habitable_planets  \\\n",
       "year                                                               \n",
       "9996000000  95_039_003_081 38_015_601_233         36_963_131_775   \n",
       "9997000000  95_039_102_301 38_015_640_921         36_963_658_010   \n",
       "9998000000  95_039_201_519 38_015_680_608         36_964_184_001   \n",
       "9999000000  95_039_300_735 38_015_720_294         36_964_709_749   \n",
       "10000000000 95_039_399_949 38_015_759_980         36_965_235_255   \n",
       "\n",
       "                  num_life  num_complex_life  num_intelligent_life  \\\n",
       "year                                                                 \n",
       "9996000000  35_350_234_779    22_743_000_070        11_330_229_644   \n",
       "9997000000  35_351_104_510    22_743_768_308        11_330_629_112   \n",
       "9998000000  35_351_973_879    22_744_536_247        11_331_028_427   \n",
       "9999000000  35_352_842_888    22_745_303_889        11_331_427_588   \n",
       "10000000000 35_353_711_537    22_746_071_232        11_331_826_595   \n",
       "\n",
       "             num_cultural_life   N  N_extinct  \n",
       "year                                           \n",
       "9996000000         563_689_232 NaN        NaN  \n",
       "9997000000         563_709_114 NaN        NaN  \n",
       "9998000000         563_728_989 NaN        NaN  \n",
       "9999000000         563_748_856 NaN        NaN  \n",
       "10000000000        563_768_715 NaN        NaN  "
      ]
     },
     "execution_count": 10,
     "metadata": {},
     "output_type": "execute_result"
    }
   ],
   "source": [
    "%%time\n",
    "history_of_life = TimeDependentDrake(params, output_year=10_000_000_000, P_tech_dominance=0.9)\n",
    "\n",
    "history_of_life.tail()"
   ]
  },
  {
   "cell_type": "code",
   "execution_count": 11,
   "metadata": {},
   "outputs": [
    {
     "data": {
      "image/png": "[encoded data removed]",
      "text/plain": [
       "<Figure size 864x432 with 1 Axes>"
      ]
     },
     "metadata": {},
     "output_type": "display_data"
    }
   ],
   "source": [
    "# plot of technological species over time\n",
    "\n",
    "plt.figure(figsize=(12, 6))\n",
    "plot = sns.lineplot(x=history_of_life.index/1_000_000_000, y=history_of_life.N);\n",
    "plt.yticks(rotation=0);\n",
    "plot.set_ylabel('Number of Technological Species');\n",
    "plot.set_xlabel('Billions of Years');"
   ]
  },
  {
   "cell_type": "markdown",
   "metadata": {},
   "source": [
    "# How to interpret these averages/expectations given 1M yr time steps\n",
    "\n",
    "These numbers are based on the active instances over 1M year time steps. This isn't significant for values with slower\n",
    "extinction values, but with N, these predictions are misleading. E.g., 100 technological species seems like\n",
    "a lot, but if that's over 1M years, and they each survive 1k yr, there is less than 1 on average at the same time.\n",
    "\n",
    "We need to convert these numbers into probabilities / histograms to gain insight into how likely we are to find life. "
   ]
  },
  {
   "cell_type": "code",
   "execution_count": 12,
   "metadata": {},
   "outputs": [
    {
     "ename": "ValueError",
     "evalue": "cannot convert float NaN to integer",
     "output_type": "error",
     "traceback": [
      "\u001b[1;31m---------------------------------------------------------------------------\u001b[0m",
      "\u001b[1;31mValueError\u001b[0m                                Traceback (most recent call last)",
      "\u001b[1;32m~\\AppData\\Local\\Temp/ipykernel_4724/2085657766.py\u001b[0m in \u001b[0;36m<module>\u001b[1;34m\u001b[0m\n\u001b[0;32m      1\u001b[0m \u001b[1;31m# number of technological lifeforms in 1M yr timestep at end of Drake calculation\u001b[0m\u001b[1;33m\u001b[0m\u001b[1;33m\u001b[0m\u001b[0m\n\u001b[1;32m----> 2\u001b[1;33m \u001b[0mN_1M_yr\u001b[0m \u001b[1;33m=\u001b[0m \u001b[0mint\u001b[0m\u001b[1;33m(\u001b[0m\u001b[0mround\u001b[0m\u001b[1;33m(\u001b[0m\u001b[0mhistory_of_life\u001b[0m\u001b[1;33m.\u001b[0m\u001b[0miloc\u001b[0m\u001b[1;33m[\u001b[0m\u001b[1;33m[\u001b[0m\u001b[1;33m-\u001b[0m\u001b[1;36m1\u001b[0m\u001b[1;33m]\u001b[0m\u001b[1;33m]\u001b[0m\u001b[1;33m.\u001b[0m\u001b[0mN\u001b[0m\u001b[1;33m)\u001b[0m\u001b[1;33m)\u001b[0m\u001b[1;33m\u001b[0m\u001b[1;33m\u001b[0m\u001b[0m\n\u001b[0m\u001b[0;32m      3\u001b[0m \u001b[0mN_1M_yr\u001b[0m\u001b[1;33m\u001b[0m\u001b[1;33m\u001b[0m\u001b[0m\n",
      "\u001b[1;32m~\\anaconda3\\lib\\site-packages\\pandas\\core\\series.py\u001b[0m in \u001b[0;36mwrapper\u001b[1;34m(self)\u001b[0m\n\u001b[0;32m    182\u001b[0m     \u001b[1;32mdef\u001b[0m \u001b[0mwrapper\u001b[0m\u001b[1;33m(\u001b[0m\u001b[0mself\u001b[0m\u001b[1;33m)\u001b[0m\u001b[1;33m:\u001b[0m\u001b[1;33m\u001b[0m\u001b[1;33m\u001b[0m\u001b[0m\n\u001b[0;32m    183\u001b[0m         \u001b[1;32mif\u001b[0m \u001b[0mlen\u001b[0m\u001b[1;33m(\u001b[0m\u001b[0mself\u001b[0m\u001b[1;33m)\u001b[0m \u001b[1;33m==\u001b[0m \u001b[1;36m1\u001b[0m\u001b[1;33m:\u001b[0m\u001b[1;33m\u001b[0m\u001b[1;33m\u001b[0m\u001b[0m\n\u001b[1;32m--> 184\u001b[1;33m             \u001b[1;32mreturn\u001b[0m \u001b[0mconverter\u001b[0m\u001b[1;33m(\u001b[0m\u001b[0mself\u001b[0m\u001b[1;33m.\u001b[0m\u001b[0miloc\u001b[0m\u001b[1;33m[\u001b[0m\u001b[1;36m0\u001b[0m\u001b[1;33m]\u001b[0m\u001b[1;33m)\u001b[0m\u001b[1;33m\u001b[0m\u001b[1;33m\u001b[0m\u001b[0m\n\u001b[0m\u001b[0;32m    185\u001b[0m         \u001b[1;32mraise\u001b[0m \u001b[0mTypeError\u001b[0m\u001b[1;33m(\u001b[0m\u001b[1;34mf\"cannot convert the series to {converter}\"\u001b[0m\u001b[1;33m)\u001b[0m\u001b[1;33m\u001b[0m\u001b[1;33m\u001b[0m\u001b[0m\n\u001b[0;32m    186\u001b[0m \u001b[1;33m\u001b[0m\u001b[0m\n",
      "\u001b[1;31mValueError\u001b[0m: cannot convert float NaN to integer"
     ]
    }
   ],
   "source": [
    "# number of technological lifeforms in 1M yr timestep at end of Drake calculation\n",
    "N_1M_yr = int(round(history_of_life.iloc[[-1]].N))\n",
    "N_1M_yr"
   ]
  },
  {
   "cell_type": "code",
   "execution_count": null,
   "metadata": {},
   "outputs": [],
   "source": [
    "%%time\n",
    "\n",
    "active_each_year = breakdown_by_year(params, N_1M_yr)"
   ]
  },
  {
   "cell_type": "code",
   "execution_count": null,
   "metadata": {},
   "outputs": [],
   "source": [
    "percentage_table(active_each_year)"
   ]
  },
  {
   "cell_type": "code",
   "execution_count": null,
   "metadata": {},
   "outputs": [],
   "source": [
    "plot_histogram(active_each_year, discrete=True)"
   ]
  },
  {
   "cell_type": "code",
   "execution_count": null,
   "metadata": {},
   "outputs": [],
   "source": [
    "%%time\n",
    "# hypothetical large number of technological lifeforms active in 1M yr timestep\n",
    "\n",
    "# TESTING\n",
    "N_large = 1_000\n",
    "# histogram starts getting messy at 1k+, can't bin it easily because it's actually a barplot\n",
    "\n",
    "active_each_year_large = breakdown_by_year(params, N_large)"
   ]
  },
  {
   "cell_type": "code",
   "execution_count": null,
   "metadata": {},
   "outputs": [],
   "source": [
    "plot_histogram(active_each_year_large)"
   ]
  },
  {
   "cell_type": "markdown",
   "metadata": {},
   "source": [
    "# implications of tech_dominance"
   ]
  },
  {
   "cell_type": "code",
   "execution_count": null,
   "metadata": {},
   "outputs": [],
   "source": [
    "%%time\n",
    "tech_dominance_1 = TimeDependentDrake(params, output_year=10_000_000_000, P_tech_dominance=1)\n",
    "\n",
    "tech_dominance_1.tail()"
   ]
  },
  {
   "cell_type": "code",
   "execution_count": null,
   "metadata": {},
   "outputs": [],
   "source": [
    "plt.figure(figsize=(12, 6))\n",
    "plot = sns.lineplot(x=tech_dominance_1.index/1_000_000_000, y=tech_dominance_1.N);\n",
    "plt.yticks(rotation=0);\n",
    "plot.set_ylabel('Number of Technological Species');\n",
    "plot.set_xlabel('Billions of Years');"
   ]
  },
  {
   "cell_type": "code",
   "execution_count": null,
   "metadata": {},
   "outputs": [],
   "source": [
    "%%time\n",
    "tech_dominance_0 = TimeDependentDrake(params, output_year=10_000_000_000, P_tech_dominance=0)\n",
    "\n",
    "tech_dominance_0.tail()"
   ]
  },
  {
   "cell_type": "code",
   "execution_count": null,
   "metadata": {},
   "outputs": [],
   "source": [
    "plt.figure(figsize=(12, 6))\n",
    "plot = sns.lineplot(x=tech_dominance_0.index/1_000_000_000, y=tech_dominance_0.N);\n",
    "plt.yticks(rotation=0);\n",
    "plot.set_ylabel('Number of Technological Species');\n",
    "plot.set_xlabel('Billions of Years');"
   ]
  },
  {
   "cell_type": "markdown",
   "metadata": {},
   "source": [
    "# steady state values\n",
    "    what are steady state values?\n",
    "    when will we reach approx steady state?\n",
    "    can we match the time-invariant Drake Equation?"
   ]
  },
  {
   "cell_type": "code",
   "execution_count": null,
   "metadata": {},
   "outputs": [],
   "source": [
    "%%time\n",
    "# couldn't think of an algorithm that wouldn't take forever, so I brute-forced and grit\n",
    "# should come up with an automated way to check different settings\n",
    "P_tech_dominance = 0.9\n",
    "\n",
    "index = 'year'\n",
    "columns = ['year', 'num_stars', 'num_planets', 'num_habitable_planets', 'num_life', \n",
    "       'num_complex_life', 'num_intelligent_life', 'num_cultural_life', 'N', 'N_extinct']\n",
    "\n",
    "steady_state = pd.DataFrame(\n",
    "    [[0, 100_000_000_000, 40_000_000_000, 40_000_000_000, 974_975_916, 23_619_997, 6_551_317, 8_796, 6_262, 0]], \n",
    "    columns = columns,\n",
    "    index=[0]\n",
    ").set_index(index)\n",
    "\n",
    "for i in range(2):\n",
    "    temp_df = TimeDependentDrake(params, 10_000_000_000*(i+1), P_tech_dominance, df_input=steady_state)\n",
    "    steady_state = steady_state.append(temp_df.iloc[[-1]])\n",
    "    \n",
    "# print(steady_state.iloc[-1]-steady_state.iloc[0])\n",
    "# print()\n",
    "steady_state.tail()"
   ]
  },
  {
   "cell_type": "code",
   "execution_count": null,
   "metadata": {},
   "outputs": [],
   "source": [
    "plot_histogram(breakdown_by_year(params, 6_262), binwidth=5)"
   ]
  },
  {
   "cell_type": "code",
   "execution_count": null,
   "metadata": {},
   "outputs": [],
   "source": [
    "how_far(params, 400)"
   ]
  },
  {
   "cell_type": "markdown",
   "metadata": {},
   "source": [
    "### Are these calculations equivalent to the orignial Drake Equation?"
   ]
  },
  {
   "cell_type": "code",
   "execution_count": null,
   "metadata": {},
   "outputs": [],
   "source": [
    "match_simulation = params.copy()\n",
    "match_simulation['L'] = 5_000\n",
    "Drake(match_simulation)\n",
    "# this is within the range of estimates used in the prob_L() function, and 1k < L < 1M from current guesses"
   ]
  },
  {
   "cell_type": "code",
   "execution_count": null,
   "metadata": {},
   "outputs": [],
   "source": [
    "int(weibull_mean(params))"
   ]
  },
  {
   "cell_type": "code",
   "execution_count": null,
   "metadata": {},
   "outputs": [],
   "source": [
    "int(weibull_median(params))  # not exactly 5000"
   ]
  },
  {
   "cell_type": "markdown",
   "metadata": {},
   "source": [
    "Statistics Notes"
   ]
  },
  {
   "cell_type": "markdown",
   "metadata": {},
   "source": [
    "mode is 0, because k < 0"
   ]
  },
  {
   "cell_type": "markdown",
   "metadata": {},
   "source": [
    "Results not the same for the same L, but could be equivalent\n",
    "    \n",
    "    our mean > mode > original L\n",
    "        there are a very large number of short-lived species\n",
    "    let's check with a quick simulation\n",
    "    we could also rerun using L constant or poisson to see if it gives the same results\n",
    "    we have more forms of extinction (simple, complex, intelligent, etc)\n",
    "        this slows down life formation, could account for the discrepancy"
   ]
  },
  {
   "cell_type": "code",
   "execution_count": null,
   "metadata": {},
   "outputs": [],
   "source": [
    "# simulation of prob_L\n",
    "\n",
    "temp_list = []\n",
    "temp_steps = 1_000\n",
    "\n",
    "for i in range(1_000):\n",
    "    temp_list.append([temp_steps * i, 1 - prob_L(params, temp_steps * i)])\n",
    "\n",
    "df = pd.DataFrame(temp_list, columns=['Years', 'Prob_Survival'])\n",
    "\n",
    "plt.figure(figsize=(12, 6))\n",
    "plot = sns.lineplot(x=df['Years'], y=df['Prob_Survival']);\n",
    "# plot.set(xscale='log');\n",
    "plot.set_ylabel('Probability of Survival');\n",
    "plt.ticklabel_format(style='plain', axis='x')\n",
    "# plot.set_xlabel('Years');"
   ]
  },
  {
   "cell_type": "code",
   "execution_count": null,
   "metadata": {},
   "outputs": [],
   "source": [
    "# simulation of prob_L\n",
    "\n",
    "temp_list = []\n",
    "temp_steps = 10\n",
    "\n",
    "for i in range(1_000):\n",
    "    temp_list.append([temp_steps * i, 1 - prob_L(params, temp_steps * i)])\n",
    "\n",
    "df = pd.DataFrame(temp_list, columns=['Years', 'Prob_Survival'])\n",
    "\n",
    "plt.figure(figsize=(12, 6))\n",
    "plot = sns.lineplot(x=df['Years'], y=df['Prob_Survival']);\n",
    "# plot.set(xscale='log');\n",
    "plot.set_ylabel('Probability of Survival');\n",
    "plt.ticklabel_format(style='plain', axis='x')\n",
    "# plot.set_xlabel('Years');"
   ]
  },
  {
   "cell_type": "code",
   "execution_count": null,
   "metadata": {},
   "outputs": [],
   "source": [
    "pd.set_option('display.float_format', '{:_.2f}'.format)\n",
    "df.head(10)\n",
    "# 10% of species are extinct at 70 years"
   ]
  },
  {
   "cell_type": "code",
   "execution_count": null,
   "metadata": {},
   "outputs": [],
   "source": [
    "# reset pandas format\n",
    "pd.set_option('display.float_format', '{:_.0f}'.format)"
   ]
  },
  {
   "cell_type": "markdown",
   "metadata": {},
   "source": [
    "# distance to closest species\n",
    "#TODO: could make a formula to calculate the odds that there is x within y"
   ]
  },
  {
   "cell_type": "code",
   "execution_count": null,
   "metadata": {},
   "outputs": [],
   "source": [
    "# closest living technological life\n",
    "# most likely we're alone in the galaxy, but there could be 1 or 2, so\n",
    "how_far(params, 1)"
   ]
  },
  {
   "cell_type": "code",
   "execution_count": null,
   "metadata": {},
   "outputs": [],
   "source": [
    "# likely max 2 other species\n",
    "how_far(params, 2)"
   ]
  },
  {
   "cell_type": "code",
   "execution_count": null,
   "metadata": {},
   "outputs": [],
   "source": [
    "# steady state solution ~400 tech species\n",
    "how_far(params, 400)"
   ]
  },
  {
   "cell_type": "code",
   "execution_count": null,
   "metadata": {},
   "outputs": [],
   "source": []
  },
  {
   "cell_type": "markdown",
   "metadata": {},
   "source": [
    "##### Control Problem?"
   ]
  },
  {
   "cell_type": "code",
   "execution_count": null,
   "metadata": {},
   "outputs": [],
   "source": [
    "# closest extinct technological species\n",
    "# current year, with P_tech_dominance 0 or 1\n",
    "how_far(params, 10_000), how_far(params, 40_000)"
   ]
  },
  {
   "cell_type": "code",
   "execution_count": null,
   "metadata": {},
   "outputs": [],
   "source": [
    "# how many stars within 700 lyr?\n",
    "stars_within(724.6)\n",
    "# we'd probably notice 2.5M stars being converted into paperclips\n",
    "# we should at least be able to detect a runaway AI"
   ]
  },
  {
   "cell_type": "code",
   "execution_count": null,
   "metadata": {},
   "outputs": [],
   "source": [
    "ai_propagation_speed_low = 0.0001  # percentage of the speed of light that superintelligent AI can travel\n",
    "ai_propagation_speed_high = 0.01  # percentage of the speed of light that superintelligent AI can travel\n",
    "chance_of_control_problem_low = 0.01  # proportion of extinctions due to runaway paperclip optimiser\n",
    "chance_of_control_problem_high = 0.1  # proportion of extinctions due to runaway stamp collector\n",
    "\n",
    "# years for rogue AI to travel here\n",
    "pd.DataFrame(\n",
    "    [[how_far(params, 11_000 * chance_of_control_problem_low) / ai_propagation_speed_low, \n",
    "      how_far(params, 11_000 * chance_of_control_problem_high) / ai_propagation_speed_high\n",
    "    ]], columns=['Years Until Invasion - High', 'Years Until Invasion - Low']\n",
    ")"
   ]
  },
  {
   "cell_type": "code",
   "execution_count": null,
   "metadata": {},
   "outputs": [],
   "source": [
    "# plot of extinct technological species over time\n",
    "\n",
    "plt.figure(figsize=(12, 6))\n",
    "plot = sns.lineplot(x=history_of_life.index/1_000_000, y=history_of_life.N_extinct);\n",
    "\n",
    "plot.set(xlim=(9_900, 10_000),ylim=(10_800, 11_500));\n",
    "plt.yticks(rotation=0);\n",
    "plot.set_ylabel('Number of Extinct Technological Species');\n",
    "plot.set_xlabel('Millions of Years');"
   ]
  },
  {
   "cell_type": "code",
   "execution_count": null,
   "metadata": {},
   "outputs": [],
   "source": [
    "# kind of seems like we should have been converted into paperclips by now...\n",
    "# i feel like we'll notice before 10k lyr**2 of stars were converted to paperclips, but you never know"
   ]
  },
  {
   "cell_type": "code",
   "execution_count": null,
   "metadata": {},
   "outputs": [],
   "source": [
    "# how close are the closest paperclip monsters\n",
    "how_far(params, 11_000 * chance_of_control_problem_low), how_far(params, 11_000 * chance_of_control_problem_high)"
   ]
  },
  {
   "cell_type": "code",
   "execution_count": null,
   "metadata": {},
   "outputs": [],
   "source": [
    "# how many stars within 2664 lyr?\n",
    "stars_within(2664.0)\n",
    "# we'd very likely notice 90M stars being converted into stamps"
   ]
  },
  {
   "cell_type": "markdown",
   "metadata": {},
   "source": [
    "**we should have plenty of notice**\n",
    "\n",
    "    unless we mistake rogue AI for very common astrophysical phemomena "
   ]
  },
  {
   "cell_type": "code",
   "execution_count": null,
   "metadata": {},
   "outputs": [],
   "source": []
  },
  {
   "cell_type": "code",
   "execution_count": null,
   "metadata": {},
   "outputs": [],
   "source": []
  },
  {
   "cell_type": "code",
   "execution_count": null,
   "metadata": {},
   "outputs": [],
   "source": []
  },
  {
   "cell_type": "markdown",
   "metadata": {},
   "source": [
    "# LONGER CALCULATIONS"
   ]
  },
  {
   "cell_type": "markdown",
   "metadata": {},
   "source": [
    "##### compare values of YEAR_STEPS to see if we can speed things up without losing accuracy"
   ]
  },
  {
   "cell_type": "code",
   "execution_count": null,
   "metadata": {},
   "outputs": [],
   "source": [
    "%%time\n",
    "params['YEAR_STEPS'] = 10_000_000\n",
    "tech_dominance_0 = TimeDependentDrake(params, output_year=10_000_000_000, P_tech_dominance=0)\n",
    "\n",
    "tech_dominance_0.tail()"
   ]
  },
  {
   "cell_type": "code",
   "execution_count": null,
   "metadata": {},
   "outputs": [],
   "source": [
    "%%time\n",
    "params['YEAR_STEPS'] = 100_000_000\n",
    "tech_dominance_0 = TimeDependentDrake(params, output_year=10_000_000_000, P_tech_dominance=0)\n",
    "\n",
    "tech_dominance_0.tail()"
   ]
  },
  {
   "cell_type": "code",
   "execution_count": null,
   "metadata": {},
   "outputs": [],
   "source": [
    "%%time\n",
    "params['YEAR_STEPS'] = 1_000_000\n",
    "tech_dominance_0 = TimeDependentDrake(params, output_year=10_000_000_000, P_tech_dominance=0)\n",
    "\n",
    "tech_dominance_0.tail()"
   ]
  },
  {
   "cell_type": "markdown",
   "metadata": {},
   "source": [
    "## FIXING POISSON HELPER FUNCTION"
   ]
  },
  {
   "cell_type": "code",
   "execution_count": null,
   "metadata": {},
   "outputs": [],
   "source": [
    "n_habitable, n_life, prob_of_transition = 40_000_000_000, 0, 10_000_000_000\n",
    "\n",
    "\n",
    "transition(params, n_habitable, n_life, prob_of_transition)"
   ]
  },
  {
   "cell_type": "code",
   "execution_count": null,
   "metadata": {},
   "outputs": [],
   "source": [
    "avg_time_to_happen, how_many_years_happened = 10_000_000_000, 1_000_000\n",
    "prob_poisson(avg_time_to_happen, how_many_years_happened)"
   ]
  },
  {
   "cell_type": "code",
   "execution_count": null,
   "metadata": {},
   "outputs": [],
   "source": [
    "avg_time_to_happen = 10_000_000_000\n",
    "prob_poisson(avg_time_to_happen, 100_000), prob_poisson(avg_time_to_happen, 1_000_000), prob_poisson(avg_time_to_happen, 10_000_000)"
   ]
  },
  {
   "cell_type": "code",
   "execution_count": null,
   "metadata": {},
   "outputs": [],
   "source": [
    "steps = [100_000, 1_000_000, 10_000_000, 100_000_000]\n",
    "\n",
    "params['YEAR_STEPS'] = steps[0]\n",
    "prob_of_transition = 10_000_000_000  # params['YEARS_HABITABLE_TO_LIFE']\n",
    "n_habitable = 40_000_000_000\n",
    "print(transition(params, n_habitable, 0, prob_of_transition))\n",
    "\n",
    "params['YEAR_STEPS'] = steps[1]\n",
    "prob_of_transition = 10_000_000_000  # params['YEARS_HABITABLE_TO_LIFE']\n",
    "print(transition(params, n_habitable, 0, prob_of_transition))\n",
    "\n",
    "params['YEAR_STEPS'] = steps[2]\n",
    "prob_of_transition = 10_000_000_000  # params['YEARS_HABITABLE_TO_LIFE']\n",
    "print(transition(params, n_habitable, 0, prob_of_transition))\n",
    "\n",
    "params['YEAR_STEPS'] = steps[3]\n",
    "prob_of_transition = 10_000_000_000  # params['YEARS_HABITABLE_TO_LIFE']\n",
    "print(transition(params, n_habitable, 0, prob_of_transition))"
   ]
  },
  {
   "cell_type": "code",
   "execution_count": null,
   "metadata": {},
   "outputs": [],
   "source": [
    "### MY POISSSON IS BROKEN!!!"
   ]
  },
  {
   "cell_type": "code",
   "execution_count": null,
   "metadata": {},
   "outputs": [],
   "source": [
    "## fix poisson\n",
    "\n",
    "# prob that less than 2 events occur given 5 occur in an avg period\n",
    "# results checked in R, lower.tail = T\n",
    "poisson.cdf(k=1, mu=5)"
   ]
  },
  {
   "cell_type": "code",
   "execution_count": null,
   "metadata": {},
   "outputs": [],
   "source": [
    "## what is the expectation of a poisson variable?\n",
    "# Lambda = E(X) = Var(X) = Mean = how_many_years_happened / avg_time_to_happen"
   ]
  },
  {
   "cell_type": "code",
   "execution_count": null,
   "metadata": {},
   "outputs": [],
   "source": [
    "# expectation of poisson variable\n",
    "avg_time_to_happen = 1_000_000_000\n",
    "100_000 / avg_time_to_happen, 1_000_000 / avg_time_to_happen, 10_000_000 / avg_time_to_happen"
   ]
  },
  {
   "cell_type": "code",
   "execution_count": null,
   "metadata": {},
   "outputs": [],
   "source": [
    "# probability calcs whether something happens over a period\n",
    "def prob_poisson(avg_time_to_happen, how_many_years_happened):\n",
    "    \"\"\"\n",
    "    use poisson probably\n",
    "        what is the expectation of a poisson variable?\n",
    "        Lambda = E(X) = Var(X) = Mean = how_many_years_happened / avg_time_to_happen\n",
    "    returns a ratio between 0 and 1\n",
    "    \"\"\"\n",
    "    return how_many_years_happened / avg_time_to_happen"
   ]
  },
  {
   "cell_type": "code",
   "execution_count": null,
   "metadata": {},
   "outputs": [],
   "source": [
    "avg_time_to_happen = 10_000_000_000\n",
    "prob_poisson(avg_time_to_happen, 100_000), prob_poisson(avg_time_to_happen, 1_000_000), prob_poisson(avg_time_to_happen, 10_000_000)\n",
    "# was:\n",
    "# (4.999967107011116e-11, 4.999666680660653e-09, 4.996667916090658e-07)\n",
    "# these are way higher... need to recalc everything.\n",
    "# also, how is the expected value higher than 1-cdf?\n",
    "    # very unlikely that we'd be 5 orders lower, but constant speed"
   ]
  },
  {
   "cell_type": "markdown",
   "metadata": {},
   "source": [
    "## CHECKING WEIBULL HELPER FUNCTION"
   ]
  },
  {
   "cell_type": "code",
   "execution_count": null,
   "metadata": {},
   "outputs": [],
   "source": [
    "def func(params, how_many_years_happened):\n",
    "    \"\"\"\n",
    "    probability of technological life being extinct after how_many_years_happened\n",
    "    weibull distribution\n",
    "    constants from the CONSTANTS section above\n",
    "    \"\"\"\n",
    "    \n",
    "    # return 1 - exp(-(how_many_years_happened/params['WEIBULL_SCALE_PARAMETER'])**params['WEIBULL_SHAPE_PARAMETER'])\n",
    "    # return exp(-(how_many_years_happened/params['WEIBULL_SCALE_PARAMETER'])**params['WEIBULL_SHAPE_PARAMETER'])\n",
    "    return exp(-(how_many_years_happened/params['WEIBULL_SCALE_PARAMETER'])**1)\n",
    "  "
   ]
  },
  {
   "cell_type": "code",
   "execution_count": null,
   "metadata": {},
   "outputs": [],
   "source": [
    "func(params, 1_000), func(params, 10_000), func(params, 100_000)"
   ]
  },
  {
   "cell_type": "code",
   "execution_count": null,
   "metadata": {},
   "outputs": [],
   "source": [
    "(1-func(params, 1_000))**100, (1-func(params, 10_000))**10, (1-func(params, 100_000))"
   ]
  },
  {
   "cell_type": "markdown",
   "metadata": {},
   "source": [
    "I can't figure out the math right now, but I think that maybe that a weibull distribution with a shape factor will not be compatible with variable time steps. may need to roll back to the poisson distribution and save prob_L for simulation."
   ]
  },
  {
   "cell_type": "code",
   "execution_count": null,
   "metadata": {},
   "outputs": [],
   "source": [
    "func(params, 1_000)**100 / func(params, 100_000)\n",
    "# yep, using shape=1, the function is time-scaleable\n",
    "# :( I need to rethink this function"
   ]
  },
  {
   "cell_type": "code",
   "execution_count": null,
   "metadata": {},
   "outputs": [],
   "source": []
  },
  {
   "cell_type": "code",
   "execution_count": null,
   "metadata": {},
   "outputs": [],
   "source": []
  },
  {
   "cell_type": "code",
   "execution_count": null,
   "metadata": {},
   "outputs": [],
   "source": []
  },
  {
   "cell_type": "markdown",
   "metadata": {},
   "source": [
    "# implications of longer time values (eg, 1T yr, steady state, etc)"
   ]
  },
  {
   "cell_type": "code",
   "execution_count": null,
   "metadata": {},
   "outputs": [],
   "source": [
    "%%time\n",
    "#TODO: haven't tested this as a function yet...\n",
    "#TODO: write a loop to save csv in 10B yr increments\n",
    "# combine csv\n",
    "    # eg, history_of_life.to_csv('history_of_life_1T_yr.csv')  # or nested path\n",
    "# plot it\n",
    "\n",
    "epoch_steps = 1_000_000_000\n",
    "final_year = 100_000_000_000\n",
    "P_tech_dominance = 0.9\n",
    "\n",
    "future_of_life = long_time(params, epoch_steps, final_year, P_tech_dominance = 0.9)\n",
    "\n",
    "# for 10B yr: 12s \n",
    "# for 100B yr: 124s\n",
    "# for 1T yr: estimate 1240s = 21min\n",
    "future_of_life.tail()"
   ]
  },
  {
   "cell_type": "code",
   "execution_count": null,
   "metadata": {},
   "outputs": [],
   "source": []
  },
  {
   "cell_type": "markdown",
   "metadata": {},
   "source": [
    "# Monte Carlo Simulation"
   ]
  },
  {
   "cell_type": "code",
   "execution_count": null,
   "metadata": {},
   "outputs": [],
   "source": [
    "#TODO: redo this section with more flexibility, saving into folders, csv functions"
   ]
  },
  {
   "cell_type": "code",
   "execution_count": null,
   "metadata": {},
   "outputs": [],
   "source": []
  },
  {
   "cell_type": "code",
   "execution_count": null,
   "metadata": {},
   "outputs": [],
   "source": []
  },
  {
   "cell_type": "code",
   "execution_count": null,
   "metadata": {},
   "outputs": [],
   "source": []
  },
  {
   "cell_type": "code",
   "execution_count": null,
   "metadata": {},
   "outputs": [],
   "source": []
  },
  {
   "cell_type": "code",
   "execution_count": null,
   "metadata": {},
   "outputs": [],
   "source": [
    "# test randomisation\n",
    "randomise_constants(drake_range, timeframes_range)\n",
    "df1 = pd.DataFrame([RS, FP, NE, FL, FI, FC, L, YEARS_PLANETS_TO_HABITABLE, YEARS_HABITABLE_TO_LIFE, YEARS_LIFE_TO_COMPLEX_LIFE, YEARS_COMPLEX_TO_INTELLIGENCE, YEARS_INTELLIGENCE_TO_CULTURE, YEARS_CULTURE_TO_TECH, EXTINCTION_SIMPLE, EXTINCTION_COMPLEX, EXTINCTION_INTELLIGENT, EXTINCTION_CULTURAL, WEIBULL_SHAPE_PARAMETER, WEIBULL_SCALE_PARAMETER])\n",
    "reset_default_constants(drake_best, timeframes_best)\n",
    "df2 = pd.DataFrame([RS, FP, NE, FL, FI, FC, L, YEARS_PLANETS_TO_HABITABLE, YEARS_HABITABLE_TO_LIFE, YEARS_LIFE_TO_COMPLEX_LIFE, YEARS_COMPLEX_TO_INTELLIGENCE, YEARS_INTELLIGENCE_TO_CULTURE, YEARS_CULTURE_TO_TECH, EXTINCTION_SIMPLE, EXTINCTION_COMPLEX, EXTINCTION_INTELLIGENT, EXTINCTION_CULTURAL, WEIBULL_SHAPE_PARAMETER, WEIBULL_SCALE_PARAMETER])\n",
    "pd.concat([df1, df2], axis=1)"
   ]
  },
  {
   "cell_type": "markdown",
   "metadata": {},
   "source": [
    "### Simulations"
   ]
  },
  {
   "cell_type": "markdown",
   "metadata": {},
   "source": [
    "##### Original Drake Equation"
   ]
  },
  {
   "cell_type": "code",
   "execution_count": null,
   "metadata": {},
   "outputs": [],
   "source": [
    "%%time\n",
    "\n",
    "simulation = []\n",
    "\n",
    "for i in range(1_000_000):\n",
    "    randomise_constants(drake_range, timeframes_range)\n",
    "    simulation.append(Drake(RS, FP, NE, FL, FI, FC, L))\n",
    "\n",
    "reset_default_constants(drake_best, timeframes_best)\n",
    "\n",
    "pd.DataFrame(simulation).describe()"
   ]
  },
  {
   "cell_type": "code",
   "execution_count": null,
   "metadata": {},
   "outputs": [],
   "source": [
    "# confirm that defaults are reset\n",
    "Drake(RS, FP, NE, FL, FI, FC, L)  # defaults lead to 80"
   ]
  },
  {
   "cell_type": "markdown",
   "metadata": {},
   "source": [
    "##### Time Dependent Drake"
   ]
  },
  {
   "cell_type": "code",
   "execution_count": null,
   "metadata": {},
   "outputs": [],
   "source": [
    "%%time\n",
    "\n",
    "output_year = 1_000_000_000\n",
    "simulation2 = []\n",
    "\n",
    "for i in range(10):\n",
    "    randomise_constants(drake_range, timeframes_range)\n",
    "    N_temp = TimeDependentDrake(output_year=output_year, P_tech_dominance=np.random.random())['N']\n",
    "    simulation2.append(N_temp.iloc[-1])\n",
    "\n",
    "reset_default_constants(drake_best, timeframes_best)\n",
    "\n",
    "pd.DataFrame(simulation2)\n",
    "# pd.DataFrame(simulation2).describe()"
   ]
  },
  {
   "cell_type": "code",
   "execution_count": null,
   "metadata": {},
   "outputs": [],
   "source": [
    "pd.set_option('display.float_format', '{:_.0f}'.format)"
   ]
  },
  {
   "cell_type": "code",
   "execution_count": null,
   "metadata": {},
   "outputs": [],
   "source": [
    "%%time\n",
    "\n",
    "output_year = 1_000_000_000\n",
    "simulation2 = pd.DataFrame()\n",
    "\n",
    "for i in range(100):\n",
    "    randomise_constants(drake_range, timeframes_range)\n",
    "    df_temp = TimeDependentDrake(output_year=output_year, P_tech_dominance=np.random.random())\n",
    "    simulation2 = simulation2.append(df_temp.iloc[-1])\n",
    "\n",
    "reset_default_constants(drake_best, timeframes_best)\n"
   ]
  },
  {
   "cell_type": "code",
   "execution_count": null,
   "metadata": {},
   "outputs": [],
   "source": [
    "simulation2.describe()"
   ]
  },
  {
   "cell_type": "code",
   "execution_count": null,
   "metadata": {
    "scrolled": true
   },
   "outputs": [],
   "source": [
    "pd.set_option('display.max_rows', 100)\n",
    "simulation2"
   ]
  },
  {
   "cell_type": "markdown",
   "metadata": {},
   "source": [
    "1M years, 100 trials -> 2min 38s\n",
    "trials should be linear, years may not be.\n",
    "lets check... looks linear\n",
    "\n",
    "so \n",
    "10M years, 100 trials -> 26min\n",
    "10M years, 1000 trials -> 4hr 23min\n",
    "10M years, 1M trials -> 6 months\n",
    "\n",
    "I have to cut the lawn and play Ghost of Tsushima, let's do the 4.5 hour simulation!"
   ]
  },
  {
   "cell_type": "code",
   "execution_count": null,
   "metadata": {},
   "outputs": [],
   "source": [
    "%%time\n",
    "temp = TimeDependentDrake(output_year=100_000_000, P_tech_dominance=0.9)"
   ]
  },
  {
   "cell_type": "code",
   "execution_count": null,
   "metadata": {},
   "outputs": [],
   "source": [
    "%%time\n",
    "temp = TimeDependentDrake(output_year=1_000_000_000, P_tech_dominance=0.9)"
   ]
  },
  {
   "cell_type": "code",
   "execution_count": null,
   "metadata": {},
   "outputs": [],
   "source": [
    "%%time\n",
    "temp = TimeDependentDrake(output_year=10_000_000_000, P_tech_dominance=0.9)"
   ]
  },
  {
   "cell_type": "code",
   "execution_count": null,
   "metadata": {},
   "outputs": [],
   "source": [
    "%%time\n",
    "\n",
    "# TEST: Make sure it works before wasting 5 hours\n",
    "\n",
    "output_year = 1_000_000_000\n",
    "n_sims = 10\n",
    "simulation2 = pd.DataFrame()\n",
    "\n",
    "for i in range(n_sims):\n",
    "    randomise_constants(drake_range, timeframes_range)\n",
    "    df_temp = TimeDependentDrake(output_year=output_year, P_tech_dominance=np.random.random())\n",
    "    df_param_temp = pd.DataFrame([[\n",
    "        RS, FP, NE, FL, FI, FC, L, YEARS_PLANETS_TO_HABITABLE, YEARS_HABITABLE_TO_LIFE, \n",
    "        YEARS_LIFE_TO_COMPLEX_LIFE, YEARS_COMPLEX_TO_INTELLIGENCE, YEARS_INTELLIGENCE_TO_CULTURE, \n",
    "        YEARS_CULTURE_TO_TECH, EXTINCTION_SIMPLE, EXTINCTION_COMPLEX, EXTINCTION_INTELLIGENT, \n",
    "        EXTINCTION_CULTURAL, WEIBULL_SHAPE_PARAMETER, WEIBULL_SCALE_PARAMETER\n",
    "        ]],\n",
    "        columns = [\n",
    "        'RS', 'FP', 'NE', 'FL', 'FI', 'FC', 'L', 'YEARS_PLANETS_TO_HABITABLE', 'YEARS_HABITABLE_TO_LIFE',\n",
    "        'YEARS_LIFE_TO_COMPLEX_LIFE', 'YEARS_COMPLEX_TO_INTELLIGENCE', 'YEARS_INTELLIGENCE_TO_CULTURE',\n",
    "        'YEARS_CULTURE_TO_TECH', 'EXTINCTION_SIMPLE', 'EXTINCTION_COMPLEX', 'EXTINCTION_INTELLIGENT',\n",
    "        'EXTINCTION_CULTURAL', 'WEIBULL_SHAPE_PARAMETER', 'WEIBULL_SCALE_PARAMETER'\n",
    "        ] \n",
    "    )\n",
    "    simulation2 = simulation2.append(df_temp.iloc[[-1]].reset_index().join(df_param_temp))\n",
    "\n",
    "reset_default_constants(drake_best, timeframes_best)\n",
    "simulation2.to_csv('time_dep_monte_carlo_10Myr_1000trials.csv', index=False)"
   ]
  },
  {
   "cell_type": "code",
   "execution_count": null,
   "metadata": {},
   "outputs": [],
   "source": [
    "%%time\n",
    "\n",
    "# SIMULATION: 10M yr,  1k trials, should take 5 hours to run\n",
    "\n",
    "output_year = 10_000_000_000\n",
    "n_sims = 1_000\n",
    "simulation2 = pd.DataFrame()\n",
    "\n",
    "for i in range(n_sims):\n",
    "    randomise_constants(drake_range, timeframes_range)\n",
    "    df_temp = TimeDependentDrake(output_year=output_year, P_tech_dominance=np.random.random())\n",
    "    df_param_temp = pd.DataFrame([[\n",
    "        RS, FP, NE, FL, FI, FC, L, YEARS_PLANETS_TO_HABITABLE, YEARS_HABITABLE_TO_LIFE, \n",
    "        YEARS_LIFE_TO_COMPLEX_LIFE, YEARS_COMPLEX_TO_INTELLIGENCE, YEARS_INTELLIGENCE_TO_CULTURE, \n",
    "        YEARS_CULTURE_TO_TECH, EXTINCTION_SIMPLE, EXTINCTION_COMPLEX, EXTINCTION_INTELLIGENT, \n",
    "        EXTINCTION_CULTURAL, WEIBULL_SHAPE_PARAMETER, WEIBULL_SCALE_PARAMETER\n",
    "        ]],\n",
    "        columns = [\n",
    "        'RS', 'FP', 'NE', 'FL', 'FI', 'FC', 'L', 'YEARS_PLANETS_TO_HABITABLE', 'YEARS_HABITABLE_TO_LIFE',\n",
    "        'YEARS_LIFE_TO_COMPLEX_LIFE', 'YEARS_COMPLEX_TO_INTELLIGENCE', 'YEARS_INTELLIGENCE_TO_CULTURE',\n",
    "        'YEARS_CULTURE_TO_TECH', 'EXTINCTION_SIMPLE', 'EXTINCTION_COMPLEX', 'EXTINCTION_INTELLIGENT',\n",
    "        'EXTINCTION_CULTURAL', 'WEIBULL_SHAPE_PARAMETER', 'WEIBULL_SCALE_PARAMETER'\n",
    "        ] \n",
    "    )\n",
    "    simulation2 = simulation2.append(df_temp.iloc[[-1]].reset_index().join(df_param_temp))\n",
    "\n",
    "reset_default_constants(drake_best, timeframes_best)\n",
    "\n",
    "now = datetime.datetime.now().strftime(\"%m%d_%H%M\")\n",
    "simulation2.to_csv(f'time_dep_monte_carlo_10Myr_1000trials_{now}.csv', index=False)"
   ]
  },
  {
   "cell_type": "code",
   "execution_count": null,
   "metadata": {},
   "outputs": [],
   "source": [
    "simulation2.N.describe()"
   ]
  },
  {
   "cell_type": "code",
   "execution_count": null,
   "metadata": {},
   "outputs": [],
   "source": [
    "\"\"\"\n",
    "#  TODO: \n",
    "    set up a better loop, output multiple smaller csv\n",
    "    create a function to import and combine csv into df\n",
    "    look at results and figure out if any of the ranges are 0s or huge\n",
    "        use these as flags\n",
    "        monte carlo moderate values\n",
    "    figure out which parameters / functions are leading to negative numbers\n",
    "        maybe rounding - revise\n",
    "    investigate 10M or 100M timesteps to speed up the simulation process\n",
    "    make a library of functions to import, and an abbreviated workbook with only conclusions\n",
    "\"\"\""
   ]
  },
  {
   "cell_type": "code",
   "execution_count": null,
   "metadata": {},
   "outputs": [],
   "source": []
  }
 ],
 "metadata": {
  "colab": {
   "collapsed_sections": [],
   "name": "Drake Equation.ipynb",
   "provenance": []
  },
  "kernelspec": {
   "display_name": "Python 3 (ipykernel)",
   "language": "python",
   "name": "python3"
  },
  "language_info": {
   "codemirror_mode": {
    "name": "ipython",
    "version": 3
   },
   "file_extension": ".py",
   "mimetype": "text/x-python",
   "name": "python",
   "nbconvert_exporter": "python",
   "pygments_lexer": "ipython3",
   "version": "3.9.7"
  }
 },
 "nbformat": 4,
 "nbformat_minor": 1
}
