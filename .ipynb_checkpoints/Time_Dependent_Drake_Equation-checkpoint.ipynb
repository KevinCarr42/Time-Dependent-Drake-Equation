{
 "cells": [
  {
   "cell_type": "markdown",
   "metadata": {},
   "source": [
    "# Cosmic Neighbours\n",
    "\n",
    "In this project we are adding a time dimension to the famous [Drake Equation](https://en.wikipedia.org/wiki/Drake_equation). The Drake Equation is as follows:\n",
    "    \n",
    "#### N = Rs * fp * ne * fl * fi * fc * L\n",
    "    where:\n",
    "    N = number of civilizations with which humans could communicate\n",
    "    Rs = mean rate of star formation\n",
    "    fp = fraction of stars that have planets\n",
    "    ne = mean number of planets that could support life per star with planets\n",
    "    fl = fraction of life-supporting planets that develop life\n",
    "    fi = fraction of planets with life where life develops intelligence\n",
    "    fc = fraction of intelligent civilizations that develop communication\n",
    "    L = mean length of time that civilizations can communicate\n",
    "    \n",
    "This solution to the number of civilizations is a steady state solution. Meaning, we cannot use this estimate to estimate the number of extict civilizations in our galaxy.\n"
   ]
  },
  {
   "cell_type": "markdown",
   "metadata": {},
   "source": [
    "### Imports"
   ]
  },
  {
   "cell_type": "code",
   "execution_count": 40,
   "metadata": {
    "id": "Cy9vSqKf1Pn9"
   },
   "outputs": [],
   "source": [
    "import numpy as np\n",
    "import pandas as pd\n",
    "pd.set_option('display.float_format', '{:,.0f}'.format)\n",
    "from scipy.stats import poisson\n",
    "from math import factorial, exp\n",
    "import matplotlib.pyplot as plt\n",
    "%matplotlib inline\n",
    "import seaborn as sns\n",
    "sns.set_theme()"
   ]
  },
  {
   "cell_type": "markdown",
   "metadata": {},
   "source": [
    "### The Original Drake Equation"
   ]
  },
  {
   "cell_type": "code",
   "execution_count": 41,
   "metadata": {
    "id": "srwWAeDMx8Ck"
   },
   "outputs": [],
   "source": [
    "def Drake(Rs, fp, ne, fl, fi, fc, L):\n",
    "    \"\"\"\n",
    "    The Drake Equation\n",
    "    N = number of civilizations with which humans could communicate\n",
    "    Rs = mean rate of star formation\n",
    "    fp = fraction of stars that have planets\n",
    "    ne = mean number of planets that could support life per star with planets\n",
    "    fl = fraction of life-supporting planets that develop life\n",
    "    fi = fraction of planets with life where life develops intelligence\n",
    "    fc = fraction of intelligent civilizations that develop communication\n",
    "    L = mean length of time that civilizations can communicate\n",
    "    \"\"\"\n",
    "    return round(Rs * fp * ne * fl * fi * fc * L)\n"
   ]
  },
  {
   "cell_type": "code",
   "execution_count": 60,
   "metadata": {},
   "outputs": [
    {
     "data": {
      "text/plain": [
       "80"
      ]
     },
     "execution_count": 60,
     "metadata": {},
     "output_type": "execute_result"
    }
   ],
   "source": [
    "# Using our best estimates, the Drake Equation predicts...\n",
    "RS = 2  # star formation per galaxy (ie, milky way)\n",
    "FP = 1\n",
    "NE = 0.4\n",
    "FL = 1  # seems optimistic to me\n",
    "FI = 1  # seems optimistic to me\n",
    "FC = 0.1  # looks like a complete guess \n",
    "L = 1000  # maybe between 1000 and 100_000_000\n",
    "\n",
    "Drake(RS, FP, NE, FL, FI, FC, L)"
   ]
  },
  {
   "cell_type": "code",
   "execution_count": 62,
   "metadata": {},
   "outputs": [
    {
     "name": "stdout",
     "output_type": "stream",
     "text": [
      "1,200,000,000\n"
     ]
    }
   ],
   "source": [
    "# hack the Drake equation to estimate how many extict technological civilizations\n",
    "# might exist in the Milky Way\n",
    "print(f\"{Drake(RS, FP, NE, FL, FI, FC, 15_000_000_000):,}\")\n",
    "# seems a bit high..."
   ]
  },
  {
   "cell_type": "markdown",
   "metadata": {},
   "source": [
    "### Adding Time"
   ]
  },
  {
   "cell_type": "markdown",
   "metadata": {},
   "source": [
    "##### Step 1: Break It Into Parts"
   ]
  },
  {
   "cell_type": "markdown",
   "metadata": {},
   "source": [
    "##### PARAMS"
   ]
  },
  {
   "cell_type": "code",
   "execution_count": 43,
   "metadata": {},
   "outputs": [],
   "source": [
    "# CONSTANTS\n",
    "\n",
    "# best estimate for a solution to the Drake equation\n",
    "RS = 2  # star formation per galaxy (ie, milky way)\n",
    "FP = 1\n",
    "NE = 0.4\n",
    "FL = 1  # seems optimistic to me\n",
    "FI = 1  # seems optimistic to me\n",
    "FC = 0.1  # looks like a complete guess \n",
    "L = 1000  # maybe between 1000 and 100_000_000\n",
    "\n",
    "NUM_GALAXY = 100_000_000_000  # number of stars in a galaxy\n",
    "MODERN_ERA = 10_000_000_000  # years since 2nd gen stars, order of magnitude approx\n",
    "\n",
    "# approx timeframe on Earth - assume it is representative\n",
    "YEARS_PLANETS_TO_HABITABLE = 2_000_000_000\n",
    "YEARS_HABITABLE_TO_LIFE = 1_000_000_000\n",
    "YEARS_LIFE_TO_COMPLEX_LIFE = 1_000_000_000\n",
    "YEARS_COMPLEX_TO_INTELLIGENCE = 200_000_000\n",
    "YEARS_INTELLIGENCE_TO_TECH = 100_000\n",
    "\n",
    "# estimates for mass extinctions in years\n",
    "EXTINCTION_SIMPLE = 5_000_000_000  # approx limit to age of life on earth\n",
    "EXTINCTION_COMPLEX = 2_000_000_000  # more likely to go extinct\n",
    "EXTINCTION_INTELLIGENT = 200_000_000  # guess: approx age of the dinosaurs\n",
    "EXTINCTION_TECHNOLOGICAL = L  # from Drake Equation input parameter\n",
    "\n",
    "# increments for calculations\n",
    "YEAR_STEPS = 1_000_000\n",
    "\n",
    "# variables\n",
    "\n",
    "num_stars = 0  # number of 2nd+ generation stars\n",
    "num_planets = 0\n",
    "num_habitable_planets = 0\n",
    "num_life = 0\n",
    "num_complex_life = 0\n",
    "num_intelligent_life = 0\n",
    "N = 0  # number of technological lifeforms (NOT A CONSTANT)\n",
    "current_year = 0  # start at 0"
   ]
  },
  {
   "cell_type": "markdown",
   "metadata": {},
   "source": [
    "##### STAR FORMATION"
   ]
  },
  {
   "cell_type": "code",
   "execution_count": 44,
   "metadata": {},
   "outputs": [],
   "source": [
    "# number of stars\n",
    "\n",
    "def star_formation(current_year, num_stars):\n",
    "    \"\"\"\n",
    "    star birth\n",
    "    currently 30 times lower than at the start of the universe\n",
    "    peaked 8 billion years ago\n",
    "    approx rate calc assumes 30x at 10B ago, and Rs from now forward, linear interpolation\n",
    "    \n",
    "    star death\n",
    "    not based on astro physics, just used to balance the births vs death at num_galaxy\n",
    "    \"\"\"\n",
    "    # star birth\n",
    "    rate = RS * max(((MODERN_ERA - current_year) * 30) / MODERN_ERA, 1)\n",
    "    birth = rate * YEAR_STEPS\n",
    "    \n",
    "    # star death\n",
    "    death = rate * YEAR_STEPS * num_stars / NUM_GALAXY\n",
    "    \n",
    "    return birth - death\n",
    "    "
   ]
  },
  {
   "cell_type": "markdown",
   "metadata": {},
   "source": [
    "##### PLANET FORMATION"
   ]
  },
  {
   "cell_type": "code",
   "execution_count": 45,
   "metadata": {},
   "outputs": [],
   "source": [
    "# number of new planets\n",
    "def new_planets(num_new_stars):\n",
    "    \"\"\"\n",
    "    New stars create new planets. These planets are not habitable yet, but \n",
    "    they only count if they will become habitable, and will develop life.\n",
    "    \n",
    "    Incorporates all of the following Drake parameters:\n",
    "    fp = fraction of stars that have planets\n",
    "    ne = mean number of planets that could support life per star with planets\n",
    "    fl = fraction of life-supporting planets that develop life\n",
    "    \"\"\"\n",
    "    return num_new_stars * FP * NE * FL\n",
    "    "
   ]
  },
  {
   "cell_type": "code",
   "execution_count": 46,
   "metadata": {},
   "outputs": [],
   "source": [
    "# number of new planets\n",
    "def new_habitable(num_planets, num_habitable_planets):\n",
    "    \"\"\"\n",
    "    the number of planets that become habitable\n",
    "    doesn't track planets, just uses ratios to approximate\n",
    "    \"\"\"\n",
    "    uninhabited = num_planets - num_habitable_planets\n",
    "    newly_habitable = uninhabited * YEAR_STEPS / YEARS_PLANETS_TO_HABITABLE\n",
    "    return newly_habitable\n",
    "    "
   ]
  },
  {
   "cell_type": "markdown",
   "metadata": {},
   "source": [
    "##### LIFE FORMATION\n",
    "\n",
    "The following parameters are treated as timeframes instead of ratios:\n",
    "\n",
    "    fi = fraction of planets with life where life develops intelligence\n",
    "    fc = fraction of intelligent civilizations that develop communication\n",
    "    L = mean length of time that civilizations can communicate\n",
    "    \n",
    "    #TODO could refactor a few functions into a transition function. maybe too abstract, leave for now"
   ]
  },
  {
   "cell_type": "code",
   "execution_count": 47,
   "metadata": {},
   "outputs": [],
   "source": [
    "# probability calcs whether something happens over a period\n",
    "def prob_poisson(avg_time_to_happen, how_many_years_happened):\n",
    "    \"\"\"\n",
    "    use poisson probably\n",
    "    returns a ratio between 0 and 1\n",
    "    results work for better known calcs, but fall apart for L\n",
    "    probability of L is calculated in prob_L()\n",
    "    \"\"\"\n",
    "    return 1 - poisson.cdf(k=1, mu=how_many_years_happened/avg_time_to_happen)\n"
   ]
  },
  {
   "cell_type": "code",
   "execution_count": 48,
   "metadata": {},
   "outputs": [],
   "source": [
    "# need a different probability distribution for L\n",
    "# if the number is between hundreds and millions of years, \n",
    "# 0.0000000000000000% is not realistic for 1M yr survival\n",
    "# what is a probability distribution with fatter tails?\n",
    "# let's try a Weibull distribution!\n",
    "# https://en.wikipedia.org/wiki/Weibull_distribution\n",
    "\n",
    "def prob_L(how_many_years_happened):\n",
    "    \"\"\"\n",
    "    after testing: consider removing inputs, just read L and shift the \n",
    "    consider: bypass L and use Lmin and Lmax\n",
    "    \"\"\"\n",
    "    SHAPE_PARAMETER = 0.4  # k\n",
    "    SCALE_PARAMETER = 20_000  # lambda / 63rd percentile\n",
    "    # these were chosen to give a 10% extinction at 100yr and 99% at 1M yr\n",
    "    # approx 50th %ile of 10k years\n",
    "    # could be optimistic\n",
    "    # tweak as desired\n",
    "    \n",
    "    return 1 - exp(-(how_many_years_happened/SCALE_PARAMETER)**SHAPE_PARAMETER)\n",
    "    "
   ]
  },
  {
   "cell_type": "code",
   "execution_count": 49,
   "metadata": {},
   "outputs": [],
   "source": [
    "def new_life(num_habitable_planets, num_life):\n",
    "    \"\"\"\n",
    "    the number of habitable planets that develop new life\n",
    "    doesn't track planets, just uses ratios to approximate\n",
    "    \"\"\"\n",
    "    uninhabited = num_habitable_planets - num_life\n",
    "    new_lifeforms = uninhabited * prob_poisson(YEARS_HABITABLE_TO_LIFE, YEAR_STEPS)\n",
    "    return new_lifeforms"
   ]
  },
  {
   "cell_type": "code",
   "execution_count": 50,
   "metadata": {},
   "outputs": [],
   "source": [
    "def new_complex_life(num_life, num_complex_life):\n",
    "    \"\"\"\n",
    "    the number of planets with life that develop complex life\n",
    "    doesn't track planets, just uses ratios to approximate\n",
    "    \"\"\"\n",
    "    primitive_life = num_life - num_complex_life\n",
    "    new_complex = primitive_life * prob_poisson(YEARS_LIFE_TO_COMPLEX_LIFE, YEAR_STEPS)\n",
    "    return new_complex"
   ]
  },
  {
   "cell_type": "code",
   "execution_count": 51,
   "metadata": {},
   "outputs": [],
   "source": [
    "def new_intelligence(num_complex_life, num_intelligent_life):\n",
    "    \"\"\"\n",
    "    the number of planets with complex life that develop intelligent life\n",
    "    doesn't track planets, just uses ratios to approximate\n",
    "    \"\"\"\n",
    "    unintelligent = num_complex_life - num_intelligent_life\n",
    "    intelligent = unintelligent * prob_poisson(YEARS_COMPLEX_TO_INTELLIGENCE, YEAR_STEPS)\n",
    "    return intelligent"
   ]
  },
  {
   "cell_type": "code",
   "execution_count": 52,
   "metadata": {},
   "outputs": [],
   "source": [
    "def new_technological(num_intelligent_life, N):\n",
    "    \"\"\"\n",
    "    the number of planets with complex life that develop intelligent life\n",
    "    doesn't track planets, just uses ratios to approximate\n",
    "    \"\"\"\n",
    "    intelligent = num_intelligent_life - N\n",
    "    technological = intelligent * prob_poisson(YEARS_INTELLIGENCE_TO_TECH, YEAR_STEPS)\n",
    "    return technological"
   ]
  },
  {
   "cell_type": "code",
   "execution_count": 53,
   "metadata": {},
   "outputs": [],
   "source": [
    "def new_extinctions(num_stars, num_life, num_complex_life, num_intelligent_life, N):\n",
    "    \"\"\"\n",
    "    uses estimates for extinction events to subtract lifeforms\n",
    "    should balance with star death\n",
    "    \"\"\"\n",
    "    # base extinction numbers\n",
    "    base = RS * YEAR_STEPS * (num_life / num_stars)  # RS and star death balance, correct for % life/stars\n",
    "    \n",
    "    # specific extinction numbers\n",
    "    extinction_simple = base\n",
    "    extinction_complex = base + num_complex_life * prob_poisson(EXTINCTION_COMPLEX, YEAR_STEPS)\n",
    "    extinction_intelligent = base + num_intelligent_life * prob_poisson(EXTINCTION_INTELLIGENT, YEAR_STEPS)\n",
    "    extinction_technological = N * prob_L(YEAR_STEPS)\n",
    "    \n",
    "    return extinction_simple, extinction_complex, extinction_intelligent, extinction_technological"
   ]
  },
  {
   "cell_type": "code",
   "execution_count": null,
   "metadata": {},
   "outputs": [],
   "source": []
  },
  {
   "cell_type": "markdown",
   "metadata": {},
   "source": [
    "##### Step 2: Tune the Parts to Match Reality and Drake Params"
   ]
  },
  {
   "cell_type": "code",
   "execution_count": 54,
   "metadata": {},
   "outputs": [
    {
     "data": {
      "image/png": "[encoded data removed]",
      "text/plain": [
       "<Figure size 432x288 with 1 Axes>"
      ]
     },
     "metadata": {},
     "output_type": "display_data"
    }
   ],
   "source": [
    "# test number of stars by plotting\n",
    "\n",
    "starplot = [[0, 0]]  # year, stars\n",
    "\n",
    "for n in range(MODERN_ERA // YEAR_STEPS):\n",
    "    temp_year = starplot[-1][0]\n",
    "    temp_stars = starplot[-1][1]\n",
    "    temp_stars += star_formation(temp_year, temp_stars)\n",
    "    starplot.append([(n+1)*YEAR_STEPS, temp_stars])\n",
    "\n",
    "starplot = pd.DataFrame(starplot, columns=['year', 'stars'])\n",
    "\n",
    "sns.lineplot(x=starplot.year, y=starplot.stars);"
   ]
  },
  {
   "cell_type": "code",
   "execution_count": 55,
   "metadata": {},
   "outputs": [
    {
     "data": {
      "text/html": [
       "<div>\n",
       "<style scoped>\n",
       "    .dataframe tbody tr th:only-of-type {\n",
       "        vertical-align: middle;\n",
       "    }\n",
       "\n",
       "    .dataframe tbody tr th {\n",
       "        vertical-align: top;\n",
       "    }\n",
       "\n",
       "    .dataframe thead th {\n",
       "        text-align: right;\n",
       "    }\n",
       "</style>\n",
       "<table border=\"1\" class=\"dataframe\">\n",
       "  <thead>\n",
       "    <tr style=\"text-align: right;\">\n",
       "      <th></th>\n",
       "      <th>year</th>\n",
       "      <th>stars</th>\n",
       "    </tr>\n",
       "  </thead>\n",
       "  <tbody>\n",
       "    <tr>\n",
       "      <th>9996</th>\n",
       "      <td>9996000000</td>\n",
       "      <td>95,041,880,517</td>\n",
       "    </tr>\n",
       "    <tr>\n",
       "      <th>9997</th>\n",
       "      <td>9997000000</td>\n",
       "      <td>95,041,979,679</td>\n",
       "    </tr>\n",
       "    <tr>\n",
       "      <th>9998</th>\n",
       "      <td>9998000000</td>\n",
       "      <td>95,042,078,840</td>\n",
       "    </tr>\n",
       "    <tr>\n",
       "      <th>9999</th>\n",
       "      <td>9999000000</td>\n",
       "      <td>95,042,177,998</td>\n",
       "    </tr>\n",
       "    <tr>\n",
       "      <th>10000</th>\n",
       "      <td>10000000000</td>\n",
       "      <td>95,042,277,155</td>\n",
       "    </tr>\n",
       "  </tbody>\n",
       "</table>\n",
       "</div>"
      ],
      "text/plain": [
       "              year          stars\n",
       "9996    9996000000 95,041,880,517\n",
       "9997    9997000000 95,041,979,679\n",
       "9998    9998000000 95,042,078,840\n",
       "9999    9999000000 95,042,177,998\n",
       "10000  10000000000 95,042,277,155"
      ]
     },
     "execution_count": 55,
     "metadata": {},
     "output_type": "execute_result"
    }
   ],
   "source": [
    "starplot.tail()"
   ]
  },
  {
   "cell_type": "code",
   "execution_count": 56,
   "metadata": {},
   "outputs": [],
   "source": [
    "# fix probability calcs to be between 0 and 1\n",
    "# https://www.statology.org/poisson-distribution-python/\n",
    "\n",
    "def prob_happens(avg_time_to_happen, how_many_years_happened):\n",
    "    \"\"\"\n",
    "    use poisson probably\n",
    "    returns a ratio between 0 and 1\n",
    "    \"\"\"\n",
    "    return 1 - poisson.cdf(k=1, mu=how_many_years_happened/avg_time_to_happen)\n"
   ]
  },
  {
   "cell_type": "code",
   "execution_count": 57,
   "metadata": {},
   "outputs": [
    {
     "data": {
      "text/plain": [
       "(0.11318, 0.99162, 0.53133)"
      ]
     },
     "execution_count": 57,
     "metadata": {},
     "output_type": "execute_result"
    }
   ],
   "source": [
    "# need a different probability distribution for L\n",
    "# if the number is between hundreds and millions of years, \n",
    "# 0.0000000000000000% is not realistic for 1M yr survival\n",
    "# what is a probability distribution with fatter tails?\n",
    "# let's try a Weibull distribution!\n",
    "# https://en.wikipedia.org/wiki/Weibull_distribution\n",
    "\n",
    "def prob_L(how_many_years_happened):\n",
    "    \"\"\"\n",
    "    after testing: consider removing inputs, just read L and shift the \n",
    "    consider: bypass L and use Lmin and Lmax\n",
    "    \"\"\"\n",
    "    SHAPE_PARAMETER = 0.4  # k\n",
    "    SCALE_PARAMETER = 20_000  # lambda / 63rd percentile\n",
    "    # these were chosen to give a 10% extinction at 100yr and 99% at 1M yr\n",
    "    # approx 50th %ile of 10k years\n",
    "    # could be optimistic\n",
    "    # tweak as desired\n",
    "    \n",
    "    return round(1 - exp(-(how_many_years_happened/SCALE_PARAMETER)**SHAPE_PARAMETER), 5)\n",
    "    \n",
    "prob_L(100), prob_L(1000000), prob_L(10000)"
   ]
  },
  {
   "cell_type": "code",
   "execution_count": null,
   "metadata": {},
   "outputs": [],
   "source": [
    "# test that functions add up to Drake params\n",
    "\n"
   ]
  },
  {
   "cell_type": "code",
   "execution_count": null,
   "metadata": {},
   "outputs": [],
   "source": []
  },
  {
   "cell_type": "code",
   "execution_count": null,
   "metadata": {},
   "outputs": [],
   "source": []
  },
  {
   "cell_type": "markdown",
   "metadata": {},
   "source": [
    "##### Step 3:Combine The Parts"
   ]
  },
  {
   "cell_type": "code",
   "execution_count": null,
   "metadata": {},
   "outputs": [],
   "source": []
  },
  {
   "cell_type": "code",
   "execution_count": null,
   "metadata": {},
   "outputs": [],
   "source": []
  },
  {
   "cell_type": "code",
   "execution_count": null,
   "metadata": {},
   "outputs": [],
   "source": []
  },
  {
   "cell_type": "code",
   "execution_count": null,
   "metadata": {},
   "outputs": [],
   "source": []
  },
  {
   "cell_type": "code",
   "execution_count": null,
   "metadata": {},
   "outputs": [],
   "source": []
  },
  {
   "cell_type": "code",
   "execution_count": null,
   "metadata": {
    "id": "N1uGmb5k1Mir"
   },
   "outputs": [],
   "source": [
    "# OLD VERSION TOO COMPLICATED\n",
    "\n",
    "def TimeDependentDrake(Rs, fp, ne, fl, fi, fc, L, \n",
    "    year=10_000_000_000, # default = NOW, approx 10B yr since 2nd gen stars\n",
    "    avg_years_to_form_life=4_000_000_000, # approx 4B yr star to first life\n",
    "    avg_years_to_get_intelligence=1_000_000_000): # approx 1B yr until intelligence\n",
    "\n",
    "    \"\"\"\n",
    "    based on the Drake Equation but incorporates time.\n",
    "    year is the approximate years since second generation stars formed\n",
    "        life was unlikely in a first generation star\n",
    "        10 billion years is an order of magnitude approximation\n",
    "\n",
    "    avg_years_to_form_life assumes life is inevitable, but takes time to form\n",
    "        could be thousands, millions, or billions of years\n",
    "\n",
    "    The Drake Equation\n",
    "    N = number of civilizations with which humans could communicate\n",
    "    Rs = mean rate of star formation\n",
    "    fp = fraction of stars that have planets\n",
    "    ne = mean number of planets that could support life per star with planets\n",
    "    fl = fraction of life-supporting planets that develop life\n",
    "    fi = fraction of planets with life where life develops intelligence\n",
    "    fc = fraction of intelligent civilizations that develop communication\n",
    "    L = mean length of time that civilizations can communicate\n",
    "    \"\"\"\n",
    "\n",
    "    star_lifetime = 10_000_000_000  # using a star like the sun\n",
    "\n",
    "    num_stars = 0\n",
    "    num_planets = 0\n",
    "    num_life = 0\n",
    "    N = 0\n",
    "    current_year = 0\n",
    "    year_steps = 1_000_000\n",
    "    \n",
    "    # this is NOT probabilistic, just expected values, using fractions\n",
    "    # next iteration could use Poisson and Monte Carlo \n",
    "    chance_of_life = year_steps / avg_years_to_form_life\n",
    "    chance_of_intelligence = year_steps / avg_years_to_get_intelligence\n",
    "\n",
    "    while current_year < year:\n",
    "\n",
    "        # increment times affect approximations\n",
    "        current_year += year_steps\n",
    "        new_stars = Rs * year_steps\n",
    "        dying_stars = num_stars * year_steps / star_lifetime\n",
    "\n",
    "        # intelligence, then life, then planet, then star formation\n",
    "        # so that each of these builds off the previous generation\n",
    "\n",
    "        # fi = fraction of planets with life where life develops intelligence\n",
    "        # only includes specied that will communicate\n",
    "        N -= N * year_steps / L  # minus extinctions\n",
    "        N = max(N, 0)\n",
    "        N += (num_life - N) * chance_of_intelligence * fc\n",
    "        # N *= L / year_steps  # use a factor, not exact lifetime\n",
    "        \n",
    "\n",
    "        # fl = fraction of life-supporting planets that develop life\n",
    "        num_life += (num_planets - num_life) * chance_of_life  # only new life\n",
    "\n",
    "        # planet formation in habitable zones\n",
    "        # only new stars make new planets\n",
    "        num_planets += fp * ne * new_stars\n",
    "        num_planets -= fp * ne * dying_stars  # SUBTRACT DEAD STARS\n",
    "\n",
    "        # star formation\n",
    "        num_stars += Rs * year_steps\n",
    "        num_stars -= dying_stars  # SUBTRACT DEAD STARS\n",
    "\n",
    "    # N is the number of civilizations born this timestep\n",
    "    N = N / year_steps  # normalise - intelligent at any given time\n",
    "\n",
    "    return round(N)"
   ]
  },
  {
   "cell_type": "code",
   "execution_count": null,
   "metadata": {
    "colab": {
     "base_uri": "https://localhost:8080/"
    },
    "id": "mp9KINVxqtOD",
    "outputId": "4026a3ac-940f-4a1a-bdef-8336910e2a5f"
   },
   "outputs": [],
   "source": [
    "TimeDependentDrake(Rs, fp, ne, fl, fi, fc, L, year=10_000_000_000)"
   ]
  },
  {
   "cell_type": "code",
   "execution_count": null,
   "metadata": {
    "colab": {
     "base_uri": "https://localhost:8080/"
    },
    "id": "W2PCN6EApNgU",
    "outputId": "8fc50064-bce7-4045-8cb2-d7b0f1698199"
   },
   "outputs": [],
   "source": [
    "TimeDependentDrake(Rs, fp, ne, fl, fi, fc, 100000000000000000, year=10_000_000_000)"
   ]
  },
  {
   "cell_type": "code",
   "execution_count": null,
   "metadata": {
    "colab": {
     "base_uri": "https://localhost:8080/"
    },
    "id": "XMWQTTnOoVOQ",
    "outputId": "cc2ea85f-9c65-4db0-d302-3610a397988c"
   },
   "outputs": [],
   "source": [
    "TimeDependentDrake(Rs, fp, ne, fl, fi, fc, L, year=1_000_000_000_000)"
   ]
  },
  {
   "cell_type": "code",
   "execution_count": null,
   "metadata": {
    "colab": {
     "base_uri": "https://localhost:8080/"
    },
    "id": "T9kreKz-P_9E",
    "outputId": "5a36045e-9679-4118-99ee-8784dba2f1bd"
   },
   "outputs": [],
   "source": [
    "# best estimate for a solution to the Drake equation\n",
    "\n",
    "Rs = 2  # star formation per galaxy (ie, milky way)\n",
    "fp = 1\n",
    "ne = 0.4\n",
    "fl = 1  # seems optimistic to me\n",
    "fi = 1  # seems optimistic to me\n",
    "fc = 0.1  # looks like a complete guess \n",
    "L = 1000  # maybe between 1000 and 100_000_000\n",
    "\n",
    "# Time Independent Drake Equation is the steady state solution\n",
    "TimeDependentDrake(Rs, fp, ne, fl, fi, fc, L, year=10_000_000_000)"
   ]
  },
  {
   "cell_type": "code",
   "execution_count": null,
   "metadata": {
    "colab": {
     "base_uri": "https://localhost:8080/"
    },
    "id": "nn5r1HTmCEjN",
    "outputId": "56480251-9be1-4319-a905-0f4cc5d8532e"
   },
   "outputs": [],
   "source": [
    "for i in [0, 1, 10, 100, 1000, 10000]:\n",
    "    print(TimeDependentDrake(Rs, fp, ne, fl, fi, fc, L, year=i*1000000000))"
   ]
  },
  {
   "cell_type": "code",
   "execution_count": null,
   "metadata": {
    "colab": {
     "base_uri": "https://localhost:8080/"
    },
    "id": "Fq3zIqDy8Q89",
    "outputId": "77b99c2a-1285-4eec-c8ad-14cdb910e339"
   },
   "outputs": [],
   "source": [
    "Drake(Rs, fp, ne, fl, fi, fc, L)"
   ]
  },
  {
   "cell_type": "markdown",
   "metadata": {
    "id": "1E7_OWznc-dv"
   },
   "source": [
    "# Graph it"
   ]
  },
  {
   "cell_type": "code",
   "execution_count": null,
   "metadata": {
    "id": "_cn36sOaaEh2"
   },
   "outputs": [],
   "source": [
    "# def DrakeTime(year):\n",
    "#     Rs = 2  # star formation per galaxy (ie, milky way)\n",
    "#     fp = 1\n",
    "#     ne = 0.4\n",
    "#     fl = 1  # seems optimistic to me\n",
    "#     fi = 1  # seems optimistic to me\n",
    "#     fc = 0.1  # looks like a complete guess \n",
    "#     L = 1000  # maybe between 1000 and 100_000_000\n",
    "\n",
    "#     # Time Independent Drake Equation is the steady state solution\n",
    "#     return TimeDependentDrake(Rs, fp, ne, fl, fi, fc, L, year=year)\n",
    "\n",
    "# # WAYYYYYYYYY too slow - rewrite function\n",
    "# x = [x*1_000_000_000 for x in range(1000)]\n",
    "# y = [DrakeTime(i) for i in x]"
   ]
  },
  {
   "cell_type": "code",
   "execution_count": null,
   "metadata": {
    "id": "Ffzruuquc0OK"
   },
   "outputs": [],
   "source": [
    "def DrakeTime(list_of_years):\n",
    "\n",
    "    \"\"\"\n",
    "    takes in a list of years and outputs the N for those years\n",
    "    \"\"\"\n",
    "\n",
    "    end = list_of_years[-1]\n",
    "    increment = list_of_years[1] - list_of_years[0]\n",
    "\n",
    "    # CONSTANTS\n",
    "    Rs = 2\n",
    "    fp = 1\n",
    "    ne = 0.4\n",
    "    fl = 1\n",
    "    fi = 1\n",
    "    fc = 0.1\n",
    "    L = 1000\n",
    "    avg_years_to_form_life = 4_000_000_000\n",
    "    avg_years_to_get_intelligence = 1_000_000_000\n",
    "\n",
    "    # Variables\n",
    "    num_stars = 0\n",
    "    num_planets = 0\n",
    "    num_life = 0\n",
    "    N_list = []\n",
    "    N = 0\n",
    "    current_year = 0\n",
    "    year_steps = 1_000_000\n",
    "\n",
    "    # ADD ERROR CHECKING\n",
    "    # year steps should include all inputted years\n",
    "    if increment % year_steps != 0:\n",
    "        pass\n",
    "    \n",
    "    chance_of_life = year_steps / avg_years_to_form_life\n",
    "    chance_of_intelligence = year_steps / avg_years_to_get_intelligence\n",
    "\n",
    "    while current_year < end:\n",
    "\n",
    "        # increment times affect approximations\n",
    "        current_year += year_steps\n",
    "        new_stars = Rs * year_steps\n",
    "\n",
    "        # intelligence, then life, then planet, then star formation\n",
    "        # so that each of these builds off the previous generation\n",
    "\n",
    "        # fi = fraction of planets with life where life develops intelligence\n",
    "        # only includes specied that will communicate\n",
    "        N += (num_life - N) * chance_of_intelligence * fc\n",
    "                \n",
    "        # minus extinctions\n",
    "        N *= (L / year_steps)\n",
    "\n",
    "        # fl = fraction of life-supporting planets that develop life\n",
    "        num_life += (num_planets - num_life) * chance_of_life  # only new life\n",
    "\n",
    "        # planet formation in habitable zones\n",
    "        num_planets += fp * ne * new_stars  # only new stars make new planets\n",
    "\n",
    "        # star formation\n",
    "        num_stars += Rs * year_steps\n",
    "\n",
    "        if current_year in list_of_years:\n",
    "            N_list.append(round(N * L / year_steps))\n",
    "\n",
    "    return N_list"
   ]
  },
  {
   "cell_type": "code",
   "execution_count": null,
   "metadata": {
    "id": "w-5hyiDSgd7s"
   },
   "outputs": [],
   "source": [
    "x = [x*1_000_000_000 for x in range(1,1001)]\n",
    "y = DrakeTime(x)"
   ]
  },
  {
   "cell_type": "code",
   "execution_count": null,
   "metadata": {
    "colab": {
     "base_uri": "https://localhost:8080/",
     "height": 299
    },
    "id": "h6Lv4qPbaEfH",
    "outputId": "8271b220-c556-4af9-addc-90493d622526"
   },
   "outputs": [],
   "source": [
    "sns.lineplot(y=y, x=x)"
   ]
  },
  {
   "cell_type": "code",
   "execution_count": null,
   "metadata": {
    "id": "0HSfmMrBkDja"
   },
   "outputs": [],
   "source": []
  },
  {
   "cell_type": "code",
   "execution_count": null,
   "metadata": {
    "id": "xT6qRuTckDgq"
   },
   "outputs": [],
   "source": []
  },
  {
   "cell_type": "code",
   "execution_count": null,
   "metadata": {
    "colab": {
     "base_uri": "https://localhost:8080/"
    },
    "id": "GLRtdzKCjLzL",
    "outputId": "8a80bcc7-c253-4a91-82dd-adae37381906"
   },
   "outputs": [],
   "source": [
    "TimeDependentDrake(Rs, fp, ne, fl, fi, fc, L, year=1_000_000_000_000)"
   ]
  },
  {
   "cell_type": "code",
   "execution_count": null,
   "metadata": {
    "colab": {
     "base_uri": "https://localhost:8080/"
    },
    "id": "uLthUC91jLvr",
    "outputId": "58b3e9fe-a9a2-4203-fa62-bf7373223b69"
   },
   "outputs": [],
   "source": [
    "TimeDependentDrake(Rs, fp, ne, fl, fi, fc, L, year=100_000_000_000_000)"
   ]
  },
  {
   "cell_type": "code",
   "execution_count": null,
   "metadata": {
    "id": "LeDUUTu0jLtH"
   },
   "outputs": [],
   "source": []
  },
  {
   "cell_type": "code",
   "execution_count": null,
   "metadata": {
    "colab": {
     "base_uri": "https://localhost:8080/"
    },
    "id": "k0w_Z0gKgqCQ",
    "outputId": "512036cd-324d-42d9-dfe7-2515297eb0a1"
   },
   "outputs": [],
   "source": [
    "#  ERROR CHECKING\n",
    "# year steps should include all inputted years\n",
    "year_steps = 2300000\n",
    "increment = 1000000000\n",
    "\n",
    "# if increment % year_steps != 0:\n",
    "#     increment // year_steps\n",
    "#     year_steps = increment // (increment // year_steps)\n",
    "\n",
    "# year_steps\n",
    "\n",
    "\n",
    "new = increment / round(increment / year_steps)\n",
    "new\n"
   ]
  }
 ],
 "metadata": {
  "colab": {
   "collapsed_sections": [],
   "name": "Drake Equation.ipynb",
   "provenance": []
  },
  "kernelspec": {
   "display_name": "Python 3 (ipykernel)",
   "language": "python",
   "name": "python3"
  },
  "language_info": {
   "codemirror_mode": {
    "name": "ipython",
    "version": 3
   },
   "file_extension": ".py",
   "mimetype": "text/x-python",
   "name": "python",
   "nbconvert_exporter": "python",
   "pygments_lexer": "ipython3",
   "version": "3.9.7"
  }
 },
 "nbformat": 4,
 "nbformat_minor": 1
}
