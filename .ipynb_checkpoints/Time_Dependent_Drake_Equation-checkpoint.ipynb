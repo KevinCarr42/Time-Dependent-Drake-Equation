{
 "cells": [
  {
   "cell_type": "markdown",
   "metadata": {},
   "source": [
    "# Cosmic Neighbours\n",
    "\n",
    "In this project we are adding a time dimension to the famous [Drake Equation](https://en.wikipedia.org/wiki/Drake_equation). The Drake Equation is as follows:\n",
    "    \n",
    "#### N = Rs * fp * ne * fl * fi * fc * L\n",
    "    where:\n",
    "    N = number of civilizations with which humans could communicate\n",
    "    Rs = mean rate of star formation\n",
    "    fp = fraction of stars that have planets\n",
    "    ne = mean number of planets that could support life per star with planets\n",
    "    fl = fraction of life-supporting planets that develop life\n",
    "    fi = fraction of planets with life where life develops intelligence\n",
    "    fc = fraction of intelligent civilizations that develop communication\n",
    "    L = mean length of time that civilizations can communicate\n",
    "    \n",
    "This solution to the number of civilizations is a steady state solution. Meaning, we cannot use this estimate to estimate the number of extict civilizations in our galaxy.\n"
   ]
  },
  {
   "cell_type": "markdown",
   "metadata": {},
   "source": [
    "### Imports"
   ]
  },
  {
   "cell_type": "code",
   "execution_count": 200,
   "metadata": {
    "id": "Cy9vSqKf1Pn9"
   },
   "outputs": [],
   "source": [
    "import numpy as np\n",
    "import pandas as pd\n",
    "pd.set_option('display.float_format', '{:,.0f}'.format)\n",
    "from scipy.stats import poisson\n",
    "from math import factorial, exp\n",
    "\n",
    "import matplotlib.pyplot as plt\n",
    "from matplotlib.ticker import MaxNLocator\n",
    "import matplotlib as mpl\n",
    "%matplotlib inline\n",
    "mpl.rcParams[\"axes.formatter.min_exponent\"] = 20  # no scientific notation in graphs\n",
    "plt.rcParams['axes.titley'] = 1.0    # y is in axes-relative coordinates.\n",
    "plt.rcParams['axes.titlepad'] = 10   # pad is in points... default is 6\n",
    "import seaborn as sns\n",
    "sns.set_theme()"
   ]
  },
  {
   "cell_type": "markdown",
   "metadata": {},
   "source": [
    "### The Original Drake Equation"
   ]
  },
  {
   "cell_type": "code",
   "execution_count": 2,
   "metadata": {
    "id": "srwWAeDMx8Ck"
   },
   "outputs": [],
   "source": [
    "def Drake(Rs, fp, ne, fl, fi, fc, L):\n",
    "    \"\"\"\n",
    "    The Drake Equation\n",
    "    N = number of civilizations with which humans could communicate\n",
    "    Rs = mean rate of star formation\n",
    "    fp = fraction of stars that have planets\n",
    "    ne = mean number of planets that could support life per star with planets\n",
    "    fl = fraction of life-supporting planets that develop life\n",
    "    fi = fraction of planets with life where life develops intelligence\n",
    "    fc = fraction of intelligent civilizations that develop communication\n",
    "    L = mean length of time that civilizations can communicate\n",
    "    \"\"\"\n",
    "    return round(Rs * fp * ne * fl * fi * fc * L)\n"
   ]
  },
  {
   "cell_type": "code",
   "execution_count": 3,
   "metadata": {},
   "outputs": [
    {
     "data": {
      "text/plain": [
       "80"
      ]
     },
     "execution_count": 3,
     "metadata": {},
     "output_type": "execute_result"
    }
   ],
   "source": [
    "# Using our best estimates, the Drake Equation predicts...\n",
    "RS = 2  # star formation per galaxy (ie, milky way)\n",
    "FP = 1\n",
    "NE = 0.4\n",
    "FL = 1  # seems optimistic to me\n",
    "FI = 1  # seems optimistic to me\n",
    "FC = 0.1  # looks like a complete guess \n",
    "L = 1000  # maybe between 1000 and 100_000_000\n",
    "\n",
    "Drake(RS, FP, NE, FL, FI, FC, L)"
   ]
  },
  {
   "cell_type": "code",
   "execution_count": 4,
   "metadata": {},
   "outputs": [
    {
     "name": "stdout",
     "output_type": "stream",
     "text": [
      "1,200,000,000\n"
     ]
    }
   ],
   "source": [
    "# hack the Drake equation to estimate how many extict technological civilizations\n",
    "# might exist in the Milky Way\n",
    "print(f\"{Drake(RS, FP, NE, FL, FI, FC, 15_000_000_000):,}\")\n",
    "# seems a bit high..."
   ]
  },
  {
   "cell_type": "markdown",
   "metadata": {},
   "source": [
    "### CONSTANTS"
   ]
  },
  {
   "cell_type": "code",
   "execution_count": 5,
   "metadata": {},
   "outputs": [],
   "source": [
    "# best estimate for a solution to the Drake equation\n",
    "RS = 2  # star formation per galaxy (ie, milky way)\n",
    "FP = 1\n",
    "NE = 0.4\n",
    "FL = 1  # seems optimistic to me\n",
    "FI = 1  # seems optimistic to me\n",
    "FC = 0.1  # looks like a complete guess \n",
    "L = 1000  # maybe between 1000 and 100_000_000\n",
    "\n",
    "NUM_GALAXY = 100_000_000_000  # number of stars in a galaxy\n",
    "MODERN_ERA = 10_000_000_000  # years since 2nd gen stars, order of magnitude approx\n",
    "\n",
    "# approx timeframe on Earth - assume it is representative\n",
    "YEARS_PLANETS_TO_HABITABLE = 2_000_000_000\n",
    "YEARS_HABITABLE_TO_LIFE = 1_000_000_000  # single cell sludge\n",
    "YEARS_LIFE_TO_COMPLEX_LIFE = 1_000_000_000  # fish, birds, plants\n",
    "YEARS_COMPLEX_TO_INTELLIGENCE = 200_000_000  # apes, dolphins\n",
    "YEARS_INTELLIGENCE_TO_CULTURE = 20_000_000  # neandrethal, HIGH UNCERTAINTY\n",
    "YEARS_CULTURE_TO_TECH = 200_000  # humans, HIGH UNCERTAINTY\n",
    "\n",
    "# estimates for mass extinctions in years\n",
    "EXTINCTION_SIMPLE = 5_000_000_000  # approx limit to age of life on earth\n",
    "EXTINCTION_COMPLEX = 2_000_000_000  # slightly more likely to go extinct\n",
    "EXTINCTION_INTELLIGENT = 200_000_000  # guess: approx age of the dinosaurs\n",
    "EXTINCTION_CULTURAL = 1_000_000  # guess: neandrethal? HIGH UNCERTAINTY\n",
    "# EXTINCTION_TECHNOLOGICAL = L  # from Drake Equation input parameter\n",
    "\n",
    "# time step increments for calculations\n",
    "YEAR_STEPS = 1_000_000\n",
    "\n",
    "# POTANTIAL EXTINCTION CONSTANTS, HIGH UNCERTAINTY\n",
    "# ## less optimistic - uncomment to use this extinction rate ##\n",
    "# # prob_L(100), prob_L(1_000), prob_L(100_000)\n",
    "# # (0.27111, 0.63212, 0.99995)\n",
    "# WEIBULL_SHAPE_PARAMETER = 0.5  # k\n",
    "# WEIBULL_SCALE_PARAMETER = 1000  # lambda / 63rd percentile\n",
    "## best guess - uncomment to use this extinction rate ##\n",
    "# prob_L(100), prob_L(1_000), prob_L(100_000)\n",
    "# (0.11318, 0.26045, 0.85098)\n",
    "WEIBULL_SHAPE_PARAMETER = 0.4  # k\n",
    "WEIBULL_SCALE_PARAMETER = 20_000  # lambda / 63rd percentile"
   ]
  },
  {
   "cell_type": "markdown",
   "metadata": {},
   "source": [
    "### Functions"
   ]
  },
  {
   "cell_type": "markdown",
   "metadata": {},
   "source": [
    "##### STAR FORMATION"
   ]
  },
  {
   "cell_type": "code",
   "execution_count": 6,
   "metadata": {},
   "outputs": [],
   "source": [
    "# number of stars\n",
    "\n",
    "def star_formation(current_year, num_stars):\n",
    "    \"\"\"\n",
    "    star birth\n",
    "    currently 30 times lower than at the start of the universe\n",
    "    peaked 8 billion years ago\n",
    "    approx rate calc assumes 30x at 10B ago, and Rs from now forward, linear interpolation\n",
    "    \n",
    "    star death\n",
    "    not based on astro physics, just used to balance the births vs death at num_galaxy\n",
    "    \"\"\"\n",
    "    # star birth\n",
    "    rate = RS * max(((MODERN_ERA - current_year) * 30) / MODERN_ERA, 1)\n",
    "    birth = rate * YEAR_STEPS\n",
    "    \n",
    "    # star death\n",
    "    death = rate * YEAR_STEPS * num_stars / NUM_GALAXY\n",
    "    \n",
    "    return birth - death\n",
    "    "
   ]
  },
  {
   "cell_type": "code",
   "execution_count": 7,
   "metadata": {},
   "outputs": [
    {
     "data": {
      "image/png": "[encoded data removed]",
      "text/plain": [
       "<Figure size 432x288 with 1 Axes>"
      ]
     },
     "metadata": {},
     "output_type": "display_data"
    }
   ],
   "source": [
    "# plot of number of 2nd+ gen stars by year\n",
    "\n",
    "starplot = [[0, 0]]  # year, stars\n",
    "\n",
    "for n in range(MODERN_ERA // YEAR_STEPS):\n",
    "    temp_year = starplot[-1][0]\n",
    "    temp_stars = starplot[-1][1]\n",
    "    temp_stars += star_formation(temp_year, temp_stars)\n",
    "    starplot.append([(n+1)*YEAR_STEPS, temp_stars])\n",
    "\n",
    "starplot = pd.DataFrame(starplot, columns=['year', 'stars'])\n",
    "\n",
    "sns.lineplot(x=starplot.year, y=starplot.stars);"
   ]
  },
  {
   "cell_type": "markdown",
   "metadata": {},
   "source": [
    "##### PLANET FORMATION"
   ]
  },
  {
   "cell_type": "code",
   "execution_count": 8,
   "metadata": {},
   "outputs": [],
   "source": [
    "# number of new planets\n",
    "def new_planets(num_new_stars):\n",
    "    \"\"\"\n",
    "    New stars create new planets. These planets are not habitable yet, but \n",
    "    they only count if they will become habitable, and will develop life.\n",
    "    \n",
    "    Incorporates all of the following Drake parameters:\n",
    "    fp = fraction of stars that have planets\n",
    "    ne = mean number of planets that could support life per star with planets\n",
    "    fl = fraction of life-supporting planets that develop life\n",
    "    \"\"\"\n",
    "    return num_new_stars * FP * NE * FL\n",
    "    "
   ]
  },
  {
   "cell_type": "code",
   "execution_count": 9,
   "metadata": {},
   "outputs": [],
   "source": [
    "# number of new planets\n",
    "def new_habitable(num_planets, num_habitable_planets):\n",
    "    \"\"\"\n",
    "    the number of planets that become habitable\n",
    "    doesn't track planets, just uses ratios to approximate\n",
    "    \"\"\"\n",
    "    uninhabited = num_planets - num_habitable_planets\n",
    "    newly_habitable = uninhabited * YEAR_STEPS / YEARS_PLANETS_TO_HABITABLE\n",
    "    return newly_habitable\n",
    "    "
   ]
  },
  {
   "cell_type": "markdown",
   "metadata": {},
   "source": [
    "##### LIFE FORMATION\n",
    "\n",
    "The following parameters are treated as timeframes instead of ratios:\n",
    "\n",
    "    fi = fraction of planets with life where life develops intelligence\n",
    "    fc = fraction of intelligent civilizations that develop communication\n",
    "    L = mean length of time that civilizations can communicate\n",
    "    \n",
    "These calculations just input expected value with no randomness. Monte Carlo simulation may give better insights."
   ]
  },
  {
   "cell_type": "code",
   "execution_count": 10,
   "metadata": {},
   "outputs": [],
   "source": [
    "# probability calcs whether something happens over a period\n",
    "def prob_poisson(avg_time_to_happen, how_many_years_happened):\n",
    "    \"\"\"\n",
    "    use poisson probably\n",
    "    returns a ratio between 0 and 1\n",
    "    results work for better known calcs, but fall apart for L\n",
    "    probability of L is calculated in prob_L()\n",
    "    \"\"\"\n",
    "    return 1 - poisson.cdf(k=1, mu=how_many_years_happened/avg_time_to_happen)\n"
   ]
  },
  {
   "cell_type": "code",
   "execution_count": 11,
   "metadata": {},
   "outputs": [],
   "source": [
    "# need a different probability distribution for L; if L may be between \n",
    "# hundreds and millions of years, 0.0000000000000000% is not realistic \n",
    "# for 1M yr survival. Weibull distributions are simple and easy to tune:\n",
    "# https://en.wikipedia.org/wiki/Weibull_distribution\n",
    "\n",
    "def prob_L(how_many_years_happened):\n",
    "    \"\"\"\n",
    "    probability of technological life being extinct after how_many_years_happened\n",
    "    weibull distribution\n",
    "    constants from the CONSTANTS section above\n",
    "    \"\"\"\n",
    "    \n",
    "    return 1 - exp(-(how_many_years_happened/WEIBULL_SCALE_PARAMETER)**WEIBULL_SHAPE_PARAMETER)\n",
    "    "
   ]
  },
  {
   "cell_type": "code",
   "execution_count": 12,
   "metadata": {},
   "outputs": [],
   "source": [
    "def transition(num_from, num_to, prob_of_transition):\n",
    "    \"\"\"\n",
    "    the number of previous stage that develop into new stage\n",
    "        eg, the number of habitable planets that evolve life\n",
    "    doesn't track planets, just uses ratios to approximate expectations\n",
    "    subtracts already transitioned life-stages\n",
    "    doesn't apply to technological species - treated differently\n",
    "    \"\"\"\n",
    "    return (num_from - num_to) * prob_poisson(prob_of_transition, YEAR_STEPS)\n",
    "    "
   ]
  },
  {
   "cell_type": "code",
   "execution_count": 13,
   "metadata": {},
   "outputs": [],
   "source": [
    "def new_technological(num_cultural_life, N):\n",
    "    \"\"\"\n",
    "    the number of planets with cultural life that develop technological life\n",
    "    doesn't track planets, uses ratios to approximate expectations\n",
    "    doesn't account for number of tech species, ie, doesn't use (num_cultural_life - num_tech_life)\n",
    "    this is because of P_tech_dominance:\n",
    "        some proportion of cultural species transition or otherwise become\n",
    "        extinct as a result of sharing a planet with a technological species\n",
    "        P_tech_dominance is not a CONSTANT, it is treated as an input to TimeDependentDrake()\n",
    "    \"\"\"\n",
    "    \n",
    "    return num_cultural_life * prob_poisson(YEARS_CULTURE_TO_TECH, YEAR_STEPS)"
   ]
  },
  {
   "cell_type": "markdown",
   "metadata": {},
   "source": [
    "##### EXTINCTION"
   ]
  },
  {
   "cell_type": "code",
   "execution_count": 14,
   "metadata": {},
   "outputs": [],
   "source": [
    "def new_extinctions(num_stars, num_life, num_complex_life, num_intelligent_life, num_cultural_life, N):\n",
    "    \"\"\"\n",
    "    returns number of extinctions\n",
    "    uses estimates for extinction events to subtract lifeforms\n",
    "    should balance with star death\n",
    "    \"\"\"\n",
    "    # base extinction rate from star death (RS and star death balance)\n",
    "    base = RS * YEAR_STEPS / (num_stars + 1)  # stars plus 1 to eliminate div/0 error\n",
    "    \n",
    "    # specific extinction numbers\n",
    "    extinction_simple = num_life * base\n",
    "    extinction_complex = num_complex_life * (base + prob_poisson(EXTINCTION_COMPLEX, YEAR_STEPS))\n",
    "    extinction_intelligent = num_intelligent_life * (base + prob_poisson(EXTINCTION_INTELLIGENT, YEAR_STEPS))\n",
    "    extinction_cultural = num_cultural_life * (base + prob_poisson(EXTINCTION_CULTURAL, YEAR_STEPS))\n",
    "    extinction_technological = N * prob_L(YEAR_STEPS)\n",
    "    \n",
    "    return extinction_simple, extinction_complex, extinction_intelligent, extinction_cultural, extinction_technological"
   ]
  },
  {
   "cell_type": "markdown",
   "metadata": {},
   "source": [
    "### The Time-Dependent Drake Equation"
   ]
  },
  {
   "cell_type": "code",
   "execution_count": 15,
   "metadata": {},
   "outputs": [],
   "source": [
    "def TimeDependentDrake(output_year, P_tech_dominance, df_input=\"empty\"):\n",
    "    \"\"\"\n",
    "    output_year is the years since 2nd gen stars, 10B ~ now\n",
    "    P_tech_dominance is the proportion of intelligent lifeforms that go extinct when technological life emerges\n",
    "        P_tech_dominance = 1 assumes that only one intelligent lifeform can exist once a species gains technology\n",
    "    outputs the number of instances of each category active during a time step (ie, over 1M years)\n",
    "    NOTE: I would be surprised if df_input=\"empty\" is not bad form, but I'm not sure how to do this...\n",
    "    \"\"\"\n",
    "    \n",
    "    # proportion of cultural civilizations that are consumed when tech life emerges\n",
    "    P_tech_dominance = P_tech_dominance\n",
    "    \n",
    "    # columns used\n",
    "    index = 'year'\n",
    "    columns = ['year', 'num_stars', 'num_planets', 'num_habitable_planets', 'num_life', \n",
    "           'num_complex_life', 'num_intelligent_life', 'num_cultural_life', 'N', 'N_extinct']\n",
    "    \n",
    "    # if there is an input dataframe, use that, otherwise, initialise at year 0\n",
    "    if type(df_input) == pd.DataFrame:\n",
    "        # start over at the last row in the input DataFrame\n",
    "        history_of_life = df_input.iloc[[-1]]\n",
    "    else:\n",
    "        # start at year 0 with no life and no 2nd gen stars\n",
    "        history_of_life = pd.DataFrame(\n",
    "            [[0, 0, 0, 0, 0, 0, 0, 0, 0, 0]], \n",
    "            columns = columns,\n",
    "            index=[0]\n",
    "        ).set_index(index)\n",
    "    \n",
    "    # initialise variables with input dict\n",
    "    current_year = history_of_life.index[-1]\n",
    "    num_stars = history_of_life.num_stars.iloc[-1]\n",
    "    num_planets = history_of_life.num_planets.iloc[-1]\n",
    "    num_habitable_planets = history_of_life.num_habitable_planets.iloc[-1]\n",
    "    num_life = history_of_life.num_life.iloc[-1]\n",
    "    num_complex_life = history_of_life.num_complex_life.iloc[-1]\n",
    "    num_intelligent_life = history_of_life.num_intelligent_life.iloc[-1]\n",
    "    num_cultural_life = history_of_life.num_cultural_life.iloc[-1]\n",
    "    N = history_of_life.N.iloc[-1]\n",
    "    N_extinct = history_of_life.N_extinct.iloc[-1]\n",
    "\n",
    "    while current_year < output_year:\n",
    "        \n",
    "        # increment year\n",
    "        current_year += YEAR_STEPS\n",
    "        num_new_stars = star_formation(current_year, num_stars)\n",
    "        \n",
    "        # functions - reverse order so that growth is based of previous generation\n",
    "        \n",
    "        # number of extinctions\n",
    "        extinctions = new_extinctions(num_stars, num_life, num_complex_life, num_intelligent_life, num_cultural_life, N)\n",
    "        num_life -= extinctions[0]\n",
    "        num_complex_life -= extinctions[1]\n",
    "        num_intelligent_life -= extinctions[2]\n",
    "        num_cultural_life -= extinctions[3]\n",
    "        N -= extinctions[4]\n",
    "        N_extinct += extinctions[4]  # track technological extinctions\n",
    "        \n",
    "        # number of technological species\n",
    "        new_tech_life = new_technological(num_cultural_life, N)\n",
    "        N += new_tech_life\n",
    "        \n",
    "        # number of cultural civilizations\n",
    "        num_cultural_life += transition(num_intelligent_life, num_cultural_life, YEARS_INTELLIGENCE_TO_CULTURE)  \n",
    "        # assumes only (1 - P_tech_dominance) cultural civilizations once one civilization gains tech\n",
    "        # equivalent to neandrethal going extinct before we gain technology (probably because of us)\n",
    "        num_cultural_life -= new_tech_life * P_tech_dominance\n",
    "        \n",
    "        # number of intelligent life\n",
    "        num_intelligent_life += transition(num_complex_life, num_intelligent_life, YEARS_COMPLEX_TO_INTELLIGENCE)\n",
    "        \n",
    "        # number of complex lifeforms\n",
    "        num_complex_life += transition(num_life, num_complex_life, YEARS_LIFE_TO_COMPLEX_LIFE)\n",
    "\n",
    "        # number of simple lifeforms\n",
    "        num_life += transition(num_habitable_planets, num_life, YEARS_HABITABLE_TO_LIFE)\n",
    "    \n",
    "        # number of habitable planets\n",
    "        num_habitable_planets += new_habitable(num_planets, num_habitable_planets)\n",
    "        \n",
    "        # number of planets\n",
    "        num_planets += new_planets(num_new_stars)\n",
    "        \n",
    "        # number of stars\n",
    "        num_stars += num_new_stars\n",
    "        \n",
    "        # append new values to the history of life dataframe\n",
    "        templist = [current_year, num_stars, num_planets, num_habitable_planets, num_life, \n",
    "                    num_complex_life, num_intelligent_life, num_cultural_life, N, N_extinct]\n",
    "                \n",
    "        history_of_life = history_of_life.append(\n",
    "            pd.DataFrame(\n",
    "                [templist], \n",
    "                columns = columns,\n",
    "                index=[current_year]\n",
    "            ).set_index(index)\n",
    "        )\n",
    "    \n",
    "    return history_of_life\n",
    "    "
   ]
  },
  {
   "cell_type": "code",
   "execution_count": 16,
   "metadata": {},
   "outputs": [
    {
     "name": "stdout",
     "output_type": "stream",
     "text": [
      "Wall time: 15.7 s\n"
     ]
    },
    {
     "data": {
      "text/html": [
       "<div>\n",
       "<style scoped>\n",
       "    .dataframe tbody tr th:only-of-type {\n",
       "        vertical-align: middle;\n",
       "    }\n",
       "\n",
       "    .dataframe tbody tr th {\n",
       "        vertical-align: top;\n",
       "    }\n",
       "\n",
       "    .dataframe thead th {\n",
       "        text-align: right;\n",
       "    }\n",
       "</style>\n",
       "<table border=\"1\" class=\"dataframe\">\n",
       "  <thead>\n",
       "    <tr style=\"text-align: right;\">\n",
       "      <th></th>\n",
       "      <th>num_stars</th>\n",
       "      <th>num_planets</th>\n",
       "      <th>num_habitable_planets</th>\n",
       "      <th>num_life</th>\n",
       "      <th>num_complex_life</th>\n",
       "      <th>num_intelligent_life</th>\n",
       "      <th>num_cultural_life</th>\n",
       "      <th>N</th>\n",
       "      <th>N_extinct</th>\n",
       "    </tr>\n",
       "    <tr>\n",
       "      <th>year</th>\n",
       "      <th></th>\n",
       "      <th></th>\n",
       "      <th></th>\n",
       "      <th></th>\n",
       "      <th></th>\n",
       "      <th></th>\n",
       "      <th></th>\n",
       "      <th></th>\n",
       "      <th></th>\n",
       "    </tr>\n",
       "  </thead>\n",
       "  <tbody>\n",
       "    <tr>\n",
       "      <th>9996000000</th>\n",
       "      <td>95,039,003,081</td>\n",
       "      <td>38,015,601,233</td>\n",
       "      <td>36,963,131,775</td>\n",
       "      <td>111,602,709</td>\n",
       "      <td>196,249</td>\n",
       "      <td>5,867</td>\n",
       "      <td>8</td>\n",
       "      <td>6</td>\n",
       "      <td>11,435</td>\n",
       "    </tr>\n",
       "    <tr>\n",
       "      <th>9997000000</th>\n",
       "      <td>95,039,102,301</td>\n",
       "      <td>38,015,640,921</td>\n",
       "      <td>36,963,658,010</td>\n",
       "      <td>111,618,774</td>\n",
       "      <td>196,301</td>\n",
       "      <td>5,870</td>\n",
       "      <td>8</td>\n",
       "      <td>6</td>\n",
       "      <td>11,440</td>\n",
       "    </tr>\n",
       "    <tr>\n",
       "      <th>9998000000</th>\n",
       "      <td>95,039,201,519</td>\n",
       "      <td>38,015,680,608</td>\n",
       "      <td>36,964,184,001</td>\n",
       "      <td>111,634,839</td>\n",
       "      <td>196,352</td>\n",
       "      <td>5,872</td>\n",
       "      <td>8</td>\n",
       "      <td>6</td>\n",
       "      <td>11,446</td>\n",
       "    </tr>\n",
       "    <tr>\n",
       "      <th>9999000000</th>\n",
       "      <td>95,039,300,735</td>\n",
       "      <td>38,015,720,294</td>\n",
       "      <td>36,964,709,749</td>\n",
       "      <td>111,650,903</td>\n",
       "      <td>196,404</td>\n",
       "      <td>5,874</td>\n",
       "      <td>8</td>\n",
       "      <td>6</td>\n",
       "      <td>11,451</td>\n",
       "    </tr>\n",
       "    <tr>\n",
       "      <th>10000000000</th>\n",
       "      <td>95,039,399,949</td>\n",
       "      <td>38,015,759,980</td>\n",
       "      <td>36,965,235,255</td>\n",
       "      <td>111,666,968</td>\n",
       "      <td>196,455</td>\n",
       "      <td>5,876</td>\n",
       "      <td>8</td>\n",
       "      <td>6</td>\n",
       "      <td>11,457</td>\n",
       "    </tr>\n",
       "  </tbody>\n",
       "</table>\n",
       "</div>"
      ],
      "text/plain": [
       "                 num_stars    num_planets  num_habitable_planets    num_life  \\\n",
       "year                                                                           \n",
       "9996000000  95,039,003,081 38,015,601,233         36,963,131,775 111,602,709   \n",
       "9997000000  95,039,102,301 38,015,640,921         36,963,658,010 111,618,774   \n",
       "9998000000  95,039,201,519 38,015,680,608         36,964,184,001 111,634,839   \n",
       "9999000000  95,039,300,735 38,015,720,294         36,964,709,749 111,650,903   \n",
       "10000000000 95,039,399,949 38,015,759,980         36,965,235,255 111,666,968   \n",
       "\n",
       "             num_complex_life  num_intelligent_life  num_cultural_life  N  \\\n",
       "year                                                                        \n",
       "9996000000            196,249                 5,867                  8  6   \n",
       "9997000000            196,301                 5,870                  8  6   \n",
       "9998000000            196,352                 5,872                  8  6   \n",
       "9999000000            196,404                 5,874                  8  6   \n",
       "10000000000           196,455                 5,876                  8  6   \n",
       "\n",
       "             N_extinct  \n",
       "year                    \n",
       "9996000000      11,435  \n",
       "9997000000      11,440  \n",
       "9998000000      11,446  \n",
       "9999000000      11,451  \n",
       "10000000000     11,457  "
      ]
     },
     "execution_count": 16,
     "metadata": {},
     "output_type": "execute_result"
    }
   ],
   "source": [
    "%%time\n",
    "history_of_life = TimeDependentDrake(output_year=10_000_000_000, P_tech_dominance=0.9)\n",
    "\n",
    "history_of_life.tail()"
   ]
  },
  {
   "cell_type": "code",
   "execution_count": 17,
   "metadata": {},
   "outputs": [
    {
     "data": {
      "image/png": "[encoded data removed]",
      "text/plain": [
       "<Figure size 864x432 with 1 Axes>"
      ]
     },
     "metadata": {},
     "output_type": "display_data"
    }
   ],
   "source": [
    "# plot of technological species over time\n",
    "\n",
    "plt.figure(figsize=(12, 6))\n",
    "plot = sns.lineplot(x=history_of_life.index/1_000_000_000, y=history_of_life.N);\n",
    "plt.yticks(rotation=0);\n",
    "plot.set_ylabel('Number of Technological Species');\n",
    "plot.set_xlabel('Billions of Years');"
   ]
  },
  {
   "cell_type": "markdown",
   "metadata": {},
   "source": [
    "# How to interpret these averages/expectations given 1M yr time steps\n",
    "\n",
    "These numbers are based on the active instances over 1M year time steps. This isn't significant for values with slower\n",
    "extinction values, but with N, these predictions are misleading. E.g., 100 technological species seems like\n",
    "a lot, but if that's over 1M years, and they each survive 1k yr, there is less than 1 on average at the same time.\n",
    "\n",
    "We need to convert these numbers into probabilities / histograms to gain insight into how likely we are to find life. "
   ]
  },
  {
   "cell_type": "code",
   "execution_count": 23,
   "metadata": {},
   "outputs": [],
   "source": [
    "#TODO set up a monte carlo for this calc, it has a reasonable amount of variance"
   ]
  },
  {
   "cell_type": "code",
   "execution_count": 287,
   "metadata": {},
   "outputs": [],
   "source": [
    "# number of technological lifeforms in 1M yr timestep at end of Drake calculation\n",
    "N_1M_yr = int(round(history_of_life.iloc[[-1]].N))\n",
    "\n",
    "def breakdown_by_year(N_1M_yr):\n",
    "    \"\"\"\n",
    "    input number active over YEAR_STEPS (eg, 1M years)\n",
    "    simulate number active at any given point in time\n",
    "    uses random numbers, same Weibull coefficients as CONSTANTS section\n",
    "    \"\"\"\n",
    "    # initialise 1M years all with 0s\n",
    "    active_each_year = pd.DataFrame(np.zeros((YEAR_STEPS, 1)))\n",
    "\n",
    "    # loop trough each year and add N_1M_yr lifeforms, each with a random Weibull lifespan\n",
    "    for n in range(N_1M_yr):\n",
    "        # random species characteristics\n",
    "        year_birth = int(np.random.randint(0, YEAR_STEPS-1))\n",
    "        year_death = int(year_birth + np.random.weibull(WEIBULL_SHAPE_PARAMETER) * WEIBULL_SCALE_PARAMETER)\n",
    "        \n",
    "        if year_death < YEAR_STEPS:\n",
    "            active_each_year.iloc[year_birth:year_death] += 1\n",
    "        else:\n",
    "            active_each_year.iloc[year_birth:YEAR_STEPS] += 1\n",
    "            year_death = min(year_death - YEAR_STEPS, year_birth)\n",
    "            active_each_year.iloc[0:year_death] += 1\n",
    "        \n",
    "    return active_each_year\n"
   ]
  },
  {
   "cell_type": "code",
   "execution_count": 256,
   "metadata": {},
   "outputs": [],
   "source": [
    "def percentage_table(active_each_year_dataframe):\n",
    "    N_active = active_each_year_dataframe.value_counts().astype('float')\n",
    "    N_active_percent = (N_active / 10000).sort_index()\n",
    "    print(N_active_percent.map('{:,.2f}%'.format))"
   ]
  },
  {
   "cell_type": "code",
   "execution_count": 301,
   "metadata": {},
   "outputs": [],
   "source": [
    "def plot_histogram(active_each_year_dataframe, **kwargs):\n",
    "    N_active = active_each_year_dataframe.value_counts().astype('float')\n",
    "    N_active_percent = (N_active / 10000).sort_index()\n",
    "    \n",
    "    # # histogram of active technological civilizations\n",
    "    # plt.figure(figsize=(12, 8))\n",
    "    # plot = sns.histplot(active_each_year, discrete=True, legend=False);\n",
    "    # plot.xaxis.set_major_locator(MaxNLocator(integer=True))\n",
    "\n",
    "    # barplot / histogram of active technological civilizations as a percentage of the time\n",
    "    plt.figure(figsize=(16, 8))\n",
    "    plot = sns.barplot(y=N_active_percent, x=N_active_percent.index.get_level_values(0).astype('int64'), color='#4c72b0', **kwargs);\n",
    "    plot.set_ylabel('Percentage of the Period');\n",
    "    plot.set_xlabel('Number of Active Technological Species');"
   ]
  },
  {
   "cell_type": "code",
   "execution_count": 264,
   "metadata": {},
   "outputs": [
    {
     "data": {
      "text/plain": [
       "6"
      ]
     },
     "execution_count": 264,
     "metadata": {},
     "output_type": "execute_result"
    }
   ],
   "source": [
    "# number of technological lifeforms in 1M yr timestep at end of Drake calculation\n",
    "N_1M_yr = int(round(history_of_life.iloc[[-1]].N))\n",
    "N_1M_yr"
   ]
  },
  {
   "cell_type": "code",
   "execution_count": 303,
   "metadata": {},
   "outputs": [
    {
     "name": "stdout",
     "output_type": "stream",
     "text": [
      "Wall time: 3.99 ms\n"
     ]
    }
   ],
   "source": [
    "%%time\n",
    "\n",
    "active_each_year = breakdown_by_year(N_1M_yr)"
   ]
  },
  {
   "cell_type": "code",
   "execution_count": 304,
   "metadata": {},
   "outputs": [
    {
     "name": "stdout",
     "output_type": "stream",
     "text": [
      "0    61.27%\n",
      "1    29.69%\n",
      "2     9.04%\n",
      "dtype: object\n"
     ]
    }
   ],
   "source": [
    "percentage_table(active_each_year)"
   ]
  },
  {
   "cell_type": "code",
   "execution_count": 305,
   "metadata": {},
   "outputs": [
    {
     "data": {
      "image/png": "[encoded data removed]",
      "text/plain": [
       "<Figure size 1152x576 with 1 Axes>"
      ]
     },
     "metadata": {},
     "output_type": "display_data"
    }
   ],
   "source": [
    "plot_histogram(active_each_year)"
   ]
  },
  {
   "cell_type": "code",
   "execution_count": 299,
   "metadata": {},
   "outputs": [
    {
     "name": "stdout",
     "output_type": "stream",
     "text": [
      "Wall time: 387 ms\n"
     ]
    }
   ],
   "source": [
    "%%time\n",
    "# TESTING\n",
    "# hypothetical large number of technological lifeforms active in 1M yr timestep\n",
    "N_large = 1_000\n",
    "\n",
    "active_each_year_large = breakdown_by_year(N_large)"
   ]
  },
  {
   "cell_type": "code",
   "execution_count": 306,
   "metadata": {},
   "outputs": [
    {
     "data": {
      "image/png": "[encoded data removed]",
      "text/plain": [
       "<Figure size 1152x576 with 1 Axes>"
      ]
     },
     "metadata": {},
     "output_type": "display_data"
    }
   ],
   "source": [
    "plot_histogram(active_each_year_large)"
   ]
  },
  {
   "cell_type": "markdown",
   "metadata": {},
   "source": [
    "# implications of tech_dominance"
   ]
  },
  {
   "cell_type": "code",
   "execution_count": 24,
   "metadata": {},
   "outputs": [
    {
     "name": "stdout",
     "output_type": "stream",
     "text": [
      "Wall time: 15.9 s\n"
     ]
    },
    {
     "data": {
      "text/html": [
       "<div>\n",
       "<style scoped>\n",
       "    .dataframe tbody tr th:only-of-type {\n",
       "        vertical-align: middle;\n",
       "    }\n",
       "\n",
       "    .dataframe tbody tr th {\n",
       "        vertical-align: top;\n",
       "    }\n",
       "\n",
       "    .dataframe thead th {\n",
       "        text-align: right;\n",
       "    }\n",
       "</style>\n",
       "<table border=\"1\" class=\"dataframe\">\n",
       "  <thead>\n",
       "    <tr style=\"text-align: right;\">\n",
       "      <th></th>\n",
       "      <th>num_stars</th>\n",
       "      <th>num_planets</th>\n",
       "      <th>num_habitable_planets</th>\n",
       "      <th>num_life</th>\n",
       "      <th>num_complex_life</th>\n",
       "      <th>num_intelligent_life</th>\n",
       "      <th>num_cultural_life</th>\n",
       "      <th>N</th>\n",
       "      <th>N_extinct</th>\n",
       "    </tr>\n",
       "    <tr>\n",
       "      <th>year</th>\n",
       "      <th></th>\n",
       "      <th></th>\n",
       "      <th></th>\n",
       "      <th></th>\n",
       "      <th></th>\n",
       "      <th></th>\n",
       "      <th></th>\n",
       "      <th></th>\n",
       "      <th></th>\n",
       "    </tr>\n",
       "  </thead>\n",
       "  <tbody>\n",
       "    <tr>\n",
       "      <th>9996000000</th>\n",
       "      <td>95,039,003,081</td>\n",
       "      <td>38,015,601,233</td>\n",
       "      <td>36,963,131,775</td>\n",
       "      <td>111,602,709</td>\n",
       "      <td>196,249</td>\n",
       "      <td>5,867</td>\n",
       "      <td>7</td>\n",
       "      <td>5</td>\n",
       "      <td>10,604</td>\n",
       "    </tr>\n",
       "    <tr>\n",
       "      <th>9997000000</th>\n",
       "      <td>95,039,102,301</td>\n",
       "      <td>38,015,640,921</td>\n",
       "      <td>36,963,658,010</td>\n",
       "      <td>111,618,774</td>\n",
       "      <td>196,301</td>\n",
       "      <td>5,870</td>\n",
       "      <td>7</td>\n",
       "      <td>5</td>\n",
       "      <td>10,609</td>\n",
       "    </tr>\n",
       "    <tr>\n",
       "      <th>9998000000</th>\n",
       "      <td>95,039,201,519</td>\n",
       "      <td>38,015,680,608</td>\n",
       "      <td>36,964,184,001</td>\n",
       "      <td>111,634,839</td>\n",
       "      <td>196,352</td>\n",
       "      <td>5,872</td>\n",
       "      <td>7</td>\n",
       "      <td>5</td>\n",
       "      <td>10,614</td>\n",
       "    </tr>\n",
       "    <tr>\n",
       "      <th>9999000000</th>\n",
       "      <td>95,039,300,735</td>\n",
       "      <td>38,015,720,294</td>\n",
       "      <td>36,964,709,749</td>\n",
       "      <td>111,650,903</td>\n",
       "      <td>196,404</td>\n",
       "      <td>5,874</td>\n",
       "      <td>7</td>\n",
       "      <td>5</td>\n",
       "      <td>10,619</td>\n",
       "    </tr>\n",
       "    <tr>\n",
       "      <th>10000000000</th>\n",
       "      <td>95,039,399,949</td>\n",
       "      <td>38,015,759,980</td>\n",
       "      <td>36,965,235,255</td>\n",
       "      <td>111,666,968</td>\n",
       "      <td>196,455</td>\n",
       "      <td>5,876</td>\n",
       "      <td>7</td>\n",
       "      <td>5</td>\n",
       "      <td>10,624</td>\n",
       "    </tr>\n",
       "  </tbody>\n",
       "</table>\n",
       "</div>"
      ],
      "text/plain": [
       "                 num_stars    num_planets  num_habitable_planets    num_life  \\\n",
       "year                                                                           \n",
       "9996000000  95,039,003,081 38,015,601,233         36,963,131,775 111,602,709   \n",
       "9997000000  95,039,102,301 38,015,640,921         36,963,658,010 111,618,774   \n",
       "9998000000  95,039,201,519 38,015,680,608         36,964,184,001 111,634,839   \n",
       "9999000000  95,039,300,735 38,015,720,294         36,964,709,749 111,650,903   \n",
       "10000000000 95,039,399,949 38,015,759,980         36,965,235,255 111,666,968   \n",
       "\n",
       "             num_complex_life  num_intelligent_life  num_cultural_life  N  \\\n",
       "year                                                                        \n",
       "9996000000            196,249                 5,867                  7  5   \n",
       "9997000000            196,301                 5,870                  7  5   \n",
       "9998000000            196,352                 5,872                  7  5   \n",
       "9999000000            196,404                 5,874                  7  5   \n",
       "10000000000           196,455                 5,876                  7  5   \n",
       "\n",
       "             N_extinct  \n",
       "year                    \n",
       "9996000000      10,604  \n",
       "9997000000      10,609  \n",
       "9998000000      10,614  \n",
       "9999000000      10,619  \n",
       "10000000000     10,624  "
      ]
     },
     "execution_count": 24,
     "metadata": {},
     "output_type": "execute_result"
    }
   ],
   "source": [
    "%%time\n",
    "tech_dominance_1 = TimeDependentDrake(output_year=10_000_000_000, P_tech_dominance=1)\n",
    "\n",
    "tech_dominance_1.tail()"
   ]
  },
  {
   "cell_type": "code",
   "execution_count": 25,
   "metadata": {},
   "outputs": [
    {
     "data": {
      "image/png": "[encoded data removed]",
      "text/plain": [
       "<Figure size 864x432 with 1 Axes>"
      ]
     },
     "metadata": {},
     "output_type": "display_data"
    }
   ],
   "source": [
    "plt.figure(figsize=(12, 6))\n",
    "plot = sns.lineplot(x=tech_dominance_1.index/1_000_000_000, y=tech_dominance_1.N);\n",
    "plt.yticks(rotation=0);\n",
    "plot.set_ylabel('Number of Technological Species');\n",
    "plot.set_xlabel('Billions of Years');"
   ]
  },
  {
   "cell_type": "code",
   "execution_count": 26,
   "metadata": {},
   "outputs": [
    {
     "name": "stdout",
     "output_type": "stream",
     "text": [
      "Wall time: 16.2 s\n"
     ]
    },
    {
     "data": {
      "text/html": [
       "<div>\n",
       "<style scoped>\n",
       "    .dataframe tbody tr th:only-of-type {\n",
       "        vertical-align: middle;\n",
       "    }\n",
       "\n",
       "    .dataframe tbody tr th {\n",
       "        vertical-align: top;\n",
       "    }\n",
       "\n",
       "    .dataframe thead th {\n",
       "        text-align: right;\n",
       "    }\n",
       "</style>\n",
       "<table border=\"1\" class=\"dataframe\">\n",
       "  <thead>\n",
       "    <tr style=\"text-align: right;\">\n",
       "      <th></th>\n",
       "      <th>num_stars</th>\n",
       "      <th>num_planets</th>\n",
       "      <th>num_habitable_planets</th>\n",
       "      <th>num_life</th>\n",
       "      <th>num_complex_life</th>\n",
       "      <th>num_intelligent_life</th>\n",
       "      <th>num_cultural_life</th>\n",
       "      <th>N</th>\n",
       "      <th>N_extinct</th>\n",
       "    </tr>\n",
       "    <tr>\n",
       "      <th>year</th>\n",
       "      <th></th>\n",
       "      <th></th>\n",
       "      <th></th>\n",
       "      <th></th>\n",
       "      <th></th>\n",
       "      <th></th>\n",
       "      <th></th>\n",
       "      <th></th>\n",
       "      <th></th>\n",
       "    </tr>\n",
       "  </thead>\n",
       "  <tbody>\n",
       "    <tr>\n",
       "      <th>9996000000</th>\n",
       "      <td>95,039,003,081</td>\n",
       "      <td>38,015,601,233</td>\n",
       "      <td>36,963,131,775</td>\n",
       "      <td>111,602,709</td>\n",
       "      <td>196,249</td>\n",
       "      <td>5,867</td>\n",
       "      <td>27</td>\n",
       "      <td>19</td>\n",
       "      <td>38,786</td>\n",
       "    </tr>\n",
       "    <tr>\n",
       "      <th>9997000000</th>\n",
       "      <td>95,039,102,301</td>\n",
       "      <td>38,015,640,921</td>\n",
       "      <td>36,963,658,010</td>\n",
       "      <td>111,618,774</td>\n",
       "      <td>196,301</td>\n",
       "      <td>5,870</td>\n",
       "      <td>27</td>\n",
       "      <td>19</td>\n",
       "      <td>38,805</td>\n",
       "    </tr>\n",
       "    <tr>\n",
       "      <th>9998000000</th>\n",
       "      <td>95,039,201,519</td>\n",
       "      <td>38,015,680,608</td>\n",
       "      <td>36,964,184,001</td>\n",
       "      <td>111,634,839</td>\n",
       "      <td>196,352</td>\n",
       "      <td>5,872</td>\n",
       "      <td>27</td>\n",
       "      <td>19</td>\n",
       "      <td>38,823</td>\n",
       "    </tr>\n",
       "    <tr>\n",
       "      <th>9999000000</th>\n",
       "      <td>95,039,300,735</td>\n",
       "      <td>38,015,720,294</td>\n",
       "      <td>36,964,709,749</td>\n",
       "      <td>111,650,903</td>\n",
       "      <td>196,404</td>\n",
       "      <td>5,874</td>\n",
       "      <td>27</td>\n",
       "      <td>19</td>\n",
       "      <td>38,842</td>\n",
       "    </tr>\n",
       "    <tr>\n",
       "      <th>10000000000</th>\n",
       "      <td>95,039,399,949</td>\n",
       "      <td>38,015,759,980</td>\n",
       "      <td>36,965,235,255</td>\n",
       "      <td>111,666,968</td>\n",
       "      <td>196,455</td>\n",
       "      <td>5,876</td>\n",
       "      <td>27</td>\n",
       "      <td>19</td>\n",
       "      <td>38,861</td>\n",
       "    </tr>\n",
       "  </tbody>\n",
       "</table>\n",
       "</div>"
      ],
      "text/plain": [
       "                 num_stars    num_planets  num_habitable_planets    num_life  \\\n",
       "year                                                                           \n",
       "9996000000  95,039,003,081 38,015,601,233         36,963,131,775 111,602,709   \n",
       "9997000000  95,039,102,301 38,015,640,921         36,963,658,010 111,618,774   \n",
       "9998000000  95,039,201,519 38,015,680,608         36,964,184,001 111,634,839   \n",
       "9999000000  95,039,300,735 38,015,720,294         36,964,709,749 111,650,903   \n",
       "10000000000 95,039,399,949 38,015,759,980         36,965,235,255 111,666,968   \n",
       "\n",
       "             num_complex_life  num_intelligent_life  num_cultural_life  N  \\\n",
       "year                                                                        \n",
       "9996000000            196,249                 5,867                 27 19   \n",
       "9997000000            196,301                 5,870                 27 19   \n",
       "9998000000            196,352                 5,872                 27 19   \n",
       "9999000000            196,404                 5,874                 27 19   \n",
       "10000000000           196,455                 5,876                 27 19   \n",
       "\n",
       "             N_extinct  \n",
       "year                    \n",
       "9996000000      38,786  \n",
       "9997000000      38,805  \n",
       "9998000000      38,823  \n",
       "9999000000      38,842  \n",
       "10000000000     38,861  "
      ]
     },
     "execution_count": 26,
     "metadata": {},
     "output_type": "execute_result"
    }
   ],
   "source": [
    "%%time\n",
    "tech_dominance_0 = TimeDependentDrake(output_year=10_000_000_000, P_tech_dominance=0)\n",
    "\n",
    "tech_dominance_0.tail()"
   ]
  },
  {
   "cell_type": "code",
   "execution_count": 27,
   "metadata": {},
   "outputs": [
    {
     "data": {
      "image/png": "[encoded data removed]",
      "text/plain": [
       "<Figure size 864x432 with 1 Axes>"
      ]
     },
     "metadata": {},
     "output_type": "display_data"
    }
   ],
   "source": [
    "plt.figure(figsize=(12, 6))\n",
    "plot = sns.lineplot(x=tech_dominance_0.index/1_000_000_000, y=tech_dominance_0.N);\n",
    "plt.yticks(rotation=0);\n",
    "plot.set_ylabel('Number of Technological Species');\n",
    "plot.set_xlabel('Billions of Years');"
   ]
  },
  {
   "cell_type": "markdown",
   "metadata": {},
   "source": [
    "# implications of longer time values (eg, 1T yr, steady state, etc)"
   ]
  },
  {
   "cell_type": "code",
   "execution_count": 21,
   "metadata": {},
   "outputs": [],
   "source": [
    "#TODO: write a loop to save csv in 10B yr increments\n",
    "# combine csv\n",
    "    # eg, history_of_life.to_csv('history_of_life_1T_yr.csv')  # or nested path\n",
    "# plot it"
   ]
  },
  {
   "cell_type": "code",
   "execution_count": null,
   "metadata": {},
   "outputs": [],
   "source": []
  },
  {
   "cell_type": "code",
   "execution_count": null,
   "metadata": {},
   "outputs": [],
   "source": []
  },
  {
   "cell_type": "code",
   "execution_count": null,
   "metadata": {},
   "outputs": [],
   "source": []
  },
  {
   "cell_type": "markdown",
   "metadata": {},
   "source": [
    "# steady state values from first principals\n",
    "when will we reach approx steady state?"
   ]
  },
  {
   "cell_type": "code",
   "execution_count": 22,
   "metadata": {},
   "outputs": [],
   "source": [
    "#TODO figure this out, may need to loop for complicated interdependencies\n",
    "# these will be a function of input CONSTANTS\n"
   ]
  },
  {
   "cell_type": "code",
   "execution_count": null,
   "metadata": {},
   "outputs": [],
   "source": []
  },
  {
   "cell_type": "code",
   "execution_count": null,
   "metadata": {},
   "outputs": [],
   "source": []
  },
  {
   "cell_type": "code",
   "execution_count": null,
   "metadata": {},
   "outputs": [],
   "source": []
  },
  {
   "cell_type": "code",
   "execution_count": null,
   "metadata": {},
   "outputs": [],
   "source": []
  }
 ],
 "metadata": {
  "colab": {
   "collapsed_sections": [],
   "name": "Drake Equation.ipynb",
   "provenance": []
  },
  "kernelspec": {
   "display_name": "Python 3 (ipykernel)",
   "language": "python",
   "name": "python3"
  },
  "language_info": {
   "codemirror_mode": {
    "name": "ipython",
    "version": 3
   },
   "file_extension": ".py",
   "mimetype": "text/x-python",
   "name": "python",
   "nbconvert_exporter": "python",
   "pygments_lexer": "ipython3",
   "version": "3.9.7"
  }
 },
 "nbformat": 4,
 "nbformat_minor": 1
}
