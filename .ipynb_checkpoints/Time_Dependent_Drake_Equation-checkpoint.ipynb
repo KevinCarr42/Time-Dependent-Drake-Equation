{
 "cells": [
  {
   "cell_type": "markdown",
   "metadata": {},
   "source": [
    "# Cosmic Neighbours\n",
    "\n",
    "In this project we are adding a time dimension to the famous [Drake Equation](https://en.wikipedia.org/wiki/Drake_equation). The Drake Equation is as follows:\n",
    "    \n",
    "#### N = Rs * fp * ne * fl * fi * fc * L\n",
    "    where:\n",
    "    N = number of civilizations with which humans could communicate\n",
    "    Rs = mean rate of star formation\n",
    "    fp = fraction of stars that have planets\n",
    "    ne = mean number of planets that could support life per star with planets\n",
    "    fl = fraction of life-supporting planets that develop life\n",
    "    fi = fraction of planets with life where life develops intelligence\n",
    "    fc = fraction of intelligent civilizations that develop communication\n",
    "    L = mean length of time that civilizations can communicate\n",
    "    \n",
    "This solution to the number of civilizations is a steady state solution. Meaning, we cannot use this estimate to estimate the number of extict civilizations in our galaxy.\n"
   ]
  },
  {
   "cell_type": "markdown",
   "metadata": {},
   "source": [
    "### Imports"
   ]
  },
  {
   "cell_type": "code",
   "execution_count": 41,
   "metadata": {
    "id": "Cy9vSqKf1Pn9"
   },
   "outputs": [],
   "source": [
    "import numpy as np\n",
    "import pandas as pd\n",
    "pd.set_option('display.float_format', '{:,.0f}'.format)\n",
    "# from scipy.stats import poisson\n",
    "import matplotlib.pyplot as plt\n",
    "%matplotlib inline\n",
    "import seaborn as sns\n",
    "sns.set_theme()"
   ]
  },
  {
   "cell_type": "markdown",
   "metadata": {},
   "source": [
    "### The Original Drake Equation"
   ]
  },
  {
   "cell_type": "code",
   "execution_count": 2,
   "metadata": {
    "id": "srwWAeDMx8Ck"
   },
   "outputs": [],
   "source": [
    "def Drake(Rs, fp, ne, fl, fi, fc, L):\n",
    "    \"\"\"\n",
    "    The Drake Equation\n",
    "    N = number of civilizations with which humans could communicate\n",
    "    Rs = mean rate of star formation\n",
    "    fp = fraction of stars that have planets\n",
    "    ne = mean number of planets that could support life per star with planets\n",
    "    fl = fraction of life-supporting planets that develop life\n",
    "    fi = fraction of planets with life where life develops intelligence\n",
    "    fc = fraction of intelligent civilizations that develop communication\n",
    "    L = mean length of time that civilizations can communicate\n",
    "    \"\"\"\n",
    "    return round(Rs * fp * ne * fl * fi * fc * L)\n"
   ]
  },
  {
   "cell_type": "code",
   "execution_count": 9,
   "metadata": {
    "colab": {
     "base_uri": "https://localhost:8080/"
    },
    "id": "ouHJNdy_zFDl",
    "outputId": "000b21c4-bc98-4672-ffe8-0b8e6f202fdd"
   },
   "outputs": [],
   "source": [
    "# best estimate for a solution to the Drake equation\n",
    "drake_params = dict(\n",
    "    Rs = 2,  # star formation per galaxy (ie, milky way)\n",
    "    fp = 1,\n",
    "    ne = 0.4,\n",
    "    fl = 1,  # seems optimistic to me\n",
    "    fi = 1,  # seems optimistic to me\n",
    "    fc = 0.1,  # looks like a complete guess \n",
    "    L = 1000  # maybe between 1000 and 100_000_000\n",
    ")"
   ]
  },
  {
   "cell_type": "code",
   "execution_count": 10,
   "metadata": {},
   "outputs": [
    {
     "data": {
      "text/plain": [
       "80"
      ]
     },
     "execution_count": 10,
     "metadata": {},
     "output_type": "execute_result"
    }
   ],
   "source": [
    "# Using our best estimates, the Drake Equation predicts...\n",
    "Drake(**drake_params)"
   ]
  },
  {
   "cell_type": "markdown",
   "metadata": {},
   "source": [
    "### Adding Time"
   ]
  },
  {
   "cell_type": "markdown",
   "metadata": {},
   "source": [
    "##### Step 1: Break It Into Parts"
   ]
  },
  {
   "cell_type": "code",
   "execution_count": 21,
   "metadata": {},
   "outputs": [],
   "source": [
    "# input params\n",
    "Rs = drake_params['Rs']\n",
    "num_galaxy = 100_000_000_000  # number of stars in a galaxy\n",
    "current_year = 10_000_000_000  # years since 2nd gen stars, order of magnitude approx\n",
    "\n",
    "# testing params\n",
    "num_stars = 0  # number of 2nd+ generation stars\n",
    "num_planets = 0\n",
    "num_life = 0\n",
    "N = 0\n",
    "year_steps = 1_000_000\n"
   ]
  },
  {
   "cell_type": "code",
   "execution_count": 30,
   "metadata": {},
   "outputs": [],
   "source": [
    "# star birth\n",
    "def star_birth(Rs, years, years_since_0):\n",
    "    \"\"\"\n",
    "    currently 30 times lower than at the start of the universe\n",
    "    peaked 8 billion years ago\n",
    "    \"\"\"\n",
    "    rate = Rs * max(((10_000_000_000 - years_since_0) * 30) / 10_000_000_000, 1)\n",
    "    return rate * years"
   ]
  },
  {
   "cell_type": "code",
   "execution_count": 32,
   "metadata": {},
   "outputs": [],
   "source": [
    "# star death\n",
    "def star_death(Rs, num_stars, years):\n",
    "    \"\"\"\n",
    "    not based on star deaths, just used to balance the births vs death at current size\n",
    "    \"\"\"\n",
    "    return Rs * years * num_stars / num_galaxy"
   ]
  },
  {
   "cell_type": "code",
   "execution_count": 34,
   "metadata": {},
   "outputs": [
    {
     "data": {
      "text/plain": [
       "<AxesSubplot:xlabel='year', ylabel='stars'>"
      ]
     },
     "execution_count": 34,
     "metadata": {},
     "output_type": "execute_result"
    },
    {
     "data": {
      "image/png": "[encoded data removed]",
      "text/plain": [
       "<Figure size 432x288 with 1 Axes>"
      ]
     },
     "metadata": {},
     "output_type": "display_data"
    }
   ],
   "source": [
    "# test number of stars\n",
    "\n",
    "starplot = [[0, 0]]  # year, stars\n",
    "\n",
    "for n in range(current_year // year_steps):\n",
    "    temp_year = starplot[-1][0]\n",
    "    temp_stars = starplot[-1][1] + star_birth(Rs, year_steps, temp_year) - star_death(Rs, temp_stars, year_steps)\n",
    "    starplot.append([(n+1)*year_steps, temp_stars])\n",
    "\n",
    "starplot = pd.DataFrame(starplot, columns=['year', 'stars'])\n",
    "\n",
    "sns.lineplot(x=starplot.year, y=starplot.stars)"
   ]
  },
  {
   "cell_type": "code",
   "execution_count": 42,
   "metadata": {},
   "outputs": [
    {
     "data": {
      "text/html": [
       "<div>\n",
       "<style scoped>\n",
       "    .dataframe tbody tr th:only-of-type {\n",
       "        vertical-align: middle;\n",
       "    }\n",
       "\n",
       "    .dataframe tbody tr th {\n",
       "        vertical-align: top;\n",
       "    }\n",
       "\n",
       "    .dataframe thead th {\n",
       "        text-align: right;\n",
       "    }\n",
       "</style>\n",
       "<table border=\"1\" class=\"dataframe\">\n",
       "  <thead>\n",
       "    <tr style=\"text-align: right;\">\n",
       "      <th></th>\n",
       "      <th>year</th>\n",
       "      <th>stars</th>\n",
       "    </tr>\n",
       "  </thead>\n",
       "  <tbody>\n",
       "    <tr>\n",
       "      <th>14996</th>\n",
       "      <td>14996000000</td>\n",
       "      <td>247,687,554,303</td>\n",
       "    </tr>\n",
       "    <tr>\n",
       "      <th>14997</th>\n",
       "      <td>14997000000</td>\n",
       "      <td>247,684,600,552</td>\n",
       "    </tr>\n",
       "    <tr>\n",
       "      <th>14998</th>\n",
       "      <td>14998000000</td>\n",
       "      <td>247,681,646,860</td>\n",
       "    </tr>\n",
       "    <tr>\n",
       "      <th>14999</th>\n",
       "      <td>14999000000</td>\n",
       "      <td>247,678,693,227</td>\n",
       "    </tr>\n",
       "    <tr>\n",
       "      <th>15000</th>\n",
       "      <td>15000000000</td>\n",
       "      <td>247,675,739,653</td>\n",
       "    </tr>\n",
       "  </tbody>\n",
       "</table>\n",
       "</div>"
      ],
      "text/plain": [
       "              year           stars\n",
       "14996  14996000000 247,687,554,303\n",
       "14997  14997000000 247,684,600,552\n",
       "14998  14998000000 247,681,646,860\n",
       "14999  14999000000 247,678,693,227\n",
       "15000  15000000000 247,675,739,653"
      ]
     },
     "execution_count": 42,
     "metadata": {},
     "output_type": "execute_result"
    }
   ],
   "source": [
    "starplot.tail()"
   ]
  },
  {
   "cell_type": "code",
   "execution_count": null,
   "metadata": {},
   "outputs": [],
   "source": []
  },
  {
   "cell_type": "code",
   "execution_count": null,
   "metadata": {},
   "outputs": [],
   "source": []
  },
  {
   "cell_type": "markdown",
   "metadata": {},
   "source": [
    "##### Step 2: Tune the Parts to Match Reality and Drake Params"
   ]
  },
  {
   "cell_type": "code",
   "execution_count": null,
   "metadata": {},
   "outputs": [],
   "source": []
  },
  {
   "cell_type": "code",
   "execution_count": null,
   "metadata": {},
   "outputs": [],
   "source": []
  },
  {
   "cell_type": "markdown",
   "metadata": {},
   "source": [
    "##### Step 3:Combine The Parts"
   ]
  },
  {
   "cell_type": "code",
   "execution_count": null,
   "metadata": {
    "id": "N1uGmb5k1Mir"
   },
   "outputs": [],
   "source": [
    "def TimeDependentDrake(Rs, fp, ne, fl, fi, fc, L, \n",
    "    year=10_000_000_000, # default = NOW, approx 10B yr since 2nd gen stars\n",
    "    avg_years_to_form_life=4_000_000_000, # approx 4B yr star to first life\n",
    "    avg_years_to_get_intelligence=1_000_000_000): # approx 1B yr until intelligence\n",
    "\n",
    "    \"\"\"\n",
    "    based on the Drake Equation but incorporates time.\n",
    "    year is the approximate years since second generation stars formed\n",
    "        life was unlikely in a first generation star\n",
    "        10 billion years is an order of magnitude approximation\n",
    "\n",
    "    avg_years_to_form_life assumes life is inevitable, but takes time to form\n",
    "        could be thousands, millions, or billions of years\n",
    "\n",
    "    The Drake Equation\n",
    "    N = number of civilizations with which humans could communicate\n",
    "    Rs = mean rate of star formation\n",
    "    fp = fraction of stars that have planets\n",
    "    ne = mean number of planets that could support life per star with planets\n",
    "    fl = fraction of life-supporting planets that develop life\n",
    "    fi = fraction of planets with life where life develops intelligence\n",
    "    fc = fraction of intelligent civilizations that develop communication\n",
    "    L = mean length of time that civilizations can communicate\n",
    "    \"\"\"\n",
    "\n",
    "    star_lifetime = 10_000_000_000  # using a star like the sun\n",
    "\n",
    "    num_stars = 0\n",
    "    num_planets = 0\n",
    "    num_life = 0\n",
    "    N = 0\n",
    "    current_year = 0\n",
    "    year_steps = 1_000_000\n",
    "    \n",
    "    # this is NOT probabilistic, just expected values, using fractions\n",
    "    # next iteration could use Poisson and Monte Carlo \n",
    "    chance_of_life = year_steps / avg_years_to_form_life\n",
    "    chance_of_intelligence = year_steps / avg_years_to_get_intelligence\n",
    "\n",
    "    while current_year < year:\n",
    "\n",
    "        # increment times affect approximations\n",
    "        current_year += year_steps\n",
    "        new_stars = Rs * year_steps\n",
    "        dying_stars = num_stars * year_steps / star_lifetime\n",
    "\n",
    "        # intelligence, then life, then planet, then star formation\n",
    "        # so that each of these builds off the previous generation\n",
    "\n",
    "        # fi = fraction of planets with life where life develops intelligence\n",
    "        # only includes specied that will communicate\n",
    "        N -= N * year_steps / L  # minus extinctions\n",
    "        N = max(N, 0)\n",
    "        N += (num_life - N) * chance_of_intelligence * fc\n",
    "        # N *= L / year_steps  # use a factor, not exact lifetime\n",
    "        \n",
    "\n",
    "        # fl = fraction of life-supporting planets that develop life\n",
    "        num_life += (num_planets - num_life) * chance_of_life  # only new life\n",
    "\n",
    "        # planet formation in habitable zones\n",
    "        # only new stars make new planets\n",
    "        num_planets += fp * ne * new_stars\n",
    "        num_planets -= fp * ne * dying_stars  # SUBTRACT DEAD STARS\n",
    "\n",
    "        # star formation\n",
    "        num_stars += Rs * year_steps\n",
    "        num_stars -= dying_stars  # SUBTRACT DEAD STARS\n",
    "\n",
    "    # N is the number of civilizations born this timestep\n",
    "    N = N / year_steps  # normalise - intelligent at any given time\n",
    "\n",
    "    return round(N)"
   ]
  },
  {
   "cell_type": "code",
   "execution_count": null,
   "metadata": {
    "colab": {
     "base_uri": "https://localhost:8080/"
    },
    "id": "mp9KINVxqtOD",
    "outputId": "4026a3ac-940f-4a1a-bdef-8336910e2a5f"
   },
   "outputs": [
    {
     "data": {
      "text/plain": [
       "0"
      ]
     },
     "execution_count": 200,
     "metadata": {},
     "output_type": "execute_result"
    }
   ],
   "source": [
    "TimeDependentDrake(Rs, fp, ne, fl, fi, fc, L, year=10_000_000_000)"
   ]
  },
  {
   "cell_type": "code",
   "execution_count": null,
   "metadata": {
    "colab": {
     "base_uri": "https://localhost:8080/"
    },
    "id": "W2PCN6EApNgU",
    "outputId": "8fc50064-bce7-4045-8cb2-d7b0f1698199"
   },
   "outputs": [
    {
     "data": {
      "text/plain": [
       "1168"
      ]
     },
     "execution_count": 198,
     "metadata": {},
     "output_type": "execute_result"
    }
   ],
   "source": [
    "TimeDependentDrake(Rs, fp, ne, fl, fi, fc, 100000000000000000, year=10_000_000_000)"
   ]
  },
  {
   "cell_type": "code",
   "execution_count": null,
   "metadata": {
    "colab": {
     "base_uri": "https://localhost:8080/"
    },
    "id": "XMWQTTnOoVOQ",
    "outputId": "cc2ea85f-9c65-4db0-d302-3610a397988c"
   },
   "outputs": [
    {
     "data": {
      "text/plain": [
       "1"
      ]
     },
     "execution_count": 199,
     "metadata": {},
     "output_type": "execute_result"
    }
   ],
   "source": [
    "TimeDependentDrake(Rs, fp, ne, fl, fi, fc, L, year=1_000_000_000_000)"
   ]
  },
  {
   "cell_type": "code",
   "execution_count": null,
   "metadata": {
    "colab": {
     "base_uri": "https://localhost:8080/"
    },
    "id": "T9kreKz-P_9E",
    "outputId": "5a36045e-9679-4118-99ee-8784dba2f1bd"
   },
   "outputs": [
    {
     "data": {
      "text/plain": [
       "0"
      ]
     },
     "execution_count": 170,
     "metadata": {},
     "output_type": "execute_result"
    }
   ],
   "source": [
    "# best estimate for a solution to the Drake equation\n",
    "\n",
    "Rs = 2  # star formation per galaxy (ie, milky way)\n",
    "fp = 1\n",
    "ne = 0.4\n",
    "fl = 1  # seems optimistic to me\n",
    "fi = 1  # seems optimistic to me\n",
    "fc = 0.1  # looks like a complete guess \n",
    "L = 1000  # maybe between 1000 and 100_000_000\n",
    "\n",
    "# Time Independent Drake Equation is the steady state solution\n",
    "TimeDependentDrake(Rs, fp, ne, fl, fi, fc, L, year=10_000_000_000)"
   ]
  },
  {
   "cell_type": "code",
   "execution_count": null,
   "metadata": {
    "colab": {
     "base_uri": "https://localhost:8080/"
    },
    "id": "nn5r1HTmCEjN",
    "outputId": "56480251-9be1-4319-a905-0f4cc5d8532e"
   },
   "outputs": [
    {
     "name": "stdout",
     "output_type": "stream",
     "text": [
      "0\n",
      "0\n",
      "0\n",
      "1\n",
      "1\n",
      "1\n"
     ]
    }
   ],
   "source": [
    "for i in [0, 1, 10, 100, 1000, 10000]:\n",
    "    print(TimeDependentDrake(Rs, fp, ne, fl, fi, fc, L, year=i*1000000000))"
   ]
  },
  {
   "cell_type": "code",
   "execution_count": null,
   "metadata": {
    "colab": {
     "base_uri": "https://localhost:8080/"
    },
    "id": "Fq3zIqDy8Q89",
    "outputId": "77b99c2a-1285-4eec-c8ad-14cdb910e339"
   },
   "outputs": [
    {
     "data": {
      "text/plain": [
       "80"
      ]
     },
     "execution_count": 80,
     "metadata": {},
     "output_type": "execute_result"
    }
   ],
   "source": [
    "Drake(Rs, fp, ne, fl, fi, fc, L)"
   ]
  },
  {
   "cell_type": "markdown",
   "metadata": {
    "id": "1E7_OWznc-dv"
   },
   "source": [
    "# Graph it"
   ]
  },
  {
   "cell_type": "code",
   "execution_count": null,
   "metadata": {
    "id": "_cn36sOaaEh2"
   },
   "outputs": [],
   "source": [
    "# def DrakeTime(year):\n",
    "#     Rs = 2  # star formation per galaxy (ie, milky way)\n",
    "#     fp = 1\n",
    "#     ne = 0.4\n",
    "#     fl = 1  # seems optimistic to me\n",
    "#     fi = 1  # seems optimistic to me\n",
    "#     fc = 0.1  # looks like a complete guess \n",
    "#     L = 1000  # maybe between 1000 and 100_000_000\n",
    "\n",
    "#     # Time Independent Drake Equation is the steady state solution\n",
    "#     return TimeDependentDrake(Rs, fp, ne, fl, fi, fc, L, year=year)\n",
    "\n",
    "# # WAYYYYYYYYY too slow - rewrite function\n",
    "# x = [x*1_000_000_000 for x in range(1000)]\n",
    "# y = [DrakeTime(i) for i in x]"
   ]
  },
  {
   "cell_type": "code",
   "execution_count": null,
   "metadata": {
    "id": "Ffzruuquc0OK"
   },
   "outputs": [],
   "source": [
    "def DrakeTime(list_of_years):\n",
    "\n",
    "    \"\"\"\n",
    "    takes in a list of years and outputs the N for those years\n",
    "    \"\"\"\n",
    "\n",
    "    end = list_of_years[-1]\n",
    "    increment = list_of_years[1] - list_of_years[0]\n",
    "\n",
    "    # CONSTANTS\n",
    "    Rs = 2\n",
    "    fp = 1\n",
    "    ne = 0.4\n",
    "    fl = 1\n",
    "    fi = 1\n",
    "    fc = 0.1\n",
    "    L = 1000\n",
    "    avg_years_to_form_life = 4_000_000_000\n",
    "    avg_years_to_get_intelligence = 1_000_000_000\n",
    "\n",
    "    # Variables\n",
    "    num_stars = 0\n",
    "    num_planets = 0\n",
    "    num_life = 0\n",
    "    N_list = []\n",
    "    N = 0\n",
    "    current_year = 0\n",
    "    year_steps = 1_000_000\n",
    "\n",
    "    # ADD ERROR CHECKING\n",
    "    # year steps should include all inputted years\n",
    "    if increment % year_steps != 0:\n",
    "        pass\n",
    "    \n",
    "    chance_of_life = year_steps / avg_years_to_form_life\n",
    "    chance_of_intelligence = year_steps / avg_years_to_get_intelligence\n",
    "\n",
    "    while current_year < end:\n",
    "\n",
    "        # increment times affect approximations\n",
    "        current_year += year_steps\n",
    "        new_stars = Rs * year_steps\n",
    "\n",
    "        # intelligence, then life, then planet, then star formation\n",
    "        # so that each of these builds off the previous generation\n",
    "\n",
    "        # fi = fraction of planets with life where life develops intelligence\n",
    "        # only includes specied that will communicate\n",
    "        N += (num_life - N) * chance_of_intelligence * fc\n",
    "                \n",
    "        # minus extinctions\n",
    "        N *= (L / year_steps)\n",
    "\n",
    "        # fl = fraction of life-supporting planets that develop life\n",
    "        num_life += (num_planets - num_life) * chance_of_life  # only new life\n",
    "\n",
    "        # planet formation in habitable zones\n",
    "        num_planets += fp * ne * new_stars  # only new stars make new planets\n",
    "\n",
    "        # star formation\n",
    "        num_stars += Rs * year_steps\n",
    "\n",
    "        if current_year in list_of_years:\n",
    "            N_list.append(round(N * L / year_steps))\n",
    "\n",
    "    return N_list"
   ]
  },
  {
   "cell_type": "code",
   "execution_count": null,
   "metadata": {
    "id": "w-5hyiDSgd7s"
   },
   "outputs": [],
   "source": [
    "x = [x*1_000_000_000 for x in range(1,1001)]\n",
    "y = DrakeTime(x)"
   ]
  },
  {
   "cell_type": "code",
   "execution_count": null,
   "metadata": {
    "colab": {
     "base_uri": "https://localhost:8080/",
     "height": 299
    },
    "id": "h6Lv4qPbaEfH",
    "outputId": "8271b220-c556-4af9-addc-90493d622526"
   },
   "outputs": [
    {
     "data": {
      "text/plain": [
       "<matplotlib.axes._subplots.AxesSubplot at 0x7f14c8ecb110>"
      ]
     },
     "execution_count": 141,
     "metadata": {},
     "output_type": "execute_result"
    },
    {
     "data": {
      "image/png": "[encoded data removed]",
      "text/plain": [
       "<Figure size 432x288 with 1 Axes>"
      ]
     },
     "metadata": {},
     "output_type": "display_data"
    }
   ],
   "source": [
    "sns.lineplot(y=y, x=x)"
   ]
  },
  {
   "cell_type": "code",
   "execution_count": null,
   "metadata": {
    "id": "0HSfmMrBkDja"
   },
   "outputs": [],
   "source": []
  },
  {
   "cell_type": "code",
   "execution_count": null,
   "metadata": {
    "id": "xT6qRuTckDgq"
   },
   "outputs": [],
   "source": []
  },
  {
   "cell_type": "code",
   "execution_count": null,
   "metadata": {
    "colab": {
     "base_uri": "https://localhost:8080/"
    },
    "id": "GLRtdzKCjLzL",
    "outputId": "8a80bcc7-c253-4a91-82dd-adae37381906"
   },
   "outputs": [
    {
     "data": {
      "text/plain": [
       "80"
      ]
     },
     "execution_count": 142,
     "metadata": {},
     "output_type": "execute_result"
    }
   ],
   "source": [
    "TimeDependentDrake(Rs, fp, ne, fl, fi, fc, L, year=1_000_000_000_000)"
   ]
  },
  {
   "cell_type": "code",
   "execution_count": null,
   "metadata": {
    "colab": {
     "base_uri": "https://localhost:8080/"
    },
    "id": "uLthUC91jLvr",
    "outputId": "58b3e9fe-a9a2-4203-fa62-bf7373223b69"
   },
   "outputs": [
    {
     "data": {
      "text/plain": [
       "8008"
      ]
     },
     "execution_count": 144,
     "metadata": {},
     "output_type": "execute_result"
    }
   ],
   "source": [
    "TimeDependentDrake(Rs, fp, ne, fl, fi, fc, L, year=100_000_000_000_000)"
   ]
  },
  {
   "cell_type": "code",
   "execution_count": null,
   "metadata": {
    "id": "LeDUUTu0jLtH"
   },
   "outputs": [],
   "source": []
  },
  {
   "cell_type": "code",
   "execution_count": null,
   "metadata": {
    "colab": {
     "base_uri": "https://localhost:8080/"
    },
    "id": "k0w_Z0gKgqCQ",
    "outputId": "512036cd-324d-42d9-dfe7-2515297eb0a1"
   },
   "outputs": [
    {
     "data": {
      "text/plain": [
       "2298850.574712644"
      ]
     },
     "execution_count": 130,
     "metadata": {},
     "output_type": "execute_result"
    }
   ],
   "source": [
    "#  ERROR CHECKING\n",
    "# year steps should include all inputted years\n",
    "year_steps = 2300000\n",
    "increment = 1000000000\n",
    "\n",
    "# if increment % year_steps != 0:\n",
    "#     increment // year_steps\n",
    "#     year_steps = increment // (increment // year_steps)\n",
    "\n",
    "# year_steps\n",
    "\n",
    "\n",
    "new = increment / round(increment / year_steps)\n",
    "new\n"
   ]
  }
 ],
 "metadata": {
  "colab": {
   "collapsed_sections": [],
   "name": "Drake Equation.ipynb",
   "provenance": []
  },
  "kernelspec": {
   "display_name": "Python 3 (ipykernel)",
   "language": "python",
   "name": "python3"
  },
  "language_info": {
   "codemirror_mode": {
    "name": "ipython",
    "version": 3
   },
   "file_extension": ".py",
   "mimetype": "text/x-python",
   "name": "python",
   "nbconvert_exporter": "python",
   "pygments_lexer": "ipython3",
   "version": "3.9.7"
  }
 },
 "nbformat": 4,
 "nbformat_minor": 1
}
